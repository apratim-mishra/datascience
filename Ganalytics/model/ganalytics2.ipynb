{
 "cells": [
  {
   "cell_type": "code",
   "execution_count": 375,
   "metadata": {},
   "outputs": [],
   "source": [
    "import pandas as pd\n",
    "import numpy as np\n",
    "import matplotlib.pyplot as plt"
   ]
  },
  {
   "cell_type": "code",
   "execution_count": 376,
   "metadata": {},
   "outputs": [],
   "source": [
    "import seaborn as sns\n"
   ]
  },
  {
   "cell_type": "code",
   "execution_count": 377,
   "metadata": {},
   "outputs": [],
   "source": [
    "import os\n",
    "import json\n",
    "import numpy as np\n",
    "import pandas as pd\n",
    "from pandas.io.json import json_normalize"
   ]
  },
  {
   "cell_type": "code",
   "execution_count": 378,
   "metadata": {},
   "outputs": [
    {
     "name": "stdout",
     "output_type": "stream",
     "text": [
      "/home/apratim941208/ganalytics\r\n"
     ]
    }
   ],
   "source": [
    "!pwd"
   ]
  },
  {
   "cell_type": "code",
   "execution_count": null,
   "metadata": {},
   "outputs": [],
   "source": []
  },
  {
   "cell_type": "code",
   "execution_count": 379,
   "metadata": {},
   "outputs": [
    {
     "data": {
      "text/plain": [
       "'train.csv'"
      ]
     },
     "execution_count": 379,
     "metadata": {},
     "output_type": "execute_result"
    }
   ],
   "source": [
    "os.path.basename('train.csv')"
   ]
  },
  {
   "cell_type": "code",
   "execution_count": 380,
   "metadata": {},
   "outputs": [],
   "source": [
    "def load_df(csv_path='train.csv', nrows=None):\n",
    "    JSON_COLUMNS = ['device', 'geoNetwork', 'totals', 'trafficSource']\n",
    "    \n",
    "    df = pd.read_csv(csv_path, \n",
    "                     converters={column: json.loads for column in JSON_COLUMNS}, \n",
    "                     dtype={'fullVisitorId': 'str'}, # Important!!\n",
    "                     nrows=nrows)\n",
    "    \n",
    "    for column in JSON_COLUMNS:\n",
    "        column_as_df = json_normalize(df[column])\n",
    "        column_as_df.columns = [f\"{column}.{subcolumn}\" for subcolumn in column_as_df.columns]\n",
    "        df = df.drop(column, axis=1).merge(column_as_df, right_index=True, left_index=True)\n",
    "    print(f\"Loaded {os.path.basename(csv_path)}. Shape: {df.shape}\")\n",
    "    return df"
   ]
  },
  {
   "cell_type": "code",
   "execution_count": 381,
   "metadata": {},
   "outputs": [
    {
     "data": {
      "text/plain": [
       "'0.23.4'"
      ]
     },
     "execution_count": 381,
     "metadata": {},
     "output_type": "execute_result"
    }
   ],
   "source": [
    "pd.__version__"
   ]
  },
  {
   "cell_type": "code",
   "execution_count": 382,
   "metadata": {},
   "outputs": [
    {
     "name": "stdout",
     "output_type": "stream",
     "text": [
      "Loaded train.csv. Shape: (903653, 55)\n"
     ]
    }
   ],
   "source": [
    "train_check = load_df()"
   ]
  },
  {
   "cell_type": "code",
   "execution_count": 383,
   "metadata": {},
   "outputs": [
    {
     "data": {
      "text/plain": [
       "(903653, 55)"
      ]
     },
     "execution_count": 383,
     "metadata": {},
     "output_type": "execute_result"
    }
   ],
   "source": [
    "train_check.shape"
   ]
  },
  {
   "cell_type": "code",
   "execution_count": 384,
   "metadata": {},
   "outputs": [
    {
     "name": "stdout",
     "output_type": "stream",
     "text": [
      "Loaded test.csv. Shape: (804684, 53)\n"
     ]
    }
   ],
   "source": [
    "test_check = load_df('test.csv')"
   ]
  },
  {
   "cell_type": "code",
   "execution_count": 1,
   "metadata": {},
   "outputs": [
    {
     "ename": "NameError",
     "evalue": "name 'test_check' is not defined",
     "output_type": "error",
     "traceback": [
      "\u001b[0;31m---------------------------------------------------------------------------\u001b[0m",
      "\u001b[0;31mNameError\u001b[0m                                 Traceback (most recent call last)",
      "\u001b[0;32m<ipython-input-1-07140d8754fe>\u001b[0m in \u001b[0;36m<module>\u001b[0;34m\u001b[0m\n\u001b[0;32m----> 1\u001b[0;31m \u001b[0mtest_check\u001b[0m\u001b[0;34m[\u001b[0m\u001b[0;34m'fullVisitorId'\u001b[0m\u001b[0;34m]\u001b[0m\u001b[0;34m.\u001b[0m\u001b[0mnunique\u001b[0m\u001b[0;34m(\u001b[0m\u001b[0;34m)\u001b[0m\u001b[0;34m\u001b[0m\u001b[0m\n\u001b[0m",
      "\u001b[0;31mNameError\u001b[0m: name 'test_check' is not defined"
     ]
    }
   ],
   "source": [
    "test_check['fullVisitorId'].nunique()"
   ]
  },
  {
   "cell_type": "code",
   "execution_count": 386,
   "metadata": {},
   "outputs": [
    {
     "data": {
      "text/plain": [
       "dtype('O')"
      ]
     },
     "execution_count": 386,
     "metadata": {},
     "output_type": "execute_result"
    }
   ],
   "source": [
    "test_check['fullVisitorId'].dtype"
   ]
  },
  {
   "cell_type": "code",
   "execution_count": 387,
   "metadata": {},
   "outputs": [
    {
     "data": {
      "text/plain": [
       "True"
      ]
     },
     "execution_count": 387,
     "metadata": {},
     "output_type": "execute_result"
    }
   ],
   "source": [
    "'0000130646294093000' in list(test_check['fullVisitorId'])"
   ]
  },
  {
   "cell_type": "code",
   "execution_count": 388,
   "metadata": {},
   "outputs": [
    {
     "data": {
      "text/plain": [
       "(804684, 53)"
      ]
     },
     "execution_count": 388,
     "metadata": {},
     "output_type": "execute_result"
    }
   ],
   "source": [
    "test_check.shape"
   ]
  },
  {
   "cell_type": "code",
   "execution_count": 389,
   "metadata": {},
   "outputs": [
    {
     "data": {
      "text/plain": [
       "617242"
      ]
     },
     "execution_count": 389,
     "metadata": {},
     "output_type": "execute_result"
    }
   ],
   "source": [
    "test_check['fullVisitorId'].nunique()"
   ]
  },
  {
   "cell_type": "code",
   "execution_count": 390,
   "metadata": {},
   "outputs": [],
   "source": [
    "# train_check.to_csv('ganalytics_train_flattened.csv')"
   ]
  },
  {
   "cell_type": "code",
   "execution_count": 391,
   "metadata": {},
   "outputs": [],
   "source": [
    "# test_check.to_csv('ganalytics_test_flattened.csv',index=False)"
   ]
  },
  {
   "cell_type": "code",
   "execution_count": 392,
   "metadata": {},
   "outputs": [],
   "source": [
    "test_df = test_check.copy()"
   ]
  },
  {
   "cell_type": "code",
   "execution_count": 393,
   "metadata": {},
   "outputs": [
    {
     "data": {
      "text/plain": [
       "617242"
      ]
     },
     "execution_count": 393,
     "metadata": {},
     "output_type": "execute_result"
    }
   ],
   "source": [
    "test_df['fullVisitorId'].nunique()"
   ]
  },
  {
   "cell_type": "code",
   "execution_count": 394,
   "metadata": {},
   "outputs": [],
   "source": [
    "train_df = train_check.copy()"
   ]
  },
  {
   "cell_type": "code",
   "execution_count": 395,
   "metadata": {},
   "outputs": [
    {
     "data": {
      "text/plain": [
       "714167"
      ]
     },
     "execution_count": 395,
     "metadata": {},
     "output_type": "execute_result"
    }
   ],
   "source": [
    "train_df['fullVisitorId'].nunique()"
   ]
  },
  {
   "cell_type": "code",
   "execution_count": 397,
   "metadata": {},
   "outputs": [
    {
     "data": {
      "text/plain": [
       "7679"
      ]
     },
     "execution_count": 397,
     "metadata": {},
     "output_type": "execute_result"
    }
   ],
   "source": [
    "len((set(train_df['fullVisitorId'])).intersection((set(test_df['fullVisitorId']))))"
   ]
  },
  {
   "cell_type": "code",
   "execution_count": 399,
   "metadata": {},
   "outputs": [
    {
     "data": {
      "text/plain": [
       "(channelGrouping                                           0\n",
       " date                                                      0\n",
       " fullVisitorId                                             0\n",
       " sessionId                                                 0\n",
       " socialEngagementType                                      0\n",
       " visitId                                                   0\n",
       " visitNumber                                               0\n",
       " visitStartTime                                            0\n",
       " device.browser                                            0\n",
       " device.browserSize                                        0\n",
       " device.browserVersion                                     0\n",
       " device.deviceCategory                                     0\n",
       " device.flashVersion                                       0\n",
       " device.isMobile                                           0\n",
       " device.language                                           0\n",
       " device.mobileDeviceBranding                               0\n",
       " device.mobileDeviceInfo                                   0\n",
       " device.mobileDeviceMarketingName                          0\n",
       " device.mobileDeviceModel                                  0\n",
       " device.mobileInputSelector                                0\n",
       " device.operatingSystem                                    0\n",
       " device.operatingSystemVersion                             0\n",
       " device.screenColors                                       0\n",
       " device.screenResolution                                   0\n",
       " geoNetwork.city                                           0\n",
       " geoNetwork.cityId                                         0\n",
       " geoNetwork.continent                                      0\n",
       " geoNetwork.country                                        0\n",
       " geoNetwork.latitude                                       0\n",
       " geoNetwork.longitude                                      0\n",
       " geoNetwork.metro                                          0\n",
       " geoNetwork.networkDomain                                  0\n",
       " geoNetwork.networkLocation                                0\n",
       " geoNetwork.region                                         0\n",
       " geoNetwork.subContinent                                   0\n",
       " totals.bounces                                       453023\n",
       " totals.hits                                               0\n",
       " totals.newVisits                                     200593\n",
       " totals.pageviews                                        100\n",
       " totals.transactionRevenue                            892138\n",
       " totals.visits                                             0\n",
       " trafficSource.adContent                              892707\n",
       " trafficSource.adwordsClickInfo.adNetworkType         882193\n",
       " trafficSource.adwordsClickInfo.criteriaParameters         0\n",
       " trafficSource.adwordsClickInfo.gclId                 882092\n",
       " trafficSource.adwordsClickInfo.isVideoAd             882193\n",
       " trafficSource.adwordsClickInfo.page                  882193\n",
       " trafficSource.adwordsClickInfo.slot                  882193\n",
       " trafficSource.campaign                                    0\n",
       " trafficSource.campaignCode                           903652\n",
       " trafficSource.isTrueDirect                           629648\n",
       " trafficSource.keyword                                502929\n",
       " trafficSource.medium                                      0\n",
       " trafficSource.referralPath                           572712\n",
       " trafficSource.source                                      0\n",
       " dtype: int64, channelGrouping                                           0\n",
       " date                                                      0\n",
       " fullVisitorId                                             0\n",
       " sessionId                                                 0\n",
       " socialEngagementType                                      0\n",
       " visitId                                                   0\n",
       " visitNumber                                               0\n",
       " visitStartTime                                            0\n",
       " device.browser                                            0\n",
       " device.browserSize                                        0\n",
       " device.browserVersion                                     0\n",
       " device.deviceCategory                                     0\n",
       " device.flashVersion                                       0\n",
       " device.isMobile                                           0\n",
       " device.language                                           0\n",
       " device.mobileDeviceBranding                               0\n",
       " device.mobileDeviceInfo                                   0\n",
       " device.mobileDeviceMarketingName                          0\n",
       " device.mobileDeviceModel                                  0\n",
       " device.mobileInputSelector                                0\n",
       " device.operatingSystem                                    0\n",
       " device.operatingSystemVersion                             0\n",
       " device.screenColors                                       0\n",
       " device.screenResolution                                   0\n",
       " geoNetwork.city                                           0\n",
       " geoNetwork.cityId                                         0\n",
       " geoNetwork.continent                                      0\n",
       " geoNetwork.country                                        0\n",
       " geoNetwork.latitude                                       0\n",
       " geoNetwork.longitude                                      0\n",
       " geoNetwork.metro                                          0\n",
       " geoNetwork.networkDomain                                  0\n",
       " geoNetwork.networkLocation                                0\n",
       " geoNetwork.region                                         0\n",
       " geoNetwork.subContinent                                   0\n",
       " totals.bounces                                       383736\n",
       " totals.hits                                               0\n",
       " totals.newVisits                                     200314\n",
       " totals.pageviews                                        139\n",
       " totals.visits                                             0\n",
       " trafficSource.adContent                              750893\n",
       " trafficSource.adwordsClickInfo.adNetworkType         750870\n",
       " trafficSource.adwordsClickInfo.criteriaParameters         0\n",
       " trafficSource.adwordsClickInfo.gclId                 750822\n",
       " trafficSource.adwordsClickInfo.isVideoAd             750870\n",
       " trafficSource.adwordsClickInfo.page                  750870\n",
       " trafficSource.adwordsClickInfo.slot                  750870\n",
       " trafficSource.campaign                                    0\n",
       " trafficSource.isTrueDirect                           544171\n",
       " trafficSource.keyword                                391032\n",
       " trafficSource.medium                                      0\n",
       " trafficSource.referralPath                           569361\n",
       " trafficSource.source                                      0\n",
       " dtype: int64)"
      ]
     },
     "execution_count": 399,
     "metadata": {},
     "output_type": "execute_result"
    }
   ],
   "source": [
    "train_df.isnull().sum(),test_df.isnull().sum() "
   ]
  },
  {
   "cell_type": "code",
   "execution_count": 400,
   "metadata": {},
   "outputs": [
    {
     "data": {
      "text/plain": [
       "Index(['channelGrouping', 'date', 'fullVisitorId', 'sessionId',\n",
       "       'socialEngagementType', 'visitId', 'visitNumber', 'visitStartTime',\n",
       "       'device.browser', 'device.browserSize', 'device.browserVersion',\n",
       "       'device.deviceCategory', 'device.flashVersion', 'device.isMobile',\n",
       "       'device.language', 'device.mobileDeviceBranding',\n",
       "       'device.mobileDeviceInfo', 'device.mobileDeviceMarketingName',\n",
       "       'device.mobileDeviceModel', 'device.mobileInputSelector',\n",
       "       'device.operatingSystem', 'device.operatingSystemVersion',\n",
       "       'device.screenColors', 'device.screenResolution', 'geoNetwork.city',\n",
       "       'geoNetwork.cityId', 'geoNetwork.continent', 'geoNetwork.country',\n",
       "       'geoNetwork.latitude', 'geoNetwork.longitude', 'geoNetwork.metro',\n",
       "       'geoNetwork.networkDomain', 'geoNetwork.networkLocation',\n",
       "       'geoNetwork.region', 'geoNetwork.subContinent', 'totals.bounces',\n",
       "       'totals.hits', 'totals.newVisits', 'totals.pageviews',\n",
       "       'totals.transactionRevenue', 'totals.visits', 'trafficSource.adContent',\n",
       "       'trafficSource.adwordsClickInfo.adNetworkType',\n",
       "       'trafficSource.adwordsClickInfo.criteriaParameters',\n",
       "       'trafficSource.adwordsClickInfo.gclId',\n",
       "       'trafficSource.adwordsClickInfo.isVideoAd',\n",
       "       'trafficSource.adwordsClickInfo.page',\n",
       "       'trafficSource.adwordsClickInfo.slot', 'trafficSource.campaign',\n",
       "       'trafficSource.campaignCode', 'trafficSource.isTrueDirect',\n",
       "       'trafficSource.keyword', 'trafficSource.medium',\n",
       "       'trafficSource.referralPath', 'trafficSource.source'],\n",
       "      dtype='object')"
      ]
     },
     "execution_count": 400,
     "metadata": {},
     "output_type": "execute_result"
    }
   ],
   "source": [
    "train_df.columns"
   ]
  },
  {
   "cell_type": "code",
   "execution_count": 401,
   "metadata": {},
   "outputs": [],
   "source": [
    "train_df =train_df.drop('trafficSource.campaignCode',axis=1)"
   ]
  },
  {
   "cell_type": "code",
   "execution_count": 402,
   "metadata": {},
   "outputs": [],
   "source": [
    "def remove_constant_columns(df):\n",
    "    columns = [c for c in df.columns if df[c].nunique(dropna=False)==1]\n",
    "    df = df.drop(columns, axis=1)\n",
    "    return df"
   ]
  },
  {
   "cell_type": "code",
   "execution_count": 403,
   "metadata": {},
   "outputs": [],
   "source": [
    "train_df['totals.transactionRevenue']  =train_df['totals.transactionRevenue'].fillna(0.0)"
   ]
  },
  {
   "cell_type": "code",
   "execution_count": 404,
   "metadata": {},
   "outputs": [],
   "source": [
    "train_df = remove_constant_columns(train_df)"
   ]
  },
  {
   "cell_type": "code",
   "execution_count": 405,
   "metadata": {},
   "outputs": [],
   "source": [
    "test_df = remove_constant_columns(test_df)"
   ]
  },
  {
   "cell_type": "code",
   "execution_count": null,
   "metadata": {},
   "outputs": [],
   "source": []
  },
  {
   "cell_type": "code",
   "execution_count": 406,
   "metadata": {},
   "outputs": [
    {
     "data": {
      "text/plain": [
       "903653"
      ]
     },
     "execution_count": 406,
     "metadata": {},
     "output_type": "execute_result"
    }
   ],
   "source": [
    "train_df['channelGrouping'].isnull().count()"
   ]
  },
  {
   "cell_type": "code",
   "execution_count": 407,
   "metadata": {},
   "outputs": [
    {
     "name": "stdout",
     "output_type": "stream",
     "text": [
      "channelGrouping\n",
      "fullVisitorId\n",
      "sessionId\n",
      "device.browser\n",
      "device.deviceCategory\n",
      "device.operatingSystem\n",
      "geoNetwork.city\n",
      "geoNetwork.continent\n",
      "geoNetwork.country\n",
      "geoNetwork.metro\n",
      "geoNetwork.networkDomain\n",
      "geoNetwork.region\n",
      "geoNetwork.subContinent\n",
      "totals.bounces\n",
      "totals.hits\n",
      "totals.newVisits\n",
      "totals.pageviews\n",
      "totals.transactionRevenue\n",
      "trafficSource.adContent\n",
      "trafficSource.adwordsClickInfo.adNetworkType\n",
      "trafficSource.adwordsClickInfo.gclId\n",
      "trafficSource.adwordsClickInfo.isVideoAd\n",
      "trafficSource.adwordsClickInfo.page\n",
      "trafficSource.adwordsClickInfo.slot\n",
      "trafficSource.campaign\n",
      "trafficSource.isTrueDirect\n",
      "trafficSource.keyword\n",
      "trafficSource.medium\n",
      "trafficSource.referralPath\n",
      "trafficSource.source\n"
     ]
    }
   ],
   "source": [
    "for c in train_df.select_dtypes('object').columns.values:\n",
    "    print(c)"
   ]
  },
  {
   "cell_type": "code",
   "execution_count": 408,
   "metadata": {},
   "outputs": [],
   "source": [
    "def categorical_missing_percentage(df):\n",
    "    value = df[df.select_dtypes('object').columns].isnull().sum().sort_values(ascending=False)\n",
    "    \n",
    "    value2 = (df[df.select_dtypes('object').columns].isnull().sum()/df.shape[0]).sort_values(ascending=False)\n",
    "    adding = pd.concat([value, value2],axis=1,join='outer', keys=['Values','Percentage'])\n",
    "    return adding"
   ]
  },
  {
   "cell_type": "code",
   "execution_count": 409,
   "metadata": {},
   "outputs": [
    {
     "data": {
      "text/plain": [
       "(                                              Values  Percentage\n",
       " trafficSource.adContent                       892707    0.987887\n",
       " trafficSource.adwordsClickInfo.adNetworkType  882193    0.976252\n",
       " trafficSource.adwordsClickInfo.slot           882193    0.976252\n",
       " trafficSource.adwordsClickInfo.page           882193    0.976252\n",
       " trafficSource.adwordsClickInfo.isVideoAd      882193    0.976252\n",
       " trafficSource.adwordsClickInfo.gclId          882092    0.976140\n",
       " trafficSource.isTrueDirect                    629648    0.696781\n",
       " trafficSource.referralPath                    572712    0.633774\n",
       " trafficSource.keyword                         502929    0.556551\n",
       " totals.bounces                                453023    0.501324\n",
       " totals.newVisits                              200593    0.221980\n",
       " totals.pageviews                                 100    0.000111\n",
       " geoNetwork.city                                    0    0.000000\n",
       " device.operatingSystem                             0    0.000000\n",
       " device.deviceCategory                              0    0.000000\n",
       " trafficSource.source                               0    0.000000\n",
       " device.browser                                     0    0.000000\n",
       " geoNetwork.country                                 0    0.000000\n",
       " sessionId                                          0    0.000000\n",
       " fullVisitorId                                      0    0.000000\n",
       " geoNetwork.continent                               0    0.000000\n",
       " totals.hits                                        0    0.000000\n",
       " geoNetwork.metro                                   0    0.000000\n",
       " geoNetwork.networkDomain                           0    0.000000\n",
       " geoNetwork.region                                  0    0.000000\n",
       " geoNetwork.subContinent                            0    0.000000\n",
       " totals.transactionRevenue                          0    0.000000\n",
       " trafficSource.campaign                             0    0.000000\n",
       " trafficSource.medium                               0    0.000000\n",
       " channelGrouping                                    0    0.000000,\n",
       " '                                            ',\n",
       "                                               Values  Percentage\n",
       " trafficSource.adContent                       750893    0.933153\n",
       " trafficSource.adwordsClickInfo.adNetworkType  750870    0.933124\n",
       " trafficSource.adwordsClickInfo.slot           750870    0.933124\n",
       " trafficSource.adwordsClickInfo.page           750870    0.933124\n",
       " trafficSource.adwordsClickInfo.isVideoAd      750870    0.933124\n",
       " trafficSource.adwordsClickInfo.gclId          750822    0.933064\n",
       " trafficSource.referralPath                    569361    0.707558\n",
       " trafficSource.isTrueDirect                    544171    0.676254\n",
       " trafficSource.keyword                         391032    0.485945\n",
       " totals.bounces                                383736    0.476878\n",
       " totals.newVisits                              200314    0.248935\n",
       " totals.pageviews                                 139    0.000173\n",
       " device.operatingSystem                             0    0.000000\n",
       " device.deviceCategory                              0    0.000000\n",
       " device.browser                                     0    0.000000\n",
       " trafficSource.source                               0    0.000000\n",
       " geoNetwork.continent                               0    0.000000\n",
       " sessionId                                          0    0.000000\n",
       " fullVisitorId                                      0    0.000000\n",
       " geoNetwork.city                                    0    0.000000\n",
       " totals.hits                                        0    0.000000\n",
       " geoNetwork.country                                 0    0.000000\n",
       " geoNetwork.metro                                   0    0.000000\n",
       " geoNetwork.networkDomain                           0    0.000000\n",
       " geoNetwork.region                                  0    0.000000\n",
       " geoNetwork.subContinent                            0    0.000000\n",
       " trafficSource.campaign                             0    0.000000\n",
       " trafficSource.medium                               0    0.000000\n",
       " channelGrouping                                    0    0.000000)"
      ]
     },
     "execution_count": 409,
     "metadata": {},
     "output_type": "execute_result"
    }
   ],
   "source": [
    "categorical_missing_percentage(train_df),'                                            ', categorical_missing_percentage(test_df) "
   ]
  },
  {
   "cell_type": "code",
   "execution_count": 410,
   "metadata": {},
   "outputs": [],
   "source": [
    "import datetime as dt\n",
    "from pandas.tseries.holiday import USFederalHolidayCalendar as calendar"
   ]
  },
  {
   "cell_type": "code",
   "execution_count": 411,
   "metadata": {},
   "outputs": [],
   "source": [
    "cal = calendar()"
   ]
  },
  {
   "cell_type": "code",
   "execution_count": 412,
   "metadata": {},
   "outputs": [],
   "source": [
    "def add_date_features(df):\n",
    "    \n",
    "    df[\"date\"] = pd.to_datetime(df[\"date\"], format=\"%Y%m%d\")\n",
    "    \n",
    "    holidays = cal.holidays(start = df['date'].min(), end = df['date'].max())\n",
    "    \n",
    "    df[\"month\"]   = df['date'].dt.month\n",
    "    df[\"day\"]     = df['date'].dt.day\n",
    "    df[\"weekday\"] = df['date'].dt.weekday\n",
    "    df['holiday_var'] = df['date'].isin(holidays)\n",
    "    return df "
   ]
  },
  {
   "cell_type": "code",
   "execution_count": 413,
   "metadata": {},
   "outputs": [],
   "source": [
    "train_df = add_date_features(train_df)"
   ]
  },
  {
   "cell_type": "code",
   "execution_count": 414,
   "metadata": {},
   "outputs": [],
   "source": [
    "test_df = add_date_features(test_df)"
   ]
  },
  {
   "cell_type": "code",
   "execution_count": 415,
   "metadata": {},
   "outputs": [
    {
     "data": {
      "text/html": [
       "<div>\n",
       "<style scoped>\n",
       "    .dataframe tbody tr th:only-of-type {\n",
       "        vertical-align: middle;\n",
       "    }\n",
       "\n",
       "    .dataframe tbody tr th {\n",
       "        vertical-align: top;\n",
       "    }\n",
       "\n",
       "    .dataframe thead th {\n",
       "        text-align: right;\n",
       "    }\n",
       "</style>\n",
       "<table border=\"1\" class=\"dataframe\">\n",
       "  <thead>\n",
       "    <tr style=\"text-align: right;\">\n",
       "      <th></th>\n",
       "      <th>channelGrouping</th>\n",
       "      <th>date</th>\n",
       "      <th>fullVisitorId</th>\n",
       "      <th>sessionId</th>\n",
       "      <th>visitId</th>\n",
       "      <th>visitNumber</th>\n",
       "      <th>visitStartTime</th>\n",
       "      <th>device.browser</th>\n",
       "      <th>device.deviceCategory</th>\n",
       "      <th>device.isMobile</th>\n",
       "      <th>...</th>\n",
       "      <th>trafficSource.campaign</th>\n",
       "      <th>trafficSource.isTrueDirect</th>\n",
       "      <th>trafficSource.keyword</th>\n",
       "      <th>trafficSource.medium</th>\n",
       "      <th>trafficSource.referralPath</th>\n",
       "      <th>trafficSource.source</th>\n",
       "      <th>month</th>\n",
       "      <th>day</th>\n",
       "      <th>weekday</th>\n",
       "      <th>holiday_var</th>\n",
       "    </tr>\n",
       "  </thead>\n",
       "  <tbody>\n",
       "    <tr>\n",
       "      <th>0</th>\n",
       "      <td>Organic Search</td>\n",
       "      <td>2016-09-02</td>\n",
       "      <td>1131660440785968503</td>\n",
       "      <td>1131660440785968503_1472830385</td>\n",
       "      <td>1472830385</td>\n",
       "      <td>1</td>\n",
       "      <td>1472830385</td>\n",
       "      <td>Chrome</td>\n",
       "      <td>desktop</td>\n",
       "      <td>False</td>\n",
       "      <td>...</td>\n",
       "      <td>(not set)</td>\n",
       "      <td>NaN</td>\n",
       "      <td>(not provided)</td>\n",
       "      <td>organic</td>\n",
       "      <td>NaN</td>\n",
       "      <td>google</td>\n",
       "      <td>9</td>\n",
       "      <td>2</td>\n",
       "      <td>4</td>\n",
       "      <td>False</td>\n",
       "    </tr>\n",
       "    <tr>\n",
       "      <th>1</th>\n",
       "      <td>Organic Search</td>\n",
       "      <td>2016-09-02</td>\n",
       "      <td>377306020877927890</td>\n",
       "      <td>377306020877927890_1472880147</td>\n",
       "      <td>1472880147</td>\n",
       "      <td>1</td>\n",
       "      <td>1472880147</td>\n",
       "      <td>Firefox</td>\n",
       "      <td>desktop</td>\n",
       "      <td>False</td>\n",
       "      <td>...</td>\n",
       "      <td>(not set)</td>\n",
       "      <td>NaN</td>\n",
       "      <td>(not provided)</td>\n",
       "      <td>organic</td>\n",
       "      <td>NaN</td>\n",
       "      <td>google</td>\n",
       "      <td>9</td>\n",
       "      <td>2</td>\n",
       "      <td>4</td>\n",
       "      <td>False</td>\n",
       "    </tr>\n",
       "  </tbody>\n",
       "</table>\n",
       "<p>2 rows × 39 columns</p>\n",
       "</div>"
      ],
      "text/plain": [
       "  channelGrouping       date        fullVisitorId  \\\n",
       "0  Organic Search 2016-09-02  1131660440785968503   \n",
       "1  Organic Search 2016-09-02   377306020877927890   \n",
       "\n",
       "                        sessionId     visitId  visitNumber  visitStartTime  \\\n",
       "0  1131660440785968503_1472830385  1472830385            1      1472830385   \n",
       "1   377306020877927890_1472880147  1472880147            1      1472880147   \n",
       "\n",
       "  device.browser device.deviceCategory  device.isMobile     ...      \\\n",
       "0         Chrome               desktop            False     ...       \n",
       "1        Firefox               desktop            False     ...       \n",
       "\n",
       "  trafficSource.campaign trafficSource.isTrueDirect trafficSource.keyword  \\\n",
       "0              (not set)                        NaN        (not provided)   \n",
       "1              (not set)                        NaN        (not provided)   \n",
       "\n",
       "  trafficSource.medium trafficSource.referralPath trafficSource.source month  \\\n",
       "0              organic                        NaN               google     9   \n",
       "1              organic                        NaN               google     9   \n",
       "\n",
       "  day weekday holiday_var  \n",
       "0   2       4       False  \n",
       "1   2       4       False  \n",
       "\n",
       "[2 rows x 39 columns]"
      ]
     },
     "execution_count": 415,
     "metadata": {},
     "output_type": "execute_result"
    }
   ],
   "source": [
    "train_df.head(2)"
   ]
  },
  {
   "cell_type": "code",
   "execution_count": 416,
   "metadata": {},
   "outputs": [],
   "source": [
    "removing_features = ['date','sessionId','visitId','visitStartTime','visitNumber']"
   ]
  },
  {
   "cell_type": "code",
   "execution_count": 417,
   "metadata": {},
   "outputs": [],
   "source": [
    "train_df = train_df.drop(removing_features,axis=1)"
   ]
  },
  {
   "cell_type": "code",
   "execution_count": 418,
   "metadata": {},
   "outputs": [],
   "source": [
    "test_df = test_df.drop(removing_features,axis=1)"
   ]
  },
  {
   "cell_type": "code",
   "execution_count": 419,
   "metadata": {},
   "outputs": [
    {
     "data": {
      "text/plain": [
       "Index(['month', 'day', 'weekday'], dtype='object')"
      ]
     },
     "execution_count": 419,
     "metadata": {},
     "output_type": "execute_result"
    }
   ],
   "source": [
    "train_df.select_dtypes('int').columns"
   ]
  },
  {
   "cell_type": "code",
   "execution_count": 420,
   "metadata": {},
   "outputs": [
    {
     "data": {
      "text/plain": [
       "Index([], dtype='object')"
      ]
     },
     "execution_count": 420,
     "metadata": {},
     "output_type": "execute_result"
    }
   ],
   "source": [
    "train_df.select_dtypes('float').columns"
   ]
  },
  {
   "cell_type": "code",
   "execution_count": 421,
   "metadata": {},
   "outputs": [
    {
     "data": {
      "text/html": [
       "<div>\n",
       "<style scoped>\n",
       "    .dataframe tbody tr th:only-of-type {\n",
       "        vertical-align: middle;\n",
       "    }\n",
       "\n",
       "    .dataframe tbody tr th {\n",
       "        vertical-align: top;\n",
       "    }\n",
       "\n",
       "    .dataframe thead th {\n",
       "        text-align: right;\n",
       "    }\n",
       "</style>\n",
       "<table border=\"1\" class=\"dataframe\">\n",
       "  <thead>\n",
       "    <tr style=\"text-align: right;\">\n",
       "      <th></th>\n",
       "      <th>month</th>\n",
       "      <th>day</th>\n",
       "      <th>weekday</th>\n",
       "    </tr>\n",
       "  </thead>\n",
       "  <tbody>\n",
       "    <tr>\n",
       "      <th>count</th>\n",
       "      <td>903653.000000</td>\n",
       "      <td>903653.000000</td>\n",
       "      <td>903653.000000</td>\n",
       "    </tr>\n",
       "    <tr>\n",
       "      <th>mean</th>\n",
       "      <td>6.987671</td>\n",
       "      <td>15.697570</td>\n",
       "      <td>2.735183</td>\n",
       "    </tr>\n",
       "    <tr>\n",
       "      <th>std</th>\n",
       "      <td>3.484576</td>\n",
       "      <td>8.823674</td>\n",
       "      <td>1.929072</td>\n",
       "    </tr>\n",
       "    <tr>\n",
       "      <th>min</th>\n",
       "      <td>1.000000</td>\n",
       "      <td>1.000000</td>\n",
       "      <td>0.000000</td>\n",
       "    </tr>\n",
       "    <tr>\n",
       "      <th>25%</th>\n",
       "      <td>4.000000</td>\n",
       "      <td>8.000000</td>\n",
       "      <td>1.000000</td>\n",
       "    </tr>\n",
       "    <tr>\n",
       "      <th>50%</th>\n",
       "      <td>7.000000</td>\n",
       "      <td>16.000000</td>\n",
       "      <td>3.000000</td>\n",
       "    </tr>\n",
       "    <tr>\n",
       "      <th>75%</th>\n",
       "      <td>10.000000</td>\n",
       "      <td>23.000000</td>\n",
       "      <td>4.000000</td>\n",
       "    </tr>\n",
       "    <tr>\n",
       "      <th>max</th>\n",
       "      <td>12.000000</td>\n",
       "      <td>31.000000</td>\n",
       "      <td>6.000000</td>\n",
       "    </tr>\n",
       "  </tbody>\n",
       "</table>\n",
       "</div>"
      ],
      "text/plain": [
       "               month            day        weekday\n",
       "count  903653.000000  903653.000000  903653.000000\n",
       "mean        6.987671      15.697570       2.735183\n",
       "std         3.484576       8.823674       1.929072\n",
       "min         1.000000       1.000000       0.000000\n",
       "25%         4.000000       8.000000       1.000000\n",
       "50%         7.000000      16.000000       3.000000\n",
       "75%        10.000000      23.000000       4.000000\n",
       "max        12.000000      31.000000       6.000000"
      ]
     },
     "execution_count": 421,
     "metadata": {},
     "output_type": "execute_result"
    }
   ],
   "source": [
    "train_df[train_df.select_dtypes('int').columns].describe()"
   ]
  },
  {
   "cell_type": "code",
   "execution_count": 422,
   "metadata": {},
   "outputs": [],
   "source": [
    "test_df['totals.hits'] = test_df['totals.hits'].astype('float')"
   ]
  },
  {
   "cell_type": "code",
   "execution_count": 423,
   "metadata": {},
   "outputs": [],
   "source": [
    "train_df['totals.hits'] = train_df['totals.hits'].astype('float')"
   ]
  },
  {
   "cell_type": "code",
   "execution_count": null,
   "metadata": {},
   "outputs": [],
   "source": []
  },
  {
   "cell_type": "code",
   "execution_count": 424,
   "metadata": {},
   "outputs": [],
   "source": [
    "def numerical_scaling(df):\n",
    "           \n",
    "    df['totals.hits'] = (df[\"totals.hits\"] - min(df[\"totals.hits\"]))/(max(df[\"totals.hits\"]) - min(df[\"totals.hits\"])) \n",
    "    \n",
    "    df['totals.pageviews'] = df['totals.pageviews'].astype('float')\n",
    "    df['totals.pageviews'] = (df[\"totals.pageviews\"] - min(df[\"totals.pageviews\"]))/(max(df[\"totals.pageviews\"]) - min(df[\"totals.pageviews\"])) \n",
    "    return df"
   ]
  },
  {
   "cell_type": "code",
   "execution_count": 425,
   "metadata": {},
   "outputs": [
    {
     "data": {
      "text/plain": [
       "dtype('float64')"
      ]
     },
     "execution_count": 425,
     "metadata": {},
     "output_type": "execute_result"
    }
   ],
   "source": [
    "train_df['totals.hits'].dtype"
   ]
  },
  {
   "cell_type": "code",
   "execution_count": 426,
   "metadata": {},
   "outputs": [
    {
     "data": {
      "text/plain": [
       "dtype('O')"
      ]
     },
     "execution_count": 426,
     "metadata": {},
     "output_type": "execute_result"
    }
   ],
   "source": [
    "train_df['totals.pageviews'].dtype"
   ]
  },
  {
   "cell_type": "code",
   "execution_count": 427,
   "metadata": {},
   "outputs": [],
   "source": [
    "train_df = numerical_scaling(train_df)"
   ]
  },
  {
   "cell_type": "code",
   "execution_count": 428,
   "metadata": {},
   "outputs": [],
   "source": [
    "test_df = numerical_scaling(test_df)"
   ]
  },
  {
   "cell_type": "code",
   "execution_count": null,
   "metadata": {},
   "outputs": [],
   "source": []
  },
  {
   "cell_type": "code",
   "execution_count": 429,
   "metadata": {},
   "outputs": [],
   "source": [
    "from sklearn.preprocessing import LabelEncoder\n",
    "from sklearn.preprocessing import OneHotEncoder\n"
   ]
  },
  {
   "cell_type": "code",
   "execution_count": 430,
   "metadata": {},
   "outputs": [],
   "source": [
    "def add_numerical(df):\n",
    "    \n",
    "    df['totals.pageviews'] = df['totals.pageviews'].fillna(0.0)\n",
    "    \n",
    "    df['totals.bounces'] = df['totals.bounces'].astype(float)\n",
    "    df['totals.bounces'] = df['totals.bounces'].fillna(0.0)\n",
    "    \n",
    "    df['totals.newVisits'] = df['totals.newVisits'].astype(float)\n",
    "    df['totals.newVisits'] = df['totals.newVisits'].fillna(0.0)\n",
    "    \n",
    "    return df"
   ]
  },
  {
   "cell_type": "code",
   "execution_count": 431,
   "metadata": {},
   "outputs": [
    {
     "data": {
      "text/plain": [
       "dtype('float64')"
      ]
     },
     "execution_count": 431,
     "metadata": {},
     "output_type": "execute_result"
    }
   ],
   "source": [
    "train_df['totals.pageviews'].dtype"
   ]
  },
  {
   "cell_type": "code",
   "execution_count": null,
   "metadata": {},
   "outputs": [],
   "source": []
  },
  {
   "cell_type": "code",
   "execution_count": 432,
   "metadata": {},
   "outputs": [],
   "source": [
    "train_df = add_numerical(train_df)"
   ]
  },
  {
   "cell_type": "code",
   "execution_count": 433,
   "metadata": {},
   "outputs": [],
   "source": [
    "test_df = add_numerical(test_df)"
   ]
  },
  {
   "cell_type": "code",
   "execution_count": null,
   "metadata": {},
   "outputs": [],
   "source": []
  },
  {
   "cell_type": "code",
   "execution_count": 434,
   "metadata": {},
   "outputs": [
    {
     "data": {
      "text/plain": [
       "trafficSource.adContent                         892707\n",
       "trafficSource.adwordsClickInfo.slot             882193\n",
       "trafficSource.adwordsClickInfo.adNetworkType    882193\n",
       "trafficSource.adwordsClickInfo.page             882193\n",
       "trafficSource.adwordsClickInfo.isVideoAd        882193\n",
       "trafficSource.adwordsClickInfo.gclId            882092\n",
       "trafficSource.isTrueDirect                      629648\n",
       "trafficSource.referralPath                      572712\n",
       "trafficSource.keyword                           502929\n",
       "geoNetwork.metro                                     0\n",
       "geoNetwork.country                                   0\n",
       "geoNetwork.continent                                 0\n",
       "geoNetwork.city                                      0\n",
       "holiday_var                                          0\n",
       "geoNetwork.region                                    0\n",
       "device.operatingSystem                               0\n",
       "device.isMobile                                      0\n",
       "device.deviceCategory                                0\n",
       "device.browser                                       0\n",
       "fullVisitorId                                        0\n",
       "geoNetwork.networkDomain                             0\n",
       "totals.pageviews                                     0\n",
       "geoNetwork.subContinent                              0\n",
       "totals.bounces                                       0\n",
       "totals.hits                                          0\n",
       "totals.newVisits                                     0\n",
       "weekday                                              0\n",
       "totals.transactionRevenue                            0\n",
       "trafficSource.campaign                               0\n",
       "trafficSource.medium                                 0\n",
       "trafficSource.source                                 0\n",
       "month                                                0\n",
       "day                                                  0\n",
       "channelGrouping                                      0\n",
       "dtype: int64"
      ]
     },
     "execution_count": 434,
     "metadata": {},
     "output_type": "execute_result"
    }
   ],
   "source": [
    "(train_df.isnull().sum().sort_values(ascending=False))"
   ]
  },
  {
   "cell_type": "code",
   "execution_count": 435,
   "metadata": {},
   "outputs": [
    {
     "data": {
      "text/plain": [
       "1     21362\n",
       "2        73\n",
       "3        10\n",
       "5         7\n",
       "7         3\n",
       "9         2\n",
       "4         2\n",
       "14        1\n",
       "Name: trafficSource.adwordsClickInfo.page, dtype: int64"
      ]
     },
     "execution_count": 435,
     "metadata": {},
     "output_type": "execute_result"
    }
   ],
   "source": [
    "train_df['trafficSource.adwordsClickInfo.page'].value_counts()\n",
    "#this is numerical"
   ]
  },
  {
   "cell_type": "code",
   "execution_count": 436,
   "metadata": {},
   "outputs": [
    {
     "data": {
      "text/plain": [
       "Index(['channelGrouping', 'fullVisitorId', 'device.browser',\n",
       "       'device.deviceCategory', 'device.operatingSystem', 'geoNetwork.city',\n",
       "       'geoNetwork.continent', 'geoNetwork.country', 'geoNetwork.metro',\n",
       "       'geoNetwork.networkDomain', 'geoNetwork.region',\n",
       "       'geoNetwork.subContinent', 'totals.transactionRevenue',\n",
       "       'trafficSource.adContent',\n",
       "       'trafficSource.adwordsClickInfo.adNetworkType',\n",
       "       'trafficSource.adwordsClickInfo.gclId',\n",
       "       'trafficSource.adwordsClickInfo.isVideoAd',\n",
       "       'trafficSource.adwordsClickInfo.page',\n",
       "       'trafficSource.adwordsClickInfo.slot', 'trafficSource.campaign',\n",
       "       'trafficSource.isTrueDirect', 'trafficSource.keyword',\n",
       "       'trafficSource.medium', 'trafficSource.referralPath',\n",
       "       'trafficSource.source'],\n",
       "      dtype='object')"
      ]
     },
     "execution_count": 436,
     "metadata": {},
     "output_type": "execute_result"
    }
   ],
   "source": [
    "train_df.select_dtypes('object').columns"
   ]
  },
  {
   "cell_type": "code",
   "execution_count": 437,
   "metadata": {},
   "outputs": [],
   "source": [
    "from sklearn import preprocessing"
   ]
  },
  {
   "cell_type": "code",
   "execution_count": 438,
   "metadata": {},
   "outputs": [],
   "source": [
    "def bool_feature(df):\n",
    "    lbl = preprocessing.LabelEncoder()\n",
    "    df['holiday_var'] = lbl.fit_transform(df['holiday_var'])\n",
    "    df['device.isMobile'] = lbl.fit_transform(df['device.isMobile'])\n",
    "    \n",
    "    return df"
   ]
  },
  {
   "cell_type": "code",
   "execution_count": 439,
   "metadata": {},
   "outputs": [],
   "source": [
    "train_df = bool_feature(train_df)"
   ]
  },
  {
   "cell_type": "code",
   "execution_count": 440,
   "metadata": {},
   "outputs": [],
   "source": [
    "test_df = bool_feature(test_df)"
   ]
  },
  {
   "cell_type": "code",
   "execution_count": null,
   "metadata": {},
   "outputs": [],
   "source": []
  },
  {
   "cell_type": "code",
   "execution_count": 441,
   "metadata": {},
   "outputs": [
    {
     "data": {
      "text/plain": [
       "Index(['channelGrouping', 'fullVisitorId', 'device.browser',\n",
       "       'device.deviceCategory', 'device.operatingSystem', 'geoNetwork.city',\n",
       "       'geoNetwork.continent', 'geoNetwork.country', 'geoNetwork.metro',\n",
       "       'geoNetwork.networkDomain', 'geoNetwork.region',\n",
       "       'geoNetwork.subContinent', 'totals.transactionRevenue',\n",
       "       'trafficSource.adContent',\n",
       "       'trafficSource.adwordsClickInfo.adNetworkType',\n",
       "       'trafficSource.adwordsClickInfo.gclId',\n",
       "       'trafficSource.adwordsClickInfo.isVideoAd',\n",
       "       'trafficSource.adwordsClickInfo.page',\n",
       "       'trafficSource.adwordsClickInfo.slot', 'trafficSource.campaign',\n",
       "       'trafficSource.isTrueDirect', 'trafficSource.keyword',\n",
       "       'trafficSource.medium', 'trafficSource.referralPath',\n",
       "       'trafficSource.source'],\n",
       "      dtype='object')"
      ]
     },
     "execution_count": 441,
     "metadata": {},
     "output_type": "execute_result"
    }
   ],
   "source": [
    "train_df.select_dtypes('object').columns"
   ]
  },
  {
   "cell_type": "code",
   "execution_count": 442,
   "metadata": {},
   "outputs": [],
   "source": [
    "categorical_columns = ['channelGrouping', 'device.browser',\n",
    "       'device.deviceCategory', 'device.operatingSystem', 'geoNetwork.city',\n",
    "       'geoNetwork.continent', 'geoNetwork.country', 'geoNetwork.metro',\n",
    "       'geoNetwork.networkDomain', 'geoNetwork.region',\n",
    "       'geoNetwork.subContinent', 'trafficSource.adContent',\n",
    "       'trafficSource.adwordsClickInfo.adNetworkType',\n",
    "       'trafficSource.adwordsClickInfo.gclId',\n",
    "       'trafficSource.adwordsClickInfo.isVideoAd',\n",
    "       'trafficSource.adwordsClickInfo.slot', 'trafficSource.campaign',\n",
    "       'trafficSource.isTrueDirect', 'trafficSource.keyword',\n",
    "       'trafficSource.medium', 'trafficSource.referralPath',\n",
    "       'trafficSource.source']"
   ]
  },
  {
   "cell_type": "code",
   "execution_count": 443,
   "metadata": {},
   "outputs": [
    {
     "data": {
      "text/plain": [
       "((903653, 22), (804684, 22))"
      ]
     },
     "execution_count": 443,
     "metadata": {},
     "output_type": "execute_result"
    }
   ],
   "source": [
    "train_df[categorical_columns].shape, test_df[categorical_columns].shape"
   ]
  },
  {
   "cell_type": "code",
   "execution_count": 444,
   "metadata": {},
   "outputs": [
    {
     "data": {
      "text/plain": [
       "channelGrouping                                      0\n",
       "device.browser                                       0\n",
       "device.deviceCategory                                0\n",
       "device.operatingSystem                               0\n",
       "geoNetwork.city                                      0\n",
       "geoNetwork.continent                                 0\n",
       "geoNetwork.country                                   0\n",
       "geoNetwork.metro                                     0\n",
       "geoNetwork.networkDomain                             0\n",
       "geoNetwork.region                                    0\n",
       "geoNetwork.subContinent                              0\n",
       "trafficSource.adContent                         892707\n",
       "trafficSource.adwordsClickInfo.adNetworkType    882193\n",
       "trafficSource.adwordsClickInfo.gclId            882092\n",
       "trafficSource.adwordsClickInfo.isVideoAd        882193\n",
       "trafficSource.adwordsClickInfo.slot             882193\n",
       "trafficSource.campaign                               0\n",
       "trafficSource.isTrueDirect                      629648\n",
       "trafficSource.keyword                           502929\n",
       "trafficSource.medium                                 0\n",
       "trafficSource.referralPath                      572712\n",
       "trafficSource.source                                 0\n",
       "dtype: int64"
      ]
     },
     "execution_count": 444,
     "metadata": {},
     "output_type": "execute_result"
    }
   ],
   "source": [
    "train_df[categorical_columns].isnull().sum()"
   ]
  },
  {
   "cell_type": "code",
   "execution_count": 445,
   "metadata": {},
   "outputs": [
    {
     "data": {
      "text/plain": [
       "geoNetwork.networkDomain                        28064\n",
       "trafficSource.adwordsClickInfo.gclId            17774\n",
       "trafficSource.keyword                            3659\n",
       "trafficSource.referralPath                       1475\n",
       "geoNetwork.city                                   649\n",
       "trafficSource.source                              380\n",
       "geoNetwork.region                                 376\n",
       "geoNetwork.country                                222\n",
       "geoNetwork.metro                                   94\n",
       "device.browser                                     54\n",
       "trafficSource.adContent                            44\n",
       "geoNetwork.subContinent                            23\n",
       "device.operatingSystem                             20\n",
       "trafficSource.campaign                             10\n",
       "channelGrouping                                     8\n",
       "trafficSource.medium                                7\n",
       "geoNetwork.continent                                6\n",
       "device.deviceCategory                               3\n",
       "trafficSource.adwordsClickInfo.adNetworkType        2\n",
       "trafficSource.adwordsClickInfo.slot                 2\n",
       "trafficSource.adwordsClickInfo.isVideoAd            1\n",
       "trafficSource.isTrueDirect                          1\n",
       "dtype: int64"
      ]
     },
     "execution_count": 445,
     "metadata": {},
     "output_type": "execute_result"
    }
   ],
   "source": [
    "train_df[categorical_columns].nunique().sort_values(ascending=False)"
   ]
  },
  {
   "cell_type": "code",
   "execution_count": 446,
   "metadata": {},
   "outputs": [],
   "source": [
    "X_train = train_df.copy()"
   ]
  },
  {
   "cell_type": "code",
   "execution_count": 447,
   "metadata": {},
   "outputs": [],
   "source": [
    "X_test = test_df.copy()"
   ]
  },
  {
   "cell_type": "code",
   "execution_count": 448,
   "metadata": {},
   "outputs": [
    {
     "data": {
      "text/plain": [
       "((903653, 34), (804684, 33))"
      ]
     },
     "execution_count": 448,
     "metadata": {},
     "output_type": "execute_result"
    }
   ],
   "source": [
    "X_train.shape, X_test.shape"
   ]
  },
  {
   "cell_type": "code",
   "execution_count": 449,
   "metadata": {},
   "outputs": [],
   "source": [
    "X_label = X_train['totals.transactionRevenue']"
   ]
  },
  {
   "cell_type": "code",
   "execution_count": 450,
   "metadata": {},
   "outputs": [
    {
     "data": {
      "text/plain": [
       "(903653,)"
      ]
     },
     "execution_count": 450,
     "metadata": {},
     "output_type": "execute_result"
    }
   ],
   "source": [
    "X_label.shape"
   ]
  },
  {
   "cell_type": "code",
   "execution_count": 451,
   "metadata": {},
   "outputs": [
    {
     "name": "stderr",
     "output_type": "stream",
     "text": [
      "/home/apratim941208/anaconda3/envs/ds/lib/python3.6/site-packages/ipykernel_launcher.py:1: FutureWarning: Sorting because non-concatenation axis is not aligned. A future version\n",
      "of pandas will change to not sort by default.\n",
      "\n",
      "To accept the future behavior, pass 'sort=False'.\n",
      "\n",
      "To retain the current behavior and silence the warning, pass 'sort=True'.\n",
      "\n",
      "  \"\"\"Entry point for launching an IPython kernel.\n"
     ]
    }
   ],
   "source": [
    "df_combi = pd.concat([X_train,X_test], axis=0)"
   ]
  },
  {
   "cell_type": "code",
   "execution_count": 452,
   "metadata": {},
   "outputs": [
    {
     "data": {
      "text/html": [
       "<div>\n",
       "<style scoped>\n",
       "    .dataframe tbody tr th:only-of-type {\n",
       "        vertical-align: middle;\n",
       "    }\n",
       "\n",
       "    .dataframe tbody tr th {\n",
       "        vertical-align: top;\n",
       "    }\n",
       "\n",
       "    .dataframe thead th {\n",
       "        text-align: right;\n",
       "    }\n",
       "</style>\n",
       "<table border=\"1\" class=\"dataframe\">\n",
       "  <thead>\n",
       "    <tr style=\"text-align: right;\">\n",
       "      <th></th>\n",
       "      <th>channelGrouping</th>\n",
       "      <th>day</th>\n",
       "      <th>device.browser</th>\n",
       "      <th>device.deviceCategory</th>\n",
       "      <th>device.isMobile</th>\n",
       "      <th>device.operatingSystem</th>\n",
       "      <th>fullVisitorId</th>\n",
       "      <th>geoNetwork.city</th>\n",
       "      <th>geoNetwork.continent</th>\n",
       "      <th>geoNetwork.country</th>\n",
       "      <th>...</th>\n",
       "      <th>trafficSource.adwordsClickInfo.isVideoAd</th>\n",
       "      <th>trafficSource.adwordsClickInfo.page</th>\n",
       "      <th>trafficSource.adwordsClickInfo.slot</th>\n",
       "      <th>trafficSource.campaign</th>\n",
       "      <th>trafficSource.isTrueDirect</th>\n",
       "      <th>trafficSource.keyword</th>\n",
       "      <th>trafficSource.medium</th>\n",
       "      <th>trafficSource.referralPath</th>\n",
       "      <th>trafficSource.source</th>\n",
       "      <th>weekday</th>\n",
       "    </tr>\n",
       "  </thead>\n",
       "  <tbody>\n",
       "    <tr>\n",
       "      <th>0</th>\n",
       "      <td>Organic Search</td>\n",
       "      <td>2</td>\n",
       "      <td>Chrome</td>\n",
       "      <td>desktop</td>\n",
       "      <td>0</td>\n",
       "      <td>Windows</td>\n",
       "      <td>1131660440785968503</td>\n",
       "      <td>Izmir</td>\n",
       "      <td>Asia</td>\n",
       "      <td>Turkey</td>\n",
       "      <td>...</td>\n",
       "      <td>NaN</td>\n",
       "      <td>NaN</td>\n",
       "      <td>NaN</td>\n",
       "      <td>(not set)</td>\n",
       "      <td>NaN</td>\n",
       "      <td>(not provided)</td>\n",
       "      <td>organic</td>\n",
       "      <td>NaN</td>\n",
       "      <td>google</td>\n",
       "      <td>4</td>\n",
       "    </tr>\n",
       "    <tr>\n",
       "      <th>1</th>\n",
       "      <td>Organic Search</td>\n",
       "      <td>2</td>\n",
       "      <td>Firefox</td>\n",
       "      <td>desktop</td>\n",
       "      <td>0</td>\n",
       "      <td>Macintosh</td>\n",
       "      <td>377306020877927890</td>\n",
       "      <td>not available in demo dataset</td>\n",
       "      <td>Oceania</td>\n",
       "      <td>Australia</td>\n",
       "      <td>...</td>\n",
       "      <td>NaN</td>\n",
       "      <td>NaN</td>\n",
       "      <td>NaN</td>\n",
       "      <td>(not set)</td>\n",
       "      <td>NaN</td>\n",
       "      <td>(not provided)</td>\n",
       "      <td>organic</td>\n",
       "      <td>NaN</td>\n",
       "      <td>google</td>\n",
       "      <td>4</td>\n",
       "    </tr>\n",
       "    <tr>\n",
       "      <th>2</th>\n",
       "      <td>Organic Search</td>\n",
       "      <td>2</td>\n",
       "      <td>Chrome</td>\n",
       "      <td>desktop</td>\n",
       "      <td>0</td>\n",
       "      <td>Windows</td>\n",
       "      <td>3895546263509774583</td>\n",
       "      <td>Madrid</td>\n",
       "      <td>Europe</td>\n",
       "      <td>Spain</td>\n",
       "      <td>...</td>\n",
       "      <td>NaN</td>\n",
       "      <td>NaN</td>\n",
       "      <td>NaN</td>\n",
       "      <td>(not set)</td>\n",
       "      <td>NaN</td>\n",
       "      <td>(not provided)</td>\n",
       "      <td>organic</td>\n",
       "      <td>NaN</td>\n",
       "      <td>google</td>\n",
       "      <td>4</td>\n",
       "    </tr>\n",
       "    <tr>\n",
       "      <th>3</th>\n",
       "      <td>Organic Search</td>\n",
       "      <td>2</td>\n",
       "      <td>UC Browser</td>\n",
       "      <td>desktop</td>\n",
       "      <td>0</td>\n",
       "      <td>Linux</td>\n",
       "      <td>4763447161404445595</td>\n",
       "      <td>not available in demo dataset</td>\n",
       "      <td>Asia</td>\n",
       "      <td>Indonesia</td>\n",
       "      <td>...</td>\n",
       "      <td>NaN</td>\n",
       "      <td>NaN</td>\n",
       "      <td>NaN</td>\n",
       "      <td>(not set)</td>\n",
       "      <td>NaN</td>\n",
       "      <td>google + online</td>\n",
       "      <td>organic</td>\n",
       "      <td>NaN</td>\n",
       "      <td>google</td>\n",
       "      <td>4</td>\n",
       "    </tr>\n",
       "    <tr>\n",
       "      <th>4</th>\n",
       "      <td>Organic Search</td>\n",
       "      <td>2</td>\n",
       "      <td>Chrome</td>\n",
       "      <td>mobile</td>\n",
       "      <td>1</td>\n",
       "      <td>Android</td>\n",
       "      <td>27294437909732085</td>\n",
       "      <td>not available in demo dataset</td>\n",
       "      <td>Europe</td>\n",
       "      <td>United Kingdom</td>\n",
       "      <td>...</td>\n",
       "      <td>NaN</td>\n",
       "      <td>NaN</td>\n",
       "      <td>NaN</td>\n",
       "      <td>(not set)</td>\n",
       "      <td>True</td>\n",
       "      <td>(not provided)</td>\n",
       "      <td>organic</td>\n",
       "      <td>NaN</td>\n",
       "      <td>google</td>\n",
       "      <td>4</td>\n",
       "    </tr>\n",
       "    <tr>\n",
       "      <th>5</th>\n",
       "      <td>Organic Search</td>\n",
       "      <td>2</td>\n",
       "      <td>Chrome</td>\n",
       "      <td>desktop</td>\n",
       "      <td>0</td>\n",
       "      <td>Windows</td>\n",
       "      <td>2938943183656635653</td>\n",
       "      <td>not available in demo dataset</td>\n",
       "      <td>Europe</td>\n",
       "      <td>Italy</td>\n",
       "      <td>...</td>\n",
       "      <td>NaN</td>\n",
       "      <td>NaN</td>\n",
       "      <td>NaN</td>\n",
       "      <td>(not set)</td>\n",
       "      <td>NaN</td>\n",
       "      <td>(not provided)</td>\n",
       "      <td>organic</td>\n",
       "      <td>NaN</td>\n",
       "      <td>google</td>\n",
       "      <td>4</td>\n",
       "    </tr>\n",
       "    <tr>\n",
       "      <th>6</th>\n",
       "      <td>Organic Search</td>\n",
       "      <td>2</td>\n",
       "      <td>Chrome</td>\n",
       "      <td>desktop</td>\n",
       "      <td>0</td>\n",
       "      <td>Windows</td>\n",
       "      <td>1905672039242460897</td>\n",
       "      <td>not available in demo dataset</td>\n",
       "      <td>Asia</td>\n",
       "      <td>Pakistan</td>\n",
       "      <td>...</td>\n",
       "      <td>NaN</td>\n",
       "      <td>NaN</td>\n",
       "      <td>NaN</td>\n",
       "      <td>(not set)</td>\n",
       "      <td>NaN</td>\n",
       "      <td>(not provided)</td>\n",
       "      <td>organic</td>\n",
       "      <td>NaN</td>\n",
       "      <td>google</td>\n",
       "      <td>4</td>\n",
       "    </tr>\n",
       "    <tr>\n",
       "      <th>7</th>\n",
       "      <td>Organic Search</td>\n",
       "      <td>2</td>\n",
       "      <td>Chrome</td>\n",
       "      <td>desktop</td>\n",
       "      <td>0</td>\n",
       "      <td>Windows</td>\n",
       "      <td>537222803633850821</td>\n",
       "      <td>Brisbane</td>\n",
       "      <td>Oceania</td>\n",
       "      <td>Australia</td>\n",
       "      <td>...</td>\n",
       "      <td>NaN</td>\n",
       "      <td>NaN</td>\n",
       "      <td>NaN</td>\n",
       "      <td>(not set)</td>\n",
       "      <td>NaN</td>\n",
       "      <td>(not provided)</td>\n",
       "      <td>organic</td>\n",
       "      <td>NaN</td>\n",
       "      <td>google</td>\n",
       "      <td>4</td>\n",
       "    </tr>\n",
       "    <tr>\n",
       "      <th>8</th>\n",
       "      <td>Organic Search</td>\n",
       "      <td>2</td>\n",
       "      <td>Internet Explorer</td>\n",
       "      <td>desktop</td>\n",
       "      <td>0</td>\n",
       "      <td>Windows</td>\n",
       "      <td>4445454811831400414</td>\n",
       "      <td>not available in demo dataset</td>\n",
       "      <td>Europe</td>\n",
       "      <td>Austria</td>\n",
       "      <td>...</td>\n",
       "      <td>NaN</td>\n",
       "      <td>NaN</td>\n",
       "      <td>NaN</td>\n",
       "      <td>(not set)</td>\n",
       "      <td>NaN</td>\n",
       "      <td>(not provided)</td>\n",
       "      <td>organic</td>\n",
       "      <td>NaN</td>\n",
       "      <td>google</td>\n",
       "      <td>4</td>\n",
       "    </tr>\n",
       "    <tr>\n",
       "      <th>9</th>\n",
       "      <td>Organic Search</td>\n",
       "      <td>2</td>\n",
       "      <td>Firefox</td>\n",
       "      <td>desktop</td>\n",
       "      <td>0</td>\n",
       "      <td>Windows</td>\n",
       "      <td>9499785259412240342</td>\n",
       "      <td>not available in demo dataset</td>\n",
       "      <td>Europe</td>\n",
       "      <td>Netherlands</td>\n",
       "      <td>...</td>\n",
       "      <td>NaN</td>\n",
       "      <td>NaN</td>\n",
       "      <td>NaN</td>\n",
       "      <td>(not set)</td>\n",
       "      <td>NaN</td>\n",
       "      <td>(not provided)</td>\n",
       "      <td>organic</td>\n",
       "      <td>NaN</td>\n",
       "      <td>google</td>\n",
       "      <td>4</td>\n",
       "    </tr>\n",
       "    <tr>\n",
       "      <th>10</th>\n",
       "      <td>Organic Search</td>\n",
       "      <td>2</td>\n",
       "      <td>Chrome</td>\n",
       "      <td>tablet</td>\n",
       "      <td>1</td>\n",
       "      <td>Android</td>\n",
       "      <td>0523069750702990437</td>\n",
       "      <td>not available in demo dataset</td>\n",
       "      <td>Asia</td>\n",
       "      <td>India</td>\n",
       "      <td>...</td>\n",
       "      <td>NaN</td>\n",
       "      <td>NaN</td>\n",
       "      <td>NaN</td>\n",
       "      <td>(not set)</td>\n",
       "      <td>NaN</td>\n",
       "      <td>(not provided)</td>\n",
       "      <td>organic</td>\n",
       "      <td>NaN</td>\n",
       "      <td>google</td>\n",
       "      <td>4</td>\n",
       "    </tr>\n",
       "    <tr>\n",
       "      <th>11</th>\n",
       "      <td>Organic Search</td>\n",
       "      <td>2</td>\n",
       "      <td>Safari</td>\n",
       "      <td>desktop</td>\n",
       "      <td>0</td>\n",
       "      <td>Macintosh</td>\n",
       "      <td>982320996976275749</td>\n",
       "      <td>not available in demo dataset</td>\n",
       "      <td>Europe</td>\n",
       "      <td>France</td>\n",
       "      <td>...</td>\n",
       "      <td>NaN</td>\n",
       "      <td>NaN</td>\n",
       "      <td>NaN</td>\n",
       "      <td>(not set)</td>\n",
       "      <td>NaN</td>\n",
       "      <td>(not provided)</td>\n",
       "      <td>organic</td>\n",
       "      <td>NaN</td>\n",
       "      <td>google</td>\n",
       "      <td>4</td>\n",
       "    </tr>\n",
       "    <tr>\n",
       "      <th>12</th>\n",
       "      <td>Organic Search</td>\n",
       "      <td>2</td>\n",
       "      <td>Safari</td>\n",
       "      <td>mobile</td>\n",
       "      <td>1</td>\n",
       "      <td>iOS</td>\n",
       "      <td>357659889600827884</td>\n",
       "      <td>Izmir</td>\n",
       "      <td>Asia</td>\n",
       "      <td>Turkey</td>\n",
       "      <td>...</td>\n",
       "      <td>NaN</td>\n",
       "      <td>NaN</td>\n",
       "      <td>NaN</td>\n",
       "      <td>(not set)</td>\n",
       "      <td>NaN</td>\n",
       "      <td>(not provided)</td>\n",
       "      <td>organic</td>\n",
       "      <td>NaN</td>\n",
       "      <td>google</td>\n",
       "      <td>4</td>\n",
       "    </tr>\n",
       "    <tr>\n",
       "      <th>13</th>\n",
       "      <td>Organic Search</td>\n",
       "      <td>2</td>\n",
       "      <td>Safari</td>\n",
       "      <td>mobile</td>\n",
       "      <td>1</td>\n",
       "      <td>iOS</td>\n",
       "      <td>1438082600262726746</td>\n",
       "      <td>Karachi</td>\n",
       "      <td>Asia</td>\n",
       "      <td>Pakistan</td>\n",
       "      <td>...</td>\n",
       "      <td>NaN</td>\n",
       "      <td>NaN</td>\n",
       "      <td>NaN</td>\n",
       "      <td>(not set)</td>\n",
       "      <td>NaN</td>\n",
       "      <td>(not provided)</td>\n",
       "      <td>organic</td>\n",
       "      <td>NaN</td>\n",
       "      <td>google</td>\n",
       "      <td>4</td>\n",
       "    </tr>\n",
       "    <tr>\n",
       "      <th>14</th>\n",
       "      <td>Organic Search</td>\n",
       "      <td>2</td>\n",
       "      <td>Chrome</td>\n",
       "      <td>desktop</td>\n",
       "      <td>0</td>\n",
       "      <td>Linux</td>\n",
       "      <td>3531015320757710684</td>\n",
       "      <td>not available in demo dataset</td>\n",
       "      <td>Americas</td>\n",
       "      <td>Brazil</td>\n",
       "      <td>...</td>\n",
       "      <td>NaN</td>\n",
       "      <td>NaN</td>\n",
       "      <td>NaN</td>\n",
       "      <td>(not set)</td>\n",
       "      <td>NaN</td>\n",
       "      <td>(not provided)</td>\n",
       "      <td>organic</td>\n",
       "      <td>NaN</td>\n",
       "      <td>google</td>\n",
       "      <td>4</td>\n",
       "    </tr>\n",
       "    <tr>\n",
       "      <th>15</th>\n",
       "      <td>Organic Search</td>\n",
       "      <td>2</td>\n",
       "      <td>Chrome</td>\n",
       "      <td>desktop</td>\n",
       "      <td>0</td>\n",
       "      <td>Macintosh</td>\n",
       "      <td>9638207207743070032</td>\n",
       "      <td>not available in demo dataset</td>\n",
       "      <td>Asia</td>\n",
       "      <td>China</td>\n",
       "      <td>...</td>\n",
       "      <td>NaN</td>\n",
       "      <td>NaN</td>\n",
       "      <td>NaN</td>\n",
       "      <td>(not set)</td>\n",
       "      <td>NaN</td>\n",
       "      <td>NaN</td>\n",
       "      <td>organic</td>\n",
       "      <td>NaN</td>\n",
       "      <td>baidu</td>\n",
       "      <td>4</td>\n",
       "    </tr>\n",
       "    <tr>\n",
       "      <th>16</th>\n",
       "      <td>Organic Search</td>\n",
       "      <td>2</td>\n",
       "      <td>Chrome</td>\n",
       "      <td>desktop</td>\n",
       "      <td>0</td>\n",
       "      <td>Windows</td>\n",
       "      <td>9876750586615598787</td>\n",
       "      <td>not available in demo dataset</td>\n",
       "      <td>Europe</td>\n",
       "      <td>Netherlands</td>\n",
       "      <td>...</td>\n",
       "      <td>NaN</td>\n",
       "      <td>NaN</td>\n",
       "      <td>NaN</td>\n",
       "      <td>(not set)</td>\n",
       "      <td>NaN</td>\n",
       "      <td>(not provided)</td>\n",
       "      <td>organic</td>\n",
       "      <td>NaN</td>\n",
       "      <td>google</td>\n",
       "      <td>4</td>\n",
       "    </tr>\n",
       "    <tr>\n",
       "      <th>17</th>\n",
       "      <td>Organic Search</td>\n",
       "      <td>2</td>\n",
       "      <td>Internet Explorer</td>\n",
       "      <td>desktop</td>\n",
       "      <td>0</td>\n",
       "      <td>Windows</td>\n",
       "      <td>2222266935962032743</td>\n",
       "      <td>Paris</td>\n",
       "      <td>Europe</td>\n",
       "      <td>France</td>\n",
       "      <td>...</td>\n",
       "      <td>NaN</td>\n",
       "      <td>NaN</td>\n",
       "      <td>NaN</td>\n",
       "      <td>(not set)</td>\n",
       "      <td>NaN</td>\n",
       "      <td>(not provided)</td>\n",
       "      <td>organic</td>\n",
       "      <td>NaN</td>\n",
       "      <td>google</td>\n",
       "      <td>4</td>\n",
       "    </tr>\n",
       "    <tr>\n",
       "      <th>18</th>\n",
       "      <td>Organic Search</td>\n",
       "      <td>2</td>\n",
       "      <td>Chrome</td>\n",
       "      <td>desktop</td>\n",
       "      <td>0</td>\n",
       "      <td>Windows</td>\n",
       "      <td>9674781571160116268</td>\n",
       "      <td>Singapore</td>\n",
       "      <td>Asia</td>\n",
       "      <td>Singapore</td>\n",
       "      <td>...</td>\n",
       "      <td>NaN</td>\n",
       "      <td>NaN</td>\n",
       "      <td>NaN</td>\n",
       "      <td>(not set)</td>\n",
       "      <td>NaN</td>\n",
       "      <td>(not provided)</td>\n",
       "      <td>organic</td>\n",
       "      <td>NaN</td>\n",
       "      <td>google</td>\n",
       "      <td>4</td>\n",
       "    </tr>\n",
       "    <tr>\n",
       "      <th>19</th>\n",
       "      <td>Organic Search</td>\n",
       "      <td>2</td>\n",
       "      <td>Chrome</td>\n",
       "      <td>desktop</td>\n",
       "      <td>0</td>\n",
       "      <td>Windows</td>\n",
       "      <td>3696906537737368442</td>\n",
       "      <td>Buenos Aires</td>\n",
       "      <td>Americas</td>\n",
       "      <td>Argentina</td>\n",
       "      <td>...</td>\n",
       "      <td>NaN</td>\n",
       "      <td>NaN</td>\n",
       "      <td>NaN</td>\n",
       "      <td>(not set)</td>\n",
       "      <td>NaN</td>\n",
       "      <td>(not provided)</td>\n",
       "      <td>organic</td>\n",
       "      <td>NaN</td>\n",
       "      <td>google</td>\n",
       "      <td>4</td>\n",
       "    </tr>\n",
       "    <tr>\n",
       "      <th>20</th>\n",
       "      <td>Organic Search</td>\n",
       "      <td>2</td>\n",
       "      <td>Chrome</td>\n",
       "      <td>desktop</td>\n",
       "      <td>0</td>\n",
       "      <td>Windows</td>\n",
       "      <td>4478318070775453050</td>\n",
       "      <td>not available in demo dataset</td>\n",
       "      <td>Europe</td>\n",
       "      <td>Poland</td>\n",
       "      <td>...</td>\n",
       "      <td>NaN</td>\n",
       "      <td>NaN</td>\n",
       "      <td>NaN</td>\n",
       "      <td>(not set)</td>\n",
       "      <td>NaN</td>\n",
       "      <td>(not provided)</td>\n",
       "      <td>organic</td>\n",
       "      <td>NaN</td>\n",
       "      <td>google</td>\n",
       "      <td>4</td>\n",
       "    </tr>\n",
       "    <tr>\n",
       "      <th>21</th>\n",
       "      <td>Organic Search</td>\n",
       "      <td>2</td>\n",
       "      <td>Chrome</td>\n",
       "      <td>mobile</td>\n",
       "      <td>1</td>\n",
       "      <td>Android</td>\n",
       "      <td>6098154234696452861</td>\n",
       "      <td>(not set)</td>\n",
       "      <td>Europe</td>\n",
       "      <td>Germany</td>\n",
       "      <td>...</td>\n",
       "      <td>NaN</td>\n",
       "      <td>NaN</td>\n",
       "      <td>NaN</td>\n",
       "      <td>(not set)</td>\n",
       "      <td>NaN</td>\n",
       "      <td>NaN</td>\n",
       "      <td>organic</td>\n",
       "      <td>NaN</td>\n",
       "      <td>baidu</td>\n",
       "      <td>4</td>\n",
       "    </tr>\n",
       "    <tr>\n",
       "      <th>22</th>\n",
       "      <td>Organic Search</td>\n",
       "      <td>2</td>\n",
       "      <td>Safari</td>\n",
       "      <td>mobile</td>\n",
       "      <td>1</td>\n",
       "      <td>iOS</td>\n",
       "      <td>3323434834508685818</td>\n",
       "      <td>not available in demo dataset</td>\n",
       "      <td>Americas</td>\n",
       "      <td>Canada</td>\n",
       "      <td>...</td>\n",
       "      <td>NaN</td>\n",
       "      <td>NaN</td>\n",
       "      <td>NaN</td>\n",
       "      <td>(not set)</td>\n",
       "      <td>NaN</td>\n",
       "      <td>(not provided)</td>\n",
       "      <td>organic</td>\n",
       "      <td>NaN</td>\n",
       "      <td>google</td>\n",
       "      <td>4</td>\n",
       "    </tr>\n",
       "    <tr>\n",
       "      <th>23</th>\n",
       "      <td>Organic Search</td>\n",
       "      <td>2</td>\n",
       "      <td>Chrome</td>\n",
       "      <td>desktop</td>\n",
       "      <td>0</td>\n",
       "      <td>Macintosh</td>\n",
       "      <td>3053576296023059465</td>\n",
       "      <td>Bangkok</td>\n",
       "      <td>Asia</td>\n",
       "      <td>Thailand</td>\n",
       "      <td>...</td>\n",
       "      <td>NaN</td>\n",
       "      <td>NaN</td>\n",
       "      <td>NaN</td>\n",
       "      <td>(not set)</td>\n",
       "      <td>NaN</td>\n",
       "      <td>(not provided)</td>\n",
       "      <td>organic</td>\n",
       "      <td>NaN</td>\n",
       "      <td>google</td>\n",
       "      <td>4</td>\n",
       "    </tr>\n",
       "    <tr>\n",
       "      <th>24</th>\n",
       "      <td>Organic Search</td>\n",
       "      <td>2</td>\n",
       "      <td>Chrome</td>\n",
       "      <td>desktop</td>\n",
       "      <td>0</td>\n",
       "      <td>Windows</td>\n",
       "      <td>702736826487255366</td>\n",
       "      <td>Jakarta</td>\n",
       "      <td>Asia</td>\n",
       "      <td>Indonesia</td>\n",
       "      <td>...</td>\n",
       "      <td>NaN</td>\n",
       "      <td>NaN</td>\n",
       "      <td>NaN</td>\n",
       "      <td>(not set)</td>\n",
       "      <td>NaN</td>\n",
       "      <td>(not provided)</td>\n",
       "      <td>organic</td>\n",
       "      <td>NaN</td>\n",
       "      <td>google</td>\n",
       "      <td>4</td>\n",
       "    </tr>\n",
       "    <tr>\n",
       "      <th>25</th>\n",
       "      <td>Organic Search</td>\n",
       "      <td>2</td>\n",
       "      <td>Internet Explorer</td>\n",
       "      <td>desktop</td>\n",
       "      <td>0</td>\n",
       "      <td>Windows</td>\n",
       "      <td>8794587387581803040</td>\n",
       "      <td>not available in demo dataset</td>\n",
       "      <td>Europe</td>\n",
       "      <td>Germany</td>\n",
       "      <td>...</td>\n",
       "      <td>NaN</td>\n",
       "      <td>NaN</td>\n",
       "      <td>NaN</td>\n",
       "      <td>(not set)</td>\n",
       "      <td>NaN</td>\n",
       "      <td>(not provided)</td>\n",
       "      <td>organic</td>\n",
       "      <td>NaN</td>\n",
       "      <td>google</td>\n",
       "      <td>4</td>\n",
       "    </tr>\n",
       "    <tr>\n",
       "      <th>26</th>\n",
       "      <td>Organic Search</td>\n",
       "      <td>2</td>\n",
       "      <td>Firefox</td>\n",
       "      <td>desktop</td>\n",
       "      <td>0</td>\n",
       "      <td>Windows</td>\n",
       "      <td>3293772317640873624</td>\n",
       "      <td>not available in demo dataset</td>\n",
       "      <td>Europe</td>\n",
       "      <td>France</td>\n",
       "      <td>...</td>\n",
       "      <td>NaN</td>\n",
       "      <td>NaN</td>\n",
       "      <td>NaN</td>\n",
       "      <td>(not set)</td>\n",
       "      <td>NaN</td>\n",
       "      <td>(not provided)</td>\n",
       "      <td>organic</td>\n",
       "      <td>NaN</td>\n",
       "      <td>google</td>\n",
       "      <td>4</td>\n",
       "    </tr>\n",
       "    <tr>\n",
       "      <th>27</th>\n",
       "      <td>Organic Search</td>\n",
       "      <td>2</td>\n",
       "      <td>Safari</td>\n",
       "      <td>desktop</td>\n",
       "      <td>0</td>\n",
       "      <td>Macintosh</td>\n",
       "      <td>1283542838194038522</td>\n",
       "      <td>not available in demo dataset</td>\n",
       "      <td>Europe</td>\n",
       "      <td>Hungary</td>\n",
       "      <td>...</td>\n",
       "      <td>NaN</td>\n",
       "      <td>NaN</td>\n",
       "      <td>NaN</td>\n",
       "      <td>(not set)</td>\n",
       "      <td>NaN</td>\n",
       "      <td>(not provided)</td>\n",
       "      <td>organic</td>\n",
       "      <td>NaN</td>\n",
       "      <td>google</td>\n",
       "      <td>4</td>\n",
       "    </tr>\n",
       "    <tr>\n",
       "      <th>28</th>\n",
       "      <td>Referral</td>\n",
       "      <td>2</td>\n",
       "      <td>Chrome</td>\n",
       "      <td>mobile</td>\n",
       "      <td>1</td>\n",
       "      <td>Android</td>\n",
       "      <td>4339756682310369249</td>\n",
       "      <td>Bengaluru</td>\n",
       "      <td>Asia</td>\n",
       "      <td>India</td>\n",
       "      <td>...</td>\n",
       "      <td>NaN</td>\n",
       "      <td>NaN</td>\n",
       "      <td>NaN</td>\n",
       "      <td>(not set)</td>\n",
       "      <td>NaN</td>\n",
       "      <td>NaN</td>\n",
       "      <td>referral</td>\n",
       "      <td>/</td>\n",
       "      <td>googleweblight.com</td>\n",
       "      <td>4</td>\n",
       "    </tr>\n",
       "    <tr>\n",
       "      <th>29</th>\n",
       "      <td>Organic Search</td>\n",
       "      <td>2</td>\n",
       "      <td>Chrome</td>\n",
       "      <td>desktop</td>\n",
       "      <td>0</td>\n",
       "      <td>Windows</td>\n",
       "      <td>7598520899202646361</td>\n",
       "      <td>not available in demo dataset</td>\n",
       "      <td>Asia</td>\n",
       "      <td>Malaysia</td>\n",
       "      <td>...</td>\n",
       "      <td>NaN</td>\n",
       "      <td>NaN</td>\n",
       "      <td>NaN</td>\n",
       "      <td>(not set)</td>\n",
       "      <td>NaN</td>\n",
       "      <td>(not provided)</td>\n",
       "      <td>organic</td>\n",
       "      <td>NaN</td>\n",
       "      <td>google</td>\n",
       "      <td>4</td>\n",
       "    </tr>\n",
       "    <tr>\n",
       "      <th>...</th>\n",
       "      <td>...</td>\n",
       "      <td>...</td>\n",
       "      <td>...</td>\n",
       "      <td>...</td>\n",
       "      <td>...</td>\n",
       "      <td>...</td>\n",
       "      <td>...</td>\n",
       "      <td>...</td>\n",
       "      <td>...</td>\n",
       "      <td>...</td>\n",
       "      <td>...</td>\n",
       "      <td>...</td>\n",
       "      <td>...</td>\n",
       "      <td>...</td>\n",
       "      <td>...</td>\n",
       "      <td>...</td>\n",
       "      <td>...</td>\n",
       "      <td>...</td>\n",
       "      <td>...</td>\n",
       "      <td>...</td>\n",
       "      <td>...</td>\n",
       "    </tr>\n",
       "    <tr>\n",
       "      <th>804654</th>\n",
       "      <td>Social</td>\n",
       "      <td>21</td>\n",
       "      <td>Chrome</td>\n",
       "      <td>desktop</td>\n",
       "      <td>0</td>\n",
       "      <td>Windows</td>\n",
       "      <td>6630224419290516980</td>\n",
       "      <td>not available in demo dataset</td>\n",
       "      <td>Asia</td>\n",
       "      <td>Azerbaijan</td>\n",
       "      <td>...</td>\n",
       "      <td>NaN</td>\n",
       "      <td>NaN</td>\n",
       "      <td>NaN</td>\n",
       "      <td>(not set)</td>\n",
       "      <td>True</td>\n",
       "      <td>NaN</td>\n",
       "      <td>referral</td>\n",
       "      <td>/yt/dev/tr/</td>\n",
       "      <td>youtube.com</td>\n",
       "      <td>5</td>\n",
       "    </tr>\n",
       "    <tr>\n",
       "      <th>804655</th>\n",
       "      <td>Social</td>\n",
       "      <td>21</td>\n",
       "      <td>Chrome</td>\n",
       "      <td>desktop</td>\n",
       "      <td>0</td>\n",
       "      <td>Chrome OS</td>\n",
       "      <td>3292253645461581386</td>\n",
       "      <td>not available in demo dataset</td>\n",
       "      <td>Americas</td>\n",
       "      <td>United States</td>\n",
       "      <td>...</td>\n",
       "      <td>NaN</td>\n",
       "      <td>NaN</td>\n",
       "      <td>NaN</td>\n",
       "      <td>(not set)</td>\n",
       "      <td>NaN</td>\n",
       "      <td>NaN</td>\n",
       "      <td>referral</td>\n",
       "      <td>/yt/kids/</td>\n",
       "      <td>youtube.com</td>\n",
       "      <td>5</td>\n",
       "    </tr>\n",
       "    <tr>\n",
       "      <th>804656</th>\n",
       "      <td>Social</td>\n",
       "      <td>21</td>\n",
       "      <td>Chrome</td>\n",
       "      <td>mobile</td>\n",
       "      <td>1</td>\n",
       "      <td>Android</td>\n",
       "      <td>9136343604886805148</td>\n",
       "      <td>not available in demo dataset</td>\n",
       "      <td>Asia</td>\n",
       "      <td>India</td>\n",
       "      <td>...</td>\n",
       "      <td>NaN</td>\n",
       "      <td>NaN</td>\n",
       "      <td>NaN</td>\n",
       "      <td>(not set)</td>\n",
       "      <td>NaN</td>\n",
       "      <td>NaN</td>\n",
       "      <td>referral</td>\n",
       "      <td>/</td>\n",
       "      <td>youtube.com</td>\n",
       "      <td>5</td>\n",
       "    </tr>\n",
       "    <tr>\n",
       "      <th>804657</th>\n",
       "      <td>Social</td>\n",
       "      <td>21</td>\n",
       "      <td>Chrome</td>\n",
       "      <td>desktop</td>\n",
       "      <td>0</td>\n",
       "      <td>Windows</td>\n",
       "      <td>3889687518028456197</td>\n",
       "      <td>not available in demo dataset</td>\n",
       "      <td>Americas</td>\n",
       "      <td>Colombia</td>\n",
       "      <td>...</td>\n",
       "      <td>NaN</td>\n",
       "      <td>NaN</td>\n",
       "      <td>NaN</td>\n",
       "      <td>(not set)</td>\n",
       "      <td>NaN</td>\n",
       "      <td>NaN</td>\n",
       "      <td>referral</td>\n",
       "      <td>/intl/es/yt/about/</td>\n",
       "      <td>youtube.com</td>\n",
       "      <td>5</td>\n",
       "    </tr>\n",
       "    <tr>\n",
       "      <th>804658</th>\n",
       "      <td>Social</td>\n",
       "      <td>21</td>\n",
       "      <td>Chrome</td>\n",
       "      <td>desktop</td>\n",
       "      <td>0</td>\n",
       "      <td>Windows</td>\n",
       "      <td>5993023423103207014</td>\n",
       "      <td>not available in demo dataset</td>\n",
       "      <td>Asia</td>\n",
       "      <td>India</td>\n",
       "      <td>...</td>\n",
       "      <td>NaN</td>\n",
       "      <td>NaN</td>\n",
       "      <td>NaN</td>\n",
       "      <td>(not set)</td>\n",
       "      <td>NaN</td>\n",
       "      <td>NaN</td>\n",
       "      <td>referral</td>\n",
       "      <td>/</td>\n",
       "      <td>youtube.com</td>\n",
       "      <td>5</td>\n",
       "    </tr>\n",
       "    <tr>\n",
       "      <th>804659</th>\n",
       "      <td>Social</td>\n",
       "      <td>21</td>\n",
       "      <td>Chrome</td>\n",
       "      <td>desktop</td>\n",
       "      <td>0</td>\n",
       "      <td>Macintosh</td>\n",
       "      <td>7428804439579052435</td>\n",
       "      <td>not available in demo dataset</td>\n",
       "      <td>Americas</td>\n",
       "      <td>United States</td>\n",
       "      <td>...</td>\n",
       "      <td>NaN</td>\n",
       "      <td>NaN</td>\n",
       "      <td>NaN</td>\n",
       "      <td>(not set)</td>\n",
       "      <td>NaN</td>\n",
       "      <td>NaN</td>\n",
       "      <td>referral</td>\n",
       "      <td>/yt/about/</td>\n",
       "      <td>youtube.com</td>\n",
       "      <td>5</td>\n",
       "    </tr>\n",
       "    <tr>\n",
       "      <th>804660</th>\n",
       "      <td>Social</td>\n",
       "      <td>21</td>\n",
       "      <td>Chrome</td>\n",
       "      <td>desktop</td>\n",
       "      <td>0</td>\n",
       "      <td>Windows</td>\n",
       "      <td>5752955605237169639</td>\n",
       "      <td>not available in demo dataset</td>\n",
       "      <td>Europe</td>\n",
       "      <td>Greece</td>\n",
       "      <td>...</td>\n",
       "      <td>NaN</td>\n",
       "      <td>NaN</td>\n",
       "      <td>NaN</td>\n",
       "      <td>(not set)</td>\n",
       "      <td>NaN</td>\n",
       "      <td>NaN</td>\n",
       "      <td>referral</td>\n",
       "      <td>/intl/el/yt/about/copyright/</td>\n",
       "      <td>youtube.com</td>\n",
       "      <td>5</td>\n",
       "    </tr>\n",
       "    <tr>\n",
       "      <th>804661</th>\n",
       "      <td>Social</td>\n",
       "      <td>21</td>\n",
       "      <td>Chrome</td>\n",
       "      <td>mobile</td>\n",
       "      <td>1</td>\n",
       "      <td>Android</td>\n",
       "      <td>7909814785732762623</td>\n",
       "      <td>not available in demo dataset</td>\n",
       "      <td>Americas</td>\n",
       "      <td>Brazil</td>\n",
       "      <td>...</td>\n",
       "      <td>NaN</td>\n",
       "      <td>NaN</td>\n",
       "      <td>NaN</td>\n",
       "      <td>(not set)</td>\n",
       "      <td>NaN</td>\n",
       "      <td>NaN</td>\n",
       "      <td>referral</td>\n",
       "      <td>/intl/pt-BR/yt/about/policies/</td>\n",
       "      <td>youtube.com</td>\n",
       "      <td>5</td>\n",
       "    </tr>\n",
       "    <tr>\n",
       "      <th>804662</th>\n",
       "      <td>Social</td>\n",
       "      <td>21</td>\n",
       "      <td>Chrome</td>\n",
       "      <td>desktop</td>\n",
       "      <td>0</td>\n",
       "      <td>Linux</td>\n",
       "      <td>9863987706611943279</td>\n",
       "      <td>not available in demo dataset</td>\n",
       "      <td>Americas</td>\n",
       "      <td>United States</td>\n",
       "      <td>...</td>\n",
       "      <td>NaN</td>\n",
       "      <td>NaN</td>\n",
       "      <td>NaN</td>\n",
       "      <td>(not set)</td>\n",
       "      <td>NaN</td>\n",
       "      <td>NaN</td>\n",
       "      <td>referral</td>\n",
       "      <td>/yt/creators/learn-and-connect/</td>\n",
       "      <td>youtube.com</td>\n",
       "      <td>5</td>\n",
       "    </tr>\n",
       "    <tr>\n",
       "      <th>804663</th>\n",
       "      <td>Social</td>\n",
       "      <td>21</td>\n",
       "      <td>Chrome</td>\n",
       "      <td>desktop</td>\n",
       "      <td>0</td>\n",
       "      <td>Windows</td>\n",
       "      <td>4659464472366757440</td>\n",
       "      <td>not available in demo dataset</td>\n",
       "      <td>Europe</td>\n",
       "      <td>Norway</td>\n",
       "      <td>...</td>\n",
       "      <td>NaN</td>\n",
       "      <td>NaN</td>\n",
       "      <td>NaN</td>\n",
       "      <td>(not set)</td>\n",
       "      <td>NaN</td>\n",
       "      <td>NaN</td>\n",
       "      <td>referral</td>\n",
       "      <td>/yt/music/index.html</td>\n",
       "      <td>youtube.com</td>\n",
       "      <td>5</td>\n",
       "    </tr>\n",
       "    <tr>\n",
       "      <th>804664</th>\n",
       "      <td>Social</td>\n",
       "      <td>21</td>\n",
       "      <td>Chrome</td>\n",
       "      <td>desktop</td>\n",
       "      <td>0</td>\n",
       "      <td>Windows</td>\n",
       "      <td>5658681988240696606</td>\n",
       "      <td>not available in demo dataset</td>\n",
       "      <td>Asia</td>\n",
       "      <td>South Korea</td>\n",
       "      <td>...</td>\n",
       "      <td>NaN</td>\n",
       "      <td>NaN</td>\n",
       "      <td>NaN</td>\n",
       "      <td>(not set)</td>\n",
       "      <td>NaN</td>\n",
       "      <td>NaN</td>\n",
       "      <td>referral</td>\n",
       "      <td>/yt/creators/benefits/</td>\n",
       "      <td>youtube.com</td>\n",
       "      <td>5</td>\n",
       "    </tr>\n",
       "    <tr>\n",
       "      <th>804665</th>\n",
       "      <td>Social</td>\n",
       "      <td>21</td>\n",
       "      <td>Safari</td>\n",
       "      <td>tablet</td>\n",
       "      <td>1</td>\n",
       "      <td>iOS</td>\n",
       "      <td>4536290936744880454</td>\n",
       "      <td>not available in demo dataset</td>\n",
       "      <td>Europe</td>\n",
       "      <td>Germany</td>\n",
       "      <td>...</td>\n",
       "      <td>NaN</td>\n",
       "      <td>NaN</td>\n",
       "      <td>NaN</td>\n",
       "      <td>(not set)</td>\n",
       "      <td>NaN</td>\n",
       "      <td>NaN</td>\n",
       "      <td>referral</td>\n",
       "      <td>/intl/de/yt/creators/</td>\n",
       "      <td>youtube.com</td>\n",
       "      <td>5</td>\n",
       "    </tr>\n",
       "    <tr>\n",
       "      <th>804666</th>\n",
       "      <td>Social</td>\n",
       "      <td>21</td>\n",
       "      <td>Chrome</td>\n",
       "      <td>mobile</td>\n",
       "      <td>1</td>\n",
       "      <td>Android</td>\n",
       "      <td>7758724635793798710</td>\n",
       "      <td>not available in demo dataset</td>\n",
       "      <td>Asia</td>\n",
       "      <td>Nepal</td>\n",
       "      <td>...</td>\n",
       "      <td>NaN</td>\n",
       "      <td>NaN</td>\n",
       "      <td>NaN</td>\n",
       "      <td>(not set)</td>\n",
       "      <td>NaN</td>\n",
       "      <td>NaN</td>\n",
       "      <td>referral</td>\n",
       "      <td>/yt/about/policies/</td>\n",
       "      <td>youtube.com</td>\n",
       "      <td>5</td>\n",
       "    </tr>\n",
       "    <tr>\n",
       "      <th>804667</th>\n",
       "      <td>Social</td>\n",
       "      <td>21</td>\n",
       "      <td>Chrome</td>\n",
       "      <td>desktop</td>\n",
       "      <td>0</td>\n",
       "      <td>Windows</td>\n",
       "      <td>5793803277034804127</td>\n",
       "      <td>not available in demo dataset</td>\n",
       "      <td>Americas</td>\n",
       "      <td>Canada</td>\n",
       "      <td>...</td>\n",
       "      <td>NaN</td>\n",
       "      <td>NaN</td>\n",
       "      <td>NaN</td>\n",
       "      <td>(not set)</td>\n",
       "      <td>NaN</td>\n",
       "      <td>NaN</td>\n",
       "      <td>referral</td>\n",
       "      <td>/yt/music/fr-CA/index.html</td>\n",
       "      <td>youtube.com</td>\n",
       "      <td>5</td>\n",
       "    </tr>\n",
       "    <tr>\n",
       "      <th>804668</th>\n",
       "      <td>Social</td>\n",
       "      <td>21</td>\n",
       "      <td>Chrome</td>\n",
       "      <td>mobile</td>\n",
       "      <td>1</td>\n",
       "      <td>Android</td>\n",
       "      <td>56471404986091477</td>\n",
       "      <td>Los Angeles</td>\n",
       "      <td>Americas</td>\n",
       "      <td>United States</td>\n",
       "      <td>...</td>\n",
       "      <td>NaN</td>\n",
       "      <td>NaN</td>\n",
       "      <td>NaN</td>\n",
       "      <td>(not set)</td>\n",
       "      <td>NaN</td>\n",
       "      <td>NaN</td>\n",
       "      <td>referral</td>\n",
       "      <td>/yt/about/copyright/</td>\n",
       "      <td>youtube.com</td>\n",
       "      <td>5</td>\n",
       "    </tr>\n",
       "    <tr>\n",
       "      <th>804669</th>\n",
       "      <td>Social</td>\n",
       "      <td>21</td>\n",
       "      <td>Edge</td>\n",
       "      <td>desktop</td>\n",
       "      <td>0</td>\n",
       "      <td>Windows</td>\n",
       "      <td>9084225574121020383</td>\n",
       "      <td>Chicago</td>\n",
       "      <td>Americas</td>\n",
       "      <td>United States</td>\n",
       "      <td>...</td>\n",
       "      <td>NaN</td>\n",
       "      <td>NaN</td>\n",
       "      <td>NaN</td>\n",
       "      <td>(not set)</td>\n",
       "      <td>NaN</td>\n",
       "      <td>NaN</td>\n",
       "      <td>referral</td>\n",
       "      <td>/intl/en/yt/about/copyright/</td>\n",
       "      <td>youtube.com</td>\n",
       "      <td>5</td>\n",
       "    </tr>\n",
       "    <tr>\n",
       "      <th>804670</th>\n",
       "      <td>Social</td>\n",
       "      <td>21</td>\n",
       "      <td>Chrome</td>\n",
       "      <td>desktop</td>\n",
       "      <td>0</td>\n",
       "      <td>Windows</td>\n",
       "      <td>638017669166337450</td>\n",
       "      <td>not available in demo dataset</td>\n",
       "      <td>Asia</td>\n",
       "      <td>Taiwan</td>\n",
       "      <td>...</td>\n",
       "      <td>NaN</td>\n",
       "      <td>NaN</td>\n",
       "      <td>NaN</td>\n",
       "      <td>(not set)</td>\n",
       "      <td>NaN</td>\n",
       "      <td>NaN</td>\n",
       "      <td>referral</td>\n",
       "      <td>/intl/zh-TW/yt/creators/</td>\n",
       "      <td>youtube.com</td>\n",
       "      <td>5</td>\n",
       "    </tr>\n",
       "    <tr>\n",
       "      <th>804671</th>\n",
       "      <td>Social</td>\n",
       "      <td>21</td>\n",
       "      <td>Chrome</td>\n",
       "      <td>mobile</td>\n",
       "      <td>1</td>\n",
       "      <td>Android</td>\n",
       "      <td>5744172173658921055</td>\n",
       "      <td>not available in demo dataset</td>\n",
       "      <td>Asia</td>\n",
       "      <td>Iraq</td>\n",
       "      <td>...</td>\n",
       "      <td>NaN</td>\n",
       "      <td>NaN</td>\n",
       "      <td>NaN</td>\n",
       "      <td>(not set)</td>\n",
       "      <td>NaN</td>\n",
       "      <td>NaN</td>\n",
       "      <td>referral</td>\n",
       "      <td>/intl/ar/yt/advertise/</td>\n",
       "      <td>youtube.com</td>\n",
       "      <td>5</td>\n",
       "    </tr>\n",
       "    <tr>\n",
       "      <th>804672</th>\n",
       "      <td>Social</td>\n",
       "      <td>21</td>\n",
       "      <td>Edge</td>\n",
       "      <td>desktop</td>\n",
       "      <td>0</td>\n",
       "      <td>Windows</td>\n",
       "      <td>9084225574121020383</td>\n",
       "      <td>Chicago</td>\n",
       "      <td>Americas</td>\n",
       "      <td>United States</td>\n",
       "      <td>...</td>\n",
       "      <td>NaN</td>\n",
       "      <td>NaN</td>\n",
       "      <td>NaN</td>\n",
       "      <td>(not set)</td>\n",
       "      <td>NaN</td>\n",
       "      <td>NaN</td>\n",
       "      <td>referral</td>\n",
       "      <td>/yt/about/press/</td>\n",
       "      <td>youtube.com</td>\n",
       "      <td>5</td>\n",
       "    </tr>\n",
       "    <tr>\n",
       "      <th>804673</th>\n",
       "      <td>Social</td>\n",
       "      <td>21</td>\n",
       "      <td>Chrome</td>\n",
       "      <td>desktop</td>\n",
       "      <td>0</td>\n",
       "      <td>Windows</td>\n",
       "      <td>7951714705396524331</td>\n",
       "      <td>Chennai</td>\n",
       "      <td>Asia</td>\n",
       "      <td>India</td>\n",
       "      <td>...</td>\n",
       "      <td>NaN</td>\n",
       "      <td>NaN</td>\n",
       "      <td>NaN</td>\n",
       "      <td>(not set)</td>\n",
       "      <td>NaN</td>\n",
       "      <td>NaN</td>\n",
       "      <td>referral</td>\n",
       "      <td>/</td>\n",
       "      <td>youtube.com</td>\n",
       "      <td>5</td>\n",
       "    </tr>\n",
       "    <tr>\n",
       "      <th>804674</th>\n",
       "      <td>Social</td>\n",
       "      <td>21</td>\n",
       "      <td>Chrome</td>\n",
       "      <td>desktop</td>\n",
       "      <td>0</td>\n",
       "      <td>Windows</td>\n",
       "      <td>4405127263201432739</td>\n",
       "      <td>not available in demo dataset</td>\n",
       "      <td>Europe</td>\n",
       "      <td>United Kingdom</td>\n",
       "      <td>...</td>\n",
       "      <td>NaN</td>\n",
       "      <td>NaN</td>\n",
       "      <td>NaN</td>\n",
       "      <td>(not set)</td>\n",
       "      <td>NaN</td>\n",
       "      <td>NaN</td>\n",
       "      <td>referral</td>\n",
       "      <td>/intl/pl/yt/about/press/</td>\n",
       "      <td>youtube.com</td>\n",
       "      <td>5</td>\n",
       "    </tr>\n",
       "    <tr>\n",
       "      <th>804675</th>\n",
       "      <td>Social</td>\n",
       "      <td>21</td>\n",
       "      <td>Opera</td>\n",
       "      <td>desktop</td>\n",
       "      <td>0</td>\n",
       "      <td>Windows</td>\n",
       "      <td>7274226662839541799</td>\n",
       "      <td>Kyiv</td>\n",
       "      <td>Europe</td>\n",
       "      <td>Ukraine</td>\n",
       "      <td>...</td>\n",
       "      <td>NaN</td>\n",
       "      <td>NaN</td>\n",
       "      <td>NaN</td>\n",
       "      <td>(not set)</td>\n",
       "      <td>NaN</td>\n",
       "      <td>NaN</td>\n",
       "      <td>referral</td>\n",
       "      <td>/yt/creators/</td>\n",
       "      <td>youtube.com</td>\n",
       "      <td>5</td>\n",
       "    </tr>\n",
       "    <tr>\n",
       "      <th>804676</th>\n",
       "      <td>Social</td>\n",
       "      <td>21</td>\n",
       "      <td>Opera Mini</td>\n",
       "      <td>mobile</td>\n",
       "      <td>1</td>\n",
       "      <td>(not set)</td>\n",
       "      <td>6040634167099043205</td>\n",
       "      <td>not available in demo dataset</td>\n",
       "      <td>Asia</td>\n",
       "      <td>Kazakhstan</td>\n",
       "      <td>...</td>\n",
       "      <td>NaN</td>\n",
       "      <td>NaN</td>\n",
       "      <td>NaN</td>\n",
       "      <td>(not set)</td>\n",
       "      <td>NaN</td>\n",
       "      <td>NaN</td>\n",
       "      <td>referral</td>\n",
       "      <td>/yt/lineups/ru/france.html</td>\n",
       "      <td>youtube.com</td>\n",
       "      <td>5</td>\n",
       "    </tr>\n",
       "    <tr>\n",
       "      <th>804677</th>\n",
       "      <td>Social</td>\n",
       "      <td>21</td>\n",
       "      <td>Chrome</td>\n",
       "      <td>tablet</td>\n",
       "      <td>1</td>\n",
       "      <td>Android</td>\n",
       "      <td>1759939701397302061</td>\n",
       "      <td>not available in demo dataset</td>\n",
       "      <td>Asia</td>\n",
       "      <td>Saudi Arabia</td>\n",
       "      <td>...</td>\n",
       "      <td>NaN</td>\n",
       "      <td>NaN</td>\n",
       "      <td>NaN</td>\n",
       "      <td>(not set)</td>\n",
       "      <td>NaN</td>\n",
       "      <td>NaN</td>\n",
       "      <td>referral</td>\n",
       "      <td>/intl/ar/yt/about/</td>\n",
       "      <td>youtube.com</td>\n",
       "      <td>5</td>\n",
       "    </tr>\n",
       "    <tr>\n",
       "      <th>804678</th>\n",
       "      <td>Social</td>\n",
       "      <td>21</td>\n",
       "      <td>Chrome</td>\n",
       "      <td>mobile</td>\n",
       "      <td>1</td>\n",
       "      <td>Android</td>\n",
       "      <td>3103057346467377129</td>\n",
       "      <td>Chicago</td>\n",
       "      <td>Americas</td>\n",
       "      <td>United States</td>\n",
       "      <td>...</td>\n",
       "      <td>NaN</td>\n",
       "      <td>NaN</td>\n",
       "      <td>NaN</td>\n",
       "      <td>(not set)</td>\n",
       "      <td>NaN</td>\n",
       "      <td>NaN</td>\n",
       "      <td>referral</td>\n",
       "      <td>/yt/about/policies/</td>\n",
       "      <td>youtube.com</td>\n",
       "      <td>5</td>\n",
       "    </tr>\n",
       "    <tr>\n",
       "      <th>804679</th>\n",
       "      <td>Social</td>\n",
       "      <td>21</td>\n",
       "      <td>Edge</td>\n",
       "      <td>desktop</td>\n",
       "      <td>0</td>\n",
       "      <td>Windows</td>\n",
       "      <td>9084225574121020383</td>\n",
       "      <td>Chicago</td>\n",
       "      <td>Americas</td>\n",
       "      <td>United States</td>\n",
       "      <td>...</td>\n",
       "      <td>NaN</td>\n",
       "      <td>NaN</td>\n",
       "      <td>NaN</td>\n",
       "      <td>(not set)</td>\n",
       "      <td>NaN</td>\n",
       "      <td>NaN</td>\n",
       "      <td>referral</td>\n",
       "      <td>/intl/en/yt/about/</td>\n",
       "      <td>youtube.com</td>\n",
       "      <td>5</td>\n",
       "    </tr>\n",
       "    <tr>\n",
       "      <th>804680</th>\n",
       "      <td>Social</td>\n",
       "      <td>21</td>\n",
       "      <td>Chrome</td>\n",
       "      <td>mobile</td>\n",
       "      <td>1</td>\n",
       "      <td>Android</td>\n",
       "      <td>6146210385566305056</td>\n",
       "      <td>not available in demo dataset</td>\n",
       "      <td>Americas</td>\n",
       "      <td>Uruguay</td>\n",
       "      <td>...</td>\n",
       "      <td>NaN</td>\n",
       "      <td>NaN</td>\n",
       "      <td>NaN</td>\n",
       "      <td>(not set)</td>\n",
       "      <td>NaN</td>\n",
       "      <td>NaN</td>\n",
       "      <td>referral</td>\n",
       "      <td>/yt/lineups/es/index.html</td>\n",
       "      <td>youtube.com</td>\n",
       "      <td>5</td>\n",
       "    </tr>\n",
       "    <tr>\n",
       "      <th>804681</th>\n",
       "      <td>Social</td>\n",
       "      <td>21</td>\n",
       "      <td>Safari (in-app)</td>\n",
       "      <td>mobile</td>\n",
       "      <td>1</td>\n",
       "      <td>iOS</td>\n",
       "      <td>7484543584006767361</td>\n",
       "      <td>not available in demo dataset</td>\n",
       "      <td>Americas</td>\n",
       "      <td>Canada</td>\n",
       "      <td>...</td>\n",
       "      <td>NaN</td>\n",
       "      <td>NaN</td>\n",
       "      <td>NaN</td>\n",
       "      <td>(not set)</td>\n",
       "      <td>NaN</td>\n",
       "      <td>NaN</td>\n",
       "      <td>referral</td>\n",
       "      <td>/</td>\n",
       "      <td>m.facebook.com</td>\n",
       "      <td>5</td>\n",
       "    </tr>\n",
       "    <tr>\n",
       "      <th>804682</th>\n",
       "      <td>Social</td>\n",
       "      <td>21</td>\n",
       "      <td>Samsung Internet</td>\n",
       "      <td>mobile</td>\n",
       "      <td>1</td>\n",
       "      <td>Android</td>\n",
       "      <td>2915966035609674201</td>\n",
       "      <td>Dublin</td>\n",
       "      <td>Europe</td>\n",
       "      <td>Ireland</td>\n",
       "      <td>...</td>\n",
       "      <td>NaN</td>\n",
       "      <td>NaN</td>\n",
       "      <td>NaN</td>\n",
       "      <td>(not set)</td>\n",
       "      <td>NaN</td>\n",
       "      <td>NaN</td>\n",
       "      <td>referral</td>\n",
       "      <td>/yt/about/policies/</td>\n",
       "      <td>youtube.com</td>\n",
       "      <td>5</td>\n",
       "    </tr>\n",
       "    <tr>\n",
       "      <th>804683</th>\n",
       "      <td>Social</td>\n",
       "      <td>21</td>\n",
       "      <td>MRCHROME</td>\n",
       "      <td>desktop</td>\n",
       "      <td>0</td>\n",
       "      <td>Windows</td>\n",
       "      <td>5334918847827785763</td>\n",
       "      <td>not available in demo dataset</td>\n",
       "      <td>Europe</td>\n",
       "      <td>Russia</td>\n",
       "      <td>...</td>\n",
       "      <td>NaN</td>\n",
       "      <td>NaN</td>\n",
       "      <td>NaN</td>\n",
       "      <td>(not set)</td>\n",
       "      <td>NaN</td>\n",
       "      <td>NaN</td>\n",
       "      <td>referral</td>\n",
       "      <td>/yt/music/ru/index.html</td>\n",
       "      <td>youtube.com</td>\n",
       "      <td>5</td>\n",
       "    </tr>\n",
       "  </tbody>\n",
       "</table>\n",
       "<p>1708337 rows × 34 columns</p>\n",
       "</div>"
      ],
      "text/plain": [
       "       channelGrouping  day     device.browser device.deviceCategory  \\\n",
       "0       Organic Search    2             Chrome               desktop   \n",
       "1       Organic Search    2            Firefox               desktop   \n",
       "2       Organic Search    2             Chrome               desktop   \n",
       "3       Organic Search    2         UC Browser               desktop   \n",
       "4       Organic Search    2             Chrome                mobile   \n",
       "5       Organic Search    2             Chrome               desktop   \n",
       "6       Organic Search    2             Chrome               desktop   \n",
       "7       Organic Search    2             Chrome               desktop   \n",
       "8       Organic Search    2  Internet Explorer               desktop   \n",
       "9       Organic Search    2            Firefox               desktop   \n",
       "10      Organic Search    2             Chrome                tablet   \n",
       "11      Organic Search    2             Safari               desktop   \n",
       "12      Organic Search    2             Safari                mobile   \n",
       "13      Organic Search    2             Safari                mobile   \n",
       "14      Organic Search    2             Chrome               desktop   \n",
       "15      Organic Search    2             Chrome               desktop   \n",
       "16      Organic Search    2             Chrome               desktop   \n",
       "17      Organic Search    2  Internet Explorer               desktop   \n",
       "18      Organic Search    2             Chrome               desktop   \n",
       "19      Organic Search    2             Chrome               desktop   \n",
       "20      Organic Search    2             Chrome               desktop   \n",
       "21      Organic Search    2             Chrome                mobile   \n",
       "22      Organic Search    2             Safari                mobile   \n",
       "23      Organic Search    2             Chrome               desktop   \n",
       "24      Organic Search    2             Chrome               desktop   \n",
       "25      Organic Search    2  Internet Explorer               desktop   \n",
       "26      Organic Search    2            Firefox               desktop   \n",
       "27      Organic Search    2             Safari               desktop   \n",
       "28            Referral    2             Chrome                mobile   \n",
       "29      Organic Search    2             Chrome               desktop   \n",
       "...                ...  ...                ...                   ...   \n",
       "804654          Social   21             Chrome               desktop   \n",
       "804655          Social   21             Chrome               desktop   \n",
       "804656          Social   21             Chrome                mobile   \n",
       "804657          Social   21             Chrome               desktop   \n",
       "804658          Social   21             Chrome               desktop   \n",
       "804659          Social   21             Chrome               desktop   \n",
       "804660          Social   21             Chrome               desktop   \n",
       "804661          Social   21             Chrome                mobile   \n",
       "804662          Social   21             Chrome               desktop   \n",
       "804663          Social   21             Chrome               desktop   \n",
       "804664          Social   21             Chrome               desktop   \n",
       "804665          Social   21             Safari                tablet   \n",
       "804666          Social   21             Chrome                mobile   \n",
       "804667          Social   21             Chrome               desktop   \n",
       "804668          Social   21             Chrome                mobile   \n",
       "804669          Social   21               Edge               desktop   \n",
       "804670          Social   21             Chrome               desktop   \n",
       "804671          Social   21             Chrome                mobile   \n",
       "804672          Social   21               Edge               desktop   \n",
       "804673          Social   21             Chrome               desktop   \n",
       "804674          Social   21             Chrome               desktop   \n",
       "804675          Social   21              Opera               desktop   \n",
       "804676          Social   21         Opera Mini                mobile   \n",
       "804677          Social   21             Chrome                tablet   \n",
       "804678          Social   21             Chrome                mobile   \n",
       "804679          Social   21               Edge               desktop   \n",
       "804680          Social   21             Chrome                mobile   \n",
       "804681          Social   21    Safari (in-app)                mobile   \n",
       "804682          Social   21   Samsung Internet                mobile   \n",
       "804683          Social   21           MRCHROME               desktop   \n",
       "\n",
       "        device.isMobile device.operatingSystem        fullVisitorId  \\\n",
       "0                     0                Windows  1131660440785968503   \n",
       "1                     0              Macintosh   377306020877927890   \n",
       "2                     0                Windows  3895546263509774583   \n",
       "3                     0                  Linux  4763447161404445595   \n",
       "4                     1                Android    27294437909732085   \n",
       "5                     0                Windows  2938943183656635653   \n",
       "6                     0                Windows  1905672039242460897   \n",
       "7                     0                Windows   537222803633850821   \n",
       "8                     0                Windows  4445454811831400414   \n",
       "9                     0                Windows  9499785259412240342   \n",
       "10                    1                Android  0523069750702990437   \n",
       "11                    0              Macintosh   982320996976275749   \n",
       "12                    1                    iOS   357659889600827884   \n",
       "13                    1                    iOS  1438082600262726746   \n",
       "14                    0                  Linux  3531015320757710684   \n",
       "15                    0              Macintosh  9638207207743070032   \n",
       "16                    0                Windows  9876750586615598787   \n",
       "17                    0                Windows  2222266935962032743   \n",
       "18                    0                Windows  9674781571160116268   \n",
       "19                    0                Windows  3696906537737368442   \n",
       "20                    0                Windows  4478318070775453050   \n",
       "21                    1                Android  6098154234696452861   \n",
       "22                    1                    iOS  3323434834508685818   \n",
       "23                    0              Macintosh  3053576296023059465   \n",
       "24                    0                Windows   702736826487255366   \n",
       "25                    0                Windows  8794587387581803040   \n",
       "26                    0                Windows  3293772317640873624   \n",
       "27                    0              Macintosh  1283542838194038522   \n",
       "28                    1                Android  4339756682310369249   \n",
       "29                    0                Windows  7598520899202646361   \n",
       "...                 ...                    ...                  ...   \n",
       "804654                0                Windows  6630224419290516980   \n",
       "804655                0              Chrome OS  3292253645461581386   \n",
       "804656                1                Android  9136343604886805148   \n",
       "804657                0                Windows  3889687518028456197   \n",
       "804658                0                Windows  5993023423103207014   \n",
       "804659                0              Macintosh  7428804439579052435   \n",
       "804660                0                Windows  5752955605237169639   \n",
       "804661                1                Android  7909814785732762623   \n",
       "804662                0                  Linux  9863987706611943279   \n",
       "804663                0                Windows  4659464472366757440   \n",
       "804664                0                Windows  5658681988240696606   \n",
       "804665                1                    iOS  4536290936744880454   \n",
       "804666                1                Android  7758724635793798710   \n",
       "804667                0                Windows  5793803277034804127   \n",
       "804668                1                Android    56471404986091477   \n",
       "804669                0                Windows  9084225574121020383   \n",
       "804670                0                Windows   638017669166337450   \n",
       "804671                1                Android  5744172173658921055   \n",
       "804672                0                Windows  9084225574121020383   \n",
       "804673                0                Windows  7951714705396524331   \n",
       "804674                0                Windows  4405127263201432739   \n",
       "804675                0                Windows  7274226662839541799   \n",
       "804676                1              (not set)  6040634167099043205   \n",
       "804677                1                Android  1759939701397302061   \n",
       "804678                1                Android  3103057346467377129   \n",
       "804679                0                Windows  9084225574121020383   \n",
       "804680                1                Android  6146210385566305056   \n",
       "804681                1                    iOS  7484543584006767361   \n",
       "804682                1                Android  2915966035609674201   \n",
       "804683                0                Windows  5334918847827785763   \n",
       "\n",
       "                      geoNetwork.city geoNetwork.continent geoNetwork.country  \\\n",
       "0                               Izmir                 Asia             Turkey   \n",
       "1       not available in demo dataset              Oceania          Australia   \n",
       "2                              Madrid               Europe              Spain   \n",
       "3       not available in demo dataset                 Asia          Indonesia   \n",
       "4       not available in demo dataset               Europe     United Kingdom   \n",
       "5       not available in demo dataset               Europe              Italy   \n",
       "6       not available in demo dataset                 Asia           Pakistan   \n",
       "7                            Brisbane              Oceania          Australia   \n",
       "8       not available in demo dataset               Europe            Austria   \n",
       "9       not available in demo dataset               Europe        Netherlands   \n",
       "10      not available in demo dataset                 Asia              India   \n",
       "11      not available in demo dataset               Europe             France   \n",
       "12                              Izmir                 Asia             Turkey   \n",
       "13                            Karachi                 Asia           Pakistan   \n",
       "14      not available in demo dataset             Americas             Brazil   \n",
       "15      not available in demo dataset                 Asia              China   \n",
       "16      not available in demo dataset               Europe        Netherlands   \n",
       "17                              Paris               Europe             France   \n",
       "18                          Singapore                 Asia          Singapore   \n",
       "19                       Buenos Aires             Americas          Argentina   \n",
       "20      not available in demo dataset               Europe             Poland   \n",
       "21                          (not set)               Europe            Germany   \n",
       "22      not available in demo dataset             Americas             Canada   \n",
       "23                            Bangkok                 Asia           Thailand   \n",
       "24                            Jakarta                 Asia          Indonesia   \n",
       "25      not available in demo dataset               Europe            Germany   \n",
       "26      not available in demo dataset               Europe             France   \n",
       "27      not available in demo dataset               Europe            Hungary   \n",
       "28                          Bengaluru                 Asia              India   \n",
       "29      not available in demo dataset                 Asia           Malaysia   \n",
       "...                               ...                  ...                ...   \n",
       "804654  not available in demo dataset                 Asia         Azerbaijan   \n",
       "804655  not available in demo dataset             Americas      United States   \n",
       "804656  not available in demo dataset                 Asia              India   \n",
       "804657  not available in demo dataset             Americas           Colombia   \n",
       "804658  not available in demo dataset                 Asia              India   \n",
       "804659  not available in demo dataset             Americas      United States   \n",
       "804660  not available in demo dataset               Europe             Greece   \n",
       "804661  not available in demo dataset             Americas             Brazil   \n",
       "804662  not available in demo dataset             Americas      United States   \n",
       "804663  not available in demo dataset               Europe             Norway   \n",
       "804664  not available in demo dataset                 Asia        South Korea   \n",
       "804665  not available in demo dataset               Europe            Germany   \n",
       "804666  not available in demo dataset                 Asia              Nepal   \n",
       "804667  not available in demo dataset             Americas             Canada   \n",
       "804668                    Los Angeles             Americas      United States   \n",
       "804669                        Chicago             Americas      United States   \n",
       "804670  not available in demo dataset                 Asia             Taiwan   \n",
       "804671  not available in demo dataset                 Asia               Iraq   \n",
       "804672                        Chicago             Americas      United States   \n",
       "804673                        Chennai                 Asia              India   \n",
       "804674  not available in demo dataset               Europe     United Kingdom   \n",
       "804675                           Kyiv               Europe            Ukraine   \n",
       "804676  not available in demo dataset                 Asia         Kazakhstan   \n",
       "804677  not available in demo dataset                 Asia       Saudi Arabia   \n",
       "804678                        Chicago             Americas      United States   \n",
       "804679                        Chicago             Americas      United States   \n",
       "804680  not available in demo dataset             Americas            Uruguay   \n",
       "804681  not available in demo dataset             Americas             Canada   \n",
       "804682                         Dublin               Europe            Ireland   \n",
       "804683  not available in demo dataset               Europe             Russia   \n",
       "\n",
       "         ...    trafficSource.adwordsClickInfo.isVideoAd  \\\n",
       "0        ...                                         NaN   \n",
       "1        ...                                         NaN   \n",
       "2        ...                                         NaN   \n",
       "3        ...                                         NaN   \n",
       "4        ...                                         NaN   \n",
       "5        ...                                         NaN   \n",
       "6        ...                                         NaN   \n",
       "7        ...                                         NaN   \n",
       "8        ...                                         NaN   \n",
       "9        ...                                         NaN   \n",
       "10       ...                                         NaN   \n",
       "11       ...                                         NaN   \n",
       "12       ...                                         NaN   \n",
       "13       ...                                         NaN   \n",
       "14       ...                                         NaN   \n",
       "15       ...                                         NaN   \n",
       "16       ...                                         NaN   \n",
       "17       ...                                         NaN   \n",
       "18       ...                                         NaN   \n",
       "19       ...                                         NaN   \n",
       "20       ...                                         NaN   \n",
       "21       ...                                         NaN   \n",
       "22       ...                                         NaN   \n",
       "23       ...                                         NaN   \n",
       "24       ...                                         NaN   \n",
       "25       ...                                         NaN   \n",
       "26       ...                                         NaN   \n",
       "27       ...                                         NaN   \n",
       "28       ...                                         NaN   \n",
       "29       ...                                         NaN   \n",
       "...      ...                                         ...   \n",
       "804654   ...                                         NaN   \n",
       "804655   ...                                         NaN   \n",
       "804656   ...                                         NaN   \n",
       "804657   ...                                         NaN   \n",
       "804658   ...                                         NaN   \n",
       "804659   ...                                         NaN   \n",
       "804660   ...                                         NaN   \n",
       "804661   ...                                         NaN   \n",
       "804662   ...                                         NaN   \n",
       "804663   ...                                         NaN   \n",
       "804664   ...                                         NaN   \n",
       "804665   ...                                         NaN   \n",
       "804666   ...                                         NaN   \n",
       "804667   ...                                         NaN   \n",
       "804668   ...                                         NaN   \n",
       "804669   ...                                         NaN   \n",
       "804670   ...                                         NaN   \n",
       "804671   ...                                         NaN   \n",
       "804672   ...                                         NaN   \n",
       "804673   ...                                         NaN   \n",
       "804674   ...                                         NaN   \n",
       "804675   ...                                         NaN   \n",
       "804676   ...                                         NaN   \n",
       "804677   ...                                         NaN   \n",
       "804678   ...                                         NaN   \n",
       "804679   ...                                         NaN   \n",
       "804680   ...                                         NaN   \n",
       "804681   ...                                         NaN   \n",
       "804682   ...                                         NaN   \n",
       "804683   ...                                         NaN   \n",
       "\n",
       "       trafficSource.adwordsClickInfo.page  \\\n",
       "0                                      NaN   \n",
       "1                                      NaN   \n",
       "2                                      NaN   \n",
       "3                                      NaN   \n",
       "4                                      NaN   \n",
       "5                                      NaN   \n",
       "6                                      NaN   \n",
       "7                                      NaN   \n",
       "8                                      NaN   \n",
       "9                                      NaN   \n",
       "10                                     NaN   \n",
       "11                                     NaN   \n",
       "12                                     NaN   \n",
       "13                                     NaN   \n",
       "14                                     NaN   \n",
       "15                                     NaN   \n",
       "16                                     NaN   \n",
       "17                                     NaN   \n",
       "18                                     NaN   \n",
       "19                                     NaN   \n",
       "20                                     NaN   \n",
       "21                                     NaN   \n",
       "22                                     NaN   \n",
       "23                                     NaN   \n",
       "24                                     NaN   \n",
       "25                                     NaN   \n",
       "26                                     NaN   \n",
       "27                                     NaN   \n",
       "28                                     NaN   \n",
       "29                                     NaN   \n",
       "...                                    ...   \n",
       "804654                                 NaN   \n",
       "804655                                 NaN   \n",
       "804656                                 NaN   \n",
       "804657                                 NaN   \n",
       "804658                                 NaN   \n",
       "804659                                 NaN   \n",
       "804660                                 NaN   \n",
       "804661                                 NaN   \n",
       "804662                                 NaN   \n",
       "804663                                 NaN   \n",
       "804664                                 NaN   \n",
       "804665                                 NaN   \n",
       "804666                                 NaN   \n",
       "804667                                 NaN   \n",
       "804668                                 NaN   \n",
       "804669                                 NaN   \n",
       "804670                                 NaN   \n",
       "804671                                 NaN   \n",
       "804672                                 NaN   \n",
       "804673                                 NaN   \n",
       "804674                                 NaN   \n",
       "804675                                 NaN   \n",
       "804676                                 NaN   \n",
       "804677                                 NaN   \n",
       "804678                                 NaN   \n",
       "804679                                 NaN   \n",
       "804680                                 NaN   \n",
       "804681                                 NaN   \n",
       "804682                                 NaN   \n",
       "804683                                 NaN   \n",
       "\n",
       "       trafficSource.adwordsClickInfo.slot trafficSource.campaign  \\\n",
       "0                                      NaN              (not set)   \n",
       "1                                      NaN              (not set)   \n",
       "2                                      NaN              (not set)   \n",
       "3                                      NaN              (not set)   \n",
       "4                                      NaN              (not set)   \n",
       "5                                      NaN              (not set)   \n",
       "6                                      NaN              (not set)   \n",
       "7                                      NaN              (not set)   \n",
       "8                                      NaN              (not set)   \n",
       "9                                      NaN              (not set)   \n",
       "10                                     NaN              (not set)   \n",
       "11                                     NaN              (not set)   \n",
       "12                                     NaN              (not set)   \n",
       "13                                     NaN              (not set)   \n",
       "14                                     NaN              (not set)   \n",
       "15                                     NaN              (not set)   \n",
       "16                                     NaN              (not set)   \n",
       "17                                     NaN              (not set)   \n",
       "18                                     NaN              (not set)   \n",
       "19                                     NaN              (not set)   \n",
       "20                                     NaN              (not set)   \n",
       "21                                     NaN              (not set)   \n",
       "22                                     NaN              (not set)   \n",
       "23                                     NaN              (not set)   \n",
       "24                                     NaN              (not set)   \n",
       "25                                     NaN              (not set)   \n",
       "26                                     NaN              (not set)   \n",
       "27                                     NaN              (not set)   \n",
       "28                                     NaN              (not set)   \n",
       "29                                     NaN              (not set)   \n",
       "...                                    ...                    ...   \n",
       "804654                                 NaN              (not set)   \n",
       "804655                                 NaN              (not set)   \n",
       "804656                                 NaN              (not set)   \n",
       "804657                                 NaN              (not set)   \n",
       "804658                                 NaN              (not set)   \n",
       "804659                                 NaN              (not set)   \n",
       "804660                                 NaN              (not set)   \n",
       "804661                                 NaN              (not set)   \n",
       "804662                                 NaN              (not set)   \n",
       "804663                                 NaN              (not set)   \n",
       "804664                                 NaN              (not set)   \n",
       "804665                                 NaN              (not set)   \n",
       "804666                                 NaN              (not set)   \n",
       "804667                                 NaN              (not set)   \n",
       "804668                                 NaN              (not set)   \n",
       "804669                                 NaN              (not set)   \n",
       "804670                                 NaN              (not set)   \n",
       "804671                                 NaN              (not set)   \n",
       "804672                                 NaN              (not set)   \n",
       "804673                                 NaN              (not set)   \n",
       "804674                                 NaN              (not set)   \n",
       "804675                                 NaN              (not set)   \n",
       "804676                                 NaN              (not set)   \n",
       "804677                                 NaN              (not set)   \n",
       "804678                                 NaN              (not set)   \n",
       "804679                                 NaN              (not set)   \n",
       "804680                                 NaN              (not set)   \n",
       "804681                                 NaN              (not set)   \n",
       "804682                                 NaN              (not set)   \n",
       "804683                                 NaN              (not set)   \n",
       "\n",
       "        trafficSource.isTrueDirect  trafficSource.keyword  \\\n",
       "0                              NaN         (not provided)   \n",
       "1                              NaN         (not provided)   \n",
       "2                              NaN         (not provided)   \n",
       "3                              NaN        google + online   \n",
       "4                             True         (not provided)   \n",
       "5                              NaN         (not provided)   \n",
       "6                              NaN         (not provided)   \n",
       "7                              NaN         (not provided)   \n",
       "8                              NaN         (not provided)   \n",
       "9                              NaN         (not provided)   \n",
       "10                             NaN         (not provided)   \n",
       "11                             NaN         (not provided)   \n",
       "12                             NaN         (not provided)   \n",
       "13                             NaN         (not provided)   \n",
       "14                             NaN         (not provided)   \n",
       "15                             NaN                    NaN   \n",
       "16                             NaN         (not provided)   \n",
       "17                             NaN         (not provided)   \n",
       "18                             NaN         (not provided)   \n",
       "19                             NaN         (not provided)   \n",
       "20                             NaN         (not provided)   \n",
       "21                             NaN                    NaN   \n",
       "22                             NaN         (not provided)   \n",
       "23                             NaN         (not provided)   \n",
       "24                             NaN         (not provided)   \n",
       "25                             NaN         (not provided)   \n",
       "26                             NaN         (not provided)   \n",
       "27                             NaN         (not provided)   \n",
       "28                             NaN                    NaN   \n",
       "29                             NaN         (not provided)   \n",
       "...                            ...                    ...   \n",
       "804654                        True                    NaN   \n",
       "804655                         NaN                    NaN   \n",
       "804656                         NaN                    NaN   \n",
       "804657                         NaN                    NaN   \n",
       "804658                         NaN                    NaN   \n",
       "804659                         NaN                    NaN   \n",
       "804660                         NaN                    NaN   \n",
       "804661                         NaN                    NaN   \n",
       "804662                         NaN                    NaN   \n",
       "804663                         NaN                    NaN   \n",
       "804664                         NaN                    NaN   \n",
       "804665                         NaN                    NaN   \n",
       "804666                         NaN                    NaN   \n",
       "804667                         NaN                    NaN   \n",
       "804668                         NaN                    NaN   \n",
       "804669                         NaN                    NaN   \n",
       "804670                         NaN                    NaN   \n",
       "804671                         NaN                    NaN   \n",
       "804672                         NaN                    NaN   \n",
       "804673                         NaN                    NaN   \n",
       "804674                         NaN                    NaN   \n",
       "804675                         NaN                    NaN   \n",
       "804676                         NaN                    NaN   \n",
       "804677                         NaN                    NaN   \n",
       "804678                         NaN                    NaN   \n",
       "804679                         NaN                    NaN   \n",
       "804680                         NaN                    NaN   \n",
       "804681                         NaN                    NaN   \n",
       "804682                         NaN                    NaN   \n",
       "804683                         NaN                    NaN   \n",
       "\n",
       "        trafficSource.medium       trafficSource.referralPath  \\\n",
       "0                    organic                              NaN   \n",
       "1                    organic                              NaN   \n",
       "2                    organic                              NaN   \n",
       "3                    organic                              NaN   \n",
       "4                    organic                              NaN   \n",
       "5                    organic                              NaN   \n",
       "6                    organic                              NaN   \n",
       "7                    organic                              NaN   \n",
       "8                    organic                              NaN   \n",
       "9                    organic                              NaN   \n",
       "10                   organic                              NaN   \n",
       "11                   organic                              NaN   \n",
       "12                   organic                              NaN   \n",
       "13                   organic                              NaN   \n",
       "14                   organic                              NaN   \n",
       "15                   organic                              NaN   \n",
       "16                   organic                              NaN   \n",
       "17                   organic                              NaN   \n",
       "18                   organic                              NaN   \n",
       "19                   organic                              NaN   \n",
       "20                   organic                              NaN   \n",
       "21                   organic                              NaN   \n",
       "22                   organic                              NaN   \n",
       "23                   organic                              NaN   \n",
       "24                   organic                              NaN   \n",
       "25                   organic                              NaN   \n",
       "26                   organic                              NaN   \n",
       "27                   organic                              NaN   \n",
       "28                  referral                                /   \n",
       "29                   organic                              NaN   \n",
       "...                      ...                              ...   \n",
       "804654              referral                      /yt/dev/tr/   \n",
       "804655              referral                        /yt/kids/   \n",
       "804656              referral                                /   \n",
       "804657              referral               /intl/es/yt/about/   \n",
       "804658              referral                                /   \n",
       "804659              referral                       /yt/about/   \n",
       "804660              referral     /intl/el/yt/about/copyright/   \n",
       "804661              referral   /intl/pt-BR/yt/about/policies/   \n",
       "804662              referral  /yt/creators/learn-and-connect/   \n",
       "804663              referral             /yt/music/index.html   \n",
       "804664              referral           /yt/creators/benefits/   \n",
       "804665              referral            /intl/de/yt/creators/   \n",
       "804666              referral              /yt/about/policies/   \n",
       "804667              referral       /yt/music/fr-CA/index.html   \n",
       "804668              referral             /yt/about/copyright/   \n",
       "804669              referral     /intl/en/yt/about/copyright/   \n",
       "804670              referral         /intl/zh-TW/yt/creators/   \n",
       "804671              referral           /intl/ar/yt/advertise/   \n",
       "804672              referral                 /yt/about/press/   \n",
       "804673              referral                                /   \n",
       "804674              referral         /intl/pl/yt/about/press/   \n",
       "804675              referral                    /yt/creators/   \n",
       "804676              referral       /yt/lineups/ru/france.html   \n",
       "804677              referral               /intl/ar/yt/about/   \n",
       "804678              referral              /yt/about/policies/   \n",
       "804679              referral               /intl/en/yt/about/   \n",
       "804680              referral        /yt/lineups/es/index.html   \n",
       "804681              referral                                /   \n",
       "804682              referral              /yt/about/policies/   \n",
       "804683              referral          /yt/music/ru/index.html   \n",
       "\n",
       "        trafficSource.source  weekday  \n",
       "0                     google        4  \n",
       "1                     google        4  \n",
       "2                     google        4  \n",
       "3                     google        4  \n",
       "4                     google        4  \n",
       "5                     google        4  \n",
       "6                     google        4  \n",
       "7                     google        4  \n",
       "8                     google        4  \n",
       "9                     google        4  \n",
       "10                    google        4  \n",
       "11                    google        4  \n",
       "12                    google        4  \n",
       "13                    google        4  \n",
       "14                    google        4  \n",
       "15                     baidu        4  \n",
       "16                    google        4  \n",
       "17                    google        4  \n",
       "18                    google        4  \n",
       "19                    google        4  \n",
       "20                    google        4  \n",
       "21                     baidu        4  \n",
       "22                    google        4  \n",
       "23                    google        4  \n",
       "24                    google        4  \n",
       "25                    google        4  \n",
       "26                    google        4  \n",
       "27                    google        4  \n",
       "28        googleweblight.com        4  \n",
       "29                    google        4  \n",
       "...                      ...      ...  \n",
       "804654           youtube.com        5  \n",
       "804655           youtube.com        5  \n",
       "804656           youtube.com        5  \n",
       "804657           youtube.com        5  \n",
       "804658           youtube.com        5  \n",
       "804659           youtube.com        5  \n",
       "804660           youtube.com        5  \n",
       "804661           youtube.com        5  \n",
       "804662           youtube.com        5  \n",
       "804663           youtube.com        5  \n",
       "804664           youtube.com        5  \n",
       "804665           youtube.com        5  \n",
       "804666           youtube.com        5  \n",
       "804667           youtube.com        5  \n",
       "804668           youtube.com        5  \n",
       "804669           youtube.com        5  \n",
       "804670           youtube.com        5  \n",
       "804671           youtube.com        5  \n",
       "804672           youtube.com        5  \n",
       "804673           youtube.com        5  \n",
       "804674           youtube.com        5  \n",
       "804675           youtube.com        5  \n",
       "804676           youtube.com        5  \n",
       "804677           youtube.com        5  \n",
       "804678           youtube.com        5  \n",
       "804679           youtube.com        5  \n",
       "804680           youtube.com        5  \n",
       "804681        m.facebook.com        5  \n",
       "804682           youtube.com        5  \n",
       "804683           youtube.com        5  \n",
       "\n",
       "[1708337 rows x 34 columns]"
      ]
     },
     "execution_count": 452,
     "metadata": {},
     "output_type": "execute_result"
    }
   ],
   "source": [
    "df_combi.replace('nan', np.nan)"
   ]
  },
  {
   "cell_type": "code",
   "execution_count": 453,
   "metadata": {},
   "outputs": [
    {
     "data": {
      "text/plain": [
       "channelGrouping                                       0\n",
       "device.browser                                        0\n",
       "device.deviceCategory                                 0\n",
       "device.operatingSystem                                0\n",
       "geoNetwork.city                                       0\n",
       "geoNetwork.continent                                  0\n",
       "geoNetwork.country                                    0\n",
       "geoNetwork.metro                                      0\n",
       "geoNetwork.networkDomain                              0\n",
       "geoNetwork.region                                     0\n",
       "geoNetwork.subContinent                               0\n",
       "trafficSource.adContent                         1643600\n",
       "trafficSource.adwordsClickInfo.adNetworkType    1633063\n",
       "trafficSource.adwordsClickInfo.gclId            1632914\n",
       "trafficSource.adwordsClickInfo.isVideoAd        1633063\n",
       "trafficSource.adwordsClickInfo.slot             1633063\n",
       "trafficSource.campaign                                0\n",
       "trafficSource.isTrueDirect                      1173819\n",
       "trafficSource.keyword                            893961\n",
       "trafficSource.medium                                  0\n",
       "trafficSource.referralPath                      1142073\n",
       "trafficSource.source                                  0\n",
       "dtype: int64"
      ]
     },
     "execution_count": 453,
     "metadata": {},
     "output_type": "execute_result"
    }
   ],
   "source": [
    "df_combi[categorical_columns].isnull().sum()"
   ]
  },
  {
   "cell_type": "code",
   "execution_count": 454,
   "metadata": {},
   "outputs": [
    {
     "data": {
      "text/plain": [
       "trafficSource.adwordsClickInfo.gclId            59008\n",
       "geoNetwork.networkDomain                        41982\n",
       "trafficSource.keyword                            5392\n",
       "trafficSource.referralPath                       3196\n",
       "geoNetwork.city                                   956\n",
       "trafficSource.source                              500\n",
       "geoNetwork.region                                 483\n",
       "geoNetwork.country                                228\n",
       "device.browser                                    129\n",
       "geoNetwork.metro                                  123\n",
       "trafficSource.adContent                            76\n",
       "trafficSource.campaign                             35\n",
       "device.operatingSystem                             24\n",
       "geoNetwork.subContinent                            23\n",
       "channelGrouping                                     8\n",
       "trafficSource.medium                                7\n",
       "geoNetwork.continent                                6\n",
       "trafficSource.adwordsClickInfo.adNetworkType        3\n",
       "trafficSource.adwordsClickInfo.slot                 3\n",
       "device.deviceCategory                               3\n",
       "trafficSource.adwordsClickInfo.isVideoAd            1\n",
       "trafficSource.isTrueDirect                          1\n",
       "dtype: int64"
      ]
     },
     "execution_count": 454,
     "metadata": {},
     "output_type": "execute_result"
    }
   ],
   "source": [
    "df_combi[categorical_columns].nunique().sort_values(ascending=False)"
   ]
  },
  {
   "cell_type": "code",
   "execution_count": 455,
   "metadata": {},
   "outputs": [
    {
     "data": {
      "text/plain": [
       "(1708337, 34)"
      ]
     },
     "execution_count": 455,
     "metadata": {},
     "output_type": "execute_result"
    }
   ],
   "source": [
    "df_combi.shape"
   ]
  },
  {
   "cell_type": "code",
   "execution_count": null,
   "metadata": {},
   "outputs": [],
   "source": []
  },
  {
   "cell_type": "code",
   "execution_count": 456,
   "metadata": {},
   "outputs": [],
   "source": [
    "small_cols = ['channelGrouping','trafficSource.medium','geoNetwork.continent','trafficSource.adwordsClickInfo.adNetworkType','trafficSource.adwordsClickInfo.slot',                 \n",
    "'device.deviceCategory','trafficSource.adwordsClickInfo.isVideoAd','trafficSource.isTrueDirect']"
   ]
  },
  {
   "cell_type": "code",
   "execution_count": 457,
   "metadata": {},
   "outputs": [
    {
     "data": {
      "text/plain": [
       "channelGrouping                                       0\n",
       "trafficSource.medium                                  0\n",
       "geoNetwork.continent                                  0\n",
       "trafficSource.adwordsClickInfo.adNetworkType    1633063\n",
       "trafficSource.adwordsClickInfo.slot             1633063\n",
       "device.deviceCategory                                 0\n",
       "trafficSource.adwordsClickInfo.isVideoAd        1633063\n",
       "trafficSource.isTrueDirect                      1173819\n",
       "dtype: int64"
      ]
     },
     "execution_count": 457,
     "metadata": {},
     "output_type": "execute_result"
    }
   ],
   "source": [
    "df_combi[small_cols].isnull().sum()"
   ]
  },
  {
   "cell_type": "code",
   "execution_count": null,
   "metadata": {},
   "outputs": [],
   "source": []
  },
  {
   "cell_type": "code",
   "execution_count": 458,
   "metadata": {},
   "outputs": [],
   "source": [
    "small_columns = pd.get_dummies(df_combi[small_cols])"
   ]
  },
  {
   "cell_type": "code",
   "execution_count": 459,
   "metadata": {},
   "outputs": [
    {
     "data": {
      "text/plain": [
       "(1708337, 32)"
      ]
     },
     "execution_count": 459,
     "metadata": {},
     "output_type": "execute_result"
    }
   ],
   "source": [
    "small_columns.shape"
   ]
  },
  {
   "cell_type": "code",
   "execution_count": 460,
   "metadata": {},
   "outputs": [
    {
     "data": {
      "text/plain": [
       "(1708337, 34)"
      ]
     },
     "execution_count": 460,
     "metadata": {},
     "output_type": "execute_result"
    }
   ],
   "source": [
    "df_combi.shape"
   ]
  },
  {
   "cell_type": "code",
   "execution_count": 461,
   "metadata": {},
   "outputs": [],
   "source": [
    "df_combi = pd.concat([df_combi,small_columns],axis=1)"
   ]
  },
  {
   "cell_type": "code",
   "execution_count": 462,
   "metadata": {},
   "outputs": [],
   "source": [
    "df_combi = df_combi.drop(small_cols,axis=1)"
   ]
  },
  {
   "cell_type": "code",
   "execution_count": 463,
   "metadata": {},
   "outputs": [
    {
     "data": {
      "text/plain": [
       "(1708337, 58)"
      ]
     },
     "execution_count": 463,
     "metadata": {},
     "output_type": "execute_result"
    }
   ],
   "source": [
    "df_combi.shape"
   ]
  },
  {
   "cell_type": "code",
   "execution_count": 464,
   "metadata": {},
   "outputs": [
    {
     "data": {
      "text/plain": [
       "['channelGrouping',\n",
       " 'device.browser',\n",
       " 'device.deviceCategory',\n",
       " 'device.operatingSystem',\n",
       " 'geoNetwork.city',\n",
       " 'geoNetwork.continent',\n",
       " 'geoNetwork.country',\n",
       " 'geoNetwork.metro',\n",
       " 'geoNetwork.networkDomain',\n",
       " 'geoNetwork.region',\n",
       " 'geoNetwork.subContinent',\n",
       " 'trafficSource.adContent',\n",
       " 'trafficSource.adwordsClickInfo.adNetworkType',\n",
       " 'trafficSource.adwordsClickInfo.gclId',\n",
       " 'trafficSource.adwordsClickInfo.isVideoAd',\n",
       " 'trafficSource.adwordsClickInfo.slot',\n",
       " 'trafficSource.campaign',\n",
       " 'trafficSource.isTrueDirect',\n",
       " 'trafficSource.keyword',\n",
       " 'trafficSource.medium',\n",
       " 'trafficSource.referralPath',\n",
       " 'trafficSource.source']"
      ]
     },
     "execution_count": 464,
     "metadata": {},
     "output_type": "execute_result"
    }
   ],
   "source": [
    "categorical_columns"
   ]
  },
  {
   "cell_type": "code",
   "execution_count": 465,
   "metadata": {},
   "outputs": [
    {
     "data": {
      "text/plain": [
       "['channelGrouping',\n",
       " 'trafficSource.medium',\n",
       " 'geoNetwork.continent',\n",
       " 'trafficSource.adwordsClickInfo.adNetworkType',\n",
       " 'trafficSource.adwordsClickInfo.slot',\n",
       " 'device.deviceCategory',\n",
       " 'trafficSource.adwordsClickInfo.isVideoAd',\n",
       " 'trafficSource.isTrueDirect']"
      ]
     },
     "execution_count": 465,
     "metadata": {},
     "output_type": "execute_result"
    }
   ],
   "source": [
    "small_cols"
   ]
  },
  {
   "cell_type": "code",
   "execution_count": 466,
   "metadata": {},
   "outputs": [],
   "source": [
    "large_cols = list(set(categorical_columns)-set(small_cols))"
   ]
  },
  {
   "cell_type": "code",
   "execution_count": 467,
   "metadata": {},
   "outputs": [
    {
     "data": {
      "text/plain": [
       "(1708337, 14)"
      ]
     },
     "execution_count": 467,
     "metadata": {},
     "output_type": "execute_result"
    }
   ],
   "source": [
    "df_combi[large_cols].shape\n"
   ]
  },
  {
   "cell_type": "code",
   "execution_count": 468,
   "metadata": {},
   "outputs": [
    {
     "data": {
      "text/plain": [
       "device.operatingSystem                        0\n",
       "trafficSource.source                          0\n",
       "geoNetwork.region                             0\n",
       "trafficSource.keyword                    893961\n",
       "geoNetwork.city                               0\n",
       "trafficSource.campaign                        0\n",
       "geoNetwork.subContinent                       0\n",
       "geoNetwork.networkDomain                      0\n",
       "device.browser                                0\n",
       "geoNetwork.country                            0\n",
       "trafficSource.adContent                 1643600\n",
       "geoNetwork.metro                              0\n",
       "trafficSource.adwordsClickInfo.gclId    1632914\n",
       "trafficSource.referralPath              1142073\n",
       "dtype: int64"
      ]
     },
     "execution_count": 468,
     "metadata": {},
     "output_type": "execute_result"
    }
   ],
   "source": [
    "df_combi[large_cols].isnull().sum()\n"
   ]
  },
  {
   "cell_type": "code",
   "execution_count": 469,
   "metadata": {},
   "outputs": [
    {
     "data": {
      "text/plain": [
       "['device.operatingSystem',\n",
       " 'trafficSource.source',\n",
       " 'geoNetwork.region',\n",
       " 'trafficSource.keyword',\n",
       " 'geoNetwork.city',\n",
       " 'trafficSource.campaign',\n",
       " 'geoNetwork.subContinent',\n",
       " 'geoNetwork.networkDomain',\n",
       " 'device.browser',\n",
       " 'geoNetwork.country',\n",
       " 'trafficSource.adContent',\n",
       " 'geoNetwork.metro',\n",
       " 'trafficSource.adwordsClickInfo.gclId',\n",
       " 'trafficSource.referralPath']"
      ]
     },
     "execution_count": 469,
     "metadata": {},
     "output_type": "execute_result"
    }
   ],
   "source": [
    "large_cols"
   ]
  },
  {
   "cell_type": "code",
   "execution_count": 470,
   "metadata": {},
   "outputs": [],
   "source": [
    "large_cols = list(set(large_cols)-set(['trafficSource.adwordsClickInfo.gclId']))"
   ]
  },
  {
   "cell_type": "code",
   "execution_count": 471,
   "metadata": {},
   "outputs": [
    {
     "data": {
      "text/plain": [
       "(1708337, 13)"
      ]
     },
     "execution_count": 471,
     "metadata": {},
     "output_type": "execute_result"
    }
   ],
   "source": [
    "df_combi[large_cols].shape\n"
   ]
  },
  {
   "cell_type": "code",
   "execution_count": 472,
   "metadata": {},
   "outputs": [],
   "source": [
    "df_combi['browser'] = np.where(df_combi['device.browser'].isin(['Chrome', 'Safari', 'Firefox', 'Internet Explorer', 'Android Webview','Edge', 'Samsung Internet', 'Opera Mini']),df_combi['device.browser'],'None')"
   ]
  },
  {
   "cell_type": "code",
   "execution_count": 473,
   "metadata": {},
   "outputs": [],
   "source": [
    "df_combi = df_combi.drop('device.browser',axis=1)"
   ]
  },
  {
   "cell_type": "code",
   "execution_count": 474,
   "metadata": {},
   "outputs": [
    {
     "data": {
      "text/plain": [
       "Index(['Windows', 'Macintosh', 'Android', 'iOS', 'Linux', 'Chrome OS',\n",
       "       '(not set)', 'Windows Phone'],\n",
       "      dtype='object')"
      ]
     },
     "execution_count": 474,
     "metadata": {},
     "output_type": "execute_result"
    }
   ],
   "source": [
    "df_combi['device.operatingSystem'].value_counts().head(8).index"
   ]
  },
  {
   "cell_type": "code",
   "execution_count": 475,
   "metadata": {},
   "outputs": [],
   "source": [
    "df_combi['os'] = np.where(df_combi['device.operatingSystem'].isin(['Windows', 'Macintosh', 'Android', 'iOS', 'Linux']),df_combi['device.operatingSystem'],'None')"
   ]
  },
  {
   "cell_type": "code",
   "execution_count": 476,
   "metadata": {},
   "outputs": [],
   "source": [
    "df_combi = df_combi.drop('device.operatingSystem',axis=1)"
   ]
  },
  {
   "cell_type": "code",
   "execution_count": 477,
   "metadata": {},
   "outputs": [],
   "source": [
    "def onehot(df):\n",
    "    br = pd.get_dummies(df['browser'])\n",
    "    osystem = pd.get_dummies(df['os'])\n",
    "    \n",
    "    df = pd.concat([df,br],axis=1)\n",
    "    df = pd.concat([df,osystem],axis=1)\n",
    "    \n",
    "    df = df.drop('browser',axis=1)\n",
    "    df = df.drop('os',axis=1)\n",
    "    \n",
    "    return df"
   ]
  },
  {
   "cell_type": "code",
   "execution_count": null,
   "metadata": {},
   "outputs": [],
   "source": []
  },
  {
   "cell_type": "code",
   "execution_count": null,
   "metadata": {},
   "outputs": [],
   "source": []
  },
  {
   "cell_type": "code",
   "execution_count": 478,
   "metadata": {},
   "outputs": [],
   "source": [
    "df_combi = onehot(df_combi)"
   ]
  },
  {
   "cell_type": "code",
   "execution_count": 479,
   "metadata": {},
   "outputs": [
    {
     "data": {
      "text/plain": [
       "Index(['day', 'device.isMobile', 'fullVisitorId', 'geoNetwork.city',\n",
       "       'geoNetwork.country', 'geoNetwork.metro', 'geoNetwork.networkDomain',\n",
       "       'geoNetwork.region', 'geoNetwork.subContinent', 'holiday_var', 'month',\n",
       "       'totals.bounces', 'totals.hits', 'totals.newVisits', 'totals.pageviews',\n",
       "       'totals.transactionRevenue', 'trafficSource.adContent',\n",
       "       'trafficSource.adwordsClickInfo.gclId',\n",
       "       'trafficSource.adwordsClickInfo.page', 'trafficSource.campaign',\n",
       "       'trafficSource.keyword', 'trafficSource.referralPath',\n",
       "       'trafficSource.source', 'weekday', 'channelGrouping_(Other)',\n",
       "       'channelGrouping_Affiliates', 'channelGrouping_Direct',\n",
       "       'channelGrouping_Display', 'channelGrouping_Organic Search',\n",
       "       'channelGrouping_Paid Search', 'channelGrouping_Referral',\n",
       "       'channelGrouping_Social', 'trafficSource.medium_(none)',\n",
       "       'trafficSource.medium_(not set)', 'trafficSource.medium_affiliate',\n",
       "       'trafficSource.medium_cpc', 'trafficSource.medium_cpm',\n",
       "       'trafficSource.medium_organic', 'trafficSource.medium_referral',\n",
       "       'geoNetwork.continent_(not set)', 'geoNetwork.continent_Africa',\n",
       "       'geoNetwork.continent_Americas', 'geoNetwork.continent_Asia',\n",
       "       'geoNetwork.continent_Europe', 'geoNetwork.continent_Oceania',\n",
       "       'trafficSource.adwordsClickInfo.adNetworkType_Content',\n",
       "       'trafficSource.adwordsClickInfo.adNetworkType_Google Search',\n",
       "       'trafficSource.adwordsClickInfo.adNetworkType_Search partners',\n",
       "       'trafficSource.adwordsClickInfo.slot_Google Display Network',\n",
       "       'trafficSource.adwordsClickInfo.slot_RHS',\n",
       "       'trafficSource.adwordsClickInfo.slot_Top',\n",
       "       'device.deviceCategory_desktop', 'device.deviceCategory_mobile',\n",
       "       'device.deviceCategory_tablet',\n",
       "       'trafficSource.adwordsClickInfo.isVideoAd_False',\n",
       "       'trafficSource.isTrueDirect_True', 'Android Webview', 'Chrome', 'Edge',\n",
       "       'Firefox', 'Internet Explorer', 'None', 'Opera Mini', 'Safari',\n",
       "       'Samsung Internet', 'Android', 'Linux', 'Macintosh', 'None', 'Windows',\n",
       "       'iOS'],\n",
       "      dtype='object')"
      ]
     },
     "execution_count": 479,
     "metadata": {},
     "output_type": "execute_result"
    }
   ],
   "source": [
    "df_combi.columns"
   ]
  },
  {
   "cell_type": "code",
   "execution_count": 480,
   "metadata": {},
   "outputs": [],
   "source": [
    "df_combi = df_combi.drop('trafficSource.adContent',axis=1)"
   ]
  },
  {
   "cell_type": "code",
   "execution_count": 481,
   "metadata": {},
   "outputs": [],
   "source": [
    "large_cols = list(set(large_cols)-set(['device.operatingSystem','device.browser']))"
   ]
  },
  {
   "cell_type": "code",
   "execution_count": 482,
   "metadata": {},
   "outputs": [],
   "source": [
    "large_cols = list(set(large_cols) - set(['trafficSource.adContent']))"
   ]
  },
  {
   "cell_type": "code",
   "execution_count": 483,
   "metadata": {},
   "outputs": [
    {
     "data": {
      "text/plain": [
       "['trafficSource.source',\n",
       " 'geoNetwork.region',\n",
       " 'trafficSource.campaign',\n",
       " 'geoNetwork.city',\n",
       " 'geoNetwork.networkDomain',\n",
       " 'geoNetwork.subContinent',\n",
       " 'geoNetwork.country',\n",
       " 'trafficSource.keyword',\n",
       " 'geoNetwork.metro',\n",
       " 'trafficSource.referralPath']"
      ]
     },
     "execution_count": 483,
     "metadata": {},
     "output_type": "execute_result"
    }
   ],
   "source": [
    "large_cols"
   ]
  },
  {
   "cell_type": "code",
   "execution_count": 484,
   "metadata": {},
   "outputs": [],
   "source": [
    "df_combi = df_combi.drop('trafficSource.referralPath',axis=1)"
   ]
  },
  {
   "cell_type": "code",
   "execution_count": 485,
   "metadata": {},
   "outputs": [],
   "source": [
    "large_cols = list(set(large_cols) - set(['trafficSource.referralPath']))"
   ]
  },
  {
   "cell_type": "code",
   "execution_count": 486,
   "metadata": {},
   "outputs": [
    {
     "data": {
      "text/plain": [
       "trafficSource.source             0\n",
       "geoNetwork.region                0\n",
       "geoNetwork.city                  0\n",
       "trafficSource.campaign           0\n",
       "geoNetwork.networkDomain         0\n",
       "geoNetwork.subContinent          0\n",
       "geoNetwork.country               0\n",
       "trafficSource.keyword       893961\n",
       "geoNetwork.metro                 0\n",
       "dtype: int64"
      ]
     },
     "execution_count": 486,
     "metadata": {},
     "output_type": "execute_result"
    }
   ],
   "source": [
    "df_combi[large_cols].isnull().sum()"
   ]
  },
  {
   "cell_type": "code",
   "execution_count": 487,
   "metadata": {},
   "outputs": [],
   "source": [
    "df_combi['trafficSource.keyword'] = np.where(df_combi['trafficSource.keyword'] != '(not provided)',0,1)"
   ]
  },
  {
   "cell_type": "code",
   "execution_count": 488,
   "metadata": {},
   "outputs": [],
   "source": [
    "large_cols = list(set(large_cols) - set(['trafficSource.keyword']))"
   ]
  },
  {
   "cell_type": "code",
   "execution_count": 489,
   "metadata": {},
   "outputs": [
    {
     "data": {
      "text/plain": [
       "['trafficSource.source',\n",
       " 'geoNetwork.region',\n",
       " 'trafficSource.campaign',\n",
       " 'geoNetwork.city',\n",
       " 'geoNetwork.networkDomain',\n",
       " 'geoNetwork.subContinent',\n",
       " 'geoNetwork.country',\n",
       " 'geoNetwork.metro']"
      ]
     },
     "execution_count": 489,
     "metadata": {},
     "output_type": "execute_result"
    }
   ],
   "source": [
    "large_cols"
   ]
  },
  {
   "cell_type": "code",
   "execution_count": 490,
   "metadata": {},
   "outputs": [
    {
     "data": {
      "text/plain": [
       "trafficSource.source          500\n",
       "geoNetwork.region             483\n",
       "trafficSource.campaign         35\n",
       "geoNetwork.city               956\n",
       "geoNetwork.networkDomain    41982\n",
       "geoNetwork.subContinent        23\n",
       "geoNetwork.country            228\n",
       "geoNetwork.metro              123\n",
       "dtype: int64"
      ]
     },
     "execution_count": 490,
     "metadata": {},
     "output_type": "execute_result"
    }
   ],
   "source": [
    "df_combi[large_cols].nunique()"
   ]
  },
  {
   "cell_type": "code",
   "execution_count": 500,
   "metadata": {},
   "outputs": [],
   "source": [
    "df_combi['totals.transactionRevenue'] = df_combi['totals.transactionRevenue'].fillna(0.0)"
   ]
  },
  {
   "cell_type": "code",
   "execution_count": 503,
   "metadata": {},
   "outputs": [],
   "source": [
    "df_combi['totals.transactionRevenue'] = df_combi['totals.transactionRevenue'].astype(float)"
   ]
  },
  {
   "cell_type": "code",
   "execution_count": 504,
   "metadata": {},
   "outputs": [
    {
     "data": {
      "text/plain": [
       "dtype('O')"
      ]
     },
     "execution_count": 504,
     "metadata": {},
     "output_type": "execute_result"
    }
   ],
   "source": [
    "df_combi['fullVisitorId'].dtypes"
   ]
  },
  {
   "cell_type": "code",
   "execution_count": 505,
   "metadata": {},
   "outputs": [
    {
     "data": {
      "text/plain": [
       "geoNetwork.subContinent\n",
       "Polynesia             0.000000\n",
       "Middle Africa         0.000000\n",
       "Micronesian Region    0.000000\n",
       "Melanesia             0.000000\n",
       "Central Asia          0.000023\n",
       "Northern Africa       0.000033\n",
       "Southern Africa       0.000043\n",
       "Southern Asia         0.000490\n",
       "(not set)             0.000500\n",
       "Eastern Europe        0.000615\n",
       "Southern Europe       0.000626\n",
       "Caribbean             0.001015\n",
       "Western Asia          0.001156\n",
       "Australasia           0.001164\n",
       "Central America       0.001237\n",
       "Northern Europe       0.001295\n",
       "Western Europe        0.001846\n",
       "Western Africa        0.002144\n",
       "Southeast Asia        0.002439\n",
       "Eastern Africa        0.003421\n",
       "Eastern Asia          0.007191\n",
       "South America         0.010348\n",
       "Northern America      0.964413\n",
       "Name: totals.transactionRevenue, dtype: float64"
      ]
     },
     "execution_count": 505,
     "metadata": {},
     "output_type": "execute_result"
    }
   ],
   "source": [
    "df_combi.groupby(['geoNetwork.subContinent'])['totals.transactionRevenue'].sum().sort_values()/df_combi.groupby(['geoNetwork.subContinent'])['totals.transactionRevenue'].sum().sort_values().sum()"
   ]
  },
  {
   "cell_type": "code",
   "execution_count": 506,
   "metadata": {},
   "outputs": [],
   "source": [
    "df_combi['geoNetwork.subContinent'] = np.where(df_combi['geoNetwork.subContinent'] != 'Northern America',0,1)"
   ]
  },
  {
   "cell_type": "code",
   "execution_count": 507,
   "metadata": {},
   "outputs": [
    {
     "data": {
      "text/plain": [
       "geoNetwork.networkDomain\n",
       "lego.com                   0.000000\n",
       "parkalgar.com              0.000000\n",
       "parkbilling.com            0.000000\n",
       "parkchambers.co.nz         0.000000\n",
       "parkcity.ne.jp             0.000000\n",
       "parkdns.work               0.000000\n",
       "parkhillgroup.com          0.000000\n",
       "parking-page.net           0.000000\n",
       "park2000.co.za             0.000000\n",
       "parkinson-spencer.co.uk    0.000000\n",
       "parkland.edu               0.000000\n",
       "parklandsd.org             0.000000\n",
       "parklink.com               0.000000\n",
       "parknet.com                0.000000\n",
       "parknet.dk                 0.000000\n",
       "parknicollet.com           0.000000\n",
       "parkpost.tv                0.000000\n",
       "parkinsonalberta.ca        0.000000\n",
       "parkroyalstudios.com       0.000000\n",
       "park.se                    0.000000\n",
       "park-web.net               0.000000\n",
       "paraiso-peru.com           0.000000\n",
       "paraisopolis.com.br        0.000000\n",
       "paramatrix.co.in           0.000000\n",
       "paramountgroup.co.za       0.000000\n",
       "paranaweb.com.br           0.000000\n",
       "parbo.net                  0.000000\n",
       "pardosbenavides.com        0.000000\n",
       "park.by                    0.000000\n",
       "parera-co.com              0.000000\n",
       "                             ...   \n",
       "gfs.com                    0.001536\n",
       "stateauto.com              0.001647\n",
       "cogentco.com               0.002083\n",
       "wananchi.com               0.002123\n",
       "ocn.ne.jp                  0.002237\n",
       "suddenlink.net             0.002317\n",
       "att.net                    0.002385\n",
       "com                        0.002607\n",
       "digitalwest.net            0.002780\n",
       "twtelecom.net              0.003177\n",
       "wayport.net                0.003602\n",
       "nuvox.net                  0.004304\n",
       "embarqhsd.net              0.004923\n",
       "nielsenmedia.com           0.004960\n",
       "ztomy.com                  0.005110\n",
       "rcn.com                    0.005181\n",
       "rogers.com                 0.005272\n",
       "telepacific.net            0.005303\n",
       "qwest.net                  0.006806\n",
       "cantv.net                  0.007763\n",
       "bhn.net                    0.008120\n",
       "optonline.net              0.009243\n",
       "sbcglobal.net              0.011356\n",
       "cox.net                    0.013487\n",
       "rr.com                     0.019565\n",
       "unknown.unknown            0.022662\n",
       "verizon.net                0.034361\n",
       "comcast.net                0.079977\n",
       "comcastbusiness.net        0.094896\n",
       "(not set)                  0.550795\n",
       "Name: totals.transactionRevenue, Length: 41982, dtype: float64"
      ]
     },
     "execution_count": 507,
     "metadata": {},
     "output_type": "execute_result"
    }
   ],
   "source": [
    "df_combi.groupby(['geoNetwork.networkDomain'])['totals.transactionRevenue'].sum().sort_values()/df_combi.groupby(['geoNetwork.networkDomain'])['totals.transactionRevenue'].sum().sort_values().sum()"
   ]
  },
  {
   "cell_type": "code",
   "execution_count": 508,
   "metadata": {},
   "outputs": [],
   "source": [
    "df_combi['geoNetwork.networkDomain'] = np.where(df_combi['geoNetwork.networkDomain'] != '(not set)',0,1)"
   ]
  },
  {
   "cell_type": "code",
   "execution_count": 509,
   "metadata": {},
   "outputs": [
    {
     "data": {
      "text/plain": [
       "geoNetwork.city\n",
       "'s Hertogenbosch                 0.000000\n",
       "Nuremberg                        0.000000\n",
       "Ocala                            0.000000\n",
       "Odense                           0.000000\n",
       "Odessa                           0.000000\n",
       "Oegstgeest                       0.000000\n",
       "Okemos                           0.000000\n",
       "Oklahoma City                    0.000000\n",
       "Olomouc                          0.000000\n",
       "Oneonta                          0.000000\n",
       "Or Yehuda                        0.000000\n",
       "Oradea                           0.000000\n",
       "Orebro                           0.000000\n",
       "Orem                             0.000000\n",
       "Orihuela                         0.000000\n",
       "Orleans                          0.000000\n",
       "Osaka                            0.000000\n",
       "Oshkosh                          0.000000\n",
       "Osijek                           0.000000\n",
       "Oslo                             0.000000\n",
       "Oslo Municipality                0.000000\n",
       "Ostrava                          0.000000\n",
       "Ota                              0.000000\n",
       "Ottignies-Louvain-la-Neuve       0.000000\n",
       "Nuevo Laredo                     0.000000\n",
       "Nottingham                       0.000000\n",
       "Norwich                          0.000000\n",
       "North Vancouver                  0.000000\n",
       "Naucalpan                        0.000000\n",
       "Navi Mumbai                      0.000000\n",
       "                                   ...   \n",
       "Milpitas                         0.001078\n",
       "Pittsburgh                       0.001341\n",
       "Phoenix                          0.001376\n",
       "Nashville                        0.001542\n",
       "Minato                           0.002276\n",
       "Palo Alto                        0.002288\n",
       "San Diego                        0.002386\n",
       "(not set)                        0.002828\n",
       "Houston                          0.003540\n",
       "Maracaibo                        0.003576\n",
       "Kirkland                         0.004835\n",
       "Santa Clara                      0.005456\n",
       "Irvine                           0.005829\n",
       "Washington                       0.006890\n",
       "San Bruno                        0.009768\n",
       "Toronto                          0.010793\n",
       "Atlanta                          0.011351\n",
       "San Jose                         0.012161\n",
       "Austin                           0.013509\n",
       "Cambridge                        0.013740\n",
       "Salem                            0.014360\n",
       "Ann Arbor                        0.017322\n",
       "Seattle                          0.017526\n",
       "Sunnyvale                        0.025579\n",
       "Los Angeles                      0.027204\n",
       "Chicago                          0.047306\n",
       "San Francisco                    0.065500\n",
       "Mountain View                    0.081882\n",
       "New York                         0.142944\n",
       "not available in demo dataset    0.419566\n",
       "Name: totals.transactionRevenue, Length: 956, dtype: float64"
      ]
     },
     "execution_count": 509,
     "metadata": {},
     "output_type": "execute_result"
    }
   ],
   "source": [
    "df_combi.groupby(['geoNetwork.city'])['totals.transactionRevenue'].sum().sort_values()/df_combi.groupby(['geoNetwork.city'])['totals.transactionRevenue'].sum().sort_values().sum()"
   ]
  },
  {
   "cell_type": "code",
   "execution_count": null,
   "metadata": {},
   "outputs": [],
   "source": []
  },
  {
   "cell_type": "code",
   "execution_count": 510,
   "metadata": {},
   "outputs": [],
   "source": [
    "def city(fx):\n",
    "    if fx=='not available in demo dataset':\n",
    "        fx=0\n",
    "    elif fx=='New York':\n",
    "        fx=1\n",
    "    else:\n",
    "        fx=2\n",
    "    return fx"
   ]
  },
  {
   "cell_type": "code",
   "execution_count": 511,
   "metadata": {},
   "outputs": [],
   "source": [
    "df_combi['geoNetwork.city'] = df_combi['geoNetwork.city'].apply(city)"
   ]
  },
  {
   "cell_type": "code",
   "execution_count": 512,
   "metadata": {},
   "outputs": [
    {
     "data": {
      "text/plain": [
       "geoNetwork.region\n",
       "Malacca                          0.000000\n",
       "Pays de la Loire                 0.000000\n",
       "Pathum Thani                     0.000000\n",
       "Panama                           0.000000\n",
       "Overijssel                       0.000000\n",
       "Ouest Department                 0.000000\n",
       "Oslo                             0.000000\n",
       "Osijek-Baranja County            0.000000\n",
       "Osaka Prefecture                 0.000000\n",
       "Orebro County                    0.000000\n",
       "Oran Province                    0.000000\n",
       "West Virginia                    0.000000\n",
       "Olomouc Region                   0.000000\n",
       "Oklahoma                         0.000000\n",
       "Okinawa Prefecture               0.000000\n",
       "Odisha                           0.000000\n",
       "Odessa Oblast                    0.000000\n",
       "Occitanie                        0.000000\n",
       "Nuevo Leon                       0.000000\n",
       "Nouvelle-Aquitaine               0.000000\n",
       "Northern Ireland                 0.000000\n",
       "North Sumatra                    0.000000\n",
       "North Rhine-Westphalia           0.000000\n",
       "North Denmark Region             0.000000\n",
       "Pazardzik                        0.000000\n",
       "North Brabant                    0.000000\n",
       "Perak                            0.000000\n",
       "Phitsanulok                      0.000000\n",
       "Rayong                           0.000000\n",
       "Rajasthan                        0.000000\n",
       "                                   ...   \n",
       "Seoul                            0.000361\n",
       "State of Sao Paulo               0.000365\n",
       "New South Wales                  0.000424\n",
       "Victoria                         0.000506\n",
       "Alberta                          0.000570\n",
       "Mexico City                      0.000578\n",
       "New Jersey                       0.000763\n",
       "Oregon                           0.000766\n",
       "Jakarta                          0.000859\n",
       "England                          0.000948\n",
       "North Carolina                   0.000981\n",
       "Arizona                          0.001450\n",
       "Tennessee                        0.001542\n",
       "Pennsylvania                     0.002165\n",
       "Tokyo                            0.002276\n",
       "Colorado                         0.002312\n",
       "(not set)                        0.003447\n",
       "Zulia                            0.003576\n",
       "District of Columbia             0.006890\n",
       "Ontario                          0.010948\n",
       "Georgia                          0.011408\n",
       "Virginia                         0.014360\n",
       "Massachusetts                    0.014862\n",
       "Michigan                         0.017336\n",
       "Texas                            0.018609\n",
       "Washington                       0.022843\n",
       "Illinois                         0.047344\n",
       "New York                         0.142955\n",
       "California                       0.243819\n",
       "not available in demo dataset    0.419566\n",
       "Name: totals.transactionRevenue, Length: 483, dtype: float64"
      ]
     },
     "execution_count": 512,
     "metadata": {},
     "output_type": "execute_result"
    }
   ],
   "source": [
    "df_combi.groupby(['geoNetwork.region'])['totals.transactionRevenue'].sum().sort_values()/df_combi.groupby(['geoNetwork.region'])['totals.transactionRevenue'].sum().sort_values().sum()"
   ]
  },
  {
   "cell_type": "code",
   "execution_count": 513,
   "metadata": {},
   "outputs": [],
   "source": [
    "def region(fx):\n",
    "    if fx=='not available in demo dataset':\n",
    "        fx=0\n",
    "    elif fx=='California':\n",
    "        fx=1\n",
    "    elif fx=='New York':\n",
    "        fx=2\n",
    "    else:\n",
    "        fx=3\n",
    "    return fx"
   ]
  },
  {
   "cell_type": "code",
   "execution_count": 514,
   "metadata": {},
   "outputs": [],
   "source": [
    "df_combi['geoNetwork.region'] = df_combi['geoNetwork.region'].apply(region)"
   ]
  },
  {
   "cell_type": "code",
   "execution_count": 515,
   "metadata": {},
   "outputs": [
    {
     "data": {
      "text/plain": [
       "trafficSource.campaign\n",
       "\"google + redesign/Accessories March 17\" 1 Day                          0.000000\n",
       "Technology/Technophiles                                                 0.000000\n",
       "Technology/Mobile Enthusiasts                                           0.000000\n",
       "Sports & Fitness/Health & Fitness Buffs                                 0.000000\n",
       "Smart Display Campaign                                                  0.000000\n",
       "Run of Network Line Item                                                0.000000\n",
       "Page: contains \"/google+redesign/office\" Similar Audiences              0.000000\n",
       "Page: contains \"/google+redesign/office\"                                0.000000\n",
       "Page: contains \"/google+redesign/electronics\" Similar Audiences         0.000000\n",
       "Page: contains \"/google+redesign/electronics\"                           0.000000\n",
       "Page: contains \"/google+redesign/drinkware\" Similar Audiences           0.000000\n",
       "Page: contains \"/google+redesign/drinkware\"                             0.000000\n",
       "Page: contains \"/google+redesign/bags\" All Users Similar Audiences      0.000000\n",
       "Page: contains \"/google+redesign/bags\" All Users                        0.000000\n",
       "Page: contains \"/google+redesign/bags\" 1 Day                            0.000000\n",
       "Value Shoppers Affinity                                                 0.000000\n",
       "Media & Entertainment/Music Lovers                                      0.000000\n",
       "Lifestyles & Hobbies/Shutterbugs                                        0.000000\n",
       "Gmail type campaign                                                     0.000000\n",
       "\"google + redesign/Accessories March 17\" All Users                      0.000000\n",
       "Data Share                                                              0.000000\n",
       "All Products                                                            0.000000\n",
       "AW - Electronics                                                        0.000000\n",
       "\"google + redesign/Accessories March 17\" All Users Similar Audiences    0.000000\n",
       "(direct)                                                                0.000000\n",
       "Media & Entertainment/Movie Lovers                                      0.000000\n",
       "1000557 | GA | US | en | Hybrid | GDN Text+Banner | AS                  0.000000\n",
       "1000557 | GA | US | en | Hybrid | GDN Remarketing                       0.000000\n",
       "Retail (DO NOT EDIT owners nophakun and tianyu)                         0.000015\n",
       "test-liyuhz                                                             0.000027\n",
       "AW - Apparel                                                            0.000051\n",
       "Data Share Promo                                                        0.000388\n",
       "AW - Accessories                                                        0.010011\n",
       "AW - Dynamic Search Ads Whole Site                                      0.017618\n",
       "(not set)                                                               0.971891\n",
       "Name: totals.transactionRevenue, dtype: float64"
      ]
     },
     "execution_count": 515,
     "metadata": {},
     "output_type": "execute_result"
    }
   ],
   "source": [
    "df_combi.groupby(['trafficSource.campaign'])['totals.transactionRevenue'].sum().sort_values()/df_combi.groupby(['trafficSource.campaign'])['totals.transactionRevenue'].sum().sort_values().sum()"
   ]
  },
  {
   "cell_type": "code",
   "execution_count": 516,
   "metadata": {},
   "outputs": [],
   "source": [
    "def campaign(fx):\n",
    "    if fx=='(not set)':\n",
    "        fx=0\n",
    "    else:\n",
    "        fx=1\n",
    "    return fx"
   ]
  },
  {
   "cell_type": "code",
   "execution_count": 517,
   "metadata": {},
   "outputs": [],
   "source": [
    "df_combi['trafficSource.campaign'] = df_combi['trafficSource.campaign'].apply(campaign)"
   ]
  },
  {
   "cell_type": "code",
   "execution_count": 518,
   "metadata": {},
   "outputs": [
    {
     "data": {
      "text/plain": [
       "trafficSource.source\n",
       "google.es                                 0.000000\n",
       "learn.pct.edu                             0.000000\n",
       "learn.colorado.edu                        0.000000\n",
       "kristiyan.users.x20web.corp.google.com    0.000000\n",
       "kr.pinterest.com                          0.000000\n",
       "kik.com                                   0.000000\n",
       "kidrex.org                                0.000000\n",
       "ixquick.com                               0.000000\n",
       "it.search.yahoo.com                       0.000000\n",
       "it.pinterest.com                          0.000000\n",
       "it-mg42.mail.yahoo.com                    0.000000\n",
       "ipv6.google.com                           0.000000\n",
       "ipv4.google.com                           0.000000\n",
       "invincible.mtv.corp.google.com:8080       0.000000\n",
       "intranet                                  0.000000\n",
       "int.search.tb.ask.com                     0.000000\n",
       "int.search.mywebsearch.com                0.000000\n",
       "info.com                                  0.000000\n",
       "inbox.google.com                          0.000000\n",
       "in.search.yahoo.com                       0.000000\n",
       "in.pinterest.com                          0.000000\n",
       "images.google.pt                          0.000000\n",
       "images.google.lt                          0.000000\n",
       "images.google.lk                          0.000000\n",
       "images.google.ie                          0.000000\n",
       "images.google.fr                          0.000000\n",
       "learn.temple.edu                          0.000000\n",
       "linkedin.com                              0.000000\n",
       "lisham-web.blogspot.com                   0.000000\n",
       "lm.facebook.com                           0.000000\n",
       "                                            ...   \n",
       "chat.google.com                           0.000043\n",
       "gatewaycdi.com                            0.000047\n",
       "duckduckgo.com                            0.000055\n",
       "pinterest.com                             0.000062\n",
       "search.myway.com                          0.000066\n",
       "basecamp.com                              0.000069\n",
       "m.facebook.com                            0.000121\n",
       "googleux.perksplus.com                    0.000132\n",
       "plus.google.com                           0.000133\n",
       "t.co                                      0.000174\n",
       "phandroid.com                             0.000176\n",
       "youtube.com                               0.000204\n",
       "google.com                                0.000225\n",
       "siliconvalley.about.com                   0.000245\n",
       "mg.mail.yahoo.com                         0.000245\n",
       "connect.googleforwork.com                 0.000263\n",
       "Partners                                  0.000388\n",
       "bing                                      0.000641\n",
       "l.facebook.com                            0.000678\n",
       "facebook.com                              0.000739\n",
       "yahoo                                     0.000893\n",
       "groups.google.com                         0.001059\n",
       "gdeals.googleplex.com                     0.001413\n",
       "sites.google.com                          0.002851\n",
       "dealspotr.com                             0.003695\n",
       "mail.google.com                           0.015147\n",
       "dfa                                       0.049951\n",
       "google                                    0.239577\n",
       "(direct)                                  0.282351\n",
       "mall.googleplex.com                       0.398013\n",
       "Name: totals.transactionRevenue, Length: 500, dtype: float64"
      ]
     },
     "execution_count": 518,
     "metadata": {},
     "output_type": "execute_result"
    }
   ],
   "source": [
    "df_combi.groupby(['trafficSource.source'])['totals.transactionRevenue'].sum().sort_values()/df_combi.groupby(['trafficSource.source'])['totals.transactionRevenue'].sum().sort_values().sum()"
   ]
  },
  {
   "cell_type": "code",
   "execution_count": 519,
   "metadata": {},
   "outputs": [],
   "source": [
    "def source(fx):\n",
    "    if fx=='mall.googleplex.com':\n",
    "        fx=0\n",
    "    elif fx=='(direct)':\n",
    "        fx=1\n",
    "    elif fx=='google':\n",
    "        fx=2\n",
    "    else:\n",
    "        fx=3\n",
    "    return fx"
   ]
  },
  {
   "cell_type": "code",
   "execution_count": 520,
   "metadata": {},
   "outputs": [],
   "source": [
    "df_combi['trafficSource.source'] = df_combi['trafficSource.source'].apply(source)"
   ]
  },
  {
   "cell_type": "code",
   "execution_count": 521,
   "metadata": {},
   "outputs": [
    {
     "data": {
      "text/plain": [
       "geoNetwork.metro\n",
       "Lexington KY                                               0.000000\n",
       "North East                                                 0.000000\n",
       "Norfolk-Portsmouth-Newport News VA                         0.000000\n",
       "Wichita-Hutchinson KS                                      0.000000\n",
       "New Orleans LA                                             0.000000\n",
       "Monterey-Salinas CA                                        0.000000\n",
       "Midlands                                                   0.000000\n",
       "Meridian (exc. Channel Islands)                            0.000000\n",
       "Memphis TN                                                 0.000000\n",
       "Mankato MN                                                 0.000000\n",
       "Madison WI                                                 0.000000\n",
       "Lubbock TX                                                 0.000000\n",
       "Louisville KY                                              0.000000\n",
       "Yorkshire                                                  0.000000\n",
       "Lincoln & Hastings-Kearney NE                              0.000000\n",
       "Lansing MI                                                 0.000000\n",
       "La Crosse-Eau Claire WI                                    0.000000\n",
       "JP_OTHER                                                   0.000000\n",
       "JP_KINKI                                                   0.000000\n",
       "JP_KANTO                                                   0.000000\n",
       "North Scotland                                             0.000000\n",
       "JP_CHUKYO                                                  0.000000\n",
       "North West                                                 0.000000\n",
       "Paducah KY-Cape Girardeau MO-Harrisburg-Mount Vernon IL    0.000000\n",
       "Utica NY                                                   0.000000\n",
       "Ulster                                                     0.000000\n",
       "Tulsa OK                                                   0.000000\n",
       "Tucson (Sierra Vista) AZ                                   0.000000\n",
       "Tri-Cities TN-VA                                           0.000000\n",
       "Toledo OH                                                  0.000000\n",
       "                                                             ...   \n",
       "Charleston SC                                              0.000166\n",
       "Kansas City MO                                             0.000172\n",
       "Minneapolis-St. Paul MN                                    0.000189\n",
       "San Antonio TX                                             0.000211\n",
       "Omaha NE                                                   0.000234\n",
       "Milwaukee WI                                               0.000259\n",
       "Portland OR                                                0.000766\n",
       "Philadelphia PA                                            0.000824\n",
       "London                                                     0.000948\n",
       "Charlotte NC                                               0.000971\n",
       "Dallas-Ft. Worth TX                                        0.001333\n",
       "Pittsburgh PA                                              0.001341\n",
       "Phoenix AZ                                                 0.001450\n",
       "Nashville TN                                               0.001542\n",
       "Denver CO                                                  0.002312\n",
       "San Diego CA                                               0.002408\n",
       "Houston TX                                                 0.003540\n",
       "Washington DC (Hagerstown MD)                              0.006890\n",
       "Atlanta GA                                                 0.011408\n",
       "Austin TX                                                  0.013509\n",
       "Roanoke-Lynchburg VA                                       0.014360\n",
       "Boston MA-Manchester NH                                    0.014745\n",
       "Detroit MI                                                 0.017336\n",
       "Seattle-Tacoma WA                                          0.022843\n",
       "(not set)                                                  0.027523\n",
       "Los Angeles CA                                             0.033331\n",
       "Chicago IL                                                 0.047344\n",
       "New York NY                                                0.143706\n",
       "San Francisco-Oakland-San Jose CA                          0.207806\n",
       "not available in demo dataset                              0.419566\n",
       "Name: totals.transactionRevenue, Length: 123, dtype: float64"
      ]
     },
     "execution_count": 521,
     "metadata": {},
     "output_type": "execute_result"
    }
   ],
   "source": [
    "df_combi.groupby(['geoNetwork.metro'])['totals.transactionRevenue'].sum().sort_values()/df_combi.groupby(['geoNetwork.metro'])['totals.transactionRevenue'].sum().sort_values().sum()"
   ]
  },
  {
   "cell_type": "code",
   "execution_count": 522,
   "metadata": {},
   "outputs": [],
   "source": [
    "def metro(fx):\n",
    "    if fx=='not available in demo dataset':\n",
    "        fx=0\n",
    "    elif fx=='San Francisco-Oakland-San Jose CA':\n",
    "        fx=1\n",
    "    elif fx=='New York NY':\n",
    "        fx=2\n",
    "    else:\n",
    "        fx=3\n",
    "    return fx"
   ]
  },
  {
   "cell_type": "code",
   "execution_count": 523,
   "metadata": {},
   "outputs": [],
   "source": [
    "df_combi['geoNetwork.metro'] = df_combi['geoNetwork.metro'].apply(metro)"
   ]
  },
  {
   "cell_type": "code",
   "execution_count": 524,
   "metadata": {},
   "outputs": [],
   "source": [
    "df_combi = df_combi.drop('geoNetwork.metro',axis=1)"
   ]
  },
  {
   "cell_type": "code",
   "execution_count": null,
   "metadata": {},
   "outputs": [],
   "source": []
  },
  {
   "cell_type": "code",
   "execution_count": null,
   "metadata": {},
   "outputs": [],
   "source": []
  },
  {
   "cell_type": "code",
   "execution_count": 525,
   "metadata": {},
   "outputs": [
    {
     "data": {
      "text/plain": [
       "geoNetwork.country\n",
       "Lesotho                     0.000000\n",
       "Mauritania                  0.000000\n",
       "Mauritius                   0.000000\n",
       "Mayotte                     0.000000\n",
       "Micronesia                  0.000000\n",
       "Moldova                     0.000000\n",
       "Monaco                      0.000000\n",
       "Mongolia                    0.000000\n",
       "Montenegro                  0.000000\n",
       "Montserrat                  0.000000\n",
       "Morocco                     0.000000\n",
       "Mozambique                  0.000000\n",
       "Myanmar (Burma)             0.000000\n",
       "Namibia                     0.000000\n",
       "Nepal                       0.000000\n",
       "New Caledonia               0.000000\n",
       "Niger                       0.000000\n",
       "Norfolk Island              0.000000\n",
       "Northern Mariana Islands    0.000000\n",
       "Norway                      0.000000\n",
       "Martinique                  0.000000\n",
       "Oman                        0.000000\n",
       "Marshall Islands            0.000000\n",
       "Mali                        0.000000\n",
       "Isle of Man                 0.000000\n",
       "Jamaica                     0.000000\n",
       "Jersey                      0.000000\n",
       "Jordan                      0.000000\n",
       "Kosovo                      0.000000\n",
       "Kyrgyzstan                  0.000000\n",
       "                              ...   \n",
       "United Arab Emirates        0.000240\n",
       "Spain                       0.000250\n",
       "France                      0.000290\n",
       "Thailand                    0.000300\n",
       "Ukraine                     0.000304\n",
       "Malaysia                    0.000306\n",
       "Germany                     0.000357\n",
       "Switzerland                 0.000387\n",
       "Colombia                    0.000393\n",
       "Israel                      0.000402\n",
       "Brazil                      0.000417\n",
       "Ecuador                     0.000438\n",
       "India                       0.000452\n",
       "South Korea                 0.000484\n",
       "(not set)                   0.000500\n",
       "Singapore                   0.000547\n",
       "Belgium                     0.000644\n",
       "Puerto Rico                 0.000781\n",
       "Hong Kong                   0.000953\n",
       "Mexico                      0.001034\n",
       "United Kingdom              0.001097\n",
       "Australia                   0.001133\n",
       "Indonesia                   0.001195\n",
       "Taiwan                      0.001247\n",
       "Nigeria                     0.002144\n",
       "Kenya                       0.003421\n",
       "Japan                       0.004369\n",
       "Venezuela                   0.008685\n",
       "Canada                      0.021314\n",
       "United States               0.943100\n",
       "Name: totals.transactionRevenue, Length: 228, dtype: float64"
      ]
     },
     "execution_count": 525,
     "metadata": {},
     "output_type": "execute_result"
    }
   ],
   "source": [
    "df_combi.groupby(['geoNetwork.country'])['totals.transactionRevenue'].sum().sort_values()/df_combi.groupby(['geoNetwork.country'])['totals.transactionRevenue'].sum().sort_values().sum()"
   ]
  },
  {
   "cell_type": "code",
   "execution_count": null,
   "metadata": {},
   "outputs": [],
   "source": []
  },
  {
   "cell_type": "code",
   "execution_count": 526,
   "metadata": {},
   "outputs": [],
   "source": [
    "def country(fx):\n",
    "    if fx=='United States':\n",
    "        fx=0\n",
    "    else:\n",
    "        fx=1\n",
    "    return fx"
   ]
  },
  {
   "cell_type": "code",
   "execution_count": 527,
   "metadata": {},
   "outputs": [
    {
     "name": "stderr",
     "output_type": "stream",
     "text": [
      "/home/apratim941208/anaconda3/envs/ds/lib/python3.6/site-packages/ipykernel_launcher.py:1: SettingWithCopyWarning: \n",
      "A value is trying to be set on a copy of a slice from a DataFrame.\n",
      "Try using .loc[row_indexer,col_indexer] = value instead\n",
      "\n",
      "See the caveats in the documentation: http://pandas.pydata.org/pandas-docs/stable/indexing.html#indexing-view-versus-copy\n",
      "  \"\"\"Entry point for launching an IPython kernel.\n"
     ]
    }
   ],
   "source": [
    "df_combi['geoNetwork.country'] = df_combi['geoNetwork.country'].apply(country)"
   ]
  },
  {
   "cell_type": "code",
   "execution_count": null,
   "metadata": {},
   "outputs": [],
   "source": []
  },
  {
   "cell_type": "code",
   "execution_count": 528,
   "metadata": {},
   "outputs": [
    {
     "data": {
      "text/plain": [
       "day                                                               int64\n",
       "device.isMobile                                                   int64\n",
       "fullVisitorId                                                    object\n",
       "geoNetwork.city                                                   int64\n",
       "geoNetwork.country                                                int64\n",
       "geoNetwork.networkDomain                                          int64\n",
       "geoNetwork.region                                                 int64\n",
       "geoNetwork.subContinent                                           int64\n",
       "holiday_var                                                       int64\n",
       "month                                                             int64\n",
       "totals.bounces                                                  float64\n",
       "totals.hits                                                     float64\n",
       "totals.newVisits                                                float64\n",
       "totals.pageviews                                                float64\n",
       "totals.transactionRevenue                                       float64\n",
       "trafficSource.adwordsClickInfo.gclId                             object\n",
       "trafficSource.adwordsClickInfo.page                              object\n",
       "trafficSource.campaign                                            int64\n",
       "trafficSource.keyword                                             int64\n",
       "trafficSource.source                                              int64\n",
       "weekday                                                           int64\n",
       "channelGrouping_(Other)                                           uint8\n",
       "channelGrouping_Affiliates                                        uint8\n",
       "channelGrouping_Direct                                            uint8\n",
       "channelGrouping_Display                                           uint8\n",
       "channelGrouping_Organic Search                                    uint8\n",
       "channelGrouping_Paid Search                                       uint8\n",
       "channelGrouping_Referral                                          uint8\n",
       "channelGrouping_Social                                            uint8\n",
       "trafficSource.medium_(none)                                       uint8\n",
       "                                                                 ...   \n",
       "geoNetwork.continent_Americas                                     uint8\n",
       "geoNetwork.continent_Asia                                         uint8\n",
       "geoNetwork.continent_Europe                                       uint8\n",
       "geoNetwork.continent_Oceania                                      uint8\n",
       "trafficSource.adwordsClickInfo.adNetworkType_Content              uint8\n",
       "trafficSource.adwordsClickInfo.adNetworkType_Google Search        uint8\n",
       "trafficSource.adwordsClickInfo.adNetworkType_Search partners      uint8\n",
       "trafficSource.adwordsClickInfo.slot_Google Display Network        uint8\n",
       "trafficSource.adwordsClickInfo.slot_RHS                           uint8\n",
       "trafficSource.adwordsClickInfo.slot_Top                           uint8\n",
       "device.deviceCategory_desktop                                     uint8\n",
       "device.deviceCategory_mobile                                      uint8\n",
       "device.deviceCategory_tablet                                      uint8\n",
       "trafficSource.adwordsClickInfo.isVideoAd_False                    uint8\n",
       "trafficSource.isTrueDirect_True                                   uint8\n",
       "Android Webview                                                   uint8\n",
       "Chrome                                                            uint8\n",
       "Edge                                                              uint8\n",
       "Firefox                                                           uint8\n",
       "Internet Explorer                                                 uint8\n",
       "None                                                              uint8\n",
       "Opera Mini                                                        uint8\n",
       "Safari                                                            uint8\n",
       "Samsung Internet                                                  uint8\n",
       "Android                                                           uint8\n",
       "Linux                                                             uint8\n",
       "Macintosh                                                         uint8\n",
       "None                                                              uint8\n",
       "Windows                                                           uint8\n",
       "iOS                                                               uint8\n",
       "Length: 68, dtype: object"
      ]
     },
     "execution_count": 528,
     "metadata": {},
     "output_type": "execute_result"
    }
   ],
   "source": [
    "df_combi.dtypes"
   ]
  },
  {
   "cell_type": "code",
   "execution_count": 529,
   "metadata": {},
   "outputs": [],
   "source": [
    "df_combi= df_combi.drop(['trafficSource.adwordsClickInfo.gclId','trafficSource.adwordsClickInfo.page'],axis=1)"
   ]
  },
  {
   "cell_type": "code",
   "execution_count": 530,
   "metadata": {},
   "outputs": [],
   "source": [
    "# df_combi['totals.bounces'] = df_combi['totals.bounces'].astype('float')"
   ]
  },
  {
   "cell_type": "code",
   "execution_count": 531,
   "metadata": {},
   "outputs": [],
   "source": [
    "# df_combi['totals.hits'] = df_combi['totals.hits'].astype('float')"
   ]
  },
  {
   "cell_type": "code",
   "execution_count": null,
   "metadata": {},
   "outputs": [],
   "source": []
  },
  {
   "cell_type": "code",
   "execution_count": 532,
   "metadata": {},
   "outputs": [],
   "source": [
    "train=df_combi[:len(train_df)]\n",
    "test=df_combi[len(train_df):]"
   ]
  },
  {
   "cell_type": "code",
   "execution_count": 533,
   "metadata": {},
   "outputs": [
    {
     "data": {
      "text/plain": [
       "((903653, 66), (804684, 66))"
      ]
     },
     "execution_count": 533,
     "metadata": {},
     "output_type": "execute_result"
    }
   ],
   "source": [
    "train.shape, test.shape"
   ]
  },
  {
   "cell_type": "code",
   "execution_count": 534,
   "metadata": {},
   "outputs": [
    {
     "data": {
      "text/plain": [
       "(903653, 66)"
      ]
     },
     "execution_count": 534,
     "metadata": {},
     "output_type": "execute_result"
    }
   ],
   "source": [
    "train.shape"
   ]
  },
  {
   "cell_type": "code",
   "execution_count": null,
   "metadata": {},
   "outputs": [],
   "source": []
  },
  {
   "cell_type": "code",
   "execution_count": 535,
   "metadata": {},
   "outputs": [
    {
     "data": {
      "text/plain": [
       "((903653, 66), (804684, 66))"
      ]
     },
     "execution_count": 535,
     "metadata": {},
     "output_type": "execute_result"
    }
   ],
   "source": [
    "train.shape, test.shape"
   ]
  },
  {
   "cell_type": "code",
   "execution_count": 536,
   "metadata": {},
   "outputs": [
    {
     "data": {
      "text/plain": [
       "(0, 0)"
      ]
     },
     "execution_count": 536,
     "metadata": {},
     "output_type": "execute_result"
    }
   ],
   "source": [
    "train.isnull().any().sum(), test.isnull().any().sum()"
   ]
  },
  {
   "cell_type": "code",
   "execution_count": 539,
   "metadata": {},
   "outputs": [],
   "source": [
    "\n",
    "col = list(train.columns)\n",
    "col[-3] = 'None2'\n",
    "train.columns = col"
   ]
  },
  {
   "cell_type": "code",
   "execution_count": 540,
   "metadata": {},
   "outputs": [],
   "source": [
    "col2 = list(test.columns)\n",
    "col2[-3] = 'None2'\n",
    "test.columns = col2"
   ]
  },
  {
   "cell_type": "code",
   "execution_count": null,
   "metadata": {},
   "outputs": [],
   "source": []
  },
  {
   "cell_type": "code",
   "execution_count": 543,
   "metadata": {},
   "outputs": [],
   "source": [
    "from lightgbm.sklearn import LGBMRegressor\n",
    "from sklearn.model_selection import train_test_split\n",
    "from sklearn.metrics import mean_squared_error\n",
    "from sklearn.model_selection import KFold,StratifiedKFold\n",
    "\n",
    "import lightgbm as lgb \n",
    "\n",
    "from sklearn.model_selection import GridSearchCV\n",
    "from sklearn.model_selection import KFold\n",
    "from sklearn.metrics import mean_squared_error\n",
    "from sklearn.model_selection import KFold, StratifiedKFold\n",
    "from sklearn import model_selection, preprocessing, metrics"
   ]
  },
  {
   "cell_type": "code",
   "execution_count": 544,
   "metadata": {},
   "outputs": [
    {
     "data": {
      "text/plain": [
       "Index(['day', 'device.isMobile', 'fullVisitorId', 'geoNetwork.city',\n",
       "       'geoNetwork.country', 'geoNetwork.networkDomain', 'geoNetwork.region',\n",
       "       'geoNetwork.subContinent', 'holiday_var', 'month', 'totals.bounces',\n",
       "       'totals.hits', 'totals.newVisits', 'totals.pageviews',\n",
       "       'totals.transactionRevenue', 'trafficSource.campaign',\n",
       "       'trafficSource.keyword', 'trafficSource.source', 'weekday',\n",
       "       'channelGrouping_(Other)', 'channelGrouping_Affiliates',\n",
       "       'channelGrouping_Direct', 'channelGrouping_Display',\n",
       "       'channelGrouping_Organic Search', 'channelGrouping_Paid Search',\n",
       "       'channelGrouping_Referral', 'channelGrouping_Social',\n",
       "       'trafficSource.medium_(none)', 'trafficSource.medium_(not set)',\n",
       "       'trafficSource.medium_affiliate', 'trafficSource.medium_cpc',\n",
       "       'trafficSource.medium_cpm', 'trafficSource.medium_organic',\n",
       "       'trafficSource.medium_referral', 'geoNetwork.continent_(not set)',\n",
       "       'geoNetwork.continent_Africa', 'geoNetwork.continent_Americas',\n",
       "       'geoNetwork.continent_Asia', 'geoNetwork.continent_Europe',\n",
       "       'geoNetwork.continent_Oceania',\n",
       "       'trafficSource.adwordsClickInfo.adNetworkType_Content',\n",
       "       'trafficSource.adwordsClickInfo.adNetworkType_Google Search',\n",
       "       'trafficSource.adwordsClickInfo.adNetworkType_Search partners',\n",
       "       'trafficSource.adwordsClickInfo.slot_Google Display Network',\n",
       "       'trafficSource.adwordsClickInfo.slot_RHS',\n",
       "       'trafficSource.adwordsClickInfo.slot_Top',\n",
       "       'device.deviceCategory_desktop', 'device.deviceCategory_mobile',\n",
       "       'device.deviceCategory_tablet',\n",
       "       'trafficSource.adwordsClickInfo.isVideoAd_False',\n",
       "       'trafficSource.isTrueDirect_True', 'Android Webview', 'Chrome', 'Edge',\n",
       "       'Firefox', 'Internet Explorer', 'None', 'Opera Mini', 'Safari',\n",
       "       'Samsung Internet', 'Android', 'Linux', 'Macintosh', 'None2', 'Windows',\n",
       "       'iOS'],\n",
       "      dtype='object')"
      ]
     },
     "execution_count": 544,
     "metadata": {},
     "output_type": "execute_result"
    }
   ],
   "source": [
    "train.columns"
   ]
  },
  {
   "cell_type": "code",
   "execution_count": null,
   "metadata": {},
   "outputs": [],
   "source": []
  },
  {
   "cell_type": "code",
   "execution_count": 545,
   "metadata": {},
   "outputs": [
    {
     "name": "stderr",
     "output_type": "stream",
     "text": [
      "/home/apratim941208/anaconda3/envs/ds/lib/python3.6/site-packages/ipykernel_launcher.py:1: SettingWithCopyWarning: \n",
      "A value is trying to be set on a copy of a slice from a DataFrame.\n",
      "Try using .loc[row_indexer,col_indexer] = value instead\n",
      "\n",
      "See the caveats in the documentation: http://pandas.pydata.org/pandas-docs/stable/indexing.html#indexing-view-versus-copy\n",
      "  \"\"\"Entry point for launching an IPython kernel.\n"
     ]
    }
   ],
   "source": [
    "train['totals.transactionRevenue'] = np.log1p(train['totals.transactionRevenue'])"
   ]
  },
  {
   "cell_type": "code",
   "execution_count": 546,
   "metadata": {},
   "outputs": [],
   "source": [
    "# train['fullVisitorId'] = train['fullVisitorId'].astype('float')"
   ]
  },
  {
   "cell_type": "code",
   "execution_count": 547,
   "metadata": {},
   "outputs": [],
   "source": [
    "# test['fullVisitorId'] = test['fullVisitorId'].astype('float')"
   ]
  },
  {
   "cell_type": "code",
   "execution_count": null,
   "metadata": {},
   "outputs": [],
   "source": []
  },
  {
   "cell_type": "code",
   "execution_count": 548,
   "metadata": {},
   "outputs": [],
   "source": [
    "train_vis_id = train['fullVisitorId']"
   ]
  },
  {
   "cell_type": "code",
   "execution_count": 549,
   "metadata": {},
   "outputs": [],
   "source": [
    "test_vis_id = test['fullVisitorId']"
   ]
  },
  {
   "cell_type": "code",
   "execution_count": null,
   "metadata": {},
   "outputs": [],
   "source": []
  },
  {
   "cell_type": "code",
   "execution_count": null,
   "metadata": {},
   "outputs": [],
   "source": []
  },
  {
   "cell_type": "code",
   "execution_count": 550,
   "metadata": {},
   "outputs": [
    {
     "data": {
      "text/plain": [
       "(dtype('O'), dtype('O'))"
      ]
     },
     "execution_count": 550,
     "metadata": {},
     "output_type": "execute_result"
    }
   ],
   "source": [
    "test_vis_id.dtypes, train_vis_id.dtypes"
   ]
  },
  {
   "cell_type": "code",
   "execution_count": 551,
   "metadata": {},
   "outputs": [],
   "source": [
    "train = train.drop('fullVisitorId', axis=1)"
   ]
  },
  {
   "cell_type": "code",
   "execution_count": 552,
   "metadata": {},
   "outputs": [],
   "source": [
    "test = test.drop('fullVisitorId',axis=1)"
   ]
  },
  {
   "cell_type": "code",
   "execution_count": 555,
   "metadata": {},
   "outputs": [
    {
     "data": {
      "text/plain": [
       "Index(['day', 'device.isMobile', 'geoNetwork.city', 'geoNetwork.country',\n",
       "       'geoNetwork.networkDomain', 'geoNetwork.region',\n",
       "       'geoNetwork.subContinent', 'holiday_var', 'month', 'totals.bounces',\n",
       "       'totals.hits', 'totals.newVisits', 'totals.pageviews',\n",
       "       'totals.transactionRevenue', 'trafficSource.campaign',\n",
       "       'trafficSource.keyword', 'trafficSource.source', 'weekday',\n",
       "       'channelGrouping_(Other)', 'channelGrouping_Affiliates',\n",
       "       'channelGrouping_Direct', 'channelGrouping_Display',\n",
       "       'channelGrouping_Organic Search', 'channelGrouping_Paid Search',\n",
       "       'channelGrouping_Referral', 'channelGrouping_Social',\n",
       "       'trafficSource.medium_(none)', 'trafficSource.medium_(not set)',\n",
       "       'trafficSource.medium_affiliate', 'trafficSource.medium_cpc',\n",
       "       'trafficSource.medium_cpm', 'trafficSource.medium_organic',\n",
       "       'trafficSource.medium_referral', 'geoNetwork.continent_(not set)',\n",
       "       'geoNetwork.continent_Africa', 'geoNetwork.continent_Americas',\n",
       "       'geoNetwork.continent_Asia', 'geoNetwork.continent_Europe',\n",
       "       'geoNetwork.continent_Oceania',\n",
       "       'trafficSource.adwordsClickInfo.adNetworkType_Content',\n",
       "       'trafficSource.adwordsClickInfo.adNetworkType_Google Search',\n",
       "       'trafficSource.adwordsClickInfo.adNetworkType_Search partners',\n",
       "       'trafficSource.adwordsClickInfo.slot_Google Display Network',\n",
       "       'trafficSource.adwordsClickInfo.slot_RHS',\n",
       "       'trafficSource.adwordsClickInfo.slot_Top',\n",
       "       'device.deviceCategory_desktop', 'device.deviceCategory_mobile',\n",
       "       'device.deviceCategory_tablet',\n",
       "       'trafficSource.adwordsClickInfo.isVideoAd_False',\n",
       "       'trafficSource.isTrueDirect_True', 'Android Webview', 'Chrome', 'Edge',\n",
       "       'Firefox', 'Internet Explorer', 'None', 'Opera Mini', 'Safari',\n",
       "       'Samsung Internet', 'Android', 'Linux', 'Macintosh', 'None2', 'Windows',\n",
       "       'iOS'],\n",
       "      dtype='object')"
      ]
     },
     "execution_count": 555,
     "metadata": {},
     "output_type": "execute_result"
    }
   ],
   "source": [
    "train.columns"
   ]
  },
  {
   "cell_type": "code",
   "execution_count": 556,
   "metadata": {},
   "outputs": [
    {
     "data": {
      "text/html": [
       "<div>\n",
       "<style scoped>\n",
       "    .dataframe tbody tr th:only-of-type {\n",
       "        vertical-align: middle;\n",
       "    }\n",
       "\n",
       "    .dataframe tbody tr th {\n",
       "        vertical-align: top;\n",
       "    }\n",
       "\n",
       "    .dataframe thead th {\n",
       "        text-align: right;\n",
       "    }\n",
       "</style>\n",
       "<table border=\"1\" class=\"dataframe\">\n",
       "  <thead>\n",
       "    <tr style=\"text-align: right;\">\n",
       "      <th></th>\n",
       "      <th>day</th>\n",
       "      <th>device.isMobile</th>\n",
       "      <th>geoNetwork.city</th>\n",
       "      <th>geoNetwork.country</th>\n",
       "      <th>geoNetwork.networkDomain</th>\n",
       "      <th>geoNetwork.region</th>\n",
       "      <th>geoNetwork.subContinent</th>\n",
       "      <th>holiday_var</th>\n",
       "      <th>month</th>\n",
       "      <th>totals.bounces</th>\n",
       "      <th>...</th>\n",
       "      <th>None</th>\n",
       "      <th>Opera Mini</th>\n",
       "      <th>Safari</th>\n",
       "      <th>Samsung Internet</th>\n",
       "      <th>Android</th>\n",
       "      <th>Linux</th>\n",
       "      <th>Macintosh</th>\n",
       "      <th>None2</th>\n",
       "      <th>Windows</th>\n",
       "      <th>iOS</th>\n",
       "    </tr>\n",
       "  </thead>\n",
       "  <tbody>\n",
       "    <tr>\n",
       "      <th>0</th>\n",
       "      <td>2</td>\n",
       "      <td>0</td>\n",
       "      <td>2</td>\n",
       "      <td>1</td>\n",
       "      <td>0</td>\n",
       "      <td>3</td>\n",
       "      <td>0</td>\n",
       "      <td>0</td>\n",
       "      <td>9</td>\n",
       "      <td>1.0</td>\n",
       "      <td>...</td>\n",
       "      <td>0</td>\n",
       "      <td>0</td>\n",
       "      <td>0</td>\n",
       "      <td>0</td>\n",
       "      <td>0</td>\n",
       "      <td>0</td>\n",
       "      <td>0</td>\n",
       "      <td>0</td>\n",
       "      <td>1</td>\n",
       "      <td>0</td>\n",
       "    </tr>\n",
       "    <tr>\n",
       "      <th>1</th>\n",
       "      <td>2</td>\n",
       "      <td>0</td>\n",
       "      <td>0</td>\n",
       "      <td>1</td>\n",
       "      <td>0</td>\n",
       "      <td>0</td>\n",
       "      <td>0</td>\n",
       "      <td>0</td>\n",
       "      <td>9</td>\n",
       "      <td>1.0</td>\n",
       "      <td>...</td>\n",
       "      <td>0</td>\n",
       "      <td>0</td>\n",
       "      <td>0</td>\n",
       "      <td>0</td>\n",
       "      <td>0</td>\n",
       "      <td>0</td>\n",
       "      <td>1</td>\n",
       "      <td>0</td>\n",
       "      <td>0</td>\n",
       "      <td>0</td>\n",
       "    </tr>\n",
       "    <tr>\n",
       "      <th>2</th>\n",
       "      <td>2</td>\n",
       "      <td>0</td>\n",
       "      <td>2</td>\n",
       "      <td>1</td>\n",
       "      <td>0</td>\n",
       "      <td>3</td>\n",
       "      <td>0</td>\n",
       "      <td>0</td>\n",
       "      <td>9</td>\n",
       "      <td>1.0</td>\n",
       "      <td>...</td>\n",
       "      <td>0</td>\n",
       "      <td>0</td>\n",
       "      <td>0</td>\n",
       "      <td>0</td>\n",
       "      <td>0</td>\n",
       "      <td>0</td>\n",
       "      <td>0</td>\n",
       "      <td>0</td>\n",
       "      <td>1</td>\n",
       "      <td>0</td>\n",
       "    </tr>\n",
       "    <tr>\n",
       "      <th>3</th>\n",
       "      <td>2</td>\n",
       "      <td>0</td>\n",
       "      <td>0</td>\n",
       "      <td>1</td>\n",
       "      <td>0</td>\n",
       "      <td>0</td>\n",
       "      <td>0</td>\n",
       "      <td>0</td>\n",
       "      <td>9</td>\n",
       "      <td>1.0</td>\n",
       "      <td>...</td>\n",
       "      <td>1</td>\n",
       "      <td>0</td>\n",
       "      <td>0</td>\n",
       "      <td>0</td>\n",
       "      <td>0</td>\n",
       "      <td>1</td>\n",
       "      <td>0</td>\n",
       "      <td>0</td>\n",
       "      <td>0</td>\n",
       "      <td>0</td>\n",
       "    </tr>\n",
       "  </tbody>\n",
       "</table>\n",
       "<p>4 rows × 65 columns</p>\n",
       "</div>"
      ],
      "text/plain": [
       "   day  device.isMobile  geoNetwork.city  geoNetwork.country  \\\n",
       "0    2                0                2                   1   \n",
       "1    2                0                0                   1   \n",
       "2    2                0                2                   1   \n",
       "3    2                0                0                   1   \n",
       "\n",
       "   geoNetwork.networkDomain  geoNetwork.region  geoNetwork.subContinent  \\\n",
       "0                         0                  3                        0   \n",
       "1                         0                  0                        0   \n",
       "2                         0                  3                        0   \n",
       "3                         0                  0                        0   \n",
       "\n",
       "   holiday_var  month  totals.bounces ...   None  Opera Mini  Safari  \\\n",
       "0            0      9             1.0 ...      0           0       0   \n",
       "1            0      9             1.0 ...      0           0       0   \n",
       "2            0      9             1.0 ...      0           0       0   \n",
       "3            0      9             1.0 ...      1           0       0   \n",
       "\n",
       "   Samsung Internet  Android  Linux  Macintosh  None2  Windows  iOS  \n",
       "0                 0        0      0          0      0        1    0  \n",
       "1                 0        0      0          1      0        0    0  \n",
       "2                 0        0      0          0      0        1    0  \n",
       "3                 0        0      1          0      0        0    0  \n",
       "\n",
       "[4 rows x 65 columns]"
      ]
     },
     "execution_count": 556,
     "metadata": {},
     "output_type": "execute_result"
    }
   ],
   "source": [
    "train.head(4)"
   ]
  },
  {
   "cell_type": "code",
   "execution_count": null,
   "metadata": {},
   "outputs": [],
   "source": []
  },
  {
   "cell_type": "code",
   "execution_count": 557,
   "metadata": {},
   "outputs": [],
   "source": [
    "features = list(['day', 'device.isMobile', 'geoNetwork.city', 'geoNetwork.country',\n",
    "       'geoNetwork.networkDomain', 'geoNetwork.region',\n",
    "       'geoNetwork.subContinent', 'holiday_var', 'month', 'totals.bounces',\n",
    "       'totals.hits', 'totals.newVisits', 'totals.pageviews', 'trafficSource.campaign',\n",
    "       'trafficSource.keyword', 'trafficSource.source', 'weekday',\n",
    "       'channelGrouping_(Other)', 'channelGrouping_Affiliates',\n",
    "       'channelGrouping_Direct', 'channelGrouping_Display',\n",
    "       'channelGrouping_Organic Search', 'channelGrouping_Paid Search',\n",
    "       'channelGrouping_Referral', 'channelGrouping_Social',\n",
    "       'trafficSource.medium_(none)', 'trafficSource.medium_(not set)',\n",
    "       'trafficSource.medium_affiliate', 'trafficSource.medium_cpc',\n",
    "       'trafficSource.medium_cpm', 'trafficSource.medium_organic',\n",
    "       'trafficSource.medium_referral', 'geoNetwork.continent_(not set)',\n",
    "       'geoNetwork.continent_Africa', 'geoNetwork.continent_Americas',\n",
    "       'geoNetwork.continent_Asia', 'geoNetwork.continent_Europe',\n",
    "       'geoNetwork.continent_Oceania',\n",
    "       'trafficSource.adwordsClickInfo.adNetworkType_Content',\n",
    "       'trafficSource.adwordsClickInfo.adNetworkType_Google Search',\n",
    "       'trafficSource.adwordsClickInfo.adNetworkType_Search partners',\n",
    "       'trafficSource.adwordsClickInfo.slot_Google Display Network',\n",
    "       'trafficSource.adwordsClickInfo.slot_RHS',\n",
    "       'trafficSource.adwordsClickInfo.slot_Top',\n",
    "       'device.deviceCategory_desktop', 'device.deviceCategory_mobile',\n",
    "       'device.deviceCategory_tablet',\n",
    "       'trafficSource.adwordsClickInfo.isVideoAd_False',\n",
    "       'trafficSource.isTrueDirect_True', 'Android Webview', 'Chrome', 'Edge',\n",
    "       'Firefox', 'Internet Explorer', 'None', 'Opera Mini', 'Safari',\n",
    "       'Samsung Internet', 'Android', 'Linux', 'Macintosh', 'None2', 'Windows',\n",
    "       'iOS'])"
   ]
  },
  {
   "cell_type": "code",
   "execution_count": 558,
   "metadata": {},
   "outputs": [
    {
     "data": {
      "text/plain": [
       "((903653, 65), (903653, 64))"
      ]
     },
     "execution_count": 558,
     "metadata": {},
     "output_type": "execute_result"
    }
   ],
   "source": [
    "train.shape, train[features].shape"
   ]
  },
  {
   "cell_type": "code",
   "execution_count": 559,
   "metadata": {},
   "outputs": [],
   "source": [
    "train_x, valid_x, train_y, valid_y = train_test_split(train[features], train[\"totals.transactionRevenue\"], test_size=0.25, random_state=20)"
   ]
  },
  {
   "cell_type": "code",
   "execution_count": 560,
   "metadata": {},
   "outputs": [
    {
     "name": "stdout",
     "output_type": "stream",
     "text": [
      "Training until validation scores don't improve for 150 rounds.\n",
      "[20]\tvalid_0's rmse: 1.84786\n",
      "[40]\tvalid_0's rmse: 1.75846\n",
      "[60]\tvalid_0's rmse: 1.70923\n",
      "[80]\tvalid_0's rmse: 1.68043\n",
      "[100]\tvalid_0's rmse: 1.66427\n",
      "[120]\tvalid_0's rmse: 1.65361\n",
      "[140]\tvalid_0's rmse: 1.64677\n",
      "[160]\tvalid_0's rmse: 1.642\n",
      "[180]\tvalid_0's rmse: 1.63797\n",
      "[200]\tvalid_0's rmse: 1.63525\n",
      "[220]\tvalid_0's rmse: 1.6332\n",
      "[240]\tvalid_0's rmse: 1.6318\n",
      "[260]\tvalid_0's rmse: 1.63053\n",
      "[280]\tvalid_0's rmse: 1.62966\n",
      "[300]\tvalid_0's rmse: 1.6289\n",
      "[320]\tvalid_0's rmse: 1.62818\n",
      "[340]\tvalid_0's rmse: 1.62739\n",
      "[360]\tvalid_0's rmse: 1.62695\n",
      "[380]\tvalid_0's rmse: 1.62651\n",
      "[400]\tvalid_0's rmse: 1.62597\n",
      "[420]\tvalid_0's rmse: 1.62571\n",
      "[440]\tvalid_0's rmse: 1.62557\n",
      "[460]\tvalid_0's rmse: 1.62537\n",
      "[480]\tvalid_0's rmse: 1.62528\n",
      "[500]\tvalid_0's rmse: 1.6251\n",
      "[520]\tvalid_0's rmse: 1.62515\n",
      "[540]\tvalid_0's rmse: 1.62506\n",
      "[560]\tvalid_0's rmse: 1.62492\n",
      "[580]\tvalid_0's rmse: 1.6247\n",
      "[600]\tvalid_0's rmse: 1.62467\n",
      "[620]\tvalid_0's rmse: 1.62468\n",
      "[640]\tvalid_0's rmse: 1.62459\n",
      "[660]\tvalid_0's rmse: 1.62466\n",
      "[680]\tvalid_0's rmse: 1.62448\n",
      "[700]\tvalid_0's rmse: 1.62451\n",
      "[720]\tvalid_0's rmse: 1.62436\n",
      "[740]\tvalid_0's rmse: 1.62434\n",
      "[760]\tvalid_0's rmse: 1.62449\n",
      "[780]\tvalid_0's rmse: 1.62448\n",
      "[800]\tvalid_0's rmse: 1.62458\n",
      "[820]\tvalid_0's rmse: 1.62451\n",
      "[840]\tvalid_0's rmse: 1.62464\n",
      "[860]\tvalid_0's rmse: 1.62463\n",
      "[880]\tvalid_0's rmse: 1.62451\n",
      "Early stopping, best iteration is:\n",
      "[739]\tvalid_0's rmse: 1.62432\n"
     ]
    }
   ],
   "source": [
    "lgb_params = {\"objective\" : \"regression\", \"metric\" : \"rmse\",\n",
    "             \"num_leaves\" : 50, \"learning_rate\" : 0.02, \n",
    "              \"bagging_fraction\" : 0.75, \"feature_fraction\" : 0.8, \"bagging_frequency\" : 9}\n",
    "    \n",
    "lgb_train = lgb.Dataset(train_x, label=train_y)\n",
    "lgb_val = lgb.Dataset(valid_x, label=valid_y)\n",
    "model = lgb.train(lgb_params, lgb_train, 1200, valid_sets=[lgb_val], early_stopping_rounds=150, verbose_eval=20)"
   ]
  },
  {
   "cell_type": "code",
   "execution_count": 561,
   "metadata": {},
   "outputs": [],
   "source": [
    "import pickle"
   ]
  },
  {
   "cell_type": "code",
   "execution_count": null,
   "metadata": {},
   "outputs": [],
   "source": []
  },
  {
   "cell_type": "code",
   "execution_count": 562,
   "metadata": {},
   "outputs": [
    {
     "data": {
      "text/plain": [
       "(dtype('O'), (804684,))"
      ]
     },
     "execution_count": 562,
     "metadata": {},
     "output_type": "execute_result"
    }
   ],
   "source": [
    "test_vis_id.dtype, test_vis_id.shape"
   ]
  },
  {
   "cell_type": "code",
   "execution_count": 563,
   "metadata": {},
   "outputs": [
    {
     "data": {
      "text/plain": [
       "(804684, 65)"
      ]
     },
     "execution_count": 563,
     "metadata": {},
     "output_type": "execute_result"
    }
   ],
   "source": [
    "test.shape"
   ]
  },
  {
   "cell_type": "code",
   "execution_count": 564,
   "metadata": {},
   "outputs": [
    {
     "data": {
      "text/html": [
       "<div>\n",
       "<style scoped>\n",
       "    .dataframe tbody tr th:only-of-type {\n",
       "        vertical-align: middle;\n",
       "    }\n",
       "\n",
       "    .dataframe tbody tr th {\n",
       "        vertical-align: top;\n",
       "    }\n",
       "\n",
       "    .dataframe thead th {\n",
       "        text-align: right;\n",
       "    }\n",
       "</style>\n",
       "<table border=\"1\" class=\"dataframe\">\n",
       "  <thead>\n",
       "    <tr style=\"text-align: right;\">\n",
       "      <th></th>\n",
       "      <th>day</th>\n",
       "      <th>device.isMobile</th>\n",
       "      <th>geoNetwork.city</th>\n",
       "      <th>geoNetwork.country</th>\n",
       "      <th>geoNetwork.networkDomain</th>\n",
       "      <th>geoNetwork.region</th>\n",
       "      <th>geoNetwork.subContinent</th>\n",
       "      <th>holiday_var</th>\n",
       "      <th>month</th>\n",
       "      <th>totals.bounces</th>\n",
       "      <th>...</th>\n",
       "      <th>None</th>\n",
       "      <th>Opera Mini</th>\n",
       "      <th>Safari</th>\n",
       "      <th>Samsung Internet</th>\n",
       "      <th>Android</th>\n",
       "      <th>Linux</th>\n",
       "      <th>Macintosh</th>\n",
       "      <th>None2</th>\n",
       "      <th>Windows</th>\n",
       "      <th>iOS</th>\n",
       "    </tr>\n",
       "  </thead>\n",
       "  <tbody>\n",
       "    <tr>\n",
       "      <th>0</th>\n",
       "      <td>16</td>\n",
       "      <td>0</td>\n",
       "      <td>2</td>\n",
       "      <td>1</td>\n",
       "      <td>0</td>\n",
       "      <td>3</td>\n",
       "      <td>0</td>\n",
       "      <td>0</td>\n",
       "      <td>10</td>\n",
       "      <td>0.0</td>\n",
       "      <td>...</td>\n",
       "      <td>0</td>\n",
       "      <td>0</td>\n",
       "      <td>0</td>\n",
       "      <td>0</td>\n",
       "      <td>0</td>\n",
       "      <td>0</td>\n",
       "      <td>1</td>\n",
       "      <td>0</td>\n",
       "      <td>0</td>\n",
       "      <td>0</td>\n",
       "    </tr>\n",
       "    <tr>\n",
       "      <th>1</th>\n",
       "      <td>16</td>\n",
       "      <td>0</td>\n",
       "      <td>2</td>\n",
       "      <td>1</td>\n",
       "      <td>0</td>\n",
       "      <td>3</td>\n",
       "      <td>0</td>\n",
       "      <td>0</td>\n",
       "      <td>10</td>\n",
       "      <td>0.0</td>\n",
       "      <td>...</td>\n",
       "      <td>0</td>\n",
       "      <td>0</td>\n",
       "      <td>0</td>\n",
       "      <td>0</td>\n",
       "      <td>0</td>\n",
       "      <td>0</td>\n",
       "      <td>0</td>\n",
       "      <td>0</td>\n",
       "      <td>1</td>\n",
       "      <td>0</td>\n",
       "    </tr>\n",
       "  </tbody>\n",
       "</table>\n",
       "<p>2 rows × 64 columns</p>\n",
       "</div>"
      ],
      "text/plain": [
       "   day  device.isMobile  geoNetwork.city  geoNetwork.country  \\\n",
       "0   16                0                2                   1   \n",
       "1   16                0                2                   1   \n",
       "\n",
       "   geoNetwork.networkDomain  geoNetwork.region  geoNetwork.subContinent  \\\n",
       "0                         0                  3                        0   \n",
       "1                         0                  3                        0   \n",
       "\n",
       "   holiday_var  month  totals.bounces ...   None  Opera Mini  Safari  \\\n",
       "0            0     10             0.0 ...      0           0       0   \n",
       "1            0     10             0.0 ...      0           0       0   \n",
       "\n",
       "   Samsung Internet  Android  Linux  Macintosh  None2  Windows  iOS  \n",
       "0                 0        0      0          1      0        0    0  \n",
       "1                 0        0      0          0      0        1    0  \n",
       "\n",
       "[2 rows x 64 columns]"
      ]
     },
     "execution_count": 564,
     "metadata": {},
     "output_type": "execute_result"
    }
   ],
   "source": []
  },
  {
   "cell_type": "code",
   "execution_count": 565,
   "metadata": {},
   "outputs": [],
   "source": [
    "preds = model.predict(test[features], num_iteration=model.best_iteration)\n",
    "test[\"PredictedLogRevenue\"] = np.expm1(preds)\n"
   ]
  },
  {
   "cell_type": "code",
   "execution_count": 566,
   "metadata": {},
   "outputs": [],
   "source": [
    "test['fullVisitorId'] = test_vis_id"
   ]
  },
  {
   "cell_type": "code",
   "execution_count": 567,
   "metadata": {},
   "outputs": [
    {
     "data": {
      "text/plain": [
       "day                                                               int64\n",
       "device.isMobile                                                   int64\n",
       "geoNetwork.city                                                   int64\n",
       "geoNetwork.country                                                int64\n",
       "geoNetwork.networkDomain                                          int64\n",
       "geoNetwork.region                                                 int64\n",
       "geoNetwork.subContinent                                           int64\n",
       "holiday_var                                                       int64\n",
       "month                                                             int64\n",
       "totals.bounces                                                  float64\n",
       "totals.hits                                                     float64\n",
       "totals.newVisits                                                float64\n",
       "totals.pageviews                                                float64\n",
       "totals.transactionRevenue                                       float64\n",
       "trafficSource.campaign                                            int64\n",
       "trafficSource.keyword                                             int64\n",
       "trafficSource.source                                              int64\n",
       "weekday                                                           int64\n",
       "channelGrouping_(Other)                                           uint8\n",
       "channelGrouping_Affiliates                                        uint8\n",
       "channelGrouping_Direct                                            uint8\n",
       "channelGrouping_Display                                           uint8\n",
       "channelGrouping_Organic Search                                    uint8\n",
       "channelGrouping_Paid Search                                       uint8\n",
       "channelGrouping_Referral                                          uint8\n",
       "channelGrouping_Social                                            uint8\n",
       "trafficSource.medium_(none)                                       uint8\n",
       "trafficSource.medium_(not set)                                    uint8\n",
       "trafficSource.medium_affiliate                                    uint8\n",
       "trafficSource.medium_cpc                                          uint8\n",
       "                                                                 ...   \n",
       "geoNetwork.continent_Europe                                       uint8\n",
       "geoNetwork.continent_Oceania                                      uint8\n",
       "trafficSource.adwordsClickInfo.adNetworkType_Content              uint8\n",
       "trafficSource.adwordsClickInfo.adNetworkType_Google Search        uint8\n",
       "trafficSource.adwordsClickInfo.adNetworkType_Search partners      uint8\n",
       "trafficSource.adwordsClickInfo.slot_Google Display Network        uint8\n",
       "trafficSource.adwordsClickInfo.slot_RHS                           uint8\n",
       "trafficSource.adwordsClickInfo.slot_Top                           uint8\n",
       "device.deviceCategory_desktop                                     uint8\n",
       "device.deviceCategory_mobile                                      uint8\n",
       "device.deviceCategory_tablet                                      uint8\n",
       "trafficSource.adwordsClickInfo.isVideoAd_False                    uint8\n",
       "trafficSource.isTrueDirect_True                                   uint8\n",
       "Android Webview                                                   uint8\n",
       "Chrome                                                            uint8\n",
       "Edge                                                              uint8\n",
       "Firefox                                                           uint8\n",
       "Internet Explorer                                                 uint8\n",
       "None                                                              uint8\n",
       "Opera Mini                                                        uint8\n",
       "Safari                                                            uint8\n",
       "Samsung Internet                                                  uint8\n",
       "Android                                                           uint8\n",
       "Linux                                                             uint8\n",
       "Macintosh                                                         uint8\n",
       "None2                                                             uint8\n",
       "Windows                                                           uint8\n",
       "iOS                                                               uint8\n",
       "PredictedLogRevenue                                             float64\n",
       "fullVisitorId                                                    object\n",
       "Length: 67, dtype: object"
      ]
     },
     "execution_count": 567,
     "metadata": {},
     "output_type": "execute_result"
    }
   ],
   "source": [
    "test.dtypes"
   ]
  },
  {
   "cell_type": "code",
   "execution_count": null,
   "metadata": {},
   "outputs": [],
   "source": []
  },
  {
   "cell_type": "code",
   "execution_count": 568,
   "metadata": {},
   "outputs": [
    {
     "name": "stderr",
     "output_type": "stream",
     "text": [
      "/home/apratim941208/anaconda3/envs/ds/lib/python3.6/site-packages/ipykernel_launcher.py:2: RuntimeWarning: invalid value encountered in log1p\n",
      "  \n"
     ]
    }
   ],
   "source": [
    "submission = test.groupby(\"fullVisitorId\").agg({\"PredictedLogRevenue\" : \"sum\"}).reset_index()\n",
    "submission[\"PredictedLogRevenue\"] = np.log1p(submission[\"PredictedLogRevenue\"])\n",
    "submission[\"PredictedLogRevenue\"] =  submission[\"PredictedLogRevenue\"].apply(lambda x : 0.0 if x < 0 else x)\n"
   ]
  },
  {
   "cell_type": "code",
   "execution_count": 569,
   "metadata": {},
   "outputs": [
    {
     "data": {
      "text/plain": [
       "fullVisitorId           object\n",
       "PredictedLogRevenue    float64\n",
       "dtype: object"
      ]
     },
     "execution_count": 569,
     "metadata": {},
     "output_type": "execute_result"
    }
   ],
   "source": [
    "submission.dtypes"
   ]
  },
  {
   "cell_type": "code",
   "execution_count": 570,
   "metadata": {},
   "outputs": [
    {
     "data": {
      "text/plain": [
       "(617242, 2)"
      ]
     },
     "execution_count": 570,
     "metadata": {},
     "output_type": "execute_result"
    }
   ],
   "source": [
    "submission.shape"
   ]
  },
  {
   "cell_type": "code",
   "execution_count": 571,
   "metadata": {},
   "outputs": [
    {
     "data": {
      "text/plain": [
       "fullVisitorId          0\n",
       "PredictedLogRevenue    8\n",
       "dtype: int64"
      ]
     },
     "execution_count": 571,
     "metadata": {},
     "output_type": "execute_result"
    }
   ],
   "source": [
    "submission.isnull().sum()"
   ]
  },
  {
   "cell_type": "code",
   "execution_count": null,
   "metadata": {},
   "outputs": [],
   "source": []
  },
  {
   "cell_type": "code",
   "execution_count": 572,
   "metadata": {},
   "outputs": [],
   "source": [
    "submission['PredictedLogRevenue'] = submission['PredictedLogRevenue'].fillna(0.0)"
   ]
  },
  {
   "cell_type": "code",
   "execution_count": null,
   "metadata": {},
   "outputs": [],
   "source": []
  },
  {
   "cell_type": "code",
   "execution_count": 573,
   "metadata": {},
   "outputs": [
    {
     "data": {
      "text/html": [
       "<div>\n",
       "<style scoped>\n",
       "    .dataframe tbody tr th:only-of-type {\n",
       "        vertical-align: middle;\n",
       "    }\n",
       "\n",
       "    .dataframe tbody tr th {\n",
       "        vertical-align: top;\n",
       "    }\n",
       "\n",
       "    .dataframe thead th {\n",
       "        text-align: right;\n",
       "    }\n",
       "</style>\n",
       "<table border=\"1\" class=\"dataframe\">\n",
       "  <thead>\n",
       "    <tr style=\"text-align: right;\">\n",
       "      <th></th>\n",
       "      <th>fullVisitorId</th>\n",
       "      <th>PredictedLogRevenue</th>\n",
       "    </tr>\n",
       "  </thead>\n",
       "  <tbody>\n",
       "    <tr>\n",
       "      <th>0</th>\n",
       "      <td>0000000259678714014</td>\n",
       "      <td>0.316812</td>\n",
       "    </tr>\n",
       "    <tr>\n",
       "      <th>1</th>\n",
       "      <td>0000049363351866189</td>\n",
       "      <td>0.000000</td>\n",
       "    </tr>\n",
       "    <tr>\n",
       "      <th>2</th>\n",
       "      <td>0000053049821714864</td>\n",
       "      <td>0.000000</td>\n",
       "    </tr>\n",
       "    <tr>\n",
       "      <th>3</th>\n",
       "      <td>0000059488412965267</td>\n",
       "      <td>0.000000</td>\n",
       "    </tr>\n",
       "    <tr>\n",
       "      <th>4</th>\n",
       "      <td>0000085840370633780</td>\n",
       "      <td>0.000000</td>\n",
       "    </tr>\n",
       "  </tbody>\n",
       "</table>\n",
       "</div>"
      ],
      "text/plain": [
       "         fullVisitorId  PredictedLogRevenue\n",
       "0  0000000259678714014             0.316812\n",
       "1  0000049363351866189             0.000000\n",
       "2  0000053049821714864             0.000000\n",
       "3  0000059488412965267             0.000000\n",
       "4  0000085840370633780             0.000000"
      ]
     },
     "execution_count": 573,
     "metadata": {},
     "output_type": "execute_result"
    }
   ],
   "source": [
    "submission.to_csv(\"baseline_lgb.csv\", index=False)\n",
    "submission.head()"
   ]
  },
  {
   "cell_type": "code",
   "execution_count": null,
   "metadata": {},
   "outputs": [],
   "source": []
  },
  {
   "cell_type": "code",
   "execution_count": null,
   "metadata": {},
   "outputs": [],
   "source": []
  },
  {
   "cell_type": "code",
   "execution_count": 336,
   "metadata": {},
   "outputs": [
    {
     "data": {
      "text/plain": [
       "(617242,)"
      ]
     },
     "execution_count": 336,
     "metadata": {},
     "output_type": "execute_result"
    }
   ],
   "source": [
    "test_vis_id.unique().shape"
   ]
  },
  {
   "cell_type": "code",
   "execution_count": null,
   "metadata": {},
   "outputs": [],
   "source": []
  },
  {
   "cell_type": "code",
   "execution_count": 342,
   "metadata": {},
   "outputs": [
    {
     "data": {
      "text/plain": [
       "True"
      ]
     },
     "execution_count": 342,
     "metadata": {},
     "output_type": "execute_result"
    }
   ],
   "source": [
    "'0000130646294093000' in list(test_vis_id)"
   ]
  },
  {
   "cell_type": "code",
   "execution_count": 311,
   "metadata": {},
   "outputs": [
    {
     "data": {
      "text/plain": [
       "0    6167871330617112363\n",
       "1    0643697640977915618\n",
       "2    6059383810968229466\n",
       "3    2376720078563423631\n",
       "4    2314544520795440038\n",
       "Name: fullVisitorId, dtype: object"
      ]
     },
     "execution_count": 311,
     "metadata": {},
     "output_type": "execute_result"
    }
   ],
   "source": [
    "test_vis_id.head(5)"
   ]
  },
  {
   "cell_type": "code",
   "execution_count": null,
   "metadata": {},
   "outputs": [],
   "source": []
  },
  {
   "cell_type": "code",
   "execution_count": null,
   "metadata": {},
   "outputs": [],
   "source": []
  },
  {
   "cell_type": "code",
   "execution_count": null,
   "metadata": {},
   "outputs": [],
   "source": []
  },
  {
   "cell_type": "code",
   "execution_count": null,
   "metadata": {},
   "outputs": [],
   "source": []
  },
  {
   "cell_type": "code",
   "execution_count": 372,
   "metadata": {},
   "outputs": [
    {
     "data": {
      "text/html": [
       "<div>\n",
       "<style scoped>\n",
       "    .dataframe tbody tr th:only-of-type {\n",
       "        vertical-align: middle;\n",
       "    }\n",
       "\n",
       "    .dataframe tbody tr th {\n",
       "        vertical-align: top;\n",
       "    }\n",
       "\n",
       "    .dataframe thead th {\n",
       "        text-align: right;\n",
       "    }\n",
       "</style>\n",
       "<table border=\"1\" class=\"dataframe\">\n",
       "  <thead>\n",
       "    <tr style=\"text-align: right;\">\n",
       "      <th></th>\n",
       "      <th>fullVisitorId</th>\n",
       "      <th>PredictedLogRevenue</th>\n",
       "    </tr>\n",
       "  </thead>\n",
       "  <tbody>\n",
       "    <tr>\n",
       "      <th>0</th>\n",
       "      <td>0000000259678714014</td>\n",
       "      <td>0.188578</td>\n",
       "    </tr>\n",
       "    <tr>\n",
       "      <th>1</th>\n",
       "      <td>0000049363351866189</td>\n",
       "      <td>0.000000</td>\n",
       "    </tr>\n",
       "    <tr>\n",
       "      <th>2</th>\n",
       "      <td>0000053049821714864</td>\n",
       "      <td>0.000000</td>\n",
       "    </tr>\n",
       "    <tr>\n",
       "      <th>3</th>\n",
       "      <td>0000059488412965267</td>\n",
       "      <td>0.000000</td>\n",
       "    </tr>\n",
       "    <tr>\n",
       "      <th>4</th>\n",
       "      <td>0000085840370633780</td>\n",
       "      <td>0.000000</td>\n",
       "    </tr>\n",
       "  </tbody>\n",
       "</table>\n",
       "</div>"
      ],
      "text/plain": [
       "         fullVisitorId  PredictedLogRevenue\n",
       "0  0000000259678714014             0.188578\n",
       "1  0000049363351866189             0.000000\n",
       "2  0000053049821714864             0.000000\n",
       "3  0000059488412965267             0.000000\n",
       "4  0000085840370633780             0.000000"
      ]
     },
     "execution_count": 372,
     "metadata": {},
     "output_type": "execute_result"
    }
   ],
   "source": []
  },
  {
   "cell_type": "code",
   "execution_count": null,
   "metadata": {},
   "outputs": [],
   "source": []
  },
  {
   "cell_type": "code",
   "execution_count": 347,
   "metadata": {},
   "outputs": [
    {
     "data": {
      "text/plain": [
       "((903653, 66), (804684, 66))"
      ]
     },
     "execution_count": 347,
     "metadata": {},
     "output_type": "execute_result"
    }
   ],
   "source": [
    "train.shape, test.shape"
   ]
  },
  {
   "cell_type": "code",
   "execution_count": 361,
   "metadata": {},
   "outputs": [
    {
     "data": {
      "text/plain": [
       "(617242, 2)"
      ]
     },
     "execution_count": 361,
     "metadata": {},
     "output_type": "execute_result"
    }
   ],
   "source": [
    "submission.shape"
   ]
  },
  {
   "cell_type": "code",
   "execution_count": 444,
   "metadata": {},
   "outputs": [
    {
     "data": {
      "text/plain": [
       "(dtype('O'), dtype('float64'))"
      ]
     },
     "execution_count": 444,
     "metadata": {},
     "output_type": "execute_result"
    }
   ],
   "source": [
    "test_df['fullVisitorId'].dtype, test['fullVisitorId'].dtype"
   ]
  },
  {
   "cell_type": "code",
   "execution_count": 445,
   "metadata": {},
   "outputs": [
    {
     "data": {
      "text/plain": [
       "0"
      ]
     },
     "execution_count": 445,
     "metadata": {},
     "output_type": "execute_result"
    }
   ],
   "source": [
    "len(set(test_df['fullVisitorId']).intersection(set(test['fullVisitorId'])))"
   ]
  },
  {
   "cell_type": "code",
   "execution_count": 367,
   "metadata": {},
   "outputs": [],
   "source": [
    "submission.to_csv(\"baseline_lgb.csv\", index=False)"
   ]
  },
  {
   "cell_type": "code",
   "execution_count": 370,
   "metadata": {},
   "outputs": [],
   "source": [
    "submission_new = pd.DataFrame(submission)"
   ]
  },
  {
   "cell_type": "code",
   "execution_count": 446,
   "metadata": {},
   "outputs": [
    {
     "data": {
      "text/html": [
       "<div>\n",
       "<style scoped>\n",
       "    .dataframe tbody tr th:only-of-type {\n",
       "        vertical-align: middle;\n",
       "    }\n",
       "\n",
       "    .dataframe tbody tr th {\n",
       "        vertical-align: top;\n",
       "    }\n",
       "\n",
       "    .dataframe thead th {\n",
       "        text-align: right;\n",
       "    }\n",
       "</style>\n",
       "<table border=\"1\" class=\"dataframe\">\n",
       "  <thead>\n",
       "    <tr style=\"text-align: right;\">\n",
       "      <th></th>\n",
       "      <th>fullVisitorId</th>\n",
       "      <th>PredictedLogRevenue</th>\n",
       "    </tr>\n",
       "  </thead>\n",
       "  <tbody>\n",
       "    <tr>\n",
       "      <th>617232</th>\n",
       "      <td>8.398477224797657e+19</td>\n",
       "      <td>0.003694</td>\n",
       "    </tr>\n",
       "    <tr>\n",
       "      <th>617233</th>\n",
       "      <td>8.473852272867009e+19</td>\n",
       "      <td>0.003765</td>\n",
       "    </tr>\n",
       "    <tr>\n",
       "      <th>617234</th>\n",
       "      <td>8.875697195081336e+19</td>\n",
       "      <td>0.003765</td>\n",
       "    </tr>\n",
       "    <tr>\n",
       "      <th>617235</th>\n",
       "      <td>9.049160394281915e+19</td>\n",
       "      <td>0.003775</td>\n",
       "    </tr>\n",
       "    <tr>\n",
       "      <th>617236</th>\n",
       "      <td>9.300581812882661e+19</td>\n",
       "      <td>0.003758</td>\n",
       "    </tr>\n",
       "    <tr>\n",
       "      <th>617237</th>\n",
       "      <td>9.369797024712591e+19</td>\n",
       "      <td>0.001638</td>\n",
       "    </tr>\n",
       "    <tr>\n",
       "      <th>617238</th>\n",
       "      <td>9.406859810512901e+19</td>\n",
       "      <td>0.003694</td>\n",
       "    </tr>\n",
       "    <tr>\n",
       "      <th>617239</th>\n",
       "      <td>9.445575813421752e+19</td>\n",
       "      <td>0.000783</td>\n",
       "    </tr>\n",
       "    <tr>\n",
       "      <th>617240</th>\n",
       "      <td>9.490734873447455e+19</td>\n",
       "      <td>0.003765</td>\n",
       "    </tr>\n",
       "    <tr>\n",
       "      <th>617241</th>\n",
       "      <td>9.891190212878238e+19</td>\n",
       "      <td>0.003765</td>\n",
       "    </tr>\n",
       "  </tbody>\n",
       "</table>\n",
       "</div>"
      ],
      "text/plain": [
       "                fullVisitorId  PredictedLogRevenue\n",
       "617232  8.398477224797657e+19             0.003694\n",
       "617233  8.473852272867009e+19             0.003765\n",
       "617234  8.875697195081336e+19             0.003765\n",
       "617235  9.049160394281915e+19             0.003775\n",
       "617236  9.300581812882661e+19             0.003758\n",
       "617237  9.369797024712591e+19             0.001638\n",
       "617238  9.406859810512901e+19             0.003694\n",
       "617239  9.445575813421752e+19             0.000783\n",
       "617240  9.490734873447455e+19             0.003765\n",
       "617241  9.891190212878238e+19             0.003765"
      ]
     },
     "execution_count": 446,
     "metadata": {},
     "output_type": "execute_result"
    }
   ],
   "source": [
    "submission_new.tail(10)"
   ]
  },
  {
   "cell_type": "code",
   "execution_count": 447,
   "metadata": {},
   "outputs": [
    {
     "data": {
      "text/plain": [
       "fullVisitorId          0\n",
       "PredictedLogRevenue    0\n",
       "dtype: int64"
      ]
     },
     "execution_count": 447,
     "metadata": {},
     "output_type": "execute_result"
    }
   ],
   "source": [
    "submission_new.isnull().sum()"
   ]
  },
  {
   "cell_type": "code",
   "execution_count": 386,
   "metadata": {},
   "outputs": [],
   "source": [
    "submission_new['PredictedLogRevenue'] = submission_new['PredictedLogRevenue'].fillna(0.0)"
   ]
  },
  {
   "cell_type": "code",
   "execution_count": 461,
   "metadata": {},
   "outputs": [
    {
     "data": {
      "text/plain": [
       "fullVisitorId          617242\n",
       "PredictedLogRevenue     85528\n",
       "dtype: int64"
      ]
     },
     "execution_count": 461,
     "metadata": {},
     "output_type": "execute_result"
    }
   ],
   "source": [
    "submission_new.nunique()"
   ]
  },
  {
   "cell_type": "code",
   "execution_count": 462,
   "metadata": {},
   "outputs": [
    {
     "data": {
      "text/plain": [
       "fullVisitorId          0\n",
       "PredictedLogRevenue    0\n",
       "dtype: int64"
      ]
     },
     "execution_count": 462,
     "metadata": {},
     "output_type": "execute_result"
    }
   ],
   "source": [
    "submission_new.isnull().sum()"
   ]
  },
  {
   "cell_type": "code",
   "execution_count": 463,
   "metadata": {},
   "outputs": [],
   "source": [
    "submission_new.to_csv('baseline_lgb.csv',index=False)"
   ]
  },
  {
   "cell_type": "code",
   "execution_count": null,
   "metadata": {},
   "outputs": [],
   "source": []
  },
  {
   "cell_type": "code",
   "execution_count": 465,
   "metadata": {},
   "outputs": [
    {
     "name": "stdout",
     "output_type": "stream",
     "text": [
      "Requirement already satisfied: kaggle in /home/apratim941208/.local/lib/python3.6/site-packages (1.4.7.1)\n",
      "Requirement already satisfied: python-dateutil in /home/apratim941208/anaconda3/envs/ds/lib/python3.6/site-packages (from kaggle) (2.7.3)\n",
      "Requirement already satisfied: urllib3<1.23.0,>=1.15 in /home/apratim941208/.local/lib/python3.6/site-packages (from kaggle) (1.22)\n",
      "Requirement already satisfied: six>=1.10 in /home/apratim941208/anaconda3/envs/ds/lib/python3.6/site-packages (from kaggle) (1.11.0)\n",
      "Requirement already satisfied: tqdm in /home/apratim941208/.local/lib/python3.6/site-packages (from kaggle) (4.27.0)\n",
      "Requirement already satisfied: requests in /home/apratim941208/anaconda3/envs/ds/lib/python3.6/site-packages (from kaggle) (2.19.1)\n",
      "Requirement already satisfied: python-slugify in /home/apratim941208/.local/lib/python3.6/site-packages (from kaggle) (1.2.6)\n",
      "Requirement already satisfied: certifi in /home/apratim941208/anaconda3/envs/ds/lib/python3.6/site-packages (from kaggle) (2018.10.15)\n",
      "Requirement already satisfied: idna<2.8,>=2.5 in /home/apratim941208/anaconda3/envs/ds/lib/python3.6/site-packages (from requests->kaggle) (2.7)\n",
      "Requirement already satisfied: chardet<3.1.0,>=3.0.2 in /home/apratim941208/anaconda3/envs/ds/lib/python3.6/site-packages (from requests->kaggle) (3.0.4)\n",
      "Requirement already satisfied: Unidecode>=0.04.16 in /home/apratim941208/.local/lib/python3.6/site-packages (from python-slugify->kaggle) (1.0.22)\n"
     ]
    }
   ],
   "source": [
    "!pip install --user kaggle"
   ]
  },
  {
   "cell_type": "code",
   "execution_count": 464,
   "metadata": {},
   "outputs": [
    {
     "name": "stdout",
     "output_type": "stream",
     "text": [
      "401 - Unauthorized\r\n"
     ]
    }
   ],
   "source": [
    "!kaggle competitions submit -c ga-customer-revenue-prediction -f baseline_lgb.csv -m \"LGB\""
   ]
  },
  {
   "cell_type": "code",
   "execution_count": null,
   "metadata": {},
   "outputs": [],
   "source": []
  },
  {
   "cell_type": "code",
   "execution_count": 393,
   "metadata": {},
   "outputs": [
    {
     "data": {
      "text/plain": [
       "False"
      ]
     },
     "execution_count": 393,
     "metadata": {},
     "output_type": "execute_result"
    }
   ],
   "source": [
    "test['fullVisitorId'].any()<0"
   ]
  },
  {
   "cell_type": "code",
   "execution_count": 413,
   "metadata": {},
   "outputs": [
    {
     "data": {
      "text/plain": [
       "False"
      ]
     },
     "execution_count": 413,
     "metadata": {},
     "output_type": "execute_result"
    }
   ],
   "source": [
    "['0000000259678714014'] in (list(submission_new['fullVisitorId']))"
   ]
  },
  {
   "cell_type": "code",
   "execution_count": 414,
   "metadata": {},
   "outputs": [
    {
     "data": {
      "text/plain": [
       "False"
      ]
     },
     "execution_count": 414,
     "metadata": {},
     "output_type": "execute_result"
    }
   ],
   "source": [
    "['0000000259678714014'] in (list(test['fullVisitorId']))"
   ]
  },
  {
   "cell_type": "code",
   "execution_count": 416,
   "metadata": {},
   "outputs": [
    {
     "data": {
      "text/plain": [
       "False"
      ]
     },
     "execution_count": 416,
     "metadata": {},
     "output_type": "execute_result"
    }
   ],
   "source": [
    "['0000000259678714014'] in (list(test_check['fullVisitorId']))"
   ]
  },
  {
   "cell_type": "code",
   "execution_count": 420,
   "metadata": {},
   "outputs": [],
   "source": [
    "submission_new['fullVisitorId'] = submission_new['fullVisitorId'].astype(str)"
   ]
  },
  {
   "cell_type": "code",
   "execution_count": 424,
   "metadata": {},
   "outputs": [
    {
     "data": {
      "text/plain": [
       "fullVisitorId           object\n",
       "PredictedLogRevenue    float64\n",
       "dtype: object"
      ]
     },
     "execution_count": 424,
     "metadata": {},
     "output_type": "execute_result"
    }
   ],
   "source": [
    "submission_new.dtypes"
   ]
  },
  {
   "cell_type": "code",
   "execution_count": 429,
   "metadata": {},
   "outputs": [
    {
     "data": {
      "text/plain": [
       "fullVisitorId          False\n",
       "PredictedLogRevenue    False\n",
       "dtype: bool"
      ]
     },
     "execution_count": 429,
     "metadata": {},
     "output_type": "execute_result"
    }
   ],
   "source": [
    "submission_new.isna().any()"
   ]
  },
  {
   "cell_type": "code",
   "execution_count": null,
   "metadata": {},
   "outputs": [],
   "source": []
  },
  {
   "cell_type": "code",
   "execution_count": 380,
   "metadata": {},
   "outputs": [
    {
     "data": {
      "text/plain": [
       "fullVisitorId           0\n",
       "PredictedLogRevenue    17\n",
       "dtype: int64"
      ]
     },
     "execution_count": 380,
     "metadata": {},
     "output_type": "execute_result"
    }
   ],
   "source": [
    "submission.isnull().sum()"
   ]
  },
  {
   "cell_type": "code",
   "execution_count": 331,
   "metadata": {},
   "outputs": [],
   "source": [
    "submission['PredictedLogRevenue'] = submission['PredictedLogRevenue'].fillna(0.0)"
   ]
  },
  {
   "cell_type": "code",
   "execution_count": 337,
   "metadata": {},
   "outputs": [],
   "source": [
    "submission['fullVisitorId'] = submission['fullVisitorId'].astype('int')"
   ]
  },
  {
   "cell_type": "code",
   "execution_count": 442,
   "metadata": {},
   "outputs": [
    {
     "data": {
      "text/html": [
       "<div>\n",
       "<style scoped>\n",
       "    .dataframe tbody tr th:only-of-type {\n",
       "        vertical-align: middle;\n",
       "    }\n",
       "\n",
       "    .dataframe tbody tr th {\n",
       "        vertical-align: top;\n",
       "    }\n",
       "\n",
       "    .dataframe thead th {\n",
       "        text-align: right;\n",
       "    }\n",
       "</style>\n",
       "<table border=\"1\" class=\"dataframe\">\n",
       "  <thead>\n",
       "    <tr style=\"text-align: right;\">\n",
       "      <th></th>\n",
       "      <th>fullVisitorId</th>\n",
       "      <th>PredictedLogRevenue</th>\n",
       "    </tr>\n",
       "  </thead>\n",
       "  <tbody>\n",
       "    <tr>\n",
       "      <th>0</th>\n",
       "      <td>2.596787e+11</td>\n",
       "      <td>0.199390</td>\n",
       "    </tr>\n",
       "    <tr>\n",
       "      <th>1</th>\n",
       "      <td>3.038793e+12</td>\n",
       "      <td>0.000000</td>\n",
       "    </tr>\n",
       "    <tr>\n",
       "      <th>2</th>\n",
       "      <td>9.663019e+12</td>\n",
       "      <td>0.000000</td>\n",
       "    </tr>\n",
       "    <tr>\n",
       "      <th>3</th>\n",
       "      <td>1.043846e+13</td>\n",
       "      <td>0.010134</td>\n",
       "    </tr>\n",
       "    <tr>\n",
       "      <th>4</th>\n",
       "      <td>1.099298e+13</td>\n",
       "      <td>0.000233</td>\n",
       "    </tr>\n",
       "  </tbody>\n",
       "</table>\n",
       "</div>"
      ],
      "text/plain": [
       "   fullVisitorId  PredictedLogRevenue\n",
       "0   2.596787e+11             0.199390\n",
       "1   3.038793e+12             0.000000\n",
       "2   9.663019e+12             0.000000\n",
       "3   1.043846e+13             0.010134\n",
       "4   1.099298e+13             0.000233"
      ]
     },
     "execution_count": 442,
     "metadata": {},
     "output_type": "execute_result"
    }
   ],
   "source": [
    "submission_new.to_csv(\"baseline_lgb.csv\", index=False)\n",
    "submission.head()"
   ]
  },
  {
   "cell_type": "code",
   "execution_count": 431,
   "metadata": {},
   "outputs": [
    {
     "data": {
      "text/plain": [
       "617242"
      ]
     },
     "execution_count": 431,
     "metadata": {},
     "output_type": "execute_result"
    }
   ],
   "source": [
    "submission_new['fullVisitorId'].nunique()"
   ]
  },
  {
   "cell_type": "code",
   "execution_count": 453,
   "metadata": {},
   "outputs": [
    {
     "data": {
      "text/plain": [
       "False"
      ]
     },
     "execution_count": 453,
     "metadata": {},
     "output_type": "execute_result"
    }
   ],
   "source": [
    "['53049821714864'] in list(test['fullVisitorId'])"
   ]
  },
  {
   "cell_type": "code",
   "execution_count": 454,
   "metadata": {},
   "outputs": [
    {
     "data": {
      "text/plain": [
       "False"
      ]
     },
     "execution_count": 454,
     "metadata": {},
     "output_type": "execute_result"
    }
   ],
   "source": [
    "['0000000259678714014'] in list(test_check['fullVisitorId'])"
   ]
  },
  {
   "cell_type": "code",
   "execution_count": null,
   "metadata": {},
   "outputs": [],
   "source": []
  },
  {
   "cell_type": "code",
   "execution_count": 438,
   "metadata": {},
   "outputs": [
    {
     "data": {
      "text/plain": [
       "fullVisitorId          617242\n",
       "PredictedLogRevenue     85528\n",
       "dtype: int64"
      ]
     },
     "execution_count": 438,
     "metadata": {},
     "output_type": "execute_result"
    }
   ],
   "source": [
    "submission_new.nunique()"
   ]
  },
  {
   "cell_type": "code",
   "execution_count": 437,
   "metadata": {},
   "outputs": [
    {
     "data": {
      "text/plain": [
       "fullVisitorId          0\n",
       "PredictedLogRevenue    0\n",
       "dtype: int64"
      ]
     },
     "execution_count": 437,
     "metadata": {},
     "output_type": "execute_result"
    }
   ],
   "source": [
    "submission_new.isnull().sum()"
   ]
  },
  {
   "cell_type": "code",
   "execution_count": 443,
   "metadata": {},
   "outputs": [
    {
     "data": {
      "text/plain": [
       "fullVisitorId           object\n",
       "PredictedLogRevenue    float64\n",
       "dtype: object"
      ]
     },
     "execution_count": 443,
     "metadata": {},
     "output_type": "execute_result"
    }
   ],
   "source": [
    "submission_new.dtypes"
   ]
  },
  {
   "cell_type": "code",
   "execution_count": null,
   "metadata": {},
   "outputs": [],
   "source": [
    "submission"
   ]
  },
  {
   "cell_type": "code",
   "execution_count": null,
   "metadata": {},
   "outputs": [],
   "source": []
  },
  {
   "cell_type": "code",
   "execution_count": null,
   "metadata": {},
   "outputs": [],
   "source": []
  },
  {
   "cell_type": "code",
   "execution_count": null,
   "metadata": {},
   "outputs": [],
   "source": []
  },
  {
   "cell_type": "code",
   "execution_count": null,
   "metadata": {},
   "outputs": [],
   "source": []
  },
  {
   "cell_type": "code",
   "execution_count": null,
   "metadata": {},
   "outputs": [],
   "source": []
  },
  {
   "cell_type": "code",
   "execution_count": null,
   "metadata": {},
   "outputs": [],
   "source": []
  },
  {
   "cell_type": "code",
   "execution_count": 310,
   "metadata": {},
   "outputs": [],
   "source": [
    "filename= 'lgbmodel1.sav'"
   ]
  },
  {
   "cell_type": "code",
   "execution_count": 311,
   "metadata": {},
   "outputs": [],
   "source": [
    "pickle.dump(model, open(filename, 'wb'))"
   ]
  },
  {
   "cell_type": "code",
   "execution_count": 323,
   "metadata": {},
   "outputs": [
    {
     "data": {
      "text/plain": [
       "(804684, 65)"
      ]
     },
     "execution_count": 323,
     "metadata": {},
     "output_type": "execute_result"
    }
   ],
   "source": [
    "test.shape"
   ]
  },
  {
   "cell_type": "code",
   "execution_count": null,
   "metadata": {},
   "outputs": [],
   "source": []
  },
  {
   "cell_type": "code",
   "execution_count": null,
   "metadata": {},
   "outputs": [],
   "source": []
  },
  {
   "cell_type": "code",
   "execution_count": 312,
   "metadata": {},
   "outputs": [],
   "source": [
    "import xgboost as xgb"
   ]
  },
  {
   "cell_type": "code",
   "execution_count": null,
   "metadata": {},
   "outputs": [],
   "source": []
  },
  {
   "cell_type": "code",
   "execution_count": null,
   "metadata": {},
   "outputs": [],
   "source": []
  },
  {
   "cell_type": "code",
   "execution_count": null,
   "metadata": {},
   "outputs": [],
   "source": []
  },
  {
   "cell_type": "code",
   "execution_count": null,
   "metadata": {},
   "outputs": [],
   "source": []
  },
  {
   "cell_type": "code",
   "execution_count": 313,
   "metadata": {},
   "outputs": [],
   "source": [
    "features = ['day', 'device.isMobile', 'fullVisitorId', 'geoNetwork.city',\n",
    "       'geoNetwork.country', 'geoNetwork.networkDomain', 'geoNetwork.region',\n",
    "       'geoNetwork.subContinent', 'holiday_var', 'month', 'totals.bounces',\n",
    "       'totals.hits', 'totals.newVisits', 'totals.pageviews', 'trafficSource.campaign',\n",
    "       'trafficSource.keyword', 'trafficSource.source', 'weekday',\n",
    "       'channelGrouping_(Other)', 'channelGrouping_Affiliates',\n",
    "       'channelGrouping_Direct', 'channelGrouping_Display',\n",
    "       'channelGrouping_Organic Search', 'channelGrouping_Paid Search',\n",
    "       'channelGrouping_Referral', 'channelGrouping_Social',\n",
    "       'trafficSource.medium_(none)', 'trafficSource.medium_(not set)',\n",
    "       'trafficSource.medium_affiliate', 'trafficSource.medium_cpc',\n",
    "       'trafficSource.medium_cpm', 'trafficSource.medium_organic',\n",
    "       'trafficSource.medium_referral', 'geoNetwork.continent_(not set)',\n",
    "       'geoNetwork.continent_Africa', 'geoNetwork.continent_Americas',\n",
    "       'geoNetwork.continent_Asia', 'geoNetwork.continent_Europe',\n",
    "       'geoNetwork.continent_Oceania',\n",
    "       'trafficSource.adwordsClickInfo.adNetworkType_Content',\n",
    "       'trafficSource.adwordsClickInfo.adNetworkType_Google Search',\n",
    "       'trafficSource.adwordsClickInfo.adNetworkType_Search partners',\n",
    "       'trafficSource.adwordsClickInfo.slot_Google Display Network',\n",
    "       'trafficSource.adwordsClickInfo.slot_RHS',\n",
    "       'trafficSource.adwordsClickInfo.slot_Top',\n",
    "       'device.deviceCategory_desktop', 'device.deviceCategory_mobile',\n",
    "       'device.deviceCategory_tablet',\n",
    "       'trafficSource.adwordsClickInfo.isVideoAd_False',\n",
    "       'trafficSource.isTrueDirect_True', 'Android Webview', 'Chrome', 'Edge',\n",
    "       'Firefox', 'Internet Explorer', 'None', 'Opera Mini', 'Safari',\n",
    "       'Samsung Internet', 'Android', 'Linux', 'Macintosh', 'None2', 'Windows',\n",
    "       'iOS']"
   ]
  },
  {
   "cell_type": "code",
   "execution_count": null,
   "metadata": {},
   "outputs": [],
   "source": []
  },
  {
   "cell_type": "code",
   "execution_count": null,
   "metadata": {},
   "outputs": [],
   "source": []
  },
  {
   "cell_type": "code",
   "execution_count": null,
   "metadata": {},
   "outputs": [],
   "source": []
  },
  {
   "cell_type": "code",
   "execution_count": 314,
   "metadata": {},
   "outputs": [],
   "source": [
    "data_dmatrix = xgb.DMatrix(data=train[features], label=train['totals.transactionRevenue'])"
   ]
  },
  {
   "cell_type": "code",
   "execution_count": 315,
   "metadata": {},
   "outputs": [],
   "source": [
    "train_x, valid_x, train_y, valid_y = train_test_split(train[features], train[\"totals.transactionRevenue\"], test_size=0.25, random_state=20)"
   ]
  },
  {
   "cell_type": "code",
   "execution_count": 316,
   "metadata": {},
   "outputs": [],
   "source": [
    "xg_reg = xgb.XGBRegressor(objective ='reg:linear', colsample_bytree = 0.8, learning_rate = 0.02,\n",
    "                max_depth = 50, n_estimators = 50)"
   ]
  },
  {
   "cell_type": "code",
   "execution_count": 317,
   "metadata": {},
   "outputs": [
    {
     "data": {
      "text/plain": [
       "XGBRegressor(base_score=0.5, booster='gbtree', colsample_bylevel=1,\n",
       "       colsample_bytree=0.8, gamma=0, learning_rate=0.02, max_delta_step=0,\n",
       "       max_depth=50, min_child_weight=1, missing=None, n_estimators=50,\n",
       "       n_jobs=1, nthread=None, objective='reg:linear', random_state=0,\n",
       "       reg_alpha=0, reg_lambda=1, scale_pos_weight=1, seed=None,\n",
       "       silent=True, subsample=1)"
      ]
     },
     "execution_count": 317,
     "metadata": {},
     "output_type": "execute_result"
    }
   ],
   "source": [
    "xg_reg.fit(train_x,train_y)"
   ]
  },
  {
   "cell_type": "code",
   "execution_count": 318,
   "metadata": {},
   "outputs": [],
   "source": [
    "preds = xg_reg.predict(valid_x)"
   ]
  },
  {
   "cell_type": "code",
   "execution_count": 319,
   "metadata": {},
   "outputs": [
    {
     "name": "stdout",
     "output_type": "stream",
     "text": [
      "RMSE: 1.745692\n"
     ]
    }
   ],
   "source": [
    "rmse = np.sqrt(mean_squared_error(valid_y, preds))\n",
    "print(\"RMSE: %f\" % (rmse))"
   ]
  },
  {
   "cell_type": "code",
   "execution_count": 320,
   "metadata": {},
   "outputs": [],
   "source": [
    "filename2 = 'xgb1.sav'"
   ]
  },
  {
   "cell_type": "code",
   "execution_count": 321,
   "metadata": {},
   "outputs": [],
   "source": [
    "pickle.dump(xg_reg, open(filename2, 'wb'))"
   ]
  },
  {
   "cell_type": "code",
   "execution_count": 154,
   "metadata": {},
   "outputs": [
    {
     "data": {
      "text/plain": [
       "<xgboost.core.DMatrix at 0x7f6d43f24e48>"
      ]
     },
     "execution_count": 154,
     "metadata": {},
     "output_type": "execute_result"
    }
   ],
   "source": [
    "data_dmatrix"
   ]
  },
  {
   "cell_type": "code",
   "execution_count": 160,
   "metadata": {},
   "outputs": [
    {
     "name": "stdout",
     "output_type": "stream",
     "text": [
      "[20:36:43] /workspace/src/tree/updater_prune.cc:74: tree pruning end, 1 roots, 19444 extra nodes, 0 pruned nodes, max_depth=31\n",
      "[20:36:52] /workspace/src/tree/updater_prune.cc:74: tree pruning end, 1 roots, 19424 extra nodes, 0 pruned nodes, max_depth=36\n",
      "[20:37:02] /workspace/src/tree/updater_prune.cc:74: tree pruning end, 1 roots, 19278 extra nodes, 0 pruned nodes, max_depth=33\n",
      "[20:37:11] /workspace/src/tree/updater_prune.cc:74: tree pruning end, 1 roots, 19632 extra nodes, 0 pruned nodes, max_depth=31\n",
      "[20:37:20] /workspace/src/tree/updater_prune.cc:74: tree pruning end, 1 roots, 19430 extra nodes, 0 pruned nodes, max_depth=32\n",
      "[20:37:27] /workspace/src/tree/updater_prune.cc:74: tree pruning end, 1 roots, 17376 extra nodes, 0 pruned nodes, max_depth=31\n",
      "[20:37:34] /workspace/src/tree/updater_prune.cc:74: tree pruning end, 1 roots, 18306 extra nodes, 0 pruned nodes, max_depth=33\n",
      "[20:37:41] /workspace/src/tree/updater_prune.cc:74: tree pruning end, 1 roots, 17682 extra nodes, 0 pruned nodes, max_depth=28\n",
      "[20:37:48] /workspace/src/tree/updater_prune.cc:74: tree pruning end, 1 roots, 18302 extra nodes, 0 pruned nodes, max_depth=33\n",
      "[20:37:55] /workspace/src/tree/updater_prune.cc:74: tree pruning end, 1 roots, 17978 extra nodes, 0 pruned nodes, max_depth=29\n",
      "[20:38:01] /workspace/src/tree/updater_prune.cc:74: tree pruning end, 1 roots, 18122 extra nodes, 0 pruned nodes, max_depth=29\n",
      "[20:38:09] /workspace/src/tree/updater_prune.cc:74: tree pruning end, 1 roots, 16828 extra nodes, 0 pruned nodes, max_depth=30\n",
      "[20:38:16] /workspace/src/tree/updater_prune.cc:74: tree pruning end, 1 roots, 17030 extra nodes, 0 pruned nodes, max_depth=32\n",
      "[20:38:24] /workspace/src/tree/updater_prune.cc:74: tree pruning end, 1 roots, 16942 extra nodes, 0 pruned nodes, max_depth=36\n",
      "[20:38:31] /workspace/src/tree/updater_prune.cc:74: tree pruning end, 1 roots, 17188 extra nodes, 0 pruned nodes, max_depth=33\n",
      "[20:38:39] /workspace/src/tree/updater_prune.cc:74: tree pruning end, 1 roots, 18888 extra nodes, 0 pruned nodes, max_depth=33\n",
      "[20:38:47] /workspace/src/tree/updater_prune.cc:74: tree pruning end, 1 roots, 16910 extra nodes, 0 pruned nodes, max_depth=35\n",
      "[20:38:54] /workspace/src/tree/updater_prune.cc:74: tree pruning end, 1 roots, 16950 extra nodes, 0 pruned nodes, max_depth=32\n",
      "[20:39:02] /workspace/src/tree/updater_prune.cc:74: tree pruning end, 1 roots, 18366 extra nodes, 0 pruned nodes, max_depth=33\n",
      "[20:39:08] /workspace/src/tree/updater_prune.cc:74: tree pruning end, 1 roots, 23176 extra nodes, 0 pruned nodes, max_depth=30\n",
      "[20:39:16] /workspace/src/tree/updater_prune.cc:74: tree pruning end, 1 roots, 17984 extra nodes, 0 pruned nodes, max_depth=37\n",
      "[20:39:23] /workspace/src/tree/updater_prune.cc:74: tree pruning end, 1 roots, 20070 extra nodes, 0 pruned nodes, max_depth=28\n",
      "[20:39:31] /workspace/src/tree/updater_prune.cc:74: tree pruning end, 1 roots, 16920 extra nodes, 0 pruned nodes, max_depth=34\n",
      "[20:39:39] /workspace/src/tree/updater_prune.cc:74: tree pruning end, 1 roots, 19760 extra nodes, 0 pruned nodes, max_depth=40\n",
      "[20:39:50] /workspace/src/tree/updater_prune.cc:74: tree pruning end, 1 roots, 33814 extra nodes, 0 pruned nodes, max_depth=40\n",
      "[20:39:58] /workspace/src/tree/updater_prune.cc:74: tree pruning end, 1 roots, 18344 extra nodes, 0 pruned nodes, max_depth=30\n",
      "[20:40:05] /workspace/src/tree/updater_prune.cc:74: tree pruning end, 1 roots, 19278 extra nodes, 0 pruned nodes, max_depth=31\n",
      "[20:40:13] /workspace/src/tree/updater_prune.cc:74: tree pruning end, 1 roots, 16454 extra nodes, 0 pruned nodes, max_depth=37\n",
      "[20:40:23] /workspace/src/tree/updater_prune.cc:74: tree pruning end, 1 roots, 27234 extra nodes, 0 pruned nodes, max_depth=35\n",
      "[20:40:30] /workspace/src/tree/updater_prune.cc:74: tree pruning end, 1 roots, 19262 extra nodes, 0 pruned nodes, max_depth=33\n",
      "[20:40:37] /workspace/src/tree/updater_prune.cc:74: tree pruning end, 1 roots, 18742 extra nodes, 0 pruned nodes, max_depth=31\n",
      "[20:40:45] /workspace/src/tree/updater_prune.cc:74: tree pruning end, 1 roots, 18094 extra nodes, 0 pruned nodes, max_depth=35\n",
      "[20:40:52] /workspace/src/tree/updater_prune.cc:74: tree pruning end, 1 roots, 16610 extra nodes, 0 pruned nodes, max_depth=31\n",
      "[20:41:00] /workspace/src/tree/updater_prune.cc:74: tree pruning end, 1 roots, 19130 extra nodes, 0 pruned nodes, max_depth=33\n",
      "[20:41:07] /workspace/src/tree/updater_prune.cc:74: tree pruning end, 1 roots, 20472 extra nodes, 0 pruned nodes, max_depth=32\n",
      "[20:41:15] /workspace/src/tree/updater_prune.cc:74: tree pruning end, 1 roots, 17738 extra nodes, 0 pruned nodes, max_depth=39\n",
      "[20:41:22] /workspace/src/tree/updater_prune.cc:74: tree pruning end, 1 roots, 17318 extra nodes, 0 pruned nodes, max_depth=29\n",
      "[20:41:30] /workspace/src/tree/updater_prune.cc:74: tree pruning end, 1 roots, 17188 extra nodes, 0 pruned nodes, max_depth=33\n",
      "[20:41:37] /workspace/src/tree/updater_prune.cc:74: tree pruning end, 1 roots, 19796 extra nodes, 0 pruned nodes, max_depth=32\n",
      "[20:41:45] /workspace/src/tree/updater_prune.cc:74: tree pruning end, 1 roots, 19298 extra nodes, 0 pruned nodes, max_depth=31\n",
      "[20:41:56] /workspace/src/tree/updater_prune.cc:74: tree pruning end, 1 roots, 33710 extra nodes, 0 pruned nodes, max_depth=40\n",
      "[20:42:02] /workspace/src/tree/updater_prune.cc:74: tree pruning end, 1 roots, 18590 extra nodes, 0 pruned nodes, max_depth=30\n",
      "[20:42:10] /workspace/src/tree/updater_prune.cc:74: tree pruning end, 1 roots, 18584 extra nodes, 0 pruned nodes, max_depth=40\n",
      "[20:42:19] /workspace/src/tree/updater_prune.cc:74: tree pruning end, 1 roots, 16986 extra nodes, 0 pruned nodes, max_depth=36\n",
      "[20:42:27] /workspace/src/tree/updater_prune.cc:74: tree pruning end, 1 roots, 17764 extra nodes, 0 pruned nodes, max_depth=33\n",
      "[20:42:35] /workspace/src/tree/updater_prune.cc:74: tree pruning end, 1 roots, 18180 extra nodes, 0 pruned nodes, max_depth=36\n",
      "[20:42:43] /workspace/src/tree/updater_prune.cc:74: tree pruning end, 1 roots, 17432 extra nodes, 0 pruned nodes, max_depth=35\n",
      "[20:42:50] /workspace/src/tree/updater_prune.cc:74: tree pruning end, 1 roots, 16932 extra nodes, 0 pruned nodes, max_depth=33\n",
      "[20:42:59] /workspace/src/tree/updater_prune.cc:74: tree pruning end, 1 roots, 16868 extra nodes, 0 pruned nodes, max_depth=35\n",
      "[20:43:06] /workspace/src/tree/updater_prune.cc:74: tree pruning end, 1 roots, 16638 extra nodes, 0 pruned nodes, max_depth=31\n",
      "[20:43:17] /workspace/src/tree/updater_prune.cc:74: tree pruning end, 1 roots, 33354 extra nodes, 0 pruned nodes, max_depth=40\n",
      "[20:43:24] /workspace/src/tree/updater_prune.cc:74: tree pruning end, 1 roots, 19016 extra nodes, 0 pruned nodes, max_depth=28\n",
      "[20:43:32] /workspace/src/tree/updater_prune.cc:74: tree pruning end, 1 roots, 17398 extra nodes, 0 pruned nodes, max_depth=39\n",
      "[20:43:40] /workspace/src/tree/updater_prune.cc:74: tree pruning end, 1 roots, 23242 extra nodes, 0 pruned nodes, max_depth=32\n",
      "[20:43:47] /workspace/src/tree/updater_prune.cc:74: tree pruning end, 1 roots, 19600 extra nodes, 0 pruned nodes, max_depth=32\n",
      "[20:43:54] /workspace/src/tree/updater_prune.cc:74: tree pruning end, 1 roots, 16850 extra nodes, 0 pruned nodes, max_depth=30\n",
      "[20:44:02] /workspace/src/tree/updater_prune.cc:74: tree pruning end, 1 roots, 17246 extra nodes, 0 pruned nodes, max_depth=30\n",
      "[20:44:09] /workspace/src/tree/updater_prune.cc:74: tree pruning end, 1 roots, 18116 extra nodes, 0 pruned nodes, max_depth=30\n",
      "[20:44:17] /workspace/src/tree/updater_prune.cc:74: tree pruning end, 1 roots, 17362 extra nodes, 0 pruned nodes, max_depth=33\n",
      "[20:44:25] /workspace/src/tree/updater_prune.cc:74: tree pruning end, 1 roots, 18188 extra nodes, 0 pruned nodes, max_depth=34\n",
      "[20:44:32] /workspace/src/tree/updater_prune.cc:74: tree pruning end, 1 roots, 17250 extra nodes, 0 pruned nodes, max_depth=30\n",
      "[20:44:40] /workspace/src/tree/updater_prune.cc:74: tree pruning end, 1 roots, 17464 extra nodes, 0 pruned nodes, max_depth=32\n",
      "[20:44:48] /workspace/src/tree/updater_prune.cc:74: tree pruning end, 1 roots, 17262 extra nodes, 0 pruned nodes, max_depth=36\n",
      "[20:44:56] /workspace/src/tree/updater_prune.cc:74: tree pruning end, 1 roots, 16992 extra nodes, 0 pruned nodes, max_depth=34\n",
      "[20:45:03] /workspace/src/tree/updater_prune.cc:74: tree pruning end, 1 roots, 16748 extra nodes, 0 pruned nodes, max_depth=30\n"
     ]
    },
    {
     "name": "stdout",
     "output_type": "stream",
     "text": [
      "[20:45:11] /workspace/src/tree/updater_prune.cc:74: tree pruning end, 1 roots, 16940 extra nodes, 0 pruned nodes, max_depth=34\n",
      "[20:45:19] /workspace/src/tree/updater_prune.cc:74: tree pruning end, 1 roots, 19152 extra nodes, 0 pruned nodes, max_depth=31\n",
      "[20:45:27] /workspace/src/tree/updater_prune.cc:74: tree pruning end, 1 roots, 18900 extra nodes, 0 pruned nodes, max_depth=40\n",
      "[20:45:36] /workspace/src/tree/updater_prune.cc:74: tree pruning end, 1 roots, 17120 extra nodes, 0 pruned nodes, max_depth=32\n",
      "[20:45:43] /workspace/src/tree/updater_prune.cc:74: tree pruning end, 1 roots, 17282 extra nodes, 0 pruned nodes, max_depth=33\n",
      "[20:45:51] /workspace/src/tree/updater_prune.cc:74: tree pruning end, 1 roots, 17962 extra nodes, 0 pruned nodes, max_depth=39\n",
      "[20:45:58] /workspace/src/tree/updater_prune.cc:74: tree pruning end, 1 roots, 17600 extra nodes, 0 pruned nodes, max_depth=30\n",
      "[20:46:06] /workspace/src/tree/updater_prune.cc:74: tree pruning end, 1 roots, 16938 extra nodes, 0 pruned nodes, max_depth=33\n",
      "[20:46:14] /workspace/src/tree/updater_prune.cc:74: tree pruning end, 1 roots, 17372 extra nodes, 0 pruned nodes, max_depth=32\n",
      "[20:46:22] /workspace/src/tree/updater_prune.cc:74: tree pruning end, 1 roots, 19268 extra nodes, 0 pruned nodes, max_depth=32\n",
      "[20:46:29] /workspace/src/tree/updater_prune.cc:74: tree pruning end, 1 roots, 16866 extra nodes, 0 pruned nodes, max_depth=31\n",
      "[20:46:37] /workspace/src/tree/updater_prune.cc:74: tree pruning end, 1 roots, 18368 extra nodes, 0 pruned nodes, max_depth=36\n",
      "[20:46:46] /workspace/src/tree/updater_prune.cc:74: tree pruning end, 1 roots, 20926 extra nodes, 0 pruned nodes, max_depth=39\n",
      "[20:46:57] /workspace/src/tree/updater_prune.cc:74: tree pruning end, 1 roots, 33654 extra nodes, 0 pruned nodes, max_depth=40\n",
      "[20:47:05] /workspace/src/tree/updater_prune.cc:74: tree pruning end, 1 roots, 17528 extra nodes, 0 pruned nodes, max_depth=36\n",
      "[20:47:16] /workspace/src/tree/updater_prune.cc:74: tree pruning end, 1 roots, 34320 extra nodes, 0 pruned nodes, max_depth=40\n",
      "[20:47:23] /workspace/src/tree/updater_prune.cc:74: tree pruning end, 1 roots, 18542 extra nodes, 0 pruned nodes, max_depth=29\n",
      "[20:47:31] /workspace/src/tree/updater_prune.cc:74: tree pruning end, 1 roots, 17380 extra nodes, 0 pruned nodes, max_depth=37\n",
      "[20:47:39] /workspace/src/tree/updater_prune.cc:74: tree pruning end, 1 roots, 17172 extra nodes, 0 pruned nodes, max_depth=30\n",
      "[20:47:46] /workspace/src/tree/updater_prune.cc:74: tree pruning end, 1 roots, 18328 extra nodes, 0 pruned nodes, max_depth=32\n",
      "[20:47:55] /workspace/src/tree/updater_prune.cc:74: tree pruning end, 1 roots, 19872 extra nodes, 0 pruned nodes, max_depth=34\n",
      "[20:48:02] /workspace/src/tree/updater_prune.cc:74: tree pruning end, 1 roots, 18842 extra nodes, 0 pruned nodes, max_depth=29\n",
      "[20:48:10] /workspace/src/tree/updater_prune.cc:74: tree pruning end, 1 roots, 18304 extra nodes, 0 pruned nodes, max_depth=33\n",
      "[20:48:18] /workspace/src/tree/updater_prune.cc:74: tree pruning end, 1 roots, 21830 extra nodes, 0 pruned nodes, max_depth=33\n",
      "[20:48:26] /workspace/src/tree/updater_prune.cc:74: tree pruning end, 1 roots, 19566 extra nodes, 0 pruned nodes, max_depth=33\n",
      "[20:48:33] /workspace/src/tree/updater_prune.cc:74: tree pruning end, 1 roots, 19614 extra nodes, 0 pruned nodes, max_depth=31\n",
      "[20:48:41] /workspace/src/tree/updater_prune.cc:74: tree pruning end, 1 roots, 20620 extra nodes, 0 pruned nodes, max_depth=35\n",
      "[20:48:49] /workspace/src/tree/updater_prune.cc:74: tree pruning end, 1 roots, 20020 extra nodes, 0 pruned nodes, max_depth=34\n",
      "[20:48:57] /workspace/src/tree/updater_prune.cc:74: tree pruning end, 1 roots, 18154 extra nodes, 0 pruned nodes, max_depth=31\n",
      "[20:49:05] /workspace/src/tree/updater_prune.cc:74: tree pruning end, 1 roots, 19780 extra nodes, 0 pruned nodes, max_depth=35\n",
      "[20:49:12] /workspace/src/tree/updater_prune.cc:74: tree pruning end, 1 roots, 17342 extra nodes, 0 pruned nodes, max_depth=31\n",
      "[20:49:20] /workspace/src/tree/updater_prune.cc:74: tree pruning end, 1 roots, 18096 extra nodes, 0 pruned nodes, max_depth=32\n",
      "[20:49:28] /workspace/src/tree/updater_prune.cc:74: tree pruning end, 1 roots, 20504 extra nodes, 0 pruned nodes, max_depth=33\n",
      "[20:49:36] /workspace/src/tree/updater_prune.cc:74: tree pruning end, 1 roots, 17436 extra nodes, 0 pruned nodes, max_depth=33\n",
      "[20:49:44] /workspace/src/tree/updater_prune.cc:74: tree pruning end, 1 roots, 18038 extra nodes, 0 pruned nodes, max_depth=35\n",
      "[20:49:51] /workspace/src/tree/updater_prune.cc:74: tree pruning end, 1 roots, 22166 extra nodes, 0 pruned nodes, max_depth=31\n",
      "[20:49:58] /workspace/src/tree/updater_prune.cc:74: tree pruning end, 1 roots, 17592 extra nodes, 0 pruned nodes, max_depth=28\n",
      "[20:50:07] /workspace/src/tree/updater_prune.cc:74: tree pruning end, 1 roots, 17762 extra nodes, 0 pruned nodes, max_depth=36\n",
      "[20:50:15] /workspace/src/tree/updater_prune.cc:74: tree pruning end, 1 roots, 18568 extra nodes, 0 pruned nodes, max_depth=36\n",
      "[20:50:23] /workspace/src/tree/updater_prune.cc:74: tree pruning end, 1 roots, 18534 extra nodes, 0 pruned nodes, max_depth=35\n",
      "[20:50:30] /workspace/src/tree/updater_prune.cc:74: tree pruning end, 1 roots, 20778 extra nodes, 0 pruned nodes, max_depth=32\n",
      "[20:50:38] /workspace/src/tree/updater_prune.cc:74: tree pruning end, 1 roots, 18158 extra nodes, 0 pruned nodes, max_depth=31\n",
      "[20:50:46] /workspace/src/tree/updater_prune.cc:74: tree pruning end, 1 roots, 17744 extra nodes, 0 pruned nodes, max_depth=34\n",
      "[20:50:54] /workspace/src/tree/updater_prune.cc:74: tree pruning end, 1 roots, 18108 extra nodes, 0 pruned nodes, max_depth=32\n",
      "[20:51:01] /workspace/src/tree/updater_prune.cc:74: tree pruning end, 1 roots, 19046 extra nodes, 0 pruned nodes, max_depth=30\n",
      "[20:51:09] /workspace/src/tree/updater_prune.cc:74: tree pruning end, 1 roots, 18952 extra nodes, 0 pruned nodes, max_depth=35\n",
      "[20:51:17] /workspace/src/tree/updater_prune.cc:74: tree pruning end, 1 roots, 17604 extra nodes, 0 pruned nodes, max_depth=33\n",
      "[20:51:25] /workspace/src/tree/updater_prune.cc:74: tree pruning end, 1 roots, 17512 extra nodes, 0 pruned nodes, max_depth=35\n",
      "[20:51:33] /workspace/src/tree/updater_prune.cc:74: tree pruning end, 1 roots, 19364 extra nodes, 0 pruned nodes, max_depth=31\n",
      "[20:51:42] /workspace/src/tree/updater_prune.cc:74: tree pruning end, 1 roots, 20918 extra nodes, 0 pruned nodes, max_depth=38\n",
      "[20:51:49] /workspace/src/tree/updater_prune.cc:74: tree pruning end, 1 roots, 20308 extra nodes, 0 pruned nodes, max_depth=31\n",
      "[20:51:56] /workspace/src/tree/updater_prune.cc:74: tree pruning end, 1 roots, 17778 extra nodes, 0 pruned nodes, max_depth=29\n",
      "[20:52:04] /workspace/src/tree/updater_prune.cc:74: tree pruning end, 1 roots, 18094 extra nodes, 0 pruned nodes, max_depth=33\n",
      "[20:52:12] /workspace/src/tree/updater_prune.cc:74: tree pruning end, 1 roots, 18512 extra nodes, 0 pruned nodes, max_depth=31\n",
      "[20:52:20] /workspace/src/tree/updater_prune.cc:74: tree pruning end, 1 roots, 17742 extra nodes, 0 pruned nodes, max_depth=32\n",
      "[20:52:27] /workspace/src/tree/updater_prune.cc:74: tree pruning end, 1 roots, 18268 extra nodes, 0 pruned nodes, max_depth=31\n",
      "[20:52:35] /workspace/src/tree/updater_prune.cc:74: tree pruning end, 1 roots, 19066 extra nodes, 0 pruned nodes, max_depth=33\n",
      "[20:52:42] /workspace/src/tree/updater_prune.cc:74: tree pruning end, 1 roots, 20840 extra nodes, 0 pruned nodes, max_depth=30\n",
      "[20:52:50] /workspace/src/tree/updater_prune.cc:74: tree pruning end, 1 roots, 18752 extra nodes, 0 pruned nodes, max_depth=33\n",
      "[20:52:58] /workspace/src/tree/updater_prune.cc:74: tree pruning end, 1 roots, 18024 extra nodes, 0 pruned nodes, max_depth=33\n"
     ]
    }
   ],
   "source": [
    "params = {\"objective\":\"reg:linear\",'colsample_bytree': 0.8,'learning_rate': 0.02,\n",
    "                'max_depth': 40}\n",
    "cv_results = xgb.cv(dtrain=data_dmatrix, params=params, nfold=5,\n",
    "                    num_boost_round=25,early_stopping_rounds=8,metrics=\"rmse\", as_pandas=True, seed=123)"
   ]
  },
  {
   "cell_type": "code",
   "execution_count": 161,
   "metadata": {},
   "outputs": [
    {
     "data": {
      "text/html": [
       "<div>\n",
       "<style scoped>\n",
       "    .dataframe tbody tr th:only-of-type {\n",
       "        vertical-align: middle;\n",
       "    }\n",
       "\n",
       "    .dataframe tbody tr th {\n",
       "        vertical-align: top;\n",
       "    }\n",
       "\n",
       "    .dataframe thead th {\n",
       "        text-align: right;\n",
       "    }\n",
       "</style>\n",
       "<table border=\"1\" class=\"dataframe\">\n",
       "  <thead>\n",
       "    <tr style=\"text-align: right;\">\n",
       "      <th></th>\n",
       "      <th>train-rmse-mean</th>\n",
       "      <th>train-rmse-std</th>\n",
       "      <th>test-rmse-mean</th>\n",
       "      <th>test-rmse-std</th>\n",
       "    </tr>\n",
       "  </thead>\n",
       "  <tbody>\n",
       "    <tr>\n",
       "      <th>24</th>\n",
       "      <td>1.408157</td>\n",
       "      <td>0.009779</td>\n",
       "      <td>1.826676</td>\n",
       "      <td>0.010868</td>\n",
       "    </tr>\n",
       "  </tbody>\n",
       "</table>\n",
       "</div>"
      ],
      "text/plain": [
       "    train-rmse-mean  train-rmse-std  test-rmse-mean  test-rmse-std\n",
       "24         1.408157        0.009779        1.826676       0.010868"
      ]
     },
     "execution_count": 161,
     "metadata": {},
     "output_type": "execute_result"
    }
   ],
   "source": [
    "cv_results.tail(1)"
   ]
  },
  {
   "cell_type": "code",
   "execution_count": 163,
   "metadata": {},
   "outputs": [],
   "source": [
    "pd.DataFrame(cv_results).to_csv('xgb_cv.csv', encoding='utf-8')"
   ]
  },
  {
   "cell_type": "code",
   "execution_count": null,
   "metadata": {},
   "outputs": [],
   "source": []
  }
 ],
 "metadata": {
  "kernelspec": {
   "display_name": "Python 3",
   "language": "python",
   "name": "python3"
  },
  "language_info": {
   "codemirror_mode": {
    "name": "ipython",
    "version": 3
   },
   "file_extension": ".py",
   "mimetype": "text/x-python",
   "name": "python",
   "nbconvert_exporter": "python",
   "pygments_lexer": "ipython3",
   "version": "3.6.6"
  }
 },
 "nbformat": 4,
 "nbformat_minor": 2
}
