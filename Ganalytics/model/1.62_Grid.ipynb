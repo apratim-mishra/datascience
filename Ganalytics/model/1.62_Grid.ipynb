{
 "cells": [
  {
   "cell_type": "code",
   "execution_count": 1,
   "metadata": {},
   "outputs": [],
   "source": [
    "import os\n",
    "import json\n",
    "import numpy as np\n",
    "import pandas as pd\n",
    "from pandas.io.json import json_normalize\n",
    "\n",
    "import datetime as dt\n",
    "from pandas.tseries.holiday import USFederalHolidayCalendar as calendar"
   ]
  },
  {
   "cell_type": "code",
   "execution_count": 2,
   "metadata": {},
   "outputs": [
    {
     "name": "stdout",
     "output_type": "stream",
     "text": [
      "/home/apratim941208/ganalytics\r\n"
     ]
    }
   ],
   "source": [
    "!pwd"
   ]
  },
  {
   "cell_type": "code",
   "execution_count": 3,
   "metadata": {},
   "outputs": [],
   "source": [
    "def load_df(csv_path='train.csv', nrows=None):\n",
    "    JSON_COLUMNS = ['device', 'geoNetwork', 'totals', 'trafficSource']\n",
    "    \n",
    "    df = pd.read_csv(csv_path, \n",
    "                     converters={column: json.loads for column in JSON_COLUMNS}, \n",
    "                     dtype={'fullVisitorId': 'str'}, # Important!!\n",
    "                     nrows=nrows)\n",
    "    \n",
    "    for column in JSON_COLUMNS:\n",
    "        column_as_df = json_normalize(df[column])\n",
    "        column_as_df.columns = [f\"{column}.{subcolumn}\" for subcolumn in column_as_df.columns]\n",
    "        df = df.drop(column, axis=1).merge(column_as_df, right_index=True, left_index=True)\n",
    "    print(f\"Loaded {os.path.basename(csv_path)}. Shape: {df.shape}\")\n",
    "    return df"
   ]
  },
  {
   "cell_type": "code",
   "execution_count": 4,
   "metadata": {},
   "outputs": [
    {
     "name": "stdout",
     "output_type": "stream",
     "text": [
      "Loaded train.csv. Shape: (903653, 55)\n"
     ]
    }
   ],
   "source": [
    "train_check = load_df()"
   ]
  },
  {
   "cell_type": "code",
   "execution_count": 5,
   "metadata": {},
   "outputs": [
    {
     "name": "stdout",
     "output_type": "stream",
     "text": [
      "Loaded test.csv. Shape: (804684, 53)\n"
     ]
    }
   ],
   "source": [
    "test_check = load_df('test.csv')"
   ]
  },
  {
   "cell_type": "code",
   "execution_count": 6,
   "metadata": {},
   "outputs": [],
   "source": [
    "train_df = train_check.copy()\n"
   ]
  },
  {
   "cell_type": "code",
   "execution_count": 7,
   "metadata": {},
   "outputs": [],
   "source": [
    "test_df = test_check.copy()"
   ]
  },
  {
   "cell_type": "code",
   "execution_count": 8,
   "metadata": {},
   "outputs": [],
   "source": [
    "train_df['totals.transactionRevenue']  =train_df['totals.transactionRevenue'].fillna(0.0)"
   ]
  },
  {
   "cell_type": "code",
   "execution_count": 9,
   "metadata": {},
   "outputs": [],
   "source": [
    "cal = calendar()"
   ]
  },
  {
   "cell_type": "code",
   "execution_count": 10,
   "metadata": {},
   "outputs": [],
   "source": [
    "from sklearn.preprocessing import LabelEncoder\n",
    "from sklearn.preprocessing import OneHotEncoder\n",
    "from sklearn import preprocessing"
   ]
  },
  {
   "cell_type": "code",
   "execution_count": null,
   "metadata": {},
   "outputs": [],
   "source": []
  },
  {
   "cell_type": "code",
   "execution_count": 11,
   "metadata": {},
   "outputs": [
    {
     "data": {
      "text/plain": [
       "100"
      ]
     },
     "execution_count": 11,
     "metadata": {},
     "output_type": "execute_result"
    }
   ],
   "source": [
    "train_df['totals.pageviews'].isnull().sum()"
   ]
  },
  {
   "cell_type": "code",
   "execution_count": 12,
   "metadata": {},
   "outputs": [],
   "source": [
    "def preprocess_initial(df):\n",
    "    columns = [c for c in df.columns if df[c].nunique(dropna=False)==1]\n",
    "    print(\"constant columns removed {}\".format(list(columns)))\n",
    "    df = df.drop(columns, axis=1)\n",
    "    \n",
    "    df[\"date\"] = pd.to_datetime(df[\"date\"], format=\"%Y%m%d\")\n",
    "    \n",
    "    holidays = cal.holidays(start = df['date'].min(), end = df['date'].max())\n",
    "    \n",
    "    df[\"month\"]   = df['date'].dt.month\n",
    "    df[\"day\"]     = df['date'].dt.day\n",
    "    df[\"weekday\"] = df['date'].dt.weekday\n",
    "    df['holiday_var'] = df['date'].isin(holidays)\n",
    "    \n",
    "    df = df.drop(['date','sessionId','visitId','visitStartTime','visitNumber'], axis=1)\n",
    "    df['totals.hits'] = df['totals.hits'].astype('float')\n",
    "    df['totals.hits'] = (df[\"totals.hits\"] - min(df[\"totals.hits\"]))/(max(df[\"totals.hits\"]) - min(df[\"totals.hits\"])) \n",
    "    \n",
    "    df['totals.pageviews'] = df['totals.pageviews'].fillna(0.0)\n",
    "    df['totals.pageviews'] = df['totals.pageviews'].astype('float')\n",
    "    df['totals.pageviews'] = (df[\"totals.pageviews\"] - min(df[\"totals.pageviews\"]))/(max(df[\"totals.pageviews\"]) - min(df[\"totals.pageviews\"]))\n",
    "    \n",
    "    \n",
    "    \n",
    "    df['totals.bounces'] = df['totals.bounces'].astype(float)\n",
    "    df['totals.bounces'] = df['totals.bounces'].fillna(0.0)\n",
    "  \n",
    "    df['totals.newVisits'] = df['totals.newVisits'].astype(float)\n",
    "    df['totals.newVisits'] = df['totals.newVisits'].fillna(0.0)\n",
    "    \n",
    "    return df"
   ]
  },
  {
   "cell_type": "code",
   "execution_count": 13,
   "metadata": {},
   "outputs": [],
   "source": [
    "# preprocess_initial(train_df)"
   ]
  },
  {
   "cell_type": "code",
   "execution_count": 14,
   "metadata": {},
   "outputs": [
    {
     "data": {
      "text/plain": [
       "object    50\n",
       "int64      4\n",
       "bool       1\n",
       "dtype: int64"
      ]
     },
     "execution_count": 14,
     "metadata": {},
     "output_type": "execute_result"
    }
   ],
   "source": [
    "train_df.dtypes.value_counts()"
   ]
  },
  {
   "cell_type": "code",
   "execution_count": 15,
   "metadata": {},
   "outputs": [
    {
     "name": "stdout",
     "output_type": "stream",
     "text": [
      "constant columns removed ['socialEngagementType', 'device.browserSize', 'device.browserVersion', 'device.flashVersion', 'device.language', 'device.mobileDeviceBranding', 'device.mobileDeviceInfo', 'device.mobileDeviceMarketingName', 'device.mobileDeviceModel', 'device.mobileInputSelector', 'device.operatingSystemVersion', 'device.screenColors', 'device.screenResolution', 'geoNetwork.cityId', 'geoNetwork.latitude', 'geoNetwork.longitude', 'geoNetwork.networkLocation', 'totals.visits', 'trafficSource.adwordsClickInfo.criteriaParameters']\n"
     ]
    }
   ],
   "source": [
    "train_df = preprocess_initial(train_df)"
   ]
  },
  {
   "cell_type": "code",
   "execution_count": 16,
   "metadata": {},
   "outputs": [
    {
     "data": {
      "text/plain": [
       "object     26\n",
       "float64     4\n",
       "int64       3\n",
       "bool        2\n",
       "dtype: int64"
      ]
     },
     "execution_count": 16,
     "metadata": {},
     "output_type": "execute_result"
    }
   ],
   "source": [
    "train_df.dtypes.value_counts()"
   ]
  },
  {
   "cell_type": "code",
   "execution_count": 17,
   "metadata": {},
   "outputs": [
    {
     "data": {
      "text/plain": [
       "channelGrouping                                      0\n",
       "fullVisitorId                                        0\n",
       "device.browser                                       0\n",
       "device.deviceCategory                                0\n",
       "device.isMobile                                      0\n",
       "device.operatingSystem                               0\n",
       "geoNetwork.city                                      0\n",
       "geoNetwork.continent                                 0\n",
       "geoNetwork.country                                   0\n",
       "geoNetwork.metro                                     0\n",
       "geoNetwork.networkDomain                             0\n",
       "geoNetwork.region                                    0\n",
       "geoNetwork.subContinent                              0\n",
       "totals.bounces                                       0\n",
       "totals.hits                                          0\n",
       "totals.newVisits                                     0\n",
       "totals.pageviews                                     0\n",
       "totals.transactionRevenue                            0\n",
       "trafficSource.adContent                         892707\n",
       "trafficSource.adwordsClickInfo.adNetworkType    882193\n",
       "trafficSource.adwordsClickInfo.gclId            882092\n",
       "trafficSource.adwordsClickInfo.isVideoAd        882193\n",
       "trafficSource.adwordsClickInfo.page             882193\n",
       "trafficSource.adwordsClickInfo.slot             882193\n",
       "trafficSource.campaign                               0\n",
       "trafficSource.campaignCode                      903652\n",
       "trafficSource.isTrueDirect                      629648\n",
       "trafficSource.keyword                           502929\n",
       "trafficSource.medium                                 0\n",
       "trafficSource.referralPath                      572712\n",
       "trafficSource.source                                 0\n",
       "month                                                0\n",
       "day                                                  0\n",
       "weekday                                              0\n",
       "holiday_var                                          0\n",
       "dtype: int64"
      ]
     },
     "execution_count": 17,
     "metadata": {},
     "output_type": "execute_result"
    }
   ],
   "source": [
    "train_df.isnull().sum()"
   ]
  },
  {
   "cell_type": "code",
   "execution_count": 18,
   "metadata": {},
   "outputs": [],
   "source": [
    "def categorical_engineering(df):\n",
    "    lbl = preprocessing.LabelEncoder()\n",
    "    df['holiday_var'] = lbl.fit_transform(df['holiday_var'])\n",
    "    df['device.isMobile'] = lbl.fit_transform(df['device.isMobile'])\n",
    "    \n",
    "    df = df.replace('nan', np.nan)\n",
    "    \n",
    "    return df"
   ]
  },
  {
   "cell_type": "code",
   "execution_count": 19,
   "metadata": {},
   "outputs": [],
   "source": [
    "train_df = categorical_engineering(train_df)"
   ]
  },
  {
   "cell_type": "code",
   "execution_count": null,
   "metadata": {},
   "outputs": [],
   "source": []
  },
  {
   "cell_type": "code",
   "execution_count": 20,
   "metadata": {},
   "outputs": [
    {
     "data": {
      "text/plain": [
       "device.operatingSystem                       0\n",
       "trafficSource.source                         0\n",
       "geoNetwork.region                            0\n",
       "trafficSource.keyword                   502929\n",
       "geoNetwork.city                              0\n",
       "trafficSource.campaign                       0\n",
       "geoNetwork.subContinent                      0\n",
       "geoNetwork.networkDomain                     0\n",
       "device.browser                               0\n",
       "geoNetwork.country                           0\n",
       "trafficSource.adContent                 892707\n",
       "geoNetwork.metro                             0\n",
       "trafficSource.adwordsClickInfo.gclId    882092\n",
       "trafficSource.referralPath              572712\n",
       "dtype: int64"
      ]
     },
     "execution_count": 20,
     "metadata": {},
     "output_type": "execute_result"
    }
   ],
   "source": [
    "train_df[['device.operatingSystem','trafficSource.source','geoNetwork.region','trafficSource.keyword','geoNetwork.city',\n",
    "    'trafficSource.campaign','geoNetwork.subContinent','geoNetwork.networkDomain','device.browser','geoNetwork.country','trafficSource.adContent',\n",
    "    'geoNetwork.metro','trafficSource.adwordsClickInfo.gclId','trafficSource.referralPath']].isnull().sum()"
   ]
  },
  {
   "cell_type": "code",
   "execution_count": 21,
   "metadata": {},
   "outputs": [
    {
     "data": {
      "text/plain": [
       "903653"
      ]
     },
     "execution_count": 21,
     "metadata": {},
     "output_type": "execute_result"
    }
   ],
   "source": [
    "len(train_df['trafficSource.adContent'])"
   ]
  },
  {
   "cell_type": "code",
   "execution_count": null,
   "metadata": {},
   "outputs": [],
   "source": []
  },
  {
   "cell_type": "code",
   "execution_count": 22,
   "metadata": {},
   "outputs": [
    {
     "data": {
      "text/plain": [
       "channelGrouping                                      0\n",
       "trafficSource.medium                                 0\n",
       "geoNetwork.continent                                 0\n",
       "trafficSource.adwordsClickInfo.adNetworkType    882193\n",
       "trafficSource.adwordsClickInfo.slot             882193\n",
       "device.deviceCategory                                0\n",
       "trafficSource.adwordsClickInfo.isVideoAd        882193\n",
       "trafficSource.isTrueDirect                      629648\n",
       "dtype: int64"
      ]
     },
     "execution_count": 22,
     "metadata": {},
     "output_type": "execute_result"
    }
   ],
   "source": [
    "train_df[['channelGrouping','trafficSource.medium','geoNetwork.continent','trafficSource.adwordsClickInfo.adNetworkType','trafficSource.adwordsClickInfo.slot',                 \n",
    "                 'device.deviceCategory','trafficSource.adwordsClickInfo.isVideoAd','trafficSource.isTrueDirect']].isnull().sum()"
   ]
  },
  {
   "cell_type": "code",
   "execution_count": 23,
   "metadata": {},
   "outputs": [],
   "source": [
    "def categorical_small(df):\n",
    "    \n",
    "    df = df.drop(['trafficSource.adwordsClickInfo.adNetworkType','trafficSource.adwordsClickInfo.slot','trafficSource.adwordsClickInfo.isVideoAd','trafficSource.isTrueDirect'], axis=1)\n",
    "    \n",
    "    small_cols = ['channelGrouping','trafficSource.medium','geoNetwork.continent','device.deviceCategory']\n",
    "    small_columns = pd.get_dummies(df[small_cols])\n",
    "    df = pd.concat([df, small_columns],axis=1)\n",
    "    df = df.drop(small_cols, axis=1)\n",
    "    \n",
    "    return df   \n",
    "    \n",
    "    "
   ]
  },
  {
   "cell_type": "code",
   "execution_count": 24,
   "metadata": {},
   "outputs": [],
   "source": [
    "train_df = categorical_small(train_df)"
   ]
  },
  {
   "cell_type": "code",
   "execution_count": 25,
   "metadata": {},
   "outputs": [
    {
     "data": {
      "text/plain": [
       "(903653, 51)"
      ]
     },
     "execution_count": 25,
     "metadata": {},
     "output_type": "execute_result"
    }
   ],
   "source": [
    "train_df.shape"
   ]
  },
  {
   "cell_type": "code",
   "execution_count": 26,
   "metadata": {},
   "outputs": [
    {
     "data": {
      "text/plain": [
       "device.operatingSystem                       0\n",
       "trafficSource.source                         0\n",
       "geoNetwork.region                            0\n",
       "trafficSource.keyword                   502929\n",
       "geoNetwork.city                              0\n",
       "trafficSource.campaign                       0\n",
       "geoNetwork.subContinent                      0\n",
       "geoNetwork.networkDomain                     0\n",
       "device.browser                               0\n",
       "geoNetwork.country                           0\n",
       "trafficSource.adContent                 892707\n",
       "geoNetwork.metro                             0\n",
       "trafficSource.adwordsClickInfo.gclId    882092\n",
       "trafficSource.referralPath              572712\n",
       "dtype: int64"
      ]
     },
     "execution_count": 26,
     "metadata": {},
     "output_type": "execute_result"
    }
   ],
   "source": [
    "train_df[['device.operatingSystem','trafficSource.source','geoNetwork.region','trafficSource.keyword','geoNetwork.city',\n",
    "    'trafficSource.campaign','geoNetwork.subContinent','geoNetwork.networkDomain','device.browser','geoNetwork.country','trafficSource.adContent',\n",
    "    'geoNetwork.metro','trafficSource.adwordsClickInfo.gclId','trafficSource.referralPath']].isnull().sum()"
   ]
  },
  {
   "cell_type": "code",
   "execution_count": 27,
   "metadata": {},
   "outputs": [
    {
     "data": {
      "text/plain": [
       "fullVisitorId                           714167\n",
       "device.browser                              54\n",
       "device.operatingSystem                      20\n",
       "geoNetwork.city                            649\n",
       "geoNetwork.country                         222\n",
       "geoNetwork.metro                            94\n",
       "geoNetwork.networkDomain                 28064\n",
       "geoNetwork.region                          376\n",
       "geoNetwork.subContinent                     23\n",
       "totals.transactionRevenue                 5333\n",
       "trafficSource.adContent                     44\n",
       "trafficSource.adwordsClickInfo.gclId     17774\n",
       "trafficSource.adwordsClickInfo.page          8\n",
       "trafficSource.campaign                      10\n",
       "trafficSource.campaignCode                   1\n",
       "trafficSource.keyword                     3659\n",
       "trafficSource.referralPath                1475\n",
       "trafficSource.source                       380\n",
       "dtype: int64"
      ]
     },
     "execution_count": 27,
     "metadata": {},
     "output_type": "execute_result"
    }
   ],
   "source": [
    "train_df.select_dtypes(include='object').nunique()"
   ]
  },
  {
   "cell_type": "code",
   "execution_count": 28,
   "metadata": {},
   "outputs": [],
   "source": [
    "train_df['totals.transactionRevenue'] = train_df['totals.transactionRevenue'].astype('float')"
   ]
  },
  {
   "cell_type": "code",
   "execution_count": 29,
   "metadata": {},
   "outputs": [
    {
     "data": {
      "text/plain": [
       "fullVisitorId                                0\n",
       "device.browser                               0\n",
       "device.operatingSystem                       0\n",
       "geoNetwork.city                              0\n",
       "geoNetwork.country                           0\n",
       "geoNetwork.metro                             0\n",
       "geoNetwork.networkDomain                     0\n",
       "geoNetwork.region                            0\n",
       "geoNetwork.subContinent                      0\n",
       "trafficSource.adContent                 892707\n",
       "trafficSource.adwordsClickInfo.gclId    882092\n",
       "trafficSource.adwordsClickInfo.page     882193\n",
       "trafficSource.campaign                       0\n",
       "trafficSource.campaignCode              903652\n",
       "trafficSource.keyword                   502929\n",
       "trafficSource.referralPath              572712\n",
       "trafficSource.source                         0\n",
       "dtype: int64"
      ]
     },
     "execution_count": 29,
     "metadata": {},
     "output_type": "execute_result"
    }
   ],
   "source": [
    "train_df.select_dtypes(include='object').isnull().sum()"
   ]
  },
  {
   "cell_type": "code",
   "execution_count": 30,
   "metadata": {},
   "outputs": [
    {
     "data": {
      "text/plain": [
       "trafficSource.adContent                    44\n",
       "trafficSource.adwordsClickInfo.gclId    17774\n",
       "trafficSource.adwordsClickInfo.page         8\n",
       "trafficSource.campaignCode                  1\n",
       "dtype: int64"
      ]
     },
     "execution_count": 30,
     "metadata": {},
     "output_type": "execute_result"
    }
   ],
   "source": [
    "train_df[['trafficSource.adContent','trafficSource.adwordsClickInfo.gclId','trafficSource.adwordsClickInfo.page','trafficSource.campaignCode']].nunique()"
   ]
  },
  {
   "cell_type": "code",
   "execution_count": 31,
   "metadata": {},
   "outputs": [],
   "source": [
    "# !pip install category_encoders"
   ]
  },
  {
   "cell_type": "code",
   "execution_count": null,
   "metadata": {},
   "outputs": [],
   "source": []
  },
  {
   "cell_type": "code",
   "execution_count": 32,
   "metadata": {},
   "outputs": [],
   "source": [
    "import category_encoders as ce"
   ]
  },
  {
   "cell_type": "code",
   "execution_count": 33,
   "metadata": {},
   "outputs": [],
   "source": [
    "train_df['totals.transactionRevenue'] = train_df['totals.transactionRevenue'].fillna(0.0)"
   ]
  },
  {
   "cell_type": "code",
   "execution_count": 34,
   "metadata": {},
   "outputs": [],
   "source": [
    "col_hash = ['device.operatingSystem','device.browser','trafficSource.campaign','geoNetwork.city','geoNetwork.subContinent','geoNetwork.networkDomain','geoNetwork.region',\n",
    "                  'geoNetwork.country','geoNetwork.metro']"
   ]
  },
  {
   "cell_type": "code",
   "execution_count": 35,
   "metadata": {},
   "outputs": [
    {
     "data": {
      "text/plain": [
       "(device.operatingSystem      object\n",
       " device.browser              object\n",
       " trafficSource.campaign      object\n",
       " geoNetwork.city             object\n",
       " geoNetwork.subContinent     object\n",
       " geoNetwork.networkDomain    object\n",
       " geoNetwork.region           object\n",
       " geoNetwork.country          object\n",
       " geoNetwork.metro            object\n",
       " dtype: object, device.operatingSystem         20\n",
       " device.browser                 54\n",
       " trafficSource.campaign         10\n",
       " geoNetwork.city               649\n",
       " geoNetwork.subContinent        23\n",
       " geoNetwork.networkDomain    28064\n",
       " geoNetwork.region             376\n",
       " geoNetwork.country            222\n",
       " geoNetwork.metro               94\n",
       " dtype: int64, device.operatingSystem      0\n",
       " device.browser              0\n",
       " trafficSource.campaign      0\n",
       " geoNetwork.city             0\n",
       " geoNetwork.subContinent     0\n",
       " geoNetwork.networkDomain    0\n",
       " geoNetwork.region           0\n",
       " geoNetwork.country          0\n",
       " geoNetwork.metro            0\n",
       " dtype: int64)"
      ]
     },
     "execution_count": 35,
     "metadata": {},
     "output_type": "execute_result"
    }
   ],
   "source": [
    "train_df[col_hash].dtypes, train_df[col_hash].nunique(), train_df[col_hash].isnull().sum()"
   ]
  },
  {
   "cell_type": "code",
   "execution_count": 36,
   "metadata": {},
   "outputs": [],
   "source": [
    "from sklearn.feature_extraction import FeatureHasher"
   ]
  },
  {
   "cell_type": "code",
   "execution_count": null,
   "metadata": {},
   "outputs": [],
   "source": []
  },
  {
   "cell_type": "code",
   "execution_count": 37,
   "metadata": {},
   "outputs": [],
   "source": [
    "def categorical_large(df):\n",
    "    \n",
    "    df = df.drop(['trafficSource.adContent','trafficSource.adwordsClickInfo.gclId','trafficSource.adwordsClickInfo.page','trafficSource.campaignCode','fullVisitorId'], axis=1)\n",
    "    large_cols = ['device.operatingSystem','device.browser','trafficSource.campaign','geoNetwork.city','geoNetwork.subContinent','geoNetwork.networkDomain','geoNetwork.region',\n",
    "                  'geoNetwork.country','geoNetwork.metro']\n",
    "    \n",
    "    return df\n",
    "    \n",
    "    \n",
    "    "
   ]
  },
  {
   "cell_type": "code",
   "execution_count": 38,
   "metadata": {},
   "outputs": [
    {
     "data": {
      "text/plain": [
       "0"
      ]
     },
     "execution_count": 38,
     "metadata": {},
     "output_type": "execute_result"
    }
   ],
   "source": [
    "train_df['totals.transactionRevenue'].isnull().sum()"
   ]
  },
  {
   "cell_type": "code",
   "execution_count": 39,
   "metadata": {},
   "outputs": [],
   "source": [
    "train_df = train_df.drop('fullVisitorId', axis=1)"
   ]
  },
  {
   "cell_type": "code",
   "execution_count": 40,
   "metadata": {},
   "outputs": [],
   "source": [
    "from category_encoders import *"
   ]
  },
  {
   "cell_type": "code",
   "execution_count": 41,
   "metadata": {},
   "outputs": [
    {
     "data": {
      "text/plain": [
       "['device.operatingSystem',\n",
       " 'device.browser',\n",
       " 'trafficSource.campaign',\n",
       " 'geoNetwork.city',\n",
       " 'geoNetwork.subContinent',\n",
       " 'geoNetwork.networkDomain',\n",
       " 'geoNetwork.region',\n",
       " 'geoNetwork.country',\n",
       " 'geoNetwork.metro']"
      ]
     },
     "execution_count": 41,
     "metadata": {},
     "output_type": "execute_result"
    }
   ],
   "source": [
    "col_hash"
   ]
  },
  {
   "cell_type": "code",
   "execution_count": 42,
   "metadata": {},
   "outputs": [],
   "source": [
    "enc = HashingEncoder(cols=col_hash, n_components=50).fit(train_df.drop('totals.transactionRevenue', axis=1), train_df['totals.transactionRevenue'])"
   ]
  },
  {
   "cell_type": "code",
   "execution_count": 43,
   "metadata": {},
   "outputs": [],
   "source": [
    "new_train = enc.transform(train_df.drop('totals.transactionRevenue', axis=1))"
   ]
  },
  {
   "cell_type": "code",
   "execution_count": 44,
   "metadata": {},
   "outputs": [
    {
     "data": {
      "text/plain": [
       "Index(['trafficSource.adContent', 'trafficSource.adwordsClickInfo.gclId',\n",
       "       'trafficSource.adwordsClickInfo.page', 'trafficSource.campaignCode',\n",
       "       'trafficSource.keyword', 'trafficSource.referralPath',\n",
       "       'trafficSource.source'],\n",
       "      dtype='object')"
      ]
     },
     "execution_count": 44,
     "metadata": {},
     "output_type": "execute_result"
    }
   ],
   "source": [
    "new_train.select_dtypes(include='object').columns"
   ]
  },
  {
   "cell_type": "code",
   "execution_count": 45,
   "metadata": {},
   "outputs": [
    {
     "data": {
      "text/plain": [
       "trafficSource.adContent                 892707\n",
       "trafficSource.adwordsClickInfo.gclId    882092\n",
       "trafficSource.adwordsClickInfo.page     882193\n",
       "trafficSource.campaignCode              903652\n",
       "trafficSource.keyword                   502929\n",
       "trafficSource.referralPath              572712\n",
       "trafficSource.source                         0\n",
       "dtype: int64"
      ]
     },
     "execution_count": 45,
     "metadata": {},
     "output_type": "execute_result"
    }
   ],
   "source": [
    "new_train[['trafficSource.adContent', 'trafficSource.adwordsClickInfo.gclId',\n",
    "       'trafficSource.adwordsClickInfo.page', 'trafficSource.campaignCode',\n",
    "       'trafficSource.keyword', 'trafficSource.referralPath',\n",
    "       'trafficSource.source']].isnull().sum()"
   ]
  },
  {
   "cell_type": "code",
   "execution_count": 46,
   "metadata": {},
   "outputs": [],
   "source": [
    "new_train = new_train.drop(['trafficSource.adContent', 'trafficSource.adwordsClickInfo.gclId',\n",
    "       'trafficSource.adwordsClickInfo.page', 'trafficSource.campaignCode'], axis=1)"
   ]
  },
  {
   "cell_type": "code",
   "execution_count": 47,
   "metadata": {},
   "outputs": [],
   "source": [
    "new_train = new_train.drop(['trafficSource.keyword','trafficSource.referralPath'], axis=1)"
   ]
  },
  {
   "cell_type": "code",
   "execution_count": null,
   "metadata": {},
   "outputs": [],
   "source": [
    "#dont drop referral path, and keyword"
   ]
  },
  {
   "cell_type": "code",
   "execution_count": null,
   "metadata": {},
   "outputs": [],
   "source": []
  },
  {
   "cell_type": "code",
   "execution_count": 51,
   "metadata": {},
   "outputs": [],
   "source": [
    "enc_2 = HashingEncoder(cols=['trafficSource.source'], n_components=3).fit(new_train, train_df['totals.transactionRevenue'])"
   ]
  },
  {
   "cell_type": "code",
   "execution_count": 52,
   "metadata": {},
   "outputs": [],
   "source": [
    "new_train_2 = enc_2.transform(new_train)"
   ]
  },
  {
   "cell_type": "code",
   "execution_count": 53,
   "metadata": {},
   "outputs": [
    {
     "data": {
      "text/plain": [
       "(903653, 86)"
      ]
     },
     "execution_count": 53,
     "metadata": {},
     "output_type": "execute_result"
    }
   ],
   "source": [
    "new_train_2.shape"
   ]
  },
  {
   "cell_type": "code",
   "execution_count": 54,
   "metadata": {},
   "outputs": [
    {
     "data": {
      "text/plain": [
       "int64      58\n",
       "uint8      24\n",
       "float64     4\n",
       "dtype: int64"
      ]
     },
     "execution_count": 54,
     "metadata": {},
     "output_type": "execute_result"
    }
   ],
   "source": [
    "new_train_2.dtypes.value_counts()"
   ]
  },
  {
   "cell_type": "code",
   "execution_count": 55,
   "metadata": {},
   "outputs": [
    {
     "data": {
      "text/plain": [
       "False    86\n",
       "dtype: int64"
      ]
     },
     "execution_count": 55,
     "metadata": {},
     "output_type": "execute_result"
    }
   ],
   "source": [
    "new_train_2.isna().any().value_counts()"
   ]
  },
  {
   "cell_type": "code",
   "execution_count": 56,
   "metadata": {},
   "outputs": [
    {
     "data": {
      "text/plain": [
       "(903653, 86)"
      ]
     },
     "execution_count": 56,
     "metadata": {},
     "output_type": "execute_result"
    }
   ],
   "source": [
    "new_train_2.shape"
   ]
  },
  {
   "cell_type": "code",
   "execution_count": 57,
   "metadata": {},
   "outputs": [],
   "source": [
    "from lightgbm.sklearn import LGBMRegressor\n",
    "from sklearn.model_selection import train_test_split\n",
    "from sklearn.metrics import mean_squared_error\n",
    "from sklearn.model_selection import KFold,StratifiedKFold\n",
    "\n",
    "import lightgbm as lgb \n",
    "\n",
    "from sklearn.model_selection import GridSearchCV\n",
    "from sklearn.model_selection import KFold\n",
    "from sklearn.metrics import mean_squared_error\n",
    "from sklearn.model_selection import KFold, StratifiedKFold\n",
    "from sklearn import model_selection, preprocessing, metrics"
   ]
  },
  {
   "cell_type": "code",
   "execution_count": 58,
   "metadata": {},
   "outputs": [],
   "source": [
    "train_df['totals.transactionRevenue'] = np.log1p(train_df['totals.transactionRevenue'])"
   ]
  },
  {
   "cell_type": "code",
   "execution_count": 59,
   "metadata": {},
   "outputs": [],
   "source": [
    "train_x, valid_x, train_y, valid_y = train_test_split(new_train_2, train_df[\"totals.transactionRevenue\"], test_size=0.25, random_state=20)"
   ]
  },
  {
   "cell_type": "code",
   "execution_count": 60,
   "metadata": {},
   "outputs": [
    {
     "name": "stdout",
     "output_type": "stream",
     "text": [
      "Training until validation scores don't improve for 150 rounds.\n",
      "[20]\tvalid_0's rmse: 1.8409\n",
      "[40]\tvalid_0's rmse: 1.75237\n",
      "[60]\tvalid_0's rmse: 1.70394\n",
      "[80]\tvalid_0's rmse: 1.67902\n",
      "[100]\tvalid_0's rmse: 1.66291\n",
      "[120]\tvalid_0's rmse: 1.65345\n",
      "[140]\tvalid_0's rmse: 1.64571\n",
      "[160]\tvalid_0's rmse: 1.64002\n",
      "[180]\tvalid_0's rmse: 1.63583\n",
      "[200]\tvalid_0's rmse: 1.63322\n",
      "[220]\tvalid_0's rmse: 1.6313\n",
      "[240]\tvalid_0's rmse: 1.62967\n",
      "[260]\tvalid_0's rmse: 1.6279\n",
      "[280]\tvalid_0's rmse: 1.6269\n",
      "[300]\tvalid_0's rmse: 1.62592\n",
      "[320]\tvalid_0's rmse: 1.62494\n",
      "[340]\tvalid_0's rmse: 1.62438\n",
      "[360]\tvalid_0's rmse: 1.62385\n",
      "[380]\tvalid_0's rmse: 1.62311\n",
      "[400]\tvalid_0's rmse: 1.62282\n",
      "[420]\tvalid_0's rmse: 1.62249\n",
      "[440]\tvalid_0's rmse: 1.62223\n",
      "[460]\tvalid_0's rmse: 1.62218\n",
      "[480]\tvalid_0's rmse: 1.62205\n",
      "[500]\tvalid_0's rmse: 1.62196\n",
      "[520]\tvalid_0's rmse: 1.62179\n",
      "[540]\tvalid_0's rmse: 1.62179\n",
      "[560]\tvalid_0's rmse: 1.62161\n",
      "[580]\tvalid_0's rmse: 1.62123\n",
      "[600]\tvalid_0's rmse: 1.62106\n",
      "[620]\tvalid_0's rmse: 1.6211\n",
      "[640]\tvalid_0's rmse: 1.62122\n",
      "[660]\tvalid_0's rmse: 1.6211\n",
      "[680]\tvalid_0's rmse: 1.6211\n",
      "[700]\tvalid_0's rmse: 1.62108\n",
      "[720]\tvalid_0's rmse: 1.6211\n",
      "[740]\tvalid_0's rmse: 1.62107\n",
      "[760]\tvalid_0's rmse: 1.62112\n",
      "Early stopping, best iteration is:\n",
      "[623]\tvalid_0's rmse: 1.62096\n"
     ]
    }
   ],
   "source": [
    "lgb_params = {\"objective\" : \"regression\", \n",
    "              \"metric\" : \"rmse\",\n",
    "             \"num_leaves\" : 50,\n",
    "              \"learning_rate\" : 0.02, \n",
    "              \"bagging_fraction\" : 0.75,\n",
    "              \"feature_fraction\" : 0.8, \n",
    "              \"bagging_frequency\" : 9}\n",
    "    \n",
    "lgb_train = lgb.Dataset(train_x, label=train_y)\n",
    "lgb_val = lgb.Dataset(valid_x, label=valid_y)\n",
    "model = lgb.train(lgb_params, lgb_train, 1200, valid_sets=[lgb_val], early_stopping_rounds=150, verbose_eval=20)"
   ]
  },
  {
   "cell_type": "code",
   "execution_count": 61,
   "metadata": {},
   "outputs": [
    {
     "data": {
      "text/plain": [
       "<lightgbm.basic.Booster at 0x7f806d72cbe0>"
      ]
     },
     "execution_count": 61,
     "metadata": {},
     "output_type": "execute_result"
    }
   ],
   "source": [
    "model"
   ]
  },
  {
   "cell_type": "code",
   "execution_count": 63,
   "metadata": {},
   "outputs": [],
   "source": [
    "import matplotlib.pyplot as plt"
   ]
  },
  {
   "cell_type": "code",
   "execution_count": 64,
   "metadata": {},
   "outputs": [
    {
     "data": {
      "image/png": "[encoded data removed]",
      "text/plain": [
       "<Figure size 864x1296 with 1 Axes>"
      ]
     },
     "metadata": {
      "needs_background": "light"
     },
     "output_type": "display_data"
    }
   ],
   "source": [
    "# Show feature importances\n",
    "fig, ax = plt.subplots(figsize=(12,18))\n",
    "lgb.plot_importance(model, max_num_features=50, height=0.8, ax=ax)\n",
    "ax.grid(False)\n",
    "plt.title(\"LightGBM - Feature Importance\", fontsize=15)\n",
    "plt.show()"
   ]
  },
  {
   "cell_type": "code",
   "execution_count": 183,
   "metadata": {},
   "outputs": [],
   "source": [
    "import pickle"
   ]
  },
  {
   "cell_type": "code",
   "execution_count": 184,
   "metadata": {},
   "outputs": [],
   "source": [
    "filename2= 'lgbmodel2.sav'\n",
    "pickle.dump(model, open(filename2, 'wb'))"
   ]
  },
  {
   "cell_type": "code",
   "execution_count": 111,
   "metadata": {},
   "outputs": [],
   "source": [
    "import xgboost as xgb"
   ]
  },
  {
   "cell_type": "code",
   "execution_count": 112,
   "metadata": {},
   "outputs": [],
   "source": [
    "data_dmatrix = xgb.DMatrix(data=new_train_2, label=train_df['totals.transactionRevenue'])\n",
    "\n",
    "train_x, valid_x, train_y, valid_y = train_test_split(new_train_2, train_df['totals.transactionRevenue'], test_size=0.25, random_state=20)"
   ]
  },
  {
   "cell_type": "code",
   "execution_count": 188,
   "metadata": {},
   "outputs": [],
   "source": [
    "xg_reg = xgb.XGBRegressor(objective ='reg:linear', colsample_bytree = 0.8, learning_rate = 0.02,\n",
    "                max_depth = 50, n_estimators = 50)"
   ]
  },
  {
   "cell_type": "code",
   "execution_count": 189,
   "metadata": {},
   "outputs": [
    {
     "data": {
      "text/plain": [
       "XGBRegressor(base_score=0.5, booster='gbtree', colsample_bylevel=1,\n",
       "       colsample_bytree=0.8, gamma=0, learning_rate=0.02, max_delta_step=0,\n",
       "       max_depth=50, min_child_weight=1, missing=None, n_estimators=50,\n",
       "       n_jobs=1, nthread=None, objective='reg:linear', random_state=0,\n",
       "       reg_alpha=0, reg_lambda=1, scale_pos_weight=1, seed=None,\n",
       "       silent=True, subsample=1)"
      ]
     },
     "execution_count": 189,
     "metadata": {},
     "output_type": "execute_result"
    }
   ],
   "source": [
    "xg_reg.fit(train_x,train_y)"
   ]
  },
  {
   "cell_type": "code",
   "execution_count": 190,
   "metadata": {},
   "outputs": [],
   "source": [
    "preds = xg_reg.predict(valid_x)"
   ]
  },
  {
   "cell_type": "code",
   "execution_count": 191,
   "metadata": {},
   "outputs": [
    {
     "name": "stdout",
     "output_type": "stream",
     "text": [
      "RMSE: 1.744329\n"
     ]
    }
   ],
   "source": [
    "rmse = np.sqrt(mean_squared_error(valid_y, preds))\n",
    "print(\"RMSE: %f\" % (rmse))"
   ]
  },
  {
   "cell_type": "code",
   "execution_count": 192,
   "metadata": {},
   "outputs": [],
   "source": [
    "filename3 = 'xgb2.sav'\n",
    "pickle.dump(xg_reg, open(filename3, 'wb'))"
   ]
  },
  {
   "cell_type": "code",
   "execution_count": 67,
   "metadata": {},
   "outputs": [],
   "source": [
    "from sklearn.model_selection import GridSearchCV, train_test_split\n",
    "from xgboost import XGBRegressor\n",
    "from sklearn.metrics import mean_squared_error"
   ]
  },
  {
   "cell_type": "code",
   "execution_count": 69,
   "metadata": {},
   "outputs": [],
   "source": [
    "# train_x, valid_x, train_y, valid_y = train_test_split(new_train_2, train_df['totals.transactionRevenue'], test_size=0.25, random_state=20)"
   ]
  },
  {
   "cell_type": "code",
   "execution_count": 68,
   "metadata": {},
   "outputs": [],
   "source": [
    "xgb = XGBRegressor(nthread=-1) "
   ]
  },
  {
   "cell_type": "code",
   "execution_count": 71,
   "metadata": {},
   "outputs": [],
   "source": [
    "parameter_xgb = {'min_child_weight':[4,5], \n",
    "                 'gamma':[i/10.0 for i in range(4,6)],\n",
    "                 'subsample':[i/10.0 for i in range(7,9)],\n",
    "                 'colsample_bytree':[i/10.0 for i in range(7,9)],\n",
    "                 'max_depth': [3, 5],\n",
    "                 'learning_rate':[0.02],\n",
    "                 'n_estimators':[10, 15]}"
   ]
  },
  {
   "cell_type": "code",
   "execution_count": 76,
   "metadata": {},
   "outputs": [
    {
     "data": {
      "text/plain": [
       "['accuracy',\n",
       " 'adjusted_mutual_info_score',\n",
       " 'adjusted_rand_score',\n",
       " 'average_precision',\n",
       " 'balanced_accuracy',\n",
       " 'brier_score_loss',\n",
       " 'completeness_score',\n",
       " 'explained_variance',\n",
       " 'f1',\n",
       " 'f1_macro',\n",
       " 'f1_micro',\n",
       " 'f1_samples',\n",
       " 'f1_weighted',\n",
       " 'fowlkes_mallows_score',\n",
       " 'homogeneity_score',\n",
       " 'mutual_info_score',\n",
       " 'neg_log_loss',\n",
       " 'neg_mean_absolute_error',\n",
       " 'neg_mean_squared_error',\n",
       " 'neg_mean_squared_log_error',\n",
       " 'neg_median_absolute_error',\n",
       " 'normalized_mutual_info_score',\n",
       " 'precision',\n",
       " 'precision_macro',\n",
       " 'precision_micro',\n",
       " 'precision_samples',\n",
       " 'precision_weighted',\n",
       " 'r2',\n",
       " 'recall',\n",
       " 'recall_macro',\n",
       " 'recall_micro',\n",
       " 'recall_samples',\n",
       " 'recall_weighted',\n",
       " 'roc_auc',\n",
       " 'v_measure_score']"
      ]
     },
     "execution_count": 76,
     "metadata": {},
     "output_type": "execute_result"
    }
   ],
   "source": [
    "import sklearn\n",
    "sorted(sklearn.metrics.SCORERS.keys())"
   ]
  },
  {
   "cell_type": "code",
   "execution_count": 77,
   "metadata": {},
   "outputs": [
    {
     "data": {
      "text/plain": [
       "GridSearchCV(cv=KFold(n_splits=5, random_state=None, shuffle=True),\n",
       "       error_score='raise-deprecating',\n",
       "       estimator=XGBRegressor(base_score=0.5, booster='gbtree', colsample_bylevel=1,\n",
       "       colsample_bytree=1, gamma=0, learning_rate=0.1, max_delta_step=0,\n",
       "       max_depth=3, min_child_weight=1, missing=None, n_estimators=100,\n",
       "       n_jobs=1, nthread=-1, objective='reg:linear', random_state=0,\n",
       "       reg_alpha=0, reg_lambda=1, scale_pos_weight=1, seed=None,\n",
       "       silent=True, subsample=1),\n",
       "       fit_params=None, iid='warn', n_jobs=None,\n",
       "       param_grid={'min_child_weight': [4, 5], 'gamma': [0.4, 0.5], 'subsample': [0.7, 0.8], 'colsample_bytree': [0.7, 0.8], 'max_depth': [3, 5], 'learning_rate': [0.02], 'n_estimators': [10, 15]},\n",
       "       pre_dispatch='2*n_jobs', refit=True, return_train_score='warn',\n",
       "       scoring='neg_mean_squared_error', verbose=0)"
      ]
     },
     "execution_count": 77,
     "metadata": {},
     "output_type": "execute_result"
    }
   ],
   "source": [
    "cv1 = KFold(n_splits=5, shuffle=True)\n",
    "grid = GridSearchCV(xgb, parameter_xgb, scoring='neg_mean_squared_error', cv=cv1)\n",
    "grid.fit(new_train_2, train_df['totals.transactionRevenue'])"
   ]
  },
  {
   "cell_type": "code",
   "execution_count": 79,
   "metadata": {},
   "outputs": [
    {
     "data": {
      "text/plain": [
       "XGBRegressor(base_score=0.5, booster='gbtree', colsample_bylevel=1,\n",
       "       colsample_bytree=0.8, gamma=0.4, learning_rate=0.02,\n",
       "       max_delta_step=0, max_depth=5, min_child_weight=4, missing=None,\n",
       "       n_estimators=15, n_jobs=1, nthread=-1, objective='reg:linear',\n",
       "       random_state=0, reg_alpha=0, reg_lambda=1, scale_pos_weight=1,\n",
       "       seed=None, silent=True, subsample=0.8)"
      ]
     },
     "execution_count": 79,
     "metadata": {},
     "output_type": "execute_result"
    }
   ],
   "source": [
    "grid.best_estimator_"
   ]
  },
  {
   "cell_type": "code",
   "execution_count": 84,
   "metadata": {},
   "outputs": [
    {
     "data": {
      "text/plain": [
       "-3.58321410904326"
      ]
     },
     "execution_count": 84,
     "metadata": {},
     "output_type": "execute_result"
    }
   ],
   "source": [
    "grid.best_score_"
   ]
  },
  {
   "cell_type": "code",
   "execution_count": 86,
   "metadata": {},
   "outputs": [
    {
     "data": {
      "text/plain": [
       "{'colsample_bytree': 0.8,\n",
       " 'gamma': 0.4,\n",
       " 'learning_rate': 0.02,\n",
       " 'max_depth': 5,\n",
       " 'min_child_weight': 4,\n",
       " 'n_estimators': 15,\n",
       " 'subsample': 0.8}"
      ]
     },
     "execution_count": 86,
     "metadata": {},
     "output_type": "execute_result"
    }
   ],
   "source": [
    "grid.best_params_"
   ]
  },
  {
   "cell_type": "code",
   "execution_count": 85,
   "metadata": {},
   "outputs": [
    {
     "name": "stderr",
     "output_type": "stream",
     "text": [
      "/home/apratim941208/anaconda3/envs/ds/lib/python3.6/site-packages/sklearn/utils/deprecation.py:125: FutureWarning: You are accessing a training score ('split0_train_score'), which will not be available by default any more in 0.21. If you need training scores, please set return_train_score=True\n",
      "  warnings.warn(*warn_args, **warn_kwargs)\n",
      "/home/apratim941208/anaconda3/envs/ds/lib/python3.6/site-packages/sklearn/utils/deprecation.py:125: FutureWarning: You are accessing a training score ('split1_train_score'), which will not be available by default any more in 0.21. If you need training scores, please set return_train_score=True\n",
      "  warnings.warn(*warn_args, **warn_kwargs)\n",
      "/home/apratim941208/anaconda3/envs/ds/lib/python3.6/site-packages/sklearn/utils/deprecation.py:125: FutureWarning: You are accessing a training score ('split2_train_score'), which will not be available by default any more in 0.21. If you need training scores, please set return_train_score=True\n",
      "  warnings.warn(*warn_args, **warn_kwargs)\n",
      "/home/apratim941208/anaconda3/envs/ds/lib/python3.6/site-packages/sklearn/utils/deprecation.py:125: FutureWarning: You are accessing a training score ('split3_train_score'), which will not be available by default any more in 0.21. If you need training scores, please set return_train_score=True\n",
      "  warnings.warn(*warn_args, **warn_kwargs)\n",
      "/home/apratim941208/anaconda3/envs/ds/lib/python3.6/site-packages/sklearn/utils/deprecation.py:125: FutureWarning: You are accessing a training score ('split4_train_score'), which will not be available by default any more in 0.21. If you need training scores, please set return_train_score=True\n",
      "  warnings.warn(*warn_args, **warn_kwargs)\n",
      "/home/apratim941208/anaconda3/envs/ds/lib/python3.6/site-packages/sklearn/utils/deprecation.py:125: FutureWarning: You are accessing a training score ('mean_train_score'), which will not be available by default any more in 0.21. If you need training scores, please set return_train_score=True\n",
      "  warnings.warn(*warn_args, **warn_kwargs)\n",
      "/home/apratim941208/anaconda3/envs/ds/lib/python3.6/site-packages/sklearn/utils/deprecation.py:125: FutureWarning: You are accessing a training score ('std_train_score'), which will not be available by default any more in 0.21. If you need training scores, please set return_train_score=True\n",
      "  warnings.warn(*warn_args, **warn_kwargs)\n"
     ]
    },
    {
     "data": {
      "text/plain": [
       "{'mean_fit_time': array([4.88871536, 4.62320452, 5.51847734, 5.37376003, 4.71750708,\n",
       "        4.63323717, 5.48476605, 5.32356796, 5.51148896, 5.34714937,\n",
       "        6.66876111, 6.41953459, 5.53024783, 5.50784526, 6.83271227,\n",
       "        6.558816  , 4.68587742, 4.56176839, 5.39569225, 5.26843066,\n",
       "        4.61097312, 4.53132281, 5.36987581, 5.24590549, 5.39760318,\n",
       "        5.32738638, 6.5416584 , 6.35791607, 5.27718968, 5.25253105,\n",
       "        6.55334616, 6.3127811 , 4.80806074, 4.73731956, 5.65470338,\n",
       "        5.57636538, 4.75891819, 4.65014796, 5.66173697, 5.61458025,\n",
       "        5.83993564, 5.63621025, 7.02969337, 6.93341184, 5.82019386,\n",
       "        5.6253346 , 7.21124177, 6.94370122, 4.86472116, 4.73758163,\n",
       "        5.70732322, 5.55960813, 4.85412369, 4.73900104, 5.70275016,\n",
       "        5.48999238, 5.80000067, 5.66706562, 7.11482749, 6.89570928,\n",
       "        5.7446003 , 5.59378839, 7.06078224, 6.84346175]),\n",
       " 'std_fit_time': array([0.19292264, 0.07822261, 0.02775683, 0.04723283, 0.03968494,\n",
       "        0.04343624, 0.0228001 , 0.05270048, 0.07387786, 0.05410804,\n",
       "        0.05174196, 0.03054128, 0.0440467 , 0.09619739, 0.03065271,\n",
       "        0.03849639, 0.04591551, 0.03779211, 0.03410555, 0.07078225,\n",
       "        0.01419501, 0.05181589, 0.05707422, 0.04607464, 0.02957427,\n",
       "        0.04122737, 0.02468199, 0.06236572, 0.03896104, 0.03961722,\n",
       "        0.02890682, 0.0469291 , 0.04134333, 0.02336415, 0.06584519,\n",
       "        0.06370734, 0.05613707, 0.08464814, 0.04727355, 0.0754251 ,\n",
       "        0.11933368, 0.07379524, 0.05908824, 0.0774545 , 0.02945365,\n",
       "        0.02165128, 0.04216181, 0.09054856, 0.09182065, 0.02080477,\n",
       "        0.07674837, 0.04108021, 0.0361787 , 0.01579172, 0.02673586,\n",
       "        0.06328702, 0.04221934, 0.04501439, 0.06156039, 0.06321741,\n",
       "        0.02223765, 0.05579731, 0.03558984, 0.0641387 ]),\n",
       " 'mean_score_time': array([0.24412513, 0.24361515, 0.24327707, 0.24736805, 0.24205537,\n",
       "        0.24121671, 0.24234109, 0.23978515, 0.24197278, 0.24158683,\n",
       "        0.24208126, 0.24201021, 0.24167395, 0.24602909, 0.2511466 ,\n",
       "        0.24577184, 0.24179759, 0.2404829 , 0.24308691, 0.24078002,\n",
       "        0.23851686, 0.24240274, 0.24345183, 0.24201283, 0.2416481 ,\n",
       "        0.2426755 , 0.24397597, 0.24137578, 0.23696837, 0.24160681,\n",
       "        0.24285865, 0.24121847, 0.23835764, 0.23898644, 0.23982596,\n",
       "        0.23961854, 0.23707647, 0.23998871, 0.23978162, 0.24471598,\n",
       "        0.2438972 , 0.24308424, 0.2451303 , 0.24433374, 0.24301996,\n",
       "        0.24158654, 0.24581213, 0.24596386, 0.24229994, 0.24068446,\n",
       "        0.24151969, 0.24185452, 0.24157872, 0.24072161, 0.2447443 ,\n",
       "        0.24024119, 0.24319077, 0.24288406, 0.24503899, 0.24361916,\n",
       "        0.24327893, 0.24243793, 0.24502568, 0.24287405]),\n",
       " 'std_score_time': array([0.00823818, 0.00537842, 0.00625121, 0.00667767, 0.00468334,\n",
       "        0.00540365, 0.00797128, 0.00338313, 0.00452101, 0.00538546,\n",
       "        0.00590252, 0.00502214, 0.00655394, 0.00588485, 0.00912638,\n",
       "        0.00651791, 0.00604433, 0.00443232, 0.00605958, 0.00561793,\n",
       "        0.00485531, 0.00362349, 0.00593972, 0.00677273, 0.00510354,\n",
       "        0.00664105, 0.00723128, 0.00611773, 0.00626124, 0.00727042,\n",
       "        0.00693396, 0.00501573, 0.00455676, 0.00581715, 0.00415388,\n",
       "        0.00650279, 0.00637622, 0.00624655, 0.00619342, 0.00496097,\n",
       "        0.00860277, 0.00766178, 0.00754506, 0.0054066 , 0.00525467,\n",
       "        0.00535399, 0.00643981, 0.00641424, 0.00464847, 0.00487814,\n",
       "        0.00731522, 0.00712991, 0.0057019 , 0.0052638 , 0.00551778,\n",
       "        0.00464024, 0.00575996, 0.00433777, 0.00689083, 0.00557253,\n",
       "        0.00591457, 0.00586112, 0.00625581, 0.00544415]),\n",
       " 'param_colsample_bytree': masked_array(data=[0.7, 0.7, 0.7, 0.7, 0.7, 0.7, 0.7, 0.7, 0.7, 0.7, 0.7,\n",
       "                    0.7, 0.7, 0.7, 0.7, 0.7, 0.7, 0.7, 0.7, 0.7, 0.7, 0.7,\n",
       "                    0.7, 0.7, 0.7, 0.7, 0.7, 0.7, 0.7, 0.7, 0.7, 0.7, 0.8,\n",
       "                    0.8, 0.8, 0.8, 0.8, 0.8, 0.8, 0.8, 0.8, 0.8, 0.8, 0.8,\n",
       "                    0.8, 0.8, 0.8, 0.8, 0.8, 0.8, 0.8, 0.8, 0.8, 0.8, 0.8,\n",
       "                    0.8, 0.8, 0.8, 0.8, 0.8, 0.8, 0.8, 0.8, 0.8],\n",
       "              mask=[False, False, False, False, False, False, False, False,\n",
       "                    False, False, False, False, False, False, False, False,\n",
       "                    False, False, False, False, False, False, False, False,\n",
       "                    False, False, False, False, False, False, False, False,\n",
       "                    False, False, False, False, False, False, False, False,\n",
       "                    False, False, False, False, False, False, False, False,\n",
       "                    False, False, False, False, False, False, False, False,\n",
       "                    False, False, False, False, False, False, False, False],\n",
       "        fill_value='?',\n",
       "             dtype=object),\n",
       " 'param_gamma': masked_array(data=[0.4, 0.4, 0.4, 0.4, 0.4, 0.4, 0.4, 0.4, 0.4, 0.4, 0.4,\n",
       "                    0.4, 0.4, 0.4, 0.4, 0.4, 0.5, 0.5, 0.5, 0.5, 0.5, 0.5,\n",
       "                    0.5, 0.5, 0.5, 0.5, 0.5, 0.5, 0.5, 0.5, 0.5, 0.5, 0.4,\n",
       "                    0.4, 0.4, 0.4, 0.4, 0.4, 0.4, 0.4, 0.4, 0.4, 0.4, 0.4,\n",
       "                    0.4, 0.4, 0.4, 0.4, 0.5, 0.5, 0.5, 0.5, 0.5, 0.5, 0.5,\n",
       "                    0.5, 0.5, 0.5, 0.5, 0.5, 0.5, 0.5, 0.5, 0.5],\n",
       "              mask=[False, False, False, False, False, False, False, False,\n",
       "                    False, False, False, False, False, False, False, False,\n",
       "                    False, False, False, False, False, False, False, False,\n",
       "                    False, False, False, False, False, False, False, False,\n",
       "                    False, False, False, False, False, False, False, False,\n",
       "                    False, False, False, False, False, False, False, False,\n",
       "                    False, False, False, False, False, False, False, False,\n",
       "                    False, False, False, False, False, False, False, False],\n",
       "        fill_value='?',\n",
       "             dtype=object),\n",
       " 'param_learning_rate': masked_array(data=[0.02, 0.02, 0.02, 0.02, 0.02, 0.02, 0.02, 0.02, 0.02,\n",
       "                    0.02, 0.02, 0.02, 0.02, 0.02, 0.02, 0.02, 0.02, 0.02,\n",
       "                    0.02, 0.02, 0.02, 0.02, 0.02, 0.02, 0.02, 0.02, 0.02,\n",
       "                    0.02, 0.02, 0.02, 0.02, 0.02, 0.02, 0.02, 0.02, 0.02,\n",
       "                    0.02, 0.02, 0.02, 0.02, 0.02, 0.02, 0.02, 0.02, 0.02,\n",
       "                    0.02, 0.02, 0.02, 0.02, 0.02, 0.02, 0.02, 0.02, 0.02,\n",
       "                    0.02, 0.02, 0.02, 0.02, 0.02, 0.02, 0.02, 0.02, 0.02,\n",
       "                    0.02],\n",
       "              mask=[False, False, False, False, False, False, False, False,\n",
       "                    False, False, False, False, False, False, False, False,\n",
       "                    False, False, False, False, False, False, False, False,\n",
       "                    False, False, False, False, False, False, False, False,\n",
       "                    False, False, False, False, False, False, False, False,\n",
       "                    False, False, False, False, False, False, False, False,\n",
       "                    False, False, False, False, False, False, False, False,\n",
       "                    False, False, False, False, False, False, False, False],\n",
       "        fill_value='?',\n",
       "             dtype=object),\n",
       " 'param_max_depth': masked_array(data=[3, 3, 3, 3, 3, 3, 3, 3, 5, 5, 5, 5, 5, 5, 5, 5, 3, 3,\n",
       "                    3, 3, 3, 3, 3, 3, 5, 5, 5, 5, 5, 5, 5, 5, 3, 3, 3, 3,\n",
       "                    3, 3, 3, 3, 5, 5, 5, 5, 5, 5, 5, 5, 3, 3, 3, 3, 3, 3,\n",
       "                    3, 3, 5, 5, 5, 5, 5, 5, 5, 5],\n",
       "              mask=[False, False, False, False, False, False, False, False,\n",
       "                    False, False, False, False, False, False, False, False,\n",
       "                    False, False, False, False, False, False, False, False,\n",
       "                    False, False, False, False, False, False, False, False,\n",
       "                    False, False, False, False, False, False, False, False,\n",
       "                    False, False, False, False, False, False, False, False,\n",
       "                    False, False, False, False, False, False, False, False,\n",
       "                    False, False, False, False, False, False, False, False],\n",
       "        fill_value='?',\n",
       "             dtype=object),\n",
       " 'param_min_child_weight': masked_array(data=[4, 4, 4, 4, 5, 5, 5, 5, 4, 4, 4, 4, 5, 5, 5, 5, 4, 4,\n",
       "                    4, 4, 5, 5, 5, 5, 4, 4, 4, 4, 5, 5, 5, 5, 4, 4, 4, 4,\n",
       "                    5, 5, 5, 5, 4, 4, 4, 4, 5, 5, 5, 5, 4, 4, 4, 4, 5, 5,\n",
       "                    5, 5, 4, 4, 4, 4, 5, 5, 5, 5],\n",
       "              mask=[False, False, False, False, False, False, False, False,\n",
       "                    False, False, False, False, False, False, False, False,\n",
       "                    False, False, False, False, False, False, False, False,\n",
       "                    False, False, False, False, False, False, False, False,\n",
       "                    False, False, False, False, False, False, False, False,\n",
       "                    False, False, False, False, False, False, False, False,\n",
       "                    False, False, False, False, False, False, False, False,\n",
       "                    False, False, False, False, False, False, False, False],\n",
       "        fill_value='?',\n",
       "             dtype=object),\n",
       " 'param_n_estimators': masked_array(data=[10, 10, 15, 15, 10, 10, 15, 15, 10, 10, 15, 15, 10, 10,\n",
       "                    15, 15, 10, 10, 15, 15, 10, 10, 15, 15, 10, 10, 15, 15,\n",
       "                    10, 10, 15, 15, 10, 10, 15, 15, 10, 10, 15, 15, 10, 10,\n",
       "                    15, 15, 10, 10, 15, 15, 10, 10, 15, 15, 10, 10, 15, 15,\n",
       "                    10, 10, 15, 15, 10, 10, 15, 15],\n",
       "              mask=[False, False, False, False, False, False, False, False,\n",
       "                    False, False, False, False, False, False, False, False,\n",
       "                    False, False, False, False, False, False, False, False,\n",
       "                    False, False, False, False, False, False, False, False,\n",
       "                    False, False, False, False, False, False, False, False,\n",
       "                    False, False, False, False, False, False, False, False,\n",
       "                    False, False, False, False, False, False, False, False,\n",
       "                    False, False, False, False, False, False, False, False],\n",
       "        fill_value='?',\n",
       "             dtype=object),\n",
       " 'param_subsample': masked_array(data=[0.7, 0.8, 0.7, 0.8, 0.7, 0.8, 0.7, 0.8, 0.7, 0.8, 0.7,\n",
       "                    0.8, 0.7, 0.8, 0.7, 0.8, 0.7, 0.8, 0.7, 0.8, 0.7, 0.8,\n",
       "                    0.7, 0.8, 0.7, 0.8, 0.7, 0.8, 0.7, 0.8, 0.7, 0.8, 0.7,\n",
       "                    0.8, 0.7, 0.8, 0.7, 0.8, 0.7, 0.8, 0.7, 0.8, 0.7, 0.8,\n",
       "                    0.7, 0.8, 0.7, 0.8, 0.7, 0.8, 0.7, 0.8, 0.7, 0.8, 0.7,\n",
       "                    0.8, 0.7, 0.8, 0.7, 0.8, 0.7, 0.8, 0.7, 0.8],\n",
       "              mask=[False, False, False, False, False, False, False, False,\n",
       "                    False, False, False, False, False, False, False, False,\n",
       "                    False, False, False, False, False, False, False, False,\n",
       "                    False, False, False, False, False, False, False, False,\n",
       "                    False, False, False, False, False, False, False, False,\n",
       "                    False, False, False, False, False, False, False, False,\n",
       "                    False, False, False, False, False, False, False, False,\n",
       "                    False, False, False, False, False, False, False, False],\n",
       "        fill_value='?',\n",
       "             dtype=object),\n",
       " 'params': [{'colsample_bytree': 0.7,\n",
       "   'gamma': 0.4,\n",
       "   'learning_rate': 0.02,\n",
       "   'max_depth': 3,\n",
       "   'min_child_weight': 4,\n",
       "   'n_estimators': 10,\n",
       "   'subsample': 0.7},\n",
       "  {'colsample_bytree': 0.7,\n",
       "   'gamma': 0.4,\n",
       "   'learning_rate': 0.02,\n",
       "   'max_depth': 3,\n",
       "   'min_child_weight': 4,\n",
       "   'n_estimators': 10,\n",
       "   'subsample': 0.8},\n",
       "  {'colsample_bytree': 0.7,\n",
       "   'gamma': 0.4,\n",
       "   'learning_rate': 0.02,\n",
       "   'max_depth': 3,\n",
       "   'min_child_weight': 4,\n",
       "   'n_estimators': 15,\n",
       "   'subsample': 0.7},\n",
       "  {'colsample_bytree': 0.7,\n",
       "   'gamma': 0.4,\n",
       "   'learning_rate': 0.02,\n",
       "   'max_depth': 3,\n",
       "   'min_child_weight': 4,\n",
       "   'n_estimators': 15,\n",
       "   'subsample': 0.8},\n",
       "  {'colsample_bytree': 0.7,\n",
       "   'gamma': 0.4,\n",
       "   'learning_rate': 0.02,\n",
       "   'max_depth': 3,\n",
       "   'min_child_weight': 5,\n",
       "   'n_estimators': 10,\n",
       "   'subsample': 0.7},\n",
       "  {'colsample_bytree': 0.7,\n",
       "   'gamma': 0.4,\n",
       "   'learning_rate': 0.02,\n",
       "   'max_depth': 3,\n",
       "   'min_child_weight': 5,\n",
       "   'n_estimators': 10,\n",
       "   'subsample': 0.8},\n",
       "  {'colsample_bytree': 0.7,\n",
       "   'gamma': 0.4,\n",
       "   'learning_rate': 0.02,\n",
       "   'max_depth': 3,\n",
       "   'min_child_weight': 5,\n",
       "   'n_estimators': 15,\n",
       "   'subsample': 0.7},\n",
       "  {'colsample_bytree': 0.7,\n",
       "   'gamma': 0.4,\n",
       "   'learning_rate': 0.02,\n",
       "   'max_depth': 3,\n",
       "   'min_child_weight': 5,\n",
       "   'n_estimators': 15,\n",
       "   'subsample': 0.8},\n",
       "  {'colsample_bytree': 0.7,\n",
       "   'gamma': 0.4,\n",
       "   'learning_rate': 0.02,\n",
       "   'max_depth': 5,\n",
       "   'min_child_weight': 4,\n",
       "   'n_estimators': 10,\n",
       "   'subsample': 0.7},\n",
       "  {'colsample_bytree': 0.7,\n",
       "   'gamma': 0.4,\n",
       "   'learning_rate': 0.02,\n",
       "   'max_depth': 5,\n",
       "   'min_child_weight': 4,\n",
       "   'n_estimators': 10,\n",
       "   'subsample': 0.8},\n",
       "  {'colsample_bytree': 0.7,\n",
       "   'gamma': 0.4,\n",
       "   'learning_rate': 0.02,\n",
       "   'max_depth': 5,\n",
       "   'min_child_weight': 4,\n",
       "   'n_estimators': 15,\n",
       "   'subsample': 0.7},\n",
       "  {'colsample_bytree': 0.7,\n",
       "   'gamma': 0.4,\n",
       "   'learning_rate': 0.02,\n",
       "   'max_depth': 5,\n",
       "   'min_child_weight': 4,\n",
       "   'n_estimators': 15,\n",
       "   'subsample': 0.8},\n",
       "  {'colsample_bytree': 0.7,\n",
       "   'gamma': 0.4,\n",
       "   'learning_rate': 0.02,\n",
       "   'max_depth': 5,\n",
       "   'min_child_weight': 5,\n",
       "   'n_estimators': 10,\n",
       "   'subsample': 0.7},\n",
       "  {'colsample_bytree': 0.7,\n",
       "   'gamma': 0.4,\n",
       "   'learning_rate': 0.02,\n",
       "   'max_depth': 5,\n",
       "   'min_child_weight': 5,\n",
       "   'n_estimators': 10,\n",
       "   'subsample': 0.8},\n",
       "  {'colsample_bytree': 0.7,\n",
       "   'gamma': 0.4,\n",
       "   'learning_rate': 0.02,\n",
       "   'max_depth': 5,\n",
       "   'min_child_weight': 5,\n",
       "   'n_estimators': 15,\n",
       "   'subsample': 0.7},\n",
       "  {'colsample_bytree': 0.7,\n",
       "   'gamma': 0.4,\n",
       "   'learning_rate': 0.02,\n",
       "   'max_depth': 5,\n",
       "   'min_child_weight': 5,\n",
       "   'n_estimators': 15,\n",
       "   'subsample': 0.8},\n",
       "  {'colsample_bytree': 0.7,\n",
       "   'gamma': 0.5,\n",
       "   'learning_rate': 0.02,\n",
       "   'max_depth': 3,\n",
       "   'min_child_weight': 4,\n",
       "   'n_estimators': 10,\n",
       "   'subsample': 0.7},\n",
       "  {'colsample_bytree': 0.7,\n",
       "   'gamma': 0.5,\n",
       "   'learning_rate': 0.02,\n",
       "   'max_depth': 3,\n",
       "   'min_child_weight': 4,\n",
       "   'n_estimators': 10,\n",
       "   'subsample': 0.8},\n",
       "  {'colsample_bytree': 0.7,\n",
       "   'gamma': 0.5,\n",
       "   'learning_rate': 0.02,\n",
       "   'max_depth': 3,\n",
       "   'min_child_weight': 4,\n",
       "   'n_estimators': 15,\n",
       "   'subsample': 0.7},\n",
       "  {'colsample_bytree': 0.7,\n",
       "   'gamma': 0.5,\n",
       "   'learning_rate': 0.02,\n",
       "   'max_depth': 3,\n",
       "   'min_child_weight': 4,\n",
       "   'n_estimators': 15,\n",
       "   'subsample': 0.8},\n",
       "  {'colsample_bytree': 0.7,\n",
       "   'gamma': 0.5,\n",
       "   'learning_rate': 0.02,\n",
       "   'max_depth': 3,\n",
       "   'min_child_weight': 5,\n",
       "   'n_estimators': 10,\n",
       "   'subsample': 0.7},\n",
       "  {'colsample_bytree': 0.7,\n",
       "   'gamma': 0.5,\n",
       "   'learning_rate': 0.02,\n",
       "   'max_depth': 3,\n",
       "   'min_child_weight': 5,\n",
       "   'n_estimators': 10,\n",
       "   'subsample': 0.8},\n",
       "  {'colsample_bytree': 0.7,\n",
       "   'gamma': 0.5,\n",
       "   'learning_rate': 0.02,\n",
       "   'max_depth': 3,\n",
       "   'min_child_weight': 5,\n",
       "   'n_estimators': 15,\n",
       "   'subsample': 0.7},\n",
       "  {'colsample_bytree': 0.7,\n",
       "   'gamma': 0.5,\n",
       "   'learning_rate': 0.02,\n",
       "   'max_depth': 3,\n",
       "   'min_child_weight': 5,\n",
       "   'n_estimators': 15,\n",
       "   'subsample': 0.8},\n",
       "  {'colsample_bytree': 0.7,\n",
       "   'gamma': 0.5,\n",
       "   'learning_rate': 0.02,\n",
       "   'max_depth': 5,\n",
       "   'min_child_weight': 4,\n",
       "   'n_estimators': 10,\n",
       "   'subsample': 0.7},\n",
       "  {'colsample_bytree': 0.7,\n",
       "   'gamma': 0.5,\n",
       "   'learning_rate': 0.02,\n",
       "   'max_depth': 5,\n",
       "   'min_child_weight': 4,\n",
       "   'n_estimators': 10,\n",
       "   'subsample': 0.8},\n",
       "  {'colsample_bytree': 0.7,\n",
       "   'gamma': 0.5,\n",
       "   'learning_rate': 0.02,\n",
       "   'max_depth': 5,\n",
       "   'min_child_weight': 4,\n",
       "   'n_estimators': 15,\n",
       "   'subsample': 0.7},\n",
       "  {'colsample_bytree': 0.7,\n",
       "   'gamma': 0.5,\n",
       "   'learning_rate': 0.02,\n",
       "   'max_depth': 5,\n",
       "   'min_child_weight': 4,\n",
       "   'n_estimators': 15,\n",
       "   'subsample': 0.8},\n",
       "  {'colsample_bytree': 0.7,\n",
       "   'gamma': 0.5,\n",
       "   'learning_rate': 0.02,\n",
       "   'max_depth': 5,\n",
       "   'min_child_weight': 5,\n",
       "   'n_estimators': 10,\n",
       "   'subsample': 0.7},\n",
       "  {'colsample_bytree': 0.7,\n",
       "   'gamma': 0.5,\n",
       "   'learning_rate': 0.02,\n",
       "   'max_depth': 5,\n",
       "   'min_child_weight': 5,\n",
       "   'n_estimators': 10,\n",
       "   'subsample': 0.8},\n",
       "  {'colsample_bytree': 0.7,\n",
       "   'gamma': 0.5,\n",
       "   'learning_rate': 0.02,\n",
       "   'max_depth': 5,\n",
       "   'min_child_weight': 5,\n",
       "   'n_estimators': 15,\n",
       "   'subsample': 0.7},\n",
       "  {'colsample_bytree': 0.7,\n",
       "   'gamma': 0.5,\n",
       "   'learning_rate': 0.02,\n",
       "   'max_depth': 5,\n",
       "   'min_child_weight': 5,\n",
       "   'n_estimators': 15,\n",
       "   'subsample': 0.8},\n",
       "  {'colsample_bytree': 0.8,\n",
       "   'gamma': 0.4,\n",
       "   'learning_rate': 0.02,\n",
       "   'max_depth': 3,\n",
       "   'min_child_weight': 4,\n",
       "   'n_estimators': 10,\n",
       "   'subsample': 0.7},\n",
       "  {'colsample_bytree': 0.8,\n",
       "   'gamma': 0.4,\n",
       "   'learning_rate': 0.02,\n",
       "   'max_depth': 3,\n",
       "   'min_child_weight': 4,\n",
       "   'n_estimators': 10,\n",
       "   'subsample': 0.8},\n",
       "  {'colsample_bytree': 0.8,\n",
       "   'gamma': 0.4,\n",
       "   'learning_rate': 0.02,\n",
       "   'max_depth': 3,\n",
       "   'min_child_weight': 4,\n",
       "   'n_estimators': 15,\n",
       "   'subsample': 0.7},\n",
       "  {'colsample_bytree': 0.8,\n",
       "   'gamma': 0.4,\n",
       "   'learning_rate': 0.02,\n",
       "   'max_depth': 3,\n",
       "   'min_child_weight': 4,\n",
       "   'n_estimators': 15,\n",
       "   'subsample': 0.8},\n",
       "  {'colsample_bytree': 0.8,\n",
       "   'gamma': 0.4,\n",
       "   'learning_rate': 0.02,\n",
       "   'max_depth': 3,\n",
       "   'min_child_weight': 5,\n",
       "   'n_estimators': 10,\n",
       "   'subsample': 0.7},\n",
       "  {'colsample_bytree': 0.8,\n",
       "   'gamma': 0.4,\n",
       "   'learning_rate': 0.02,\n",
       "   'max_depth': 3,\n",
       "   'min_child_weight': 5,\n",
       "   'n_estimators': 10,\n",
       "   'subsample': 0.8},\n",
       "  {'colsample_bytree': 0.8,\n",
       "   'gamma': 0.4,\n",
       "   'learning_rate': 0.02,\n",
       "   'max_depth': 3,\n",
       "   'min_child_weight': 5,\n",
       "   'n_estimators': 15,\n",
       "   'subsample': 0.7},\n",
       "  {'colsample_bytree': 0.8,\n",
       "   'gamma': 0.4,\n",
       "   'learning_rate': 0.02,\n",
       "   'max_depth': 3,\n",
       "   'min_child_weight': 5,\n",
       "   'n_estimators': 15,\n",
       "   'subsample': 0.8},\n",
       "  {'colsample_bytree': 0.8,\n",
       "   'gamma': 0.4,\n",
       "   'learning_rate': 0.02,\n",
       "   'max_depth': 5,\n",
       "   'min_child_weight': 4,\n",
       "   'n_estimators': 10,\n",
       "   'subsample': 0.7},\n",
       "  {'colsample_bytree': 0.8,\n",
       "   'gamma': 0.4,\n",
       "   'learning_rate': 0.02,\n",
       "   'max_depth': 5,\n",
       "   'min_child_weight': 4,\n",
       "   'n_estimators': 10,\n",
       "   'subsample': 0.8},\n",
       "  {'colsample_bytree': 0.8,\n",
       "   'gamma': 0.4,\n",
       "   'learning_rate': 0.02,\n",
       "   'max_depth': 5,\n",
       "   'min_child_weight': 4,\n",
       "   'n_estimators': 15,\n",
       "   'subsample': 0.7},\n",
       "  {'colsample_bytree': 0.8,\n",
       "   'gamma': 0.4,\n",
       "   'learning_rate': 0.02,\n",
       "   'max_depth': 5,\n",
       "   'min_child_weight': 4,\n",
       "   'n_estimators': 15,\n",
       "   'subsample': 0.8},\n",
       "  {'colsample_bytree': 0.8,\n",
       "   'gamma': 0.4,\n",
       "   'learning_rate': 0.02,\n",
       "   'max_depth': 5,\n",
       "   'min_child_weight': 5,\n",
       "   'n_estimators': 10,\n",
       "   'subsample': 0.7},\n",
       "  {'colsample_bytree': 0.8,\n",
       "   'gamma': 0.4,\n",
       "   'learning_rate': 0.02,\n",
       "   'max_depth': 5,\n",
       "   'min_child_weight': 5,\n",
       "   'n_estimators': 10,\n",
       "   'subsample': 0.8},\n",
       "  {'colsample_bytree': 0.8,\n",
       "   'gamma': 0.4,\n",
       "   'learning_rate': 0.02,\n",
       "   'max_depth': 5,\n",
       "   'min_child_weight': 5,\n",
       "   'n_estimators': 15,\n",
       "   'subsample': 0.7},\n",
       "  {'colsample_bytree': 0.8,\n",
       "   'gamma': 0.4,\n",
       "   'learning_rate': 0.02,\n",
       "   'max_depth': 5,\n",
       "   'min_child_weight': 5,\n",
       "   'n_estimators': 15,\n",
       "   'subsample': 0.8},\n",
       "  {'colsample_bytree': 0.8,\n",
       "   'gamma': 0.5,\n",
       "   'learning_rate': 0.02,\n",
       "   'max_depth': 3,\n",
       "   'min_child_weight': 4,\n",
       "   'n_estimators': 10,\n",
       "   'subsample': 0.7},\n",
       "  {'colsample_bytree': 0.8,\n",
       "   'gamma': 0.5,\n",
       "   'learning_rate': 0.02,\n",
       "   'max_depth': 3,\n",
       "   'min_child_weight': 4,\n",
       "   'n_estimators': 10,\n",
       "   'subsample': 0.8},\n",
       "  {'colsample_bytree': 0.8,\n",
       "   'gamma': 0.5,\n",
       "   'learning_rate': 0.02,\n",
       "   'max_depth': 3,\n",
       "   'min_child_weight': 4,\n",
       "   'n_estimators': 15,\n",
       "   'subsample': 0.7},\n",
       "  {'colsample_bytree': 0.8,\n",
       "   'gamma': 0.5,\n",
       "   'learning_rate': 0.02,\n",
       "   'max_depth': 3,\n",
       "   'min_child_weight': 4,\n",
       "   'n_estimators': 15,\n",
       "   'subsample': 0.8},\n",
       "  {'colsample_bytree': 0.8,\n",
       "   'gamma': 0.5,\n",
       "   'learning_rate': 0.02,\n",
       "   'max_depth': 3,\n",
       "   'min_child_weight': 5,\n",
       "   'n_estimators': 10,\n",
       "   'subsample': 0.7},\n",
       "  {'colsample_bytree': 0.8,\n",
       "   'gamma': 0.5,\n",
       "   'learning_rate': 0.02,\n",
       "   'max_depth': 3,\n",
       "   'min_child_weight': 5,\n",
       "   'n_estimators': 10,\n",
       "   'subsample': 0.8},\n",
       "  {'colsample_bytree': 0.8,\n",
       "   'gamma': 0.5,\n",
       "   'learning_rate': 0.02,\n",
       "   'max_depth': 3,\n",
       "   'min_child_weight': 5,\n",
       "   'n_estimators': 15,\n",
       "   'subsample': 0.7},\n",
       "  {'colsample_bytree': 0.8,\n",
       "   'gamma': 0.5,\n",
       "   'learning_rate': 0.02,\n",
       "   'max_depth': 3,\n",
       "   'min_child_weight': 5,\n",
       "   'n_estimators': 15,\n",
       "   'subsample': 0.8},\n",
       "  {'colsample_bytree': 0.8,\n",
       "   'gamma': 0.5,\n",
       "   'learning_rate': 0.02,\n",
       "   'max_depth': 5,\n",
       "   'min_child_weight': 4,\n",
       "   'n_estimators': 10,\n",
       "   'subsample': 0.7},\n",
       "  {'colsample_bytree': 0.8,\n",
       "   'gamma': 0.5,\n",
       "   'learning_rate': 0.02,\n",
       "   'max_depth': 5,\n",
       "   'min_child_weight': 4,\n",
       "   'n_estimators': 10,\n",
       "   'subsample': 0.8},\n",
       "  {'colsample_bytree': 0.8,\n",
       "   'gamma': 0.5,\n",
       "   'learning_rate': 0.02,\n",
       "   'max_depth': 5,\n",
       "   'min_child_weight': 4,\n",
       "   'n_estimators': 15,\n",
       "   'subsample': 0.7},\n",
       "  {'colsample_bytree': 0.8,\n",
       "   'gamma': 0.5,\n",
       "   'learning_rate': 0.02,\n",
       "   'max_depth': 5,\n",
       "   'min_child_weight': 4,\n",
       "   'n_estimators': 15,\n",
       "   'subsample': 0.8},\n",
       "  {'colsample_bytree': 0.8,\n",
       "   'gamma': 0.5,\n",
       "   'learning_rate': 0.02,\n",
       "   'max_depth': 5,\n",
       "   'min_child_weight': 5,\n",
       "   'n_estimators': 10,\n",
       "   'subsample': 0.7},\n",
       "  {'colsample_bytree': 0.8,\n",
       "   'gamma': 0.5,\n",
       "   'learning_rate': 0.02,\n",
       "   'max_depth': 5,\n",
       "   'min_child_weight': 5,\n",
       "   'n_estimators': 10,\n",
       "   'subsample': 0.8},\n",
       "  {'colsample_bytree': 0.8,\n",
       "   'gamma': 0.5,\n",
       "   'learning_rate': 0.02,\n",
       "   'max_depth': 5,\n",
       "   'min_child_weight': 5,\n",
       "   'n_estimators': 15,\n",
       "   'subsample': 0.7},\n",
       "  {'colsample_bytree': 0.8,\n",
       "   'gamma': 0.5,\n",
       "   'learning_rate': 0.02,\n",
       "   'max_depth': 5,\n",
       "   'min_child_weight': 5,\n",
       "   'n_estimators': 15,\n",
       "   'subsample': 0.8}],\n",
       " 'split0_test_score': array([-3.89464828, -3.89542044, -3.75638023, -3.75713524, -3.89464828,\n",
       "        -3.89542044, -3.75638023, -3.75713524, -3.86138681, -3.86174451,\n",
       "        -3.70794295, -3.70798052, -3.86140819, -3.86170968, -3.70800313,\n",
       "        -3.70807375, -3.89464828, -3.89542044, -3.75638023, -3.75713524,\n",
       "        -3.89464828, -3.89542044, -3.75638023, -3.75713524, -3.86138681,\n",
       "        -3.86174451, -3.70794295, -3.70798052, -3.86140819, -3.86170968,\n",
       "        -3.70800313, -3.70807375, -3.89357486, -3.89403635, -3.75542856,\n",
       "        -3.75564229, -3.89357486, -3.89403635, -3.75542856, -3.75564229,\n",
       "        -3.85681052, -3.8571255 , -3.70305627, -3.70327812, -3.85681879,\n",
       "        -3.85710969, -3.70310132, -3.70339494, -3.89357486, -3.89403635,\n",
       "        -3.75542856, -3.75564229, -3.89357486, -3.89403635, -3.75542856,\n",
       "        -3.75564229, -3.85681052, -3.8571255 , -3.70305627, -3.70327812,\n",
       "        -3.85681879, -3.85710969, -3.70310132, -3.70339494]),\n",
       " 'split1_test_score': array([-3.75038097, -3.75131186, -3.61929281, -3.61959879, -3.75038097,\n",
       "        -3.75131186, -3.61929281, -3.61959879, -3.71337427, -3.71398319,\n",
       "        -3.5638988 , -3.56412943, -3.71335373, -3.71406167, -3.56388589,\n",
       "        -3.56422978, -3.75038097, -3.75131186, -3.61929281, -3.61959879,\n",
       "        -3.75038097, -3.75131186, -3.61929281, -3.61959879, -3.71337427,\n",
       "        -3.71398319, -3.5638988 , -3.56412943, -3.71335373, -3.71406167,\n",
       "        -3.56388589, -3.56422978, -3.74908921, -3.74993978, -3.61822328,\n",
       "        -3.61865387, -3.74908921, -3.74993978, -3.61822328, -3.61865387,\n",
       "        -3.70939195, -3.70959089, -3.56034917, -3.56012895, -3.70938094,\n",
       "        -3.70964705, -3.56035591, -3.56017971, -3.74908921, -3.74993978,\n",
       "        -3.61822328, -3.61865387, -3.74908921, -3.74993978, -3.61822328,\n",
       "        -3.61865387, -3.70939195, -3.70959089, -3.56034917, -3.56012895,\n",
       "        -3.70938094, -3.70964705, -3.56035591, -3.56017971]),\n",
       " 'split2_test_score': array([-3.70927972, -3.70945106, -3.57625865, -3.57666339, -3.70927972,\n",
       "        -3.70945106, -3.57625865, -3.57666339, -3.67373482, -3.67461308,\n",
       "        -3.5256776 , -3.52549675, -3.67379861, -3.67464603, -3.52574327,\n",
       "        -3.52552753, -3.70927972, -3.70945106, -3.57625865, -3.57666339,\n",
       "        -3.70927972, -3.70945106, -3.57625865, -3.57666339, -3.67373482,\n",
       "        -3.67461308, -3.5256776 , -3.52549675, -3.67379861, -3.67464603,\n",
       "        -3.52574327, -3.52552753, -3.70828788, -3.70810647, -3.57522305,\n",
       "        -3.57553044, -3.70828788, -3.70810647, -3.57522305, -3.57553044,\n",
       "        -3.66952143, -3.67113724, -3.52247997, -3.52281184, -3.66954415,\n",
       "        -3.67116166, -3.52252212, -3.52285396, -3.70828788, -3.70810647,\n",
       "        -3.57522305, -3.57553044, -3.70828788, -3.70810647, -3.57522305,\n",
       "        -3.57553044, -3.66952143, -3.67113724, -3.52247997, -3.52281184,\n",
       "        -3.66954415, -3.67116166, -3.52252212, -3.52285396]),\n",
       " 'split3_test_score': array([-3.76540684, -3.76518666, -3.6310397 , -3.6308272 , -3.76540684,\n",
       "        -3.76518666, -3.6310397 , -3.6308272 , -3.72628815, -3.72606543,\n",
       "        -3.57807547, -3.57707601, -3.72627491, -3.72598284, -3.57806453,\n",
       "        -3.5769933 , -3.76540684, -3.76518666, -3.6310397 , -3.6308272 ,\n",
       "        -3.76540684, -3.76518666, -3.6310397 , -3.6308272 , -3.72628815,\n",
       "        -3.72606543, -3.57807547, -3.57707601, -3.72627491, -3.72598284,\n",
       "        -3.57806453, -3.5769933 , -3.76487177, -3.76467639, -3.62964497,\n",
       "        -3.6298781 , -3.76487177, -3.76467639, -3.62964497, -3.6298781 ,\n",
       "        -3.72385142, -3.72351083, -3.57523954, -3.57396464, -3.72382624,\n",
       "        -3.72341664, -3.57525401, -3.57395308, -3.76487177, -3.76467639,\n",
       "        -3.62964497, -3.6298781 , -3.76487177, -3.76467639, -3.62964497,\n",
       "        -3.6298781 , -3.72385142, -3.72351083, -3.57523954, -3.57396464,\n",
       "        -3.72382624, -3.72341664, -3.57525401, -3.57395308]),\n",
       " 'split4_test_score': array([-3.75502332, -3.75435861, -3.61938296, -3.61910647, -3.75502332,\n",
       "        -3.75435861, -3.61938296, -3.61910647, -3.70977314, -3.70959126,\n",
       "        -3.55903723, -3.55861844, -3.70984155, -3.70958413, -3.55912044,\n",
       "        -3.55860994, -3.75502332, -3.75435861, -3.61938296, -3.61910647,\n",
       "        -3.75502332, -3.75435861, -3.61938296, -3.61910647, -3.70977314,\n",
       "        -3.70959126, -3.55903723, -3.55861844, -3.70984155, -3.70958413,\n",
       "        -3.55912044, -3.55860994, -3.7537195 , -3.75356221, -3.61718727,\n",
       "        -3.61830275, -3.7537195 , -3.75356221, -3.61718727, -3.61830275,\n",
       "        -3.70769237, -3.7076409 , -3.55560003, -3.55588679, -3.70776128,\n",
       "        -3.70767456, -3.55567867, -3.55592426, -3.7537195 , -3.75356221,\n",
       "        -3.61718727, -3.61830275, -3.7537195 , -3.75356221, -3.61718727,\n",
       "        -3.61830275, -3.70769237, -3.7076409 , -3.55560003, -3.55588679,\n",
       "        -3.70776128, -3.70767456, -3.55567867, -3.55592426]),\n",
       " 'mean_test_score': array([-3.77494786, -3.77514576, -3.6404709 , -3.64066625, -3.77494786,\n",
       "        -3.77514576, -3.6404709 , -3.64066625, -3.73691148, -3.73719954,\n",
       "        -3.58692645, -3.58666027, -3.73693544, -3.73719691, -3.58696349,\n",
       "        -3.5866869 , -3.77494786, -3.77514576, -3.6404709 , -3.64066625,\n",
       "        -3.77494786, -3.77514576, -3.6404709 , -3.64066625, -3.73691148,\n",
       "        -3.73719954, -3.58692645, -3.58666027, -3.73693544, -3.73719691,\n",
       "        -3.58696349, -3.5866869 , -3.77390867, -3.77406427, -3.63914146,\n",
       "        -3.63960152, -3.77390867, -3.77406427, -3.63914146, -3.63960152,\n",
       "        -3.73345358, -3.73380111, -3.58334504, -3.58321411, -3.73346632,\n",
       "        -3.73380196, -3.58338245, -3.58326123, -3.77390867, -3.77406427,\n",
       "        -3.63914146, -3.63960152, -3.77390867, -3.77406427, -3.63914146,\n",
       "        -3.63960152, -3.73345358, -3.73380111, -3.58334504, -3.58321411,\n",
       "        -3.73346632, -3.73380196, -3.58338245, -3.58326123]),\n",
       " 'std_test_score': array([0.06282052, 0.0630574 , 0.06089398, 0.06110139, 0.06282052,\n",
       "        0.0630574 , 0.06089398, 0.06110139, 0.06463557, 0.06458133,\n",
       "        0.06290131, 0.06300073, 0.06462753, 0.06455934, 0.06290557,\n",
       "        0.06302678, 0.06282052, 0.0630574 , 0.06089398, 0.06110139,\n",
       "        0.06282052, 0.0630574 , 0.06089398, 0.06110139, 0.06463557,\n",
       "        0.06458133, 0.06290131, 0.06300073, 0.06462753, 0.06455934,\n",
       "        0.06290557, 0.06302678, 0.06281942, 0.0629829 , 0.06102136,\n",
       "        0.06092223, 0.06281942, 0.0629829 , 0.06102136, 0.06092223,\n",
       "        0.06424811, 0.06405012, 0.06228911, 0.06233634, 0.06424282,\n",
       "        0.0640353 , 0.06229032, 0.06236649, 0.06281942, 0.0629829 ,\n",
       "        0.06102136, 0.06092223, 0.06281942, 0.0629829 , 0.06102136,\n",
       "        0.06092223, 0.06424811, 0.06405012, 0.06228911, 0.06233634,\n",
       "        0.06424282, 0.0640353 , 0.06229032, 0.06236649]),\n",
       " 'rank_test_score': array([57, 61, 25, 29, 57, 61, 25, 29, 41, 47, 13,  9, 43, 45, 15, 11, 57,\n",
       "        61, 25, 29, 57, 61, 25, 29, 41, 47, 13,  9, 43, 45, 15, 11, 49, 53,\n",
       "        17, 21, 49, 53, 17, 21, 33, 37,  5,  1, 35, 39,  7,  3, 49, 53, 17,\n",
       "        21, 49, 53, 17, 21, 33, 37,  5,  1, 35, 39,  7,  3], dtype=int32),\n",
       " 'split0_train_score': array([-3.77062201, -3.77097863, -3.63557162, -3.63616142, -3.77062201,\n",
       "        -3.77097863, -3.63557162, -3.63616142, -3.73254426, -3.73306083,\n",
       "        -3.58036098, -3.58054393, -3.73254567, -3.7330757 , -3.58039414,\n",
       "        -3.58058546, -3.77062201, -3.77097863, -3.63557162, -3.63616142,\n",
       "        -3.77062201, -3.77097863, -3.63557162, -3.63616142, -3.73254426,\n",
       "        -3.73306083, -3.58036098, -3.58054393, -3.73254567, -3.7330757 ,\n",
       "        -3.58039414, -3.58058546, -3.76931462, -3.76950779, -3.63440643,\n",
       "        -3.63457603, -3.76931462, -3.76950779, -3.63440643, -3.63457603,\n",
       "        -3.72848221, -3.72902113, -3.5762532 , -3.5769236 , -3.72848859,\n",
       "        -3.72907888, -3.57628671, -3.57703444, -3.76931462, -3.76950779,\n",
       "        -3.63440643, -3.63457603, -3.76931462, -3.76950779, -3.63440643,\n",
       "        -3.63457603, -3.72848221, -3.72902113, -3.5762532 , -3.5769236 ,\n",
       "        -3.72848859, -3.72907888, -3.57628671, -3.57703444]),\n",
       " 'split1_train_score': array([-3.80496605, -3.80570491, -3.66840506, -3.66857843, -3.80496605,\n",
       "        -3.80570491, -3.66840506, -3.66857843, -3.76864338, -3.76938437,\n",
       "        -3.61505571, -3.61530286, -3.76867783, -3.76941158, -3.61509316,\n",
       "        -3.61532901, -3.80496605, -3.80570491, -3.66840506, -3.66857843,\n",
       "        -3.80496605, -3.80570491, -3.66840506, -3.66857843, -3.76864338,\n",
       "        -3.76938437, -3.61505571, -3.61530286, -3.76867783, -3.76941158,\n",
       "        -3.61509316, -3.61532901, -3.80372503, -3.80446215, -3.66738222,\n",
       "        -3.66761951, -3.80372503, -3.80446215, -3.66738222, -3.66761951,\n",
       "        -3.76409634, -3.76470007, -3.61065462, -3.6106803 , -3.76409772,\n",
       "        -3.76470804, -3.61068337, -3.61069509, -3.80372503, -3.80446215,\n",
       "        -3.66738222, -3.66761951, -3.80372503, -3.80446215, -3.66738222,\n",
       "        -3.66761951, -3.76409634, -3.76470007, -3.61065462, -3.6106803 ,\n",
       "        -3.76409772, -3.76470804, -3.61068337, -3.61069509]),\n",
       " 'split2_train_score': array([-3.81792486, -3.81811455, -3.68036187, -3.68061917, -3.81792486,\n",
       "        -3.81811455, -3.68036187, -3.68061917, -3.77969407, -3.77986   ,\n",
       "        -3.62570397, -3.62538712, -3.77972863, -3.77990075, -3.62577409,\n",
       "        -3.62542732, -3.81792486, -3.81811455, -3.68036187, -3.68061917,\n",
       "        -3.81792486, -3.81811455, -3.68036187, -3.68061917, -3.77969407,\n",
       "        -3.77986   , -3.62570397, -3.62538712, -3.77972863, -3.77990075,\n",
       "        -3.62577409, -3.62542732, -3.81651627, -3.8163649 , -3.67897229,\n",
       "        -3.6788212 , -3.81651627, -3.8163649 , -3.67897229, -3.6788212 ,\n",
       "        -3.7749336 , -3.77525   , -3.62087815, -3.62070374, -3.77496477,\n",
       "        -3.77532257, -3.62095532, -3.62079506, -3.81651627, -3.8163649 ,\n",
       "        -3.67897229, -3.6788212 , -3.81651627, -3.8163649 , -3.67897229,\n",
       "        -3.6788212 , -3.7749336 , -3.77525   , -3.62087815, -3.62070374,\n",
       "        -3.77496477, -3.77532257, -3.62095532, -3.62079506]),\n",
       " 'split3_train_score': array([-3.73667078, -3.73716306, -3.6023335 , -3.60266391, -3.73667078,\n",
       "        -3.73716306, -3.6023335 , -3.60266391, -3.69276274, -3.693101  ,\n",
       "        -3.54267541, -3.54256612, -3.69277966, -3.69312959, -3.54269824,\n",
       "        -3.54260398, -3.73667078, -3.73716306, -3.6023335 , -3.60266391,\n",
       "        -3.73667078, -3.73716306, -3.6023335 , -3.60266391, -3.69276274,\n",
       "        -3.693101  , -3.54267541, -3.54256612, -3.69277966, -3.69312959,\n",
       "        -3.54269824, -3.54260398, -3.73627926, -3.73678746, -3.60150479,\n",
       "        -3.60180892, -3.73627926, -3.73678746, -3.60150479, -3.60180892,\n",
       "        -3.69082299, -3.69120936, -3.54039632, -3.54010327, -3.69083895,\n",
       "        -3.69127432, -3.54040287, -3.54019992, -3.73627926, -3.73678746,\n",
       "        -3.60150479, -3.60180892, -3.73627926, -3.73678746, -3.60150479,\n",
       "        -3.60180892, -3.69082299, -3.69120936, -3.54039632, -3.54010327,\n",
       "        -3.69083895, -3.69127432, -3.54040287, -3.54019992]),\n",
       " 'split4_train_score': array([-3.74228046, -3.74190076, -3.60932464, -3.60911189, -3.74228046,\n",
       "        -3.74190076, -3.60932464, -3.60911189, -3.69957695, -3.69970436,\n",
       "        -3.55223131, -3.55210809, -3.69961602, -3.69971933, -3.55228816,\n",
       "        -3.55211776, -3.74228046, -3.74190076, -3.60932464, -3.60911189,\n",
       "        -3.74228046, -3.74190076, -3.60932464, -3.60911189, -3.69957695,\n",
       "        -3.69970436, -3.55223131, -3.55210809, -3.69961602, -3.69971933,\n",
       "        -3.55228816, -3.55211776, -3.74156395, -3.7411893 , -3.60772995,\n",
       "        -3.60809996, -3.74156395, -3.7411893 , -3.60772995, -3.60809996,\n",
       "        -3.69788383, -3.69794055, -3.54962226, -3.54996499, -3.69791833,\n",
       "        -3.69798224, -3.54967534, -3.55000362, -3.74156395, -3.7411893 ,\n",
       "        -3.60772995, -3.60809996, -3.74156395, -3.7411893 , -3.60772995,\n",
       "        -3.60809996, -3.69788383, -3.69794055, -3.54962226, -3.54996499,\n",
       "        -3.69791833, -3.69798224, -3.54967534, -3.55000362]),\n",
       " 'mean_train_score': array([-3.77449283, -3.77477238, -3.63919934, -3.63942696, -3.77449283,\n",
       "        -3.77477238, -3.63919934, -3.63942696, -3.73464428, -3.73502211,\n",
       "        -3.58320547, -3.58318162, -3.73466956, -3.73504739, -3.58324956,\n",
       "        -3.58321271, -3.77449283, -3.77477238, -3.63919934, -3.63942696,\n",
       "        -3.77449283, -3.77477238, -3.63919934, -3.63942696, -3.73464428,\n",
       "        -3.73502211, -3.58320547, -3.58318162, -3.73466956, -3.73504739,\n",
       "        -3.58324956, -3.58321271, -3.77347983, -3.77366232, -3.63799914,\n",
       "        -3.63818512, -3.77347983, -3.77366232, -3.63799914, -3.63818512,\n",
       "        -3.73124379, -3.73162422, -3.57956091, -3.57967518, -3.73126167,\n",
       "        -3.73167321, -3.57960072, -3.57974562, -3.77347983, -3.77366232,\n",
       "        -3.63799914, -3.63818512, -3.77347983, -3.77366232, -3.63799914,\n",
       "        -3.63818512, -3.73124379, -3.73162422, -3.57956091, -3.57967518,\n",
       "        -3.73126167, -3.73167321, -3.57960072, -3.57974562]),\n",
       " 'std_train_score': array([0.03255176, 0.03269484, 0.03102282, 0.03107345, 0.03255176,\n",
       "        0.03269484, 0.03102282, 0.03107345, 0.03513862, 0.03521298,\n",
       "        0.03295675, 0.03297035, 0.0351423 , 0.0352187 , 0.0329652 ,\n",
       "        0.03297392, 0.03255176, 0.03269484, 0.03102282, 0.03107345,\n",
       "        0.03255176, 0.03269484, 0.03102282, 0.03107345, 0.03513862,\n",
       "        0.03521298, 0.03295675, 0.03297035, 0.0351423 , 0.0352187 ,\n",
       "        0.0329652 , 0.03297392, 0.03220795, 0.03226035, 0.03099398,\n",
       "        0.0308514 , 0.03220795, 0.03226035, 0.03099398, 0.0308514 ,\n",
       "        0.03388936, 0.03397631, 0.03198456, 0.03194014, 0.03388696,\n",
       "        0.0339719 , 0.03199786, 0.03193345, 0.03220795, 0.03226035,\n",
       "        0.03099398, 0.0308514 , 0.03220795, 0.03226035, 0.03099398,\n",
       "        0.0308514 , 0.03388936, 0.03397631, 0.03198456, 0.03194014,\n",
       "        0.03388696, 0.0339719 , 0.03199786, 0.03193345])}"
      ]
     },
     "execution_count": 85,
     "metadata": {},
     "output_type": "execute_result"
    }
   ],
   "source": [
    "grid.cv_results_"
   ]
  },
  {
   "cell_type": "code",
   "execution_count": 87,
   "metadata": {},
   "outputs": [
    {
     "data": {
      "text/plain": [
       "5"
      ]
     },
     "execution_count": 87,
     "metadata": {},
     "output_type": "execute_result"
    }
   ],
   "source": [
    "grid.n_splits_"
   ]
  },
  {
   "cell_type": "code",
   "execution_count": 107,
   "metadata": {},
   "outputs": [
    {
     "data": {
      "text/plain": [
       "[<matplotlib.lines.Line2D at 0x7f806e0be780>]"
      ]
     },
     "execution_count": 107,
     "metadata": {},
     "output_type": "execute_result"
    },
    {
     "data": {
      "image/png": "[encoded data removed]",
      "text/plain": [
       "<Figure size 432x288 with 1 Axes>"
      ]
     },
     "metadata": {
      "needs_background": "light"
     },
     "output_type": "display_data"
    }
   ],
   "source": [
    "ax = plt.figure()\n",
    "\n",
    "plt.plot(grid.best_estimator_.feature_importances_)"
   ]
  },
  {
   "cell_type": "code",
   "execution_count": 113,
   "metadata": {},
   "outputs": [
    {
     "name": "stdout",
     "output_type": "stream",
     "text": [
      "3.590446128766214\n"
     ]
    }
   ],
   "source": [
    "print(mean_squared_error(valid_y, grid.best_estimator_.predict(valid_x))) "
   ]
  },
  {
   "cell_type": "code",
   "execution_count": null,
   "metadata": {},
   "outputs": [],
   "source": []
  },
  {
   "cell_type": "code",
   "execution_count": 81,
   "metadata": {},
   "outputs": [],
   "source": [
    "import pickle"
   ]
  },
  {
   "cell_type": "code",
   "execution_count": 83,
   "metadata": {},
   "outputs": [],
   "source": [
    "filename4 = 'grid_xgb.sav'\n",
    "pickle.dump(grid, open(filename4, 'wb'))"
   ]
  },
  {
   "cell_type": "code",
   "execution_count": 114,
   "metadata": {},
   "outputs": [],
   "source": [
    "import os\n",
    "os.environ['KERAS_BACKEND'] = 'tensorflow'\n",
    "# rest of the code"
   ]
  },
  {
   "cell_type": "code",
   "execution_count": 115,
   "metadata": {},
   "outputs": [
    {
     "name": "stderr",
     "output_type": "stream",
     "text": [
      "Using TensorFlow backend.\n"
     ]
    }
   ],
   "source": [
    "from keras.models import Sequential\n",
    "from keras.layers import Dense\n",
    "from keras.wrappers.scikit_learn import KerasRegressor\n",
    "from sklearn.model_selection import cross_val_score\n",
    "from sklearn.model_selection import KFold\n",
    "from sklearn.preprocessing import StandardScaler\n",
    "from sklearn.pipeline import Pipeline"
   ]
  },
  {
   "cell_type": "code",
   "execution_count": 116,
   "metadata": {},
   "outputs": [],
   "source": [
    "from keras.layers import Activation, Dense, Dropout"
   ]
  },
  {
   "cell_type": "code",
   "execution_count": 117,
   "metadata": {},
   "outputs": [],
   "source": [
    "train_x, valid_x, train_y, valid_y = train_test_split(new_train_2, train_df['totals.transactionRevenue'], test_size=0.25, random_state=20)"
   ]
  },
  {
   "cell_type": "code",
   "execution_count": 118,
   "metadata": {},
   "outputs": [
    {
     "data": {
      "text/plain": [
       "((677739, 86), (225914, 86), (677739,), (225914,))"
      ]
     },
     "execution_count": 118,
     "metadata": {},
     "output_type": "execute_result"
    }
   ],
   "source": [
    "train_x.shape, valid_x.shape, train_y.shape, valid_y.shape"
   ]
  },
  {
   "cell_type": "code",
   "execution_count": 119,
   "metadata": {},
   "outputs": [],
   "source": [
    "from sklearn.preprocessing import MinMaxScaler"
   ]
  },
  {
   "cell_type": "code",
   "execution_count": 121,
   "metadata": {},
   "outputs": [],
   "source": [
    "train_y = train_y.values.reshape(-1,1)\n",
    "valid_y = valid_y.values.reshape(-1,1)"
   ]
  },
  {
   "cell_type": "code",
   "execution_count": 122,
   "metadata": {},
   "outputs": [
    {
     "data": {
      "text/plain": [
       "((677739, 86), (225914, 86), (677739, 1), (225914, 1))"
      ]
     },
     "execution_count": 122,
     "metadata": {},
     "output_type": "execute_result"
    }
   ],
   "source": [
    "train_x.shape, valid_x.shape, train_y.shape, valid_y.shape"
   ]
  },
  {
   "cell_type": "code",
   "execution_count": 124,
   "metadata": {},
   "outputs": [
    {
     "name": "stderr",
     "output_type": "stream",
     "text": [
      "/home/apratim941208/anaconda3/envs/ds/lib/python3.6/site-packages/sklearn/preprocessing/data.py:323: DataConversionWarning: Data with input dtype uint8, int64, float64 were all converted to float64 by MinMaxScaler.\n",
      "  return self.partial_fit(X, y)\n"
     ]
    }
   ],
   "source": [
    "scalarX, scalarY = MinMaxScaler(), MinMaxScaler()\n",
    "scalarX.fit(train_x)\n",
    "scalarY.fit(train_y)\n",
    "train_x = scalarX.transform(train_x)\n",
    "train_y = scalarY.transform(train_y)"
   ]
  },
  {
   "cell_type": "code",
   "execution_count": null,
   "metadata": {},
   "outputs": [],
   "source": []
  },
  {
   "cell_type": "code",
   "execution_count": 130,
   "metadata": {},
   "outputs": [],
   "source": [
    "model2 = Sequential()\n",
    "model2.add(Dense(128, input_dim=86, kernel_initializer='random_normal', activation='relu'))\n",
    "model2.add(Dense(64, kernel_initializer='random_normal'))\n",
    "model2.add(Dense(64, kernel_initializer='random_normal'))\n",
    "model2.add(Activation('relu'))\n",
    "model2.add(Dropout(0.3))\n",
    "model2.add(Dense(1))\n",
    "# Compile model\n",
    "model2.compile(loss='mean_squared_error', optimizer='rmsprop')"
   ]
  },
  {
   "cell_type": "code",
   "execution_count": 131,
   "metadata": {},
   "outputs": [
    {
     "data": {
      "text/plain": [
       "<keras.callbacks.History at 0x7f807467a940>"
      ]
     },
     "execution_count": 131,
     "metadata": {},
     "output_type": "execute_result"
    }
   ],
   "source": [
    "\n",
    "model2.fit(train_x, train_y, epochs=10, verbose=0)"
   ]
  },
  {
   "cell_type": "code",
   "execution_count": null,
   "metadata": {},
   "outputs": [],
   "source": [
    "valid_x = scalarX.transform(valid_x)\n",
    "valid_y = scalarY.transform(valid_y)\n"
   ]
  },
  {
   "cell_type": "code",
   "execution_count": null,
   "metadata": {},
   "outputs": [],
   "source": []
  },
  {
   "cell_type": "code",
   "execution_count": null,
   "metadata": {},
   "outputs": [],
   "source": []
  },
  {
   "cell_type": "code",
   "execution_count": null,
   "metadata": {},
   "outputs": [],
   "source": []
  },
  {
   "cell_type": "code",
   "execution_count": 143,
   "metadata": {},
   "outputs": [
    {
     "name": "stdout",
     "output_type": "stream",
     "text": [
      "2.018945717574451\n"
     ]
    }
   ],
   "source": [
    "predictions_NN = model2.predict(valid_x)\n",
    "\n",
    "print(np.sqrt(metrics.mean_squared_error(valid_y,predictions_NN)))"
   ]
  },
  {
   "cell_type": "code",
   "execution_count": 144,
   "metadata": {},
   "outputs": [],
   "source": [
    "filename5 = 'NN1.sav'\n",
    "pickle.dump(model2, open(filename5, 'wb'))"
   ]
  },
  {
   "cell_type": "code",
   "execution_count": null,
   "metadata": {},
   "outputs": [],
   "source": []
  }
 ],
 "metadata": {
  "kernelspec": {
   "display_name": "Python 3",
   "language": "python",
   "name": "python3"
  },
  "language_info": {
   "codemirror_mode": {
    "name": "ipython",
    "version": 3
   },
   "file_extension": ".py",
   "mimetype": "text/x-python",
   "name": "python",
   "nbconvert_exporter": "python",
   "pygments_lexer": "ipython3",
   "version": "3.6.6"
  }
 },
 "nbformat": 4,
 "nbformat_minor": 2
}
