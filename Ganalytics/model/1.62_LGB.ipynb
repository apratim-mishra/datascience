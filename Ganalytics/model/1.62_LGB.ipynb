{
 "cells": [
  {
   "cell_type": "code",
   "execution_count": 1,
   "metadata": {},
   "outputs": [],
   "source": [
    "import pandas as pd\n",
    "import numpy as np\n",
    "import matplotlib.pyplot as plt"
   ]
  },
  {
   "cell_type": "code",
   "execution_count": 2,
   "metadata": {},
   "outputs": [],
   "source": [
    "import seaborn as sns\n"
   ]
  },
  {
   "cell_type": "code",
   "execution_count": 3,
   "metadata": {},
   "outputs": [
    {
     "name": "stderr",
     "output_type": "stream",
     "text": [
      "/home/apratim941208/anaconda3/envs/ds/lib/python3.6/site-packages/IPython/core/interactiveshell.py:3018: DtypeWarning: Columns (2,49) have mixed types. Specify dtype option on import or set low_memory=False.\n",
      "  interactivity=interactivity, compiler=compiler, result=result)\n"
     ]
    }
   ],
   "source": [
    "train_df=pd.read_csv('train-flattened.csv')"
   ]
  },
  {
   "cell_type": "code",
   "execution_count": 4,
   "metadata": {},
   "outputs": [
    {
     "name": "stderr",
     "output_type": "stream",
     "text": [
      "/home/apratim941208/anaconda3/envs/ds/lib/python3.6/site-packages/IPython/core/interactiveshell.py:3018: DtypeWarning: Columns (2) have mixed types. Specify dtype option on import or set low_memory=False.\n",
      "  interactivity=interactivity, compiler=compiler, result=result)\n"
     ]
    }
   ],
   "source": [
    "test_df=pd.read_csv('test-flattened.csv')"
   ]
  },
  {
   "cell_type": "code",
   "execution_count": 5,
   "metadata": {},
   "outputs": [
    {
     "data": {
      "text/plain": [
       "channelGrouping                                           0\n",
       "date                                                      0\n",
       "fullVisitorId                                             0\n",
       "sessionId                                                 0\n",
       "socialEngagementType                                      0\n",
       "visitId                                                   0\n",
       "visitNumber                                               0\n",
       "visitStartTime                                            0\n",
       "device.browser                                            0\n",
       "device.browserSize                                        0\n",
       "device.browserVersion                                     0\n",
       "device.deviceCategory                                     0\n",
       "device.flashVersion                                       0\n",
       "device.isMobile                                           0\n",
       "device.language                                           0\n",
       "device.mobileDeviceBranding                               0\n",
       "device.mobileDeviceInfo                                   0\n",
       "device.mobileDeviceMarketingName                          0\n",
       "device.mobileDeviceModel                                  0\n",
       "device.mobileInputSelector                                0\n",
       "device.operatingSystem                                    0\n",
       "device.operatingSystemVersion                             0\n",
       "device.screenColors                                       0\n",
       "device.screenResolution                                   0\n",
       "geoNetwork.city                                           0\n",
       "geoNetwork.cityId                                         0\n",
       "geoNetwork.continent                                      0\n",
       "geoNetwork.country                                        0\n",
       "geoNetwork.latitude                                       0\n",
       "geoNetwork.longitude                                      0\n",
       "geoNetwork.metro                                          0\n",
       "geoNetwork.networkDomain                                  0\n",
       "geoNetwork.networkLocation                                0\n",
       "geoNetwork.region                                         0\n",
       "geoNetwork.subContinent                                   0\n",
       "totals.bounces                                       453023\n",
       "totals.hits                                               0\n",
       "totals.newVisits                                     200593\n",
       "totals.pageviews                                        100\n",
       "totals.transactionRevenue                            892138\n",
       "totals.visits                                             0\n",
       "trafficSource.adContent                              892707\n",
       "trafficSource.adwordsClickInfo.adNetworkType         882193\n",
       "trafficSource.adwordsClickInfo.criteriaParameters         0\n",
       "trafficSource.adwordsClickInfo.gclId                 882092\n",
       "trafficSource.adwordsClickInfo.isVideoAd             882193\n",
       "trafficSource.adwordsClickInfo.page                  882193\n",
       "trafficSource.adwordsClickInfo.slot                  882193\n",
       "trafficSource.campaign                                    0\n",
       "trafficSource.campaignCode                           903652\n",
       "trafficSource.isTrueDirect                           629648\n",
       "trafficSource.keyword                                502929\n",
       "trafficSource.medium                                      0\n",
       "trafficSource.referralPath                           572712\n",
       "trafficSource.source                                      0\n",
       "dtype: int64"
      ]
     },
     "execution_count": 5,
     "metadata": {},
     "output_type": "execute_result"
    }
   ],
   "source": [
    "train_df.isnull().sum()"
   ]
  },
  {
   "cell_type": "code",
   "execution_count": 6,
   "metadata": {},
   "outputs": [],
   "source": [
    "train_df[\"totals.transactionRevenue\"].fillna(0, inplace=True)"
   ]
  },
  {
   "cell_type": "code",
   "execution_count": null,
   "metadata": {},
   "outputs": [],
   "source": []
  },
  {
   "cell_type": "code",
   "execution_count": 7,
   "metadata": {},
   "outputs": [
    {
     "data": {
      "text/plain": [
       "((903653, 55), (804684, 53))"
      ]
     },
     "execution_count": 7,
     "metadata": {},
     "output_type": "execute_result"
    }
   ],
   "source": [
    "train_df.shape, test_df.shape"
   ]
  },
  {
   "cell_type": "code",
   "execution_count": 8,
   "metadata": {
    "scrolled": false
   },
   "outputs": [
    {
     "name": "stdout",
     "output_type": "stream",
     "text": [
      "<class 'pandas.core.frame.DataFrame'>\n",
      "RangeIndex: 903653 entries, 0 to 903652\n",
      "Data columns (total 55 columns):\n",
      "channelGrouping                                      903653 non-null object\n",
      "date                                                 903653 non-null int64\n",
      "fullVisitorId                                        903653 non-null object\n",
      "sessionId                                            903653 non-null object\n",
      "socialEngagementType                                 903653 non-null object\n",
      "visitId                                              903653 non-null int64\n",
      "visitNumber                                          903653 non-null int64\n",
      "visitStartTime                                       903653 non-null int64\n",
      "device.browser                                       903653 non-null object\n",
      "device.browserSize                                   903653 non-null object\n",
      "device.browserVersion                                903653 non-null object\n",
      "device.deviceCategory                                903653 non-null object\n",
      "device.flashVersion                                  903653 non-null object\n",
      "device.isMobile                                      903653 non-null bool\n",
      "device.language                                      903653 non-null object\n",
      "device.mobileDeviceBranding                          903653 non-null object\n",
      "device.mobileDeviceInfo                              903653 non-null object\n",
      "device.mobileDeviceMarketingName                     903653 non-null object\n",
      "device.mobileDeviceModel                             903653 non-null object\n",
      "device.mobileInputSelector                           903653 non-null object\n",
      "device.operatingSystem                               903653 non-null object\n",
      "device.operatingSystemVersion                        903653 non-null object\n",
      "device.screenColors                                  903653 non-null object\n",
      "device.screenResolution                              903653 non-null object\n",
      "geoNetwork.city                                      903653 non-null object\n",
      "geoNetwork.cityId                                    903653 non-null object\n",
      "geoNetwork.continent                                 903653 non-null object\n",
      "geoNetwork.country                                   903653 non-null object\n",
      "geoNetwork.latitude                                  903653 non-null object\n",
      "geoNetwork.longitude                                 903653 non-null object\n",
      "geoNetwork.metro                                     903653 non-null object\n",
      "geoNetwork.networkDomain                             903653 non-null object\n",
      "geoNetwork.networkLocation                           903653 non-null object\n",
      "geoNetwork.region                                    903653 non-null object\n",
      "geoNetwork.subContinent                              903653 non-null object\n",
      "totals.bounces                                       450630 non-null float64\n",
      "totals.hits                                          903653 non-null int64\n",
      "totals.newVisits                                     703060 non-null float64\n",
      "totals.pageviews                                     903553 non-null float64\n",
      "totals.transactionRevenue                            903653 non-null float64\n",
      "totals.visits                                        903653 non-null int64\n",
      "trafficSource.adContent                              10946 non-null object\n",
      "trafficSource.adwordsClickInfo.adNetworkType         21460 non-null object\n",
      "trafficSource.adwordsClickInfo.criteriaParameters    903653 non-null object\n",
      "trafficSource.adwordsClickInfo.gclId                 21561 non-null object\n",
      "trafficSource.adwordsClickInfo.isVideoAd             21460 non-null object\n",
      "trafficSource.adwordsClickInfo.page                  21460 non-null float64\n",
      "trafficSource.adwordsClickInfo.slot                  21460 non-null object\n",
      "trafficSource.campaign                               903653 non-null object\n",
      "trafficSource.campaignCode                           1 non-null object\n",
      "trafficSource.isTrueDirect                           274005 non-null object\n",
      "trafficSource.keyword                                400724 non-null object\n",
      "trafficSource.medium                                 903653 non-null object\n",
      "trafficSource.referralPath                           330941 non-null object\n",
      "trafficSource.source                                 903653 non-null object\n",
      "dtypes: bool(1), float64(5), int64(6), object(43)\n",
      "memory usage: 373.2+ MB\n"
     ]
    }
   ],
   "source": [
    "train_df.info()"
   ]
  },
  {
   "cell_type": "code",
   "execution_count": 9,
   "metadata": {},
   "outputs": [
    {
     "data": {
      "text/plain": [
       "Index(['totals.transactionRevenue', 'trafficSource.campaignCode'], dtype='object')"
      ]
     },
     "execution_count": 9,
     "metadata": {},
     "output_type": "execute_result"
    }
   ],
   "source": [
    "train_df.columns.difference(test_df.columns)"
   ]
  },
  {
   "cell_type": "code",
   "execution_count": 10,
   "metadata": {},
   "outputs": [],
   "source": [
    "train_df =train_df.drop('trafficSource.campaignCode',axis=1)"
   ]
  },
  {
   "cell_type": "code",
   "execution_count": 11,
   "metadata": {},
   "outputs": [
    {
     "data": {
      "text/plain": [
       "channelGrouping                                           0\n",
       "date                                                      0\n",
       "fullVisitorId                                             0\n",
       "sessionId                                                 0\n",
       "socialEngagementType                                      0\n",
       "visitId                                                   0\n",
       "visitNumber                                               0\n",
       "visitStartTime                                            0\n",
       "device.browser                                            0\n",
       "device.browserSize                                        0\n",
       "device.browserVersion                                     0\n",
       "device.deviceCategory                                     0\n",
       "device.flashVersion                                       0\n",
       "device.isMobile                                           0\n",
       "device.language                                           0\n",
       "device.mobileDeviceBranding                               0\n",
       "device.mobileDeviceInfo                                   0\n",
       "device.mobileDeviceMarketingName                          0\n",
       "device.mobileDeviceModel                                  0\n",
       "device.mobileInputSelector                                0\n",
       "device.operatingSystem                                    0\n",
       "device.operatingSystemVersion                             0\n",
       "device.screenColors                                       0\n",
       "device.screenResolution                                   0\n",
       "geoNetwork.city                                           0\n",
       "geoNetwork.cityId                                         0\n",
       "geoNetwork.continent                                      0\n",
       "geoNetwork.country                                        0\n",
       "geoNetwork.latitude                                       0\n",
       "geoNetwork.longitude                                      0\n",
       "geoNetwork.metro                                          0\n",
       "geoNetwork.networkDomain                                  0\n",
       "geoNetwork.networkLocation                                0\n",
       "geoNetwork.region                                         0\n",
       "geoNetwork.subContinent                                   0\n",
       "totals.bounces                                       453023\n",
       "totals.hits                                               0\n",
       "totals.newVisits                                     200593\n",
       "totals.pageviews                                        100\n",
       "totals.transactionRevenue                                 0\n",
       "totals.visits                                             0\n",
       "trafficSource.adContent                              892707\n",
       "trafficSource.adwordsClickInfo.adNetworkType         882193\n",
       "trafficSource.adwordsClickInfo.criteriaParameters         0\n",
       "trafficSource.adwordsClickInfo.gclId                 882092\n",
       "trafficSource.adwordsClickInfo.isVideoAd             882193\n",
       "trafficSource.adwordsClickInfo.page                  882193\n",
       "trafficSource.adwordsClickInfo.slot                  882193\n",
       "trafficSource.campaign                                    0\n",
       "trafficSource.isTrueDirect                           629648\n",
       "trafficSource.keyword                                502929\n",
       "trafficSource.medium                                      0\n",
       "trafficSource.referralPath                           572712\n",
       "trafficSource.source                                      0\n",
       "dtype: int64"
      ]
     },
     "execution_count": 11,
     "metadata": {},
     "output_type": "execute_result"
    }
   ],
   "source": [
    "train_df.isnull().sum()"
   ]
  },
  {
   "cell_type": "code",
   "execution_count": 12,
   "metadata": {},
   "outputs": [
    {
     "data": {
      "text/plain": [
       "(903653, 54)"
      ]
     },
     "execution_count": 12,
     "metadata": {},
     "output_type": "execute_result"
    }
   ],
   "source": [
    "train_df.shape"
   ]
  },
  {
   "cell_type": "code",
   "execution_count": 13,
   "metadata": {},
   "outputs": [
    {
     "data": {
      "text/plain": [
       "274"
      ]
     },
     "execution_count": 13,
     "metadata": {},
     "output_type": "execute_result"
    }
   ],
   "source": [
    "train_df['totals.hits'].nunique()"
   ]
  },
  {
   "cell_type": "code",
   "execution_count": 14,
   "metadata": {},
   "outputs": [],
   "source": [
    "constant_columns = [c for c in train_df.columns if train_df[c].nunique(dropna=False)==1 ]"
   ]
  },
  {
   "cell_type": "code",
   "execution_count": 15,
   "metadata": {},
   "outputs": [
    {
     "data": {
      "text/plain": [
       "['socialEngagementType',\n",
       " 'device.browserSize',\n",
       " 'device.browserVersion',\n",
       " 'device.flashVersion',\n",
       " 'device.language',\n",
       " 'device.mobileDeviceBranding',\n",
       " 'device.mobileDeviceInfo',\n",
       " 'device.mobileDeviceMarketingName',\n",
       " 'device.mobileDeviceModel',\n",
       " 'device.mobileInputSelector',\n",
       " 'device.operatingSystemVersion',\n",
       " 'device.screenColors',\n",
       " 'device.screenResolution',\n",
       " 'geoNetwork.cityId',\n",
       " 'geoNetwork.latitude',\n",
       " 'geoNetwork.longitude',\n",
       " 'geoNetwork.networkLocation',\n",
       " 'totals.visits',\n",
       " 'trafficSource.adwordsClickInfo.criteriaParameters']"
      ]
     },
     "execution_count": 15,
     "metadata": {},
     "output_type": "execute_result"
    }
   ],
   "source": [
    "constant_columns"
   ]
  },
  {
   "cell_type": "code",
   "execution_count": 16,
   "metadata": {},
   "outputs": [],
   "source": [
    "train_df = train_df.drop(constant_columns,axis=1)"
   ]
  },
  {
   "cell_type": "code",
   "execution_count": 17,
   "metadata": {},
   "outputs": [],
   "source": [
    "test_df = test_df.drop(constant_columns,axis=1)"
   ]
  },
  {
   "cell_type": "code",
   "execution_count": 18,
   "metadata": {},
   "outputs": [
    {
     "data": {
      "text/plain": [
       "((903653, 35), (804684, 34))"
      ]
     },
     "execution_count": 18,
     "metadata": {},
     "output_type": "execute_result"
    }
   ],
   "source": [
    "train_df.shape, test_df.shape"
   ]
  },
  {
   "cell_type": "code",
   "execution_count": 19,
   "metadata": {},
   "outputs": [],
   "source": [
    "# removed the constant columns; now we need to check what to do with missing values"
   ]
  },
  {
   "cell_type": "code",
   "execution_count": 20,
   "metadata": {},
   "outputs": [
    {
     "data": {
      "text/plain": [
       "(Index(['date', 'visitId', 'visitNumber', 'visitStartTime', 'totals.hits'], dtype='object'),\n",
       " 5)"
      ]
     },
     "execution_count": 20,
     "metadata": {},
     "output_type": "execute_result"
    }
   ],
   "source": [
    "train_df.select_dtypes(include=['integer']).columns, len(train_df.select_dtypes(include=['float']).columns)"
   ]
  },
  {
   "cell_type": "code",
   "execution_count": 21,
   "metadata": {},
   "outputs": [
    {
     "data": {
      "text/plain": [
       "(Index(['totals.bounces', 'totals.newVisits', 'totals.pageviews',\n",
       "        'totals.transactionRevenue', 'trafficSource.adwordsClickInfo.page'],\n",
       "       dtype='object'), 5)"
      ]
     },
     "execution_count": 21,
     "metadata": {},
     "output_type": "execute_result"
    }
   ],
   "source": [
    "train_df.select_dtypes(include=['float']).columns, len(train_df.select_dtypes(include=['float']).columns)"
   ]
  },
  {
   "cell_type": "code",
   "execution_count": 22,
   "metadata": {},
   "outputs": [
    {
     "data": {
      "text/plain": [
       "(Index(['channelGrouping', 'fullVisitorId', 'sessionId', 'device.browser',\n",
       "        'device.deviceCategory', 'device.operatingSystem', 'geoNetwork.city',\n",
       "        'geoNetwork.continent', 'geoNetwork.country', 'geoNetwork.metro',\n",
       "        'geoNetwork.networkDomain', 'geoNetwork.region',\n",
       "        'geoNetwork.subContinent', 'trafficSource.adContent',\n",
       "        'trafficSource.adwordsClickInfo.adNetworkType',\n",
       "        'trafficSource.adwordsClickInfo.gclId',\n",
       "        'trafficSource.adwordsClickInfo.isVideoAd',\n",
       "        'trafficSource.adwordsClickInfo.slot', 'trafficSource.campaign',\n",
       "        'trafficSource.isTrueDirect', 'trafficSource.keyword',\n",
       "        'trafficSource.medium', 'trafficSource.referralPath',\n",
       "        'trafficSource.source'],\n",
       "       dtype='object'), 24)"
      ]
     },
     "execution_count": 22,
     "metadata": {},
     "output_type": "execute_result"
    }
   ],
   "source": [
    "train_df.select_dtypes(include=['object']).columns, len(train_df.select_dtypes(include=['object']).columns)"
   ]
  },
  {
   "cell_type": "code",
   "execution_count": 23,
   "metadata": {},
   "outputs": [],
   "source": [
    "train_df['device.isMobile']=train_df['device.isMobile'].astype('object')"
   ]
  },
  {
   "cell_type": "code",
   "execution_count": 24,
   "metadata": {},
   "outputs": [],
   "source": [
    "train_df[['date', 'visitId', 'visitNumber', 'visitStartTime', 'totals.hits']] = train_df[['date', 'visitId', 'visitNumber', 'visitStartTime', 'totals.hits']].astype('float')"
   ]
  },
  {
   "cell_type": "code",
   "execution_count": 25,
   "metadata": {},
   "outputs": [
    {
     "data": {
      "text/plain": [
       "(Index(['date', 'visitId', 'visitNumber', 'visitStartTime', 'totals.bounces',\n",
       "        'totals.hits', 'totals.newVisits', 'totals.pageviews',\n",
       "        'totals.transactionRevenue', 'trafficSource.adwordsClickInfo.page'],\n",
       "       dtype='object'), 10)"
      ]
     },
     "execution_count": 25,
     "metadata": {},
     "output_type": "execute_result"
    }
   ],
   "source": [
    "train_df.select_dtypes(include=['float']).columns, len(train_df.select_dtypes(include=['float']).columns)"
   ]
  },
  {
   "cell_type": "raw",
   "metadata": {},
   "source": []
  },
  {
   "cell_type": "code",
   "execution_count": 26,
   "metadata": {},
   "outputs": [],
   "source": [
    "# try label encoding the categorial features; then try normalizing the numerical feature; try any baseline model to check the natural log of sum of transactions"
   ]
  },
  {
   "cell_type": "code",
   "execution_count": 27,
   "metadata": {},
   "outputs": [
    {
     "data": {
      "text/plain": [
       "0    20160902.0\n",
       "1    20160902.0\n",
       "Name: date, dtype: float64"
      ]
     },
     "execution_count": 27,
     "metadata": {},
     "output_type": "execute_result"
    }
   ],
   "source": [
    "train_df.date.head(2)"
   ]
  },
  {
   "cell_type": "code",
   "execution_count": 28,
   "metadata": {},
   "outputs": [],
   "source": [
    "date_check=train_df.date"
   ]
  },
  {
   "cell_type": "code",
   "execution_count": 29,
   "metadata": {},
   "outputs": [],
   "source": [
    "date_check = date_check.astype('int')"
   ]
  },
  {
   "cell_type": "code",
   "execution_count": 30,
   "metadata": {},
   "outputs": [
    {
     "data": {
      "text/plain": [
       "0    20160902\n",
       "1    20160902\n",
       "Name: date, dtype: int64"
      ]
     },
     "execution_count": 30,
     "metadata": {},
     "output_type": "execute_result"
    }
   ],
   "source": [
    "date_check.head(2)"
   ]
  },
  {
   "cell_type": "code",
   "execution_count": 31,
   "metadata": {},
   "outputs": [],
   "source": [
    "date_check = pd.to_datetime(date_check, format=\"%Y%m%d\")\n"
   ]
  },
  {
   "cell_type": "code",
   "execution_count": 32,
   "metadata": {},
   "outputs": [
    {
     "data": {
      "text/plain": [
       "0    4\n",
       "1    4\n",
       "2    4\n",
       "3    4\n",
       "4    4\n",
       "5    4\n",
       "6    4\n",
       "7    4\n",
       "8    4\n",
       "9    4\n",
       "Name: date, dtype: int64"
      ]
     },
     "execution_count": 32,
     "metadata": {},
     "output_type": "execute_result"
    }
   ],
   "source": [
    "\n",
    "date_check.dt.weekday.head(10)"
   ]
  },
  {
   "cell_type": "code",
   "execution_count": 33,
   "metadata": {},
   "outputs": [],
   "source": [
    "import datetime as dt"
   ]
  },
  {
   "cell_type": "code",
   "execution_count": 34,
   "metadata": {},
   "outputs": [],
   "source": [
    "from pandas.tseries.holiday import USFederalHolidayCalendar as calendar"
   ]
  },
  {
   "cell_type": "code",
   "execution_count": 35,
   "metadata": {},
   "outputs": [],
   "source": [
    "\n",
    "cal = calendar()\n",
    "\n",
    "holidays=cal.holidays(start = date_check.min(), end = date_check.max())\n",
    "holiday_var = date_check.isin(holidays)"
   ]
  },
  {
   "cell_type": "code",
   "execution_count": 36,
   "metadata": {},
   "outputs": [
    {
     "data": {
      "text/plain": [
       "2"
      ]
     },
     "execution_count": 36,
     "metadata": {},
     "output_type": "execute_result"
    }
   ],
   "source": [
    "holiday_var.nunique()"
   ]
  },
  {
   "cell_type": "code",
   "execution_count": 37,
   "metadata": {},
   "outputs": [
    {
     "data": {
      "text/plain": [
       "Timestamp('2016-08-01 00:00:00')"
      ]
     },
     "execution_count": 37,
     "metadata": {},
     "output_type": "execute_result"
    }
   ],
   "source": [
    "date_check.min()"
   ]
  },
  {
   "cell_type": "code",
   "execution_count": null,
   "metadata": {},
   "outputs": [],
   "source": []
  },
  {
   "cell_type": "code",
   "execution_count": null,
   "metadata": {},
   "outputs": [],
   "source": []
  },
  {
   "cell_type": "code",
   "execution_count": 38,
   "metadata": {},
   "outputs": [
    {
     "data": {
      "text/plain": [
       "0   2016-09-02\n",
       "1   2016-09-02\n",
       "Name: date, dtype: datetime64[ns]"
      ]
     },
     "execution_count": 38,
     "metadata": {},
     "output_type": "execute_result"
    }
   ],
   "source": [
    "date_check.head(2)"
   ]
  },
  {
   "cell_type": "code",
   "execution_count": null,
   "metadata": {},
   "outputs": [],
   "source": []
  },
  {
   "cell_type": "code",
   "execution_count": null,
   "metadata": {},
   "outputs": [],
   "source": []
  },
  {
   "cell_type": "code",
   "execution_count": 39,
   "metadata": {},
   "outputs": [],
   "source": [
    "cal = calendar()"
   ]
  },
  {
   "cell_type": "code",
   "execution_count": 40,
   "metadata": {},
   "outputs": [],
   "source": [
    "def add_date_features(df):\n",
    "    df['date'] = df['date'].astype('int')\n",
    "    df[\"date\"] = pd.to_datetime(df[\"date\"], format=\"%Y%m%d\")\n",
    "    \n",
    "    holidays = cal.holidays(start = df['date'].min(), end = df['date'].max())\n",
    "    \n",
    "    df[\"month\"]   = df['date'].dt.month\n",
    "    df[\"day\"]     = df['date'].dt.day\n",
    "    df[\"weekday\"] = df['date'].dt.weekday\n",
    "    df['holiday_var'] = df['date'].isin(holidays)\n",
    "    return df "
   ]
  },
  {
   "cell_type": "code",
   "execution_count": 41,
   "metadata": {},
   "outputs": [],
   "source": [
    "train_df = add_date_features(train_df)"
   ]
  },
  {
   "cell_type": "code",
   "execution_count": 42,
   "metadata": {},
   "outputs": [],
   "source": [
    "test_df = add_date_features(test_df)"
   ]
  },
  {
   "cell_type": "code",
   "execution_count": 43,
   "metadata": {},
   "outputs": [],
   "source": [
    "removing_features = ['sessionId','visitId','visitStartTime','visitNumber']"
   ]
  },
  {
   "cell_type": "code",
   "execution_count": 44,
   "metadata": {},
   "outputs": [
    {
     "data": {
      "text/plain": [
       "((903653, 39), (804684, 38))"
      ]
     },
     "execution_count": 44,
     "metadata": {},
     "output_type": "execute_result"
    }
   ],
   "source": [
    "train_df.shape, test_df.shape"
   ]
  },
  {
   "cell_type": "code",
   "execution_count": 45,
   "metadata": {},
   "outputs": [
    {
     "data": {
      "image/png": "[encoded data removed]",
      "text/plain": [
       "<Figure size 576x432 with 1 Axes>"
      ]
     },
     "metadata": {
      "needs_background": "light"
     },
     "output_type": "display_data"
    }
   ],
   "source": [
    "train_df[\"totals.transactionRevenue\"] = train_df[\"totals.transactionRevenue\"].astype('float')\n",
    "Vis_rev = train_df.groupby(\"fullVisitorId\")[\"totals.transactionRevenue\"].sum().reset_index()\n",
    "\n",
    "plt.figure(figsize=(8,6))\n",
    "plt.scatter(range(Vis_rev.shape[0]), np.sort(np.log1p(Vis_rev[\"totals.transactionRevenue\"].values)))\n",
    "plt.xlabel('index', fontsize=12)\n",
    "plt.ylabel('TransactionRevenue', fontsize=12)\n",
    "plt.show()"
   ]
  },
  {
   "cell_type": "code",
   "execution_count": 46,
   "metadata": {},
   "outputs": [
    {
     "data": {
      "text/plain": [
       "(channelGrouping                                         object\n",
       " date                                            datetime64[ns]\n",
       " fullVisitorId                                           object\n",
       " sessionId                                               object\n",
       " visitId                                                float64\n",
       " visitNumber                                            float64\n",
       " visitStartTime                                         float64\n",
       " device.browser                                          object\n",
       " device.deviceCategory                                   object\n",
       " device.isMobile                                         object\n",
       " device.operatingSystem                                  object\n",
       " geoNetwork.city                                         object\n",
       " geoNetwork.continent                                    object\n",
       " geoNetwork.country                                      object\n",
       " geoNetwork.metro                                        object\n",
       " geoNetwork.networkDomain                                object\n",
       " geoNetwork.region                                       object\n",
       " geoNetwork.subContinent                                 object\n",
       " totals.bounces                                         float64\n",
       " totals.hits                                            float64\n",
       " totals.newVisits                                       float64\n",
       " totals.pageviews                                       float64\n",
       " totals.transactionRevenue                              float64\n",
       " trafficSource.adContent                                 object\n",
       " trafficSource.adwordsClickInfo.adNetworkType            object\n",
       " trafficSource.adwordsClickInfo.gclId                    object\n",
       " trafficSource.adwordsClickInfo.isVideoAd                object\n",
       " trafficSource.adwordsClickInfo.page                    float64\n",
       " trafficSource.adwordsClickInfo.slot                     object\n",
       " trafficSource.campaign                                  object\n",
       " trafficSource.isTrueDirect                              object\n",
       " trafficSource.keyword                                   object\n",
       " trafficSource.medium                                    object\n",
       " trafficSource.referralPath                              object\n",
       " trafficSource.source                                    object\n",
       " month                                                    int64\n",
       " day                                                      int64\n",
       " weekday                                                  int64\n",
       " holiday_var                                               bool\n",
       " dtype: object, (903653, 39))"
      ]
     },
     "execution_count": 46,
     "metadata": {},
     "output_type": "execute_result"
    }
   ],
   "source": [
    "train_df.dtypes, train_df.shape"
   ]
  },
  {
   "cell_type": "code",
   "execution_count": 47,
   "metadata": {},
   "outputs": [],
   "source": [
    "train_df['holiday_var'] = train_df['holiday_var'].astype('object')"
   ]
  },
  {
   "cell_type": "code",
   "execution_count": 48,
   "metadata": {},
   "outputs": [],
   "source": [
    "test_df['holiday_var'] = test_df['holiday_var'].astype('object')"
   ]
  },
  {
   "cell_type": "code",
   "execution_count": 49,
   "metadata": {},
   "outputs": [
    {
     "data": {
      "text/plain": [
       "<matplotlib.axes._subplots.AxesSubplot at 0x7fa0137f95f8>"
      ]
     },
     "execution_count": 49,
     "metadata": {},
     "output_type": "execute_result"
    },
    {
     "data": {
      "image/png": "[encoded data removed]",
      "text/plain": [
       "<Figure size 432x288 with 1 Axes>"
      ]
     },
     "metadata": {
      "needs_background": "light"
     },
     "output_type": "display_data"
    }
   ],
   "source": [
    "train_df.groupby('date')['totals.transactionRevenue'].agg('sum').plot()"
   ]
  },
  {
   "cell_type": "code",
   "execution_count": 50,
   "metadata": {},
   "outputs": [],
   "source": [
    "# almost same graph for sum and count for date vs hits, page count and transaction revenue"
   ]
  },
  {
   "cell_type": "code",
   "execution_count": 51,
   "metadata": {},
   "outputs": [],
   "source": [
    "categorical_columns = train_df.select_dtypes('object').columns"
   ]
  },
  {
   "cell_type": "code",
   "execution_count": 52,
   "metadata": {},
   "outputs": [],
   "source": [
    "from sklearn import preprocessing"
   ]
  },
  {
   "cell_type": "code",
   "execution_count": 53,
   "metadata": {},
   "outputs": [
    {
     "name": "stdout",
     "output_type": "stream",
     "text": [
      "channelGrouping\n",
      "fullVisitorId\n",
      "sessionId\n",
      "device.browser\n",
      "device.deviceCategory\n",
      "device.isMobile\n",
      "device.operatingSystem\n",
      "geoNetwork.city\n",
      "geoNetwork.continent\n",
      "geoNetwork.country\n",
      "geoNetwork.metro\n",
      "geoNetwork.networkDomain\n",
      "geoNetwork.region\n",
      "geoNetwork.subContinent\n",
      "trafficSource.adContent\n",
      "trafficSource.adwordsClickInfo.adNetworkType\n",
      "trafficSource.adwordsClickInfo.gclId\n",
      "trafficSource.adwordsClickInfo.isVideoAd\n",
      "trafficSource.adwordsClickInfo.slot\n",
      "trafficSource.campaign\n",
      "trafficSource.isTrueDirect\n",
      "trafficSource.keyword\n",
      "trafficSource.medium\n",
      "trafficSource.referralPath\n",
      "trafficSource.source\n",
      "holiday_var\n"
     ]
    }
   ],
   "source": [
    "\n",
    "for col in categorical_columns:\n",
    "    print(col)\n",
    "    lbl = preprocessing.LabelEncoder()\n",
    "    lbl.fit(list(train_df[col].values.astype('str')) + list(test_df[col].values.astype('str')))\n",
    "    train_df[col] = lbl.transform(list(train_df[col].values.astype('str')))\n",
    "    test_df[col] = lbl.transform(list(test_df[col].values.astype('str')))"
   ]
  },
  {
   "cell_type": "code",
   "execution_count": 54,
   "metadata": {},
   "outputs": [
    {
     "data": {
      "text/plain": [
       "Index(['channelGrouping', 'fullVisitorId', 'sessionId', 'device.browser',\n",
       "       'device.deviceCategory', 'device.isMobile', 'device.operatingSystem',\n",
       "       'geoNetwork.city', 'geoNetwork.continent', 'geoNetwork.country',\n",
       "       'geoNetwork.metro', 'geoNetwork.networkDomain', 'geoNetwork.region',\n",
       "       'geoNetwork.subContinent', 'trafficSource.adContent',\n",
       "       'trafficSource.adwordsClickInfo.adNetworkType',\n",
       "       'trafficSource.adwordsClickInfo.gclId',\n",
       "       'trafficSource.adwordsClickInfo.isVideoAd',\n",
       "       'trafficSource.adwordsClickInfo.slot', 'trafficSource.campaign',\n",
       "       'trafficSource.isTrueDirect', 'trafficSource.keyword',\n",
       "       'trafficSource.medium', 'trafficSource.referralPath',\n",
       "       'trafficSource.source', 'month', 'day', 'weekday', 'holiday_var'],\n",
       "      dtype='object')"
      ]
     },
     "execution_count": 54,
     "metadata": {},
     "output_type": "execute_result"
    }
   ],
   "source": [
    "train_df.select_dtypes('int').columns"
   ]
  },
  {
   "cell_type": "code",
   "execution_count": 55,
   "metadata": {},
   "outputs": [],
   "source": [
    "train_df[['channelGrouping', 'fullVisitorId', 'sessionId', 'device.browser',\n",
    "       'device.deviceCategory', 'device.isMobile', 'device.operatingSystem',\n",
    "       'geoNetwork.city', 'geoNetwork.continent', 'geoNetwork.country',\n",
    "       'geoNetwork.metro', 'geoNetwork.networkDomain', 'geoNetwork.region',\n",
    "       'geoNetwork.subContinent', 'trafficSource.adContent',\n",
    "       'trafficSource.adwordsClickInfo.adNetworkType',\n",
    "       'trafficSource.adwordsClickInfo.gclId',\n",
    "       'trafficSource.adwordsClickInfo.isVideoAd',\n",
    "       'trafficSource.adwordsClickInfo.slot', 'trafficSource.campaign',\n",
    "       'trafficSource.isTrueDirect', 'trafficSource.keyword',\n",
    "       'trafficSource.medium', 'trafficSource.referralPath',\n",
    "       'trafficSource.source', 'month', 'day', 'weekday', 'holiday_var']]=train_df[['channelGrouping', 'fullVisitorId', 'sessionId', 'device.browser',\n",
    "       'device.deviceCategory', 'device.isMobile', 'device.operatingSystem',\n",
    "       'geoNetwork.city', 'geoNetwork.continent', 'geoNetwork.country',\n",
    "       'geoNetwork.metro', 'geoNetwork.networkDomain', 'geoNetwork.region',\n",
    "       'geoNetwork.subContinent', 'trafficSource.adContent',\n",
    "       'trafficSource.adwordsClickInfo.adNetworkType',\n",
    "       'trafficSource.adwordsClickInfo.gclId',\n",
    "       'trafficSource.adwordsClickInfo.isVideoAd',\n",
    "       'trafficSource.adwordsClickInfo.slot', 'trafficSource.campaign',\n",
    "       'trafficSource.isTrueDirect', 'trafficSource.keyword',\n",
    "       'trafficSource.medium', 'trafficSource.referralPath',\n",
    "       'trafficSource.source', 'month', 'day', 'weekday', 'holiday_var']].astype('float')"
   ]
  },
  {
   "cell_type": "code",
   "execution_count": 56,
   "metadata": {},
   "outputs": [],
   "source": [
    "test_df[['channelGrouping', 'fullVisitorId', 'sessionId', 'device.browser',\n",
    "       'device.deviceCategory', 'device.isMobile', 'device.operatingSystem',\n",
    "       'geoNetwork.city', 'geoNetwork.continent', 'geoNetwork.country',\n",
    "       'geoNetwork.metro', 'geoNetwork.networkDomain', 'geoNetwork.region',\n",
    "       'geoNetwork.subContinent', 'trafficSource.adContent',\n",
    "       'trafficSource.adwordsClickInfo.adNetworkType',\n",
    "       'trafficSource.adwordsClickInfo.gclId',\n",
    "       'trafficSource.adwordsClickInfo.isVideoAd',\n",
    "       'trafficSource.adwordsClickInfo.slot', 'trafficSource.campaign',\n",
    "       'trafficSource.isTrueDirect', 'trafficSource.keyword',\n",
    "       'trafficSource.medium', 'trafficSource.referralPath',\n",
    "       'trafficSource.source', 'month', 'day', 'weekday', 'holiday_var']]=test_df[['channelGrouping', 'fullVisitorId', 'sessionId', 'device.browser',\n",
    "       'device.deviceCategory', 'device.isMobile', 'device.operatingSystem',\n",
    "       'geoNetwork.city', 'geoNetwork.continent', 'geoNetwork.country',\n",
    "       'geoNetwork.metro', 'geoNetwork.networkDomain', 'geoNetwork.region',\n",
    "       'geoNetwork.subContinent', 'trafficSource.adContent',\n",
    "       'trafficSource.adwordsClickInfo.adNetworkType',\n",
    "       'trafficSource.adwordsClickInfo.gclId',\n",
    "       'trafficSource.adwordsClickInfo.isVideoAd',\n",
    "       'trafficSource.adwordsClickInfo.slot', 'trafficSource.campaign',\n",
    "       'trafficSource.isTrueDirect', 'trafficSource.keyword',\n",
    "       'trafficSource.medium', 'trafficSource.referralPath',\n",
    "       'trafficSource.source', 'month', 'day', 'weekday', 'holiday_var']].astype('float')"
   ]
  },
  {
   "cell_type": "code",
   "execution_count": 57,
   "metadata": {},
   "outputs": [],
   "source": [
    "train_df=train_df.drop('date',axis=1)\n"
   ]
  },
  {
   "cell_type": "code",
   "execution_count": 58,
   "metadata": {},
   "outputs": [],
   "source": [
    "test_df = test_df.drop('date',axis=1)"
   ]
  },
  {
   "cell_type": "code",
   "execution_count": 59,
   "metadata": {},
   "outputs": [
    {
     "data": {
      "text/html": [
       "<div>\n",
       "<style scoped>\n",
       "    .dataframe tbody tr th:only-of-type {\n",
       "        vertical-align: middle;\n",
       "    }\n",
       "\n",
       "    .dataframe tbody tr th {\n",
       "        vertical-align: top;\n",
       "    }\n",
       "\n",
       "    .dataframe thead th {\n",
       "        text-align: right;\n",
       "    }\n",
       "</style>\n",
       "<table border=\"1\" class=\"dataframe\">\n",
       "  <thead>\n",
       "    <tr style=\"text-align: right;\">\n",
       "      <th></th>\n",
       "      <th>channelGrouping</th>\n",
       "      <th>fullVisitorId</th>\n",
       "      <th>sessionId</th>\n",
       "      <th>visitId</th>\n",
       "      <th>visitNumber</th>\n",
       "      <th>visitStartTime</th>\n",
       "      <th>device.browser</th>\n",
       "      <th>device.deviceCategory</th>\n",
       "      <th>device.isMobile</th>\n",
       "      <th>device.operatingSystem</th>\n",
       "      <th>...</th>\n",
       "      <th>trafficSource.campaign</th>\n",
       "      <th>trafficSource.isTrueDirect</th>\n",
       "      <th>trafficSource.keyword</th>\n",
       "      <th>trafficSource.medium</th>\n",
       "      <th>trafficSource.referralPath</th>\n",
       "      <th>trafficSource.source</th>\n",
       "      <th>month</th>\n",
       "      <th>day</th>\n",
       "      <th>weekday</th>\n",
       "      <th>holiday_var</th>\n",
       "    </tr>\n",
       "  </thead>\n",
       "  <tbody>\n",
       "    <tr>\n",
       "      <th>0</th>\n",
       "      <td>4.0</td>\n",
       "      <td>42803.0</td>\n",
       "      <td>192365.0</td>\n",
       "      <td>1.472830e+09</td>\n",
       "      <td>1.0</td>\n",
       "      <td>1.472830e+09</td>\n",
       "      <td>35.0</td>\n",
       "      <td>0.0</td>\n",
       "      <td>0.0</td>\n",
       "      <td>20.0</td>\n",
       "      <td>...</td>\n",
       "      <td>4.0</td>\n",
       "      <td>1.0</td>\n",
       "      <td>11.0</td>\n",
       "      <td>5.0</td>\n",
       "      <td>3196.0</td>\n",
       "      <td>208.0</td>\n",
       "      <td>9.0</td>\n",
       "      <td>2.0</td>\n",
       "      <td>4.0</td>\n",
       "      <td>0.0</td>\n",
       "    </tr>\n",
       "    <tr>\n",
       "      <th>1</th>\n",
       "      <td>4.0</td>\n",
       "      <td>425476.0</td>\n",
       "      <td>642618.0</td>\n",
       "      <td>1.472880e+09</td>\n",
       "      <td>1.0</td>\n",
       "      <td>1.472880e+09</td>\n",
       "      <td>43.0</td>\n",
       "      <td>0.0</td>\n",
       "      <td>0.0</td>\n",
       "      <td>7.0</td>\n",
       "      <td>...</td>\n",
       "      <td>4.0</td>\n",
       "      <td>1.0</td>\n",
       "      <td>11.0</td>\n",
       "      <td>5.0</td>\n",
       "      <td>3196.0</td>\n",
       "      <td>208.0</td>\n",
       "      <td>9.0</td>\n",
       "      <td>2.0</td>\n",
       "      <td>4.0</td>\n",
       "      <td>0.0</td>\n",
       "    </tr>\n",
       "    <tr>\n",
       "      <th>2</th>\n",
       "      <td>4.0</td>\n",
       "      <td>443255.0</td>\n",
       "      <td>663755.0</td>\n",
       "      <td>1.472865e+09</td>\n",
       "      <td>1.0</td>\n",
       "      <td>1.472865e+09</td>\n",
       "      <td>35.0</td>\n",
       "      <td>0.0</td>\n",
       "      <td>0.0</td>\n",
       "      <td>20.0</td>\n",
       "      <td>...</td>\n",
       "      <td>4.0</td>\n",
       "      <td>1.0</td>\n",
       "      <td>11.0</td>\n",
       "      <td>5.0</td>\n",
       "      <td>3196.0</td>\n",
       "      <td>208.0</td>\n",
       "      <td>9.0</td>\n",
       "      <td>2.0</td>\n",
       "      <td>4.0</td>\n",
       "      <td>0.0</td>\n",
       "    </tr>\n",
       "  </tbody>\n",
       "</table>\n",
       "<p>3 rows × 38 columns</p>\n",
       "</div>"
      ],
      "text/plain": [
       "   channelGrouping  fullVisitorId  sessionId       visitId  visitNumber  \\\n",
       "0              4.0        42803.0   192365.0  1.472830e+09          1.0   \n",
       "1              4.0       425476.0   642618.0  1.472880e+09          1.0   \n",
       "2              4.0       443255.0   663755.0  1.472865e+09          1.0   \n",
       "\n",
       "   visitStartTime  device.browser  device.deviceCategory  device.isMobile  \\\n",
       "0    1.472830e+09            35.0                    0.0              0.0   \n",
       "1    1.472880e+09            43.0                    0.0              0.0   \n",
       "2    1.472865e+09            35.0                    0.0              0.0   \n",
       "\n",
       "   device.operatingSystem     ...       trafficSource.campaign  \\\n",
       "0                    20.0     ...                          4.0   \n",
       "1                     7.0     ...                          4.0   \n",
       "2                    20.0     ...                          4.0   \n",
       "\n",
       "   trafficSource.isTrueDirect  trafficSource.keyword  trafficSource.medium  \\\n",
       "0                         1.0                   11.0                   5.0   \n",
       "1                         1.0                   11.0                   5.0   \n",
       "2                         1.0                   11.0                   5.0   \n",
       "\n",
       "   trafficSource.referralPath  trafficSource.source  month  day  weekday  \\\n",
       "0                      3196.0                 208.0    9.0  2.0      4.0   \n",
       "1                      3196.0                 208.0    9.0  2.0      4.0   \n",
       "2                      3196.0                 208.0    9.0  2.0      4.0   \n",
       "\n",
       "   holiday_var  \n",
       "0          0.0  \n",
       "1          0.0  \n",
       "2          0.0  \n",
       "\n",
       "[3 rows x 38 columns]"
      ]
     },
     "execution_count": 59,
     "metadata": {},
     "output_type": "execute_result"
    }
   ],
   "source": [
    "train_df.head(3)"
   ]
  },
  {
   "cell_type": "code",
   "execution_count": 60,
   "metadata": {},
   "outputs": [],
   "source": [
    "train_df=train_df.drop(removing_features,axis=1)"
   ]
  },
  {
   "cell_type": "code",
   "execution_count": 61,
   "metadata": {},
   "outputs": [],
   "source": [
    "test_df=test_df.drop(removing_features,axis=1)"
   ]
  },
  {
   "cell_type": "code",
   "execution_count": 62,
   "metadata": {},
   "outputs": [
    {
     "data": {
      "text/plain": [
       "((903653, 34), (804684, 33))"
      ]
     },
     "execution_count": 62,
     "metadata": {},
     "output_type": "execute_result"
    }
   ],
   "source": [
    "train_df.shape, test_df.shape"
   ]
  },
  {
   "cell_type": "code",
   "execution_count": null,
   "metadata": {},
   "outputs": [],
   "source": []
  },
  {
   "cell_type": "code",
   "execution_count": null,
   "metadata": {},
   "outputs": [],
   "source": []
  },
  {
   "cell_type": "code",
   "execution_count": null,
   "metadata": {},
   "outputs": [],
   "source": []
  },
  {
   "cell_type": "code",
   "execution_count": 63,
   "metadata": {},
   "outputs": [],
   "source": [
    "from sklearn.model_selection import train_test_split"
   ]
  },
  {
   "cell_type": "code",
   "execution_count": 64,
   "metadata": {},
   "outputs": [
    {
     "data": {
      "text/plain": [
       "Index(['channelGrouping', 'fullVisitorId', 'device.browser',\n",
       "       'device.deviceCategory', 'device.isMobile', 'device.operatingSystem',\n",
       "       'geoNetwork.city', 'geoNetwork.continent', 'geoNetwork.country',\n",
       "       'geoNetwork.metro', 'geoNetwork.networkDomain', 'geoNetwork.region',\n",
       "       'geoNetwork.subContinent', 'totals.bounces', 'totals.hits',\n",
       "       'totals.newVisits', 'totals.pageviews', 'totals.transactionRevenue',\n",
       "       'trafficSource.adContent',\n",
       "       'trafficSource.adwordsClickInfo.adNetworkType',\n",
       "       'trafficSource.adwordsClickInfo.gclId',\n",
       "       'trafficSource.adwordsClickInfo.isVideoAd',\n",
       "       'trafficSource.adwordsClickInfo.page',\n",
       "       'trafficSource.adwordsClickInfo.slot', 'trafficSource.campaign',\n",
       "       'trafficSource.isTrueDirect', 'trafficSource.keyword',\n",
       "       'trafficSource.medium', 'trafficSource.referralPath',\n",
       "       'trafficSource.source', 'month', 'day', 'weekday', 'holiday_var'],\n",
       "      dtype='object')"
      ]
     },
     "execution_count": 64,
     "metadata": {},
     "output_type": "execute_result"
    }
   ],
   "source": [
    "train_df.columns"
   ]
  },
  {
   "cell_type": "code",
   "execution_count": 65,
   "metadata": {},
   "outputs": [],
   "source": [
    "features=['channelGrouping', 'fullVisitorId', 'device.browser',\n",
    "       'device.deviceCategory', 'device.isMobile', 'device.operatingSystem',\n",
    "       'geoNetwork.city', 'geoNetwork.continent', 'geoNetwork.country',\n",
    "       'geoNetwork.metro', 'geoNetwork.networkDomain', 'geoNetwork.region',\n",
    "       'geoNetwork.subContinent', 'totals.bounces', 'totals.hits',\n",
    "       'totals.newVisits', 'totals.pageviews',\n",
    "       'trafficSource.adContent',\n",
    "       'trafficSource.adwordsClickInfo.adNetworkType',\n",
    "       'trafficSource.adwordsClickInfo.gclId',\n",
    "       'trafficSource.adwordsClickInfo.isVideoAd',\n",
    "       'trafficSource.adwordsClickInfo.page',\n",
    "       'trafficSource.adwordsClickInfo.slot', 'trafficSource.campaign',\n",
    "       'trafficSource.isTrueDirect', 'trafficSource.keyword',\n",
    "       'trafficSource.medium', 'trafficSource.referralPath',\n",
    "       'trafficSource.source', 'month', 'day', 'weekday', 'holiday_var']"
   ]
  },
  {
   "cell_type": "code",
   "execution_count": 69,
   "metadata": {},
   "outputs": [],
   "source": [
    "# ! pip install wheel\n"
   ]
  },
  {
   "cell_type": "code",
   "execution_count": 70,
   "metadata": {},
   "outputs": [],
   "source": [
    "# !pip install cmake\n"
   ]
  },
  {
   "cell_type": "code",
   "execution_count": 71,
   "metadata": {},
   "outputs": [],
   "source": [
    "# !pip install lightgbm"
   ]
  },
  {
   "cell_type": "code",
   "execution_count": 72,
   "metadata": {},
   "outputs": [],
   "source": [
    "# !pip install xgboost"
   ]
  },
  {
   "cell_type": "code",
   "execution_count": 73,
   "metadata": {},
   "outputs": [],
   "source": [
    "# !pip install catboost"
   ]
  },
  {
   "cell_type": "code",
   "execution_count": 77,
   "metadata": {},
   "outputs": [
    {
     "data": {
      "text/plain": [
       "((903653, 34), (804684, 33))"
      ]
     },
     "execution_count": 77,
     "metadata": {},
     "output_type": "execute_result"
    }
   ],
   "source": [
    "train_df.shape, test_df.shape"
   ]
  },
  {
   "cell_type": "code",
   "execution_count": 75,
   "metadata": {},
   "outputs": [
    {
     "data": {
      "text/plain": [
       "((903653, 34), (804684, 33))"
      ]
     },
     "execution_count": 75,
     "metadata": {},
     "output_type": "execute_result"
    }
   ],
   "source": [
    "train_df.shape, test_df.shape"
   ]
  },
  {
   "cell_type": "code",
   "execution_count": 80,
   "metadata": {
    "scrolled": false
   },
   "outputs": [
    {
     "data": {
      "text/plain": [
       "channelGrouping                                      0\n",
       "fullVisitorId                                        0\n",
       "device.browser                                       0\n",
       "device.deviceCategory                                0\n",
       "device.isMobile                                      0\n",
       "device.operatingSystem                               0\n",
       "geoNetwork.city                                      0\n",
       "geoNetwork.continent                                 0\n",
       "geoNetwork.country                                   0\n",
       "geoNetwork.metro                                     0\n",
       "geoNetwork.networkDomain                             0\n",
       "geoNetwork.region                                    0\n",
       "geoNetwork.subContinent                              0\n",
       "totals.bounces                                  453023\n",
       "totals.hits                                          0\n",
       "totals.newVisits                                200593\n",
       "totals.pageviews                                   100\n",
       "totals.transactionRevenue                            0\n",
       "trafficSource.adContent                              0\n",
       "trafficSource.adwordsClickInfo.adNetworkType         0\n",
       "trafficSource.adwordsClickInfo.gclId                 0\n",
       "trafficSource.adwordsClickInfo.isVideoAd             0\n",
       "trafficSource.adwordsClickInfo.page             882193\n",
       "trafficSource.adwordsClickInfo.slot                  0\n",
       "trafficSource.campaign                               0\n",
       "trafficSource.isTrueDirect                           0\n",
       "trafficSource.keyword                                0\n",
       "trafficSource.medium                                 0\n",
       "trafficSource.referralPath                           0\n",
       "trafficSource.source                                 0\n",
       "month                                                0\n",
       "day                                                  0\n",
       "weekday                                              0\n",
       "holiday_var                                          0\n",
       "dtype: int64"
      ]
     },
     "execution_count": 80,
     "metadata": {},
     "output_type": "execute_result"
    }
   ],
   "source": [
    "train_df.isnull().sum()"
   ]
  },
  {
   "cell_type": "code",
   "execution_count": 82,
   "metadata": {},
   "outputs": [],
   "source": [
    "traintt = train_df"
   ]
  },
  {
   "cell_type": "code",
   "execution_count": 85,
   "metadata": {},
   "outputs": [
    {
     "data": {
      "text/plain": [
       "1.0     21362\n",
       "2.0        73\n",
       "3.0        10\n",
       "5.0         7\n",
       "7.0         3\n",
       "4.0         2\n",
       "9.0         2\n",
       "14.0        1\n",
       "Name: trafficSource.adwordsClickInfo.page, dtype: int64"
      ]
     },
     "execution_count": 85,
     "metadata": {},
     "output_type": "execute_result"
    }
   ],
   "source": [
    "traintt['trafficSource.adwordsClickInfo.page'].value_counts()"
   ]
  },
  {
   "cell_type": "code",
   "execution_count": 91,
   "metadata": {},
   "outputs": [],
   "source": [
    "traintt = traintt.drop('trafficSource.adwordsClickInfo.page',axis=1)"
   ]
  },
  {
   "cell_type": "code",
   "execution_count": 93,
   "metadata": {},
   "outputs": [],
   "source": [
    "var = traintt['totals.bounces'].isnull()"
   ]
  },
  {
   "cell_type": "code",
   "execution_count": 105,
   "metadata": {},
   "outputs": [],
   "source": [
    "var = preprocessing.LabelEncoder().fit_transform(list(var))"
   ]
  },
  {
   "cell_type": "code",
   "execution_count": 106,
   "metadata": {},
   "outputs": [
    {
     "data": {
      "text/plain": [
       "array([0, 0, 0, ..., 1, 1, 1])"
      ]
     },
     "execution_count": 106,
     "metadata": {},
     "output_type": "execute_result"
    }
   ],
   "source": [
    "var"
   ]
  },
  {
   "cell_type": "code",
   "execution_count": null,
   "metadata": {},
   "outputs": [],
   "source": []
  },
  {
   "cell_type": "code",
   "execution_count": null,
   "metadata": {},
   "outputs": [],
   "source": []
  },
  {
   "cell_type": "code",
   "execution_count": null,
   "metadata": {},
   "outputs": [],
   "source": [
    "traintt['bounces_check'] = traintt['totals.bounces']"
   ]
  },
  {
   "cell_type": "code",
   "execution_count": 86,
   "metadata": {},
   "outputs": [
    {
     "data": {
      "text/plain": [
       "1.0    450630\n",
       "Name: totals.bounces, dtype: int64"
      ]
     },
     "execution_count": 86,
     "metadata": {},
     "output_type": "execute_result"
    }
   ],
   "source": [
    "traintt['totals.bounces'].value_counts()"
   ]
  },
  {
   "cell_type": "code",
   "execution_count": 87,
   "metadata": {},
   "outputs": [
    {
     "data": {
      "text/plain": [
       "1.0    703060\n",
       "Name: totals.newVisits, dtype: int64"
      ]
     },
     "execution_count": 87,
     "metadata": {},
     "output_type": "execute_result"
    }
   ],
   "source": [
    "traintt['totals.newVisits'].value_counts()"
   ]
  },
  {
   "cell_type": "code",
   "execution_count": 108,
   "metadata": {},
   "outputs": [],
   "source": [
    "traintt['totals.newVisits'] = traintt['totals.newVisits'] .fillna(0)"
   ]
  },
  {
   "cell_type": "code",
   "execution_count": 111,
   "metadata": {},
   "outputs": [],
   "source": [
    "traintt['totals.newVisits'] = preprocessing.LabelEncoder().fit_transform(list(traintt['totals.newVisits']))"
   ]
  },
  {
   "cell_type": "code",
   "execution_count": 113,
   "metadata": {},
   "outputs": [],
   "source": [
    "traintt['totals.bounces'] = preprocessing.LabelEncoder().fit_transform(list(traintt['totals.bounces']))"
   ]
  },
  {
   "cell_type": "code",
   "execution_count": 120,
   "metadata": {},
   "outputs": [],
   "source": [
    "traintt['totals.pageviews'] = traintt['totals.pageviews'].fillna(1) "
   ]
  },
  {
   "cell_type": "code",
   "execution_count": null,
   "metadata": {},
   "outputs": [],
   "source": []
  },
  {
   "cell_type": "code",
   "execution_count": 133,
   "metadata": {},
   "outputs": [
    {
     "data": {
      "text/plain": [
       "Index(['channelGrouping', 'fullVisitorId', 'device.browser',\n",
       "       'device.deviceCategory', 'device.isMobile', 'device.operatingSystem',\n",
       "       'geoNetwork.city', 'geoNetwork.continent', 'geoNetwork.country',\n",
       "       'geoNetwork.metro', 'geoNetwork.networkDomain', 'geoNetwork.region',\n",
       "       'geoNetwork.subContinent', 'totals.bounces', 'totals.hits',\n",
       "       'totals.newVisits', 'totals.pageviews', 'totals.transactionRevenue',\n",
       "       'trafficSource.adContent',\n",
       "       'trafficSource.adwordsClickInfo.adNetworkType',\n",
       "       'trafficSource.adwordsClickInfo.gclId',\n",
       "       'trafficSource.adwordsClickInfo.isVideoAd',\n",
       "       'trafficSource.adwordsClickInfo.slot', 'trafficSource.campaign',\n",
       "       'trafficSource.isTrueDirect', 'trafficSource.keyword',\n",
       "       'trafficSource.medium', 'trafficSource.referralPath',\n",
       "       'trafficSource.source', 'month', 'day', 'weekday', 'holiday_var'],\n",
       "      dtype='object')"
      ]
     },
     "execution_count": 133,
     "metadata": {},
     "output_type": "execute_result"
    }
   ],
   "source": [
    "traintt.columns"
   ]
  },
  {
   "cell_type": "code",
   "execution_count": 137,
   "metadata": {},
   "outputs": [],
   "source": [
    "train_xx = traintt[['channelGrouping', 'fullVisitorId', 'device.browser',\n",
    "       'device.deviceCategory', 'device.isMobile', 'device.operatingSystem',\n",
    "       'geoNetwork.city', 'geoNetwork.continent', 'geoNetwork.country',\n",
    "       'geoNetwork.metro', 'geoNetwork.networkDomain', 'geoNetwork.region',\n",
    "       'geoNetwork.subContinent', 'totals.bounces', 'totals.hits',\n",
    "       'totals.newVisits', 'totals.pageviews',\n",
    "       'trafficSource.adContent',\n",
    "       'trafficSource.adwordsClickInfo.adNetworkType',\n",
    "       'trafficSource.adwordsClickInfo.gclId',\n",
    "       'trafficSource.adwordsClickInfo.isVideoAd',\n",
    "       'trafficSource.adwordsClickInfo.slot', 'trafficSource.campaign',\n",
    "       'trafficSource.isTrueDirect', 'trafficSource.keyword',\n",
    "       'trafficSource.medium', 'trafficSource.referralPath',\n",
    "       'trafficSource.source', 'month', 'day', 'weekday', 'holiday_var']]"
   ]
  },
  {
   "cell_type": "code",
   "execution_count": null,
   "metadata": {},
   "outputs": [],
   "source": []
  },
  {
   "cell_type": "code",
   "execution_count": null,
   "metadata": {},
   "outputs": [],
   "source": []
  },
  {
   "cell_type": "code",
   "execution_count": null,
   "metadata": {},
   "outputs": [],
   "source": []
  },
  {
   "cell_type": "code",
   "execution_count": null,
   "metadata": {},
   "outputs": [],
   "source": []
  },
  {
   "cell_type": "code",
   "execution_count": 128,
   "metadata": {},
   "outputs": [],
   "source": [
    "train_y = np.log1p(traintt['totals.transactionRevenue'])"
   ]
  },
  {
   "cell_type": "code",
   "execution_count": 139,
   "metadata": {},
   "outputs": [],
   "source": [
    "from sklearn.model_selection import train_test_split"
   ]
  },
  {
   "cell_type": "code",
   "execution_count": 141,
   "metadata": {},
   "outputs": [],
   "source": [
    "X_train, X_test, y_train, y_test = train_test_split(train_xx, train_y, test_size=0.33, random_state=42)"
   ]
  },
  {
   "cell_type": "code",
   "execution_count": 142,
   "metadata": {},
   "outputs": [
    {
     "name": "stdout",
     "output_type": "stream",
     "text": [
      "Training until validation scores don't improve for 150 rounds.\n",
      "[20]\tvalid_0's rmse: 1.84109\n",
      "[40]\tvalid_0's rmse: 1.74815\n",
      "[60]\tvalid_0's rmse: 1.6993\n",
      "[80]\tvalid_0's rmse: 1.6742\n",
      "[100]\tvalid_0's rmse: 1.65917\n",
      "[120]\tvalid_0's rmse: 1.65021\n",
      "[140]\tvalid_0's rmse: 1.64363\n",
      "[160]\tvalid_0's rmse: 1.63887\n",
      "[180]\tvalid_0's rmse: 1.6359\n",
      "[200]\tvalid_0's rmse: 1.63362\n",
      "[220]\tvalid_0's rmse: 1.63196\n",
      "[240]\tvalid_0's rmse: 1.63037\n",
      "[260]\tvalid_0's rmse: 1.62902\n",
      "[280]\tvalid_0's rmse: 1.62801\n",
      "[300]\tvalid_0's rmse: 1.62731\n",
      "[320]\tvalid_0's rmse: 1.6269\n",
      "[340]\tvalid_0's rmse: 1.62649\n",
      "[360]\tvalid_0's rmse: 1.6263\n",
      "[380]\tvalid_0's rmse: 1.62591\n",
      "[400]\tvalid_0's rmse: 1.62546\n",
      "[420]\tvalid_0's rmse: 1.62522\n",
      "[440]\tvalid_0's rmse: 1.62514\n",
      "[460]\tvalid_0's rmse: 1.62514\n",
      "[480]\tvalid_0's rmse: 1.62513\n",
      "[500]\tvalid_0's rmse: 1.62511\n",
      "[520]\tvalid_0's rmse: 1.62506\n",
      "[540]\tvalid_0's rmse: 1.62497\n",
      "[560]\tvalid_0's rmse: 1.62513\n",
      "[580]\tvalid_0's rmse: 1.62499\n",
      "[600]\tvalid_0's rmse: 1.62499\n",
      "[620]\tvalid_0's rmse: 1.62516\n",
      "[640]\tvalid_0's rmse: 1.62515\n",
      "[660]\tvalid_0's rmse: 1.62517\n",
      "[680]\tvalid_0's rmse: 1.62533\n",
      "[700]\tvalid_0's rmse: 1.62519\n",
      "Did not meet early stopping. Best iteration is:\n",
      "[583]\tvalid_0's rmse: 1.62487\n"
     ]
    }
   ],
   "source": [
    "import lightgbm as lgb \n",
    "\n",
    "lgb_params = {\"objective\" : \"regression\", \"metric\" : \"rmse\",\n",
    "             \"num_leaves\" : 50, \"learning_rate\" : 0.02, \n",
    "              \"bagging_fraction\" : 0.75, \"feature_fraction\" : 0.8, \"bagging_frequency\" : 9}\n",
    "    \n",
    "lgb_train = lgb.Dataset(X_train, label=y_train)\n",
    "lgb_val = lgb.Dataset(X_test, label=y_test)\n",
    "model = lgb.train(lgb_params, lgb_train, 700, valid_sets=[lgb_val], early_stopping_rounds=150, verbose_eval=20)"
   ]
  },
  {
   "cell_type": "code",
   "execution_count": 144,
   "metadata": {},
   "outputs": [],
   "source": [
    "from sklearn.model_selection import GridSearchCV\n",
    "from sklearn.model_selection import KFold\n",
    "from sklearn.metrics import mean_squared_error\n",
    "from sklearn.model_selection import KFold, StratifiedKFold\n",
    "from sklearn import model_selection, preprocessing, metrics"
   ]
  },
  {
   "cell_type": "code",
   "execution_count": 145,
   "metadata": {},
   "outputs": [
    {
     "data": {
      "text/plain": [
       "((903653, 32), (903653,))"
      ]
     },
     "execution_count": 145,
     "metadata": {},
     "output_type": "execute_result"
    }
   ],
   "source": [
    "train_xx.shape, train_y.shape"
   ]
  },
  {
   "cell_type": "code",
   "execution_count": 146,
   "metadata": {},
   "outputs": [
    {
     "data": {
      "text/html": [
       "<div>\n",
       "<style scoped>\n",
       "    .dataframe tbody tr th:only-of-type {\n",
       "        vertical-align: middle;\n",
       "    }\n",
       "\n",
       "    .dataframe tbody tr th {\n",
       "        vertical-align: top;\n",
       "    }\n",
       "\n",
       "    .dataframe thead th {\n",
       "        text-align: right;\n",
       "    }\n",
       "</style>\n",
       "<table border=\"1\" class=\"dataframe\">\n",
       "  <thead>\n",
       "    <tr style=\"text-align: right;\">\n",
       "      <th></th>\n",
       "      <th>channelGrouping</th>\n",
       "      <th>fullVisitorId</th>\n",
       "      <th>device.browser</th>\n",
       "      <th>device.deviceCategory</th>\n",
       "      <th>device.isMobile</th>\n",
       "      <th>device.operatingSystem</th>\n",
       "      <th>geoNetwork.city</th>\n",
       "      <th>geoNetwork.continent</th>\n",
       "      <th>geoNetwork.country</th>\n",
       "      <th>geoNetwork.metro</th>\n",
       "      <th>...</th>\n",
       "      <th>trafficSource.campaign</th>\n",
       "      <th>trafficSource.isTrueDirect</th>\n",
       "      <th>trafficSource.keyword</th>\n",
       "      <th>trafficSource.medium</th>\n",
       "      <th>trafficSource.referralPath</th>\n",
       "      <th>trafficSource.source</th>\n",
       "      <th>month</th>\n",
       "      <th>day</th>\n",
       "      <th>weekday</th>\n",
       "      <th>holiday_var</th>\n",
       "    </tr>\n",
       "  </thead>\n",
       "  <tbody>\n",
       "    <tr>\n",
       "      <th>count</th>\n",
       "      <td>903653.000000</td>\n",
       "      <td>9.036530e+05</td>\n",
       "      <td>903653.000000</td>\n",
       "      <td>903653.000000</td>\n",
       "      <td>903653.000000</td>\n",
       "      <td>903653.000000</td>\n",
       "      <td>903653.000000</td>\n",
       "      <td>903653.000000</td>\n",
       "      <td>903653.000000</td>\n",
       "      <td>903653.000000</td>\n",
       "      <td>...</td>\n",
       "      <td>903653.000000</td>\n",
       "      <td>903653.000000</td>\n",
       "      <td>903653.000000</td>\n",
       "      <td>903653.000000</td>\n",
       "      <td>903653.000000</td>\n",
       "      <td>903653.000000</td>\n",
       "      <td>903653.000000</td>\n",
       "      <td>903653.000000</td>\n",
       "      <td>903653.000000</td>\n",
       "      <td>903653.000000</td>\n",
       "    </tr>\n",
       "    <tr>\n",
       "      <th>mean</th>\n",
       "      <td>4.632267</td>\n",
       "      <td>6.724954e+05</td>\n",
       "      <td>44.014666</td>\n",
       "      <td>0.298370</td>\n",
       "      <td>0.264618</td>\n",
       "      <td>12.949865</td>\n",
       "      <td>740.380483</td>\n",
       "      <td>2.716869</td>\n",
       "      <td>163.035326</td>\n",
       "      <td>85.871039</td>\n",
       "      <td>...</td>\n",
       "      <td>4.280819</td>\n",
       "      <td>0.696781</td>\n",
       "      <td>1897.047624</td>\n",
       "      <td>4.456896</td>\n",
       "      <td>2684.468135</td>\n",
       "      <td>254.317229</td>\n",
       "      <td>6.987671</td>\n",
       "      <td>15.697570</td>\n",
       "      <td>2.735183</td>\n",
       "      <td>0.026075</td>\n",
       "    </tr>\n",
       "    <tr>\n",
       "      <th>std</th>\n",
       "      <td>1.774791</td>\n",
       "      <td>3.784343e+05</td>\n",
       "      <td>15.389741</td>\n",
       "      <td>0.526058</td>\n",
       "      <td>0.441130</td>\n",
       "      <td>8.159630</td>\n",
       "      <td>302.648488</td>\n",
       "      <td>0.885558</td>\n",
       "      <td>69.196953</td>\n",
       "      <td>50.605625</td>\n",
       "      <td>...</td>\n",
       "      <td>1.510145</td>\n",
       "      <td>0.459649</td>\n",
       "      <td>1640.605290</td>\n",
       "      <td>2.076703</td>\n",
       "      <td>974.303431</td>\n",
       "      <td>166.515464</td>\n",
       "      <td>3.484576</td>\n",
       "      <td>8.823674</td>\n",
       "      <td>1.929072</td>\n",
       "      <td>0.159359</td>\n",
       "    </tr>\n",
       "    <tr>\n",
       "      <th>min</th>\n",
       "      <td>0.000000</td>\n",
       "      <td>7.000000e+00</td>\n",
       "      <td>0.000000</td>\n",
       "      <td>0.000000</td>\n",
       "      <td>0.000000</td>\n",
       "      <td>0.000000</td>\n",
       "      <td>0.000000</td>\n",
       "      <td>0.000000</td>\n",
       "      <td>0.000000</td>\n",
       "      <td>0.000000</td>\n",
       "      <td>...</td>\n",
       "      <td>4.000000</td>\n",
       "      <td>0.000000</td>\n",
       "      <td>0.000000</td>\n",
       "      <td>0.000000</td>\n",
       "      <td>0.000000</td>\n",
       "      <td>0.000000</td>\n",
       "      <td>1.000000</td>\n",
       "      <td>1.000000</td>\n",
       "      <td>0.000000</td>\n",
       "      <td>0.000000</td>\n",
       "    </tr>\n",
       "    <tr>\n",
       "      <th>25%</th>\n",
       "      <td>4.000000</td>\n",
       "      <td>3.452660e+05</td>\n",
       "      <td>35.000000</td>\n",
       "      <td>0.000000</td>\n",
       "      <td>0.000000</td>\n",
       "      <td>7.000000</td>\n",
       "      <td>540.000000</td>\n",
       "      <td>2.000000</td>\n",
       "      <td>97.000000</td>\n",
       "      <td>46.000000</td>\n",
       "      <td>...</td>\n",
       "      <td>4.000000</td>\n",
       "      <td>0.000000</td>\n",
       "      <td>11.000000</td>\n",
       "      <td>5.000000</td>\n",
       "      <td>2604.000000</td>\n",
       "      <td>208.000000</td>\n",
       "      <td>4.000000</td>\n",
       "      <td>8.000000</td>\n",
       "      <td>1.000000</td>\n",
       "      <td>0.000000</td>\n",
       "    </tr>\n",
       "    <tr>\n",
       "      <th>50%</th>\n",
       "      <td>4.000000</td>\n",
       "      <td>6.721800e+05</td>\n",
       "      <td>35.000000</td>\n",
       "      <td>0.000000</td>\n",
       "      <td>0.000000</td>\n",
       "      <td>20.000000</td>\n",
       "      <td>955.000000</td>\n",
       "      <td>2.000000</td>\n",
       "      <td>210.000000</td>\n",
       "      <td>122.000000</td>\n",
       "      <td>...</td>\n",
       "      <td>4.000000</td>\n",
       "      <td>1.000000</td>\n",
       "      <td>3327.000000</td>\n",
       "      <td>5.000000</td>\n",
       "      <td>3196.000000</td>\n",
       "      <td>208.000000</td>\n",
       "      <td>7.000000</td>\n",
       "      <td>16.000000</td>\n",
       "      <td>3.000000</td>\n",
       "      <td>0.000000</td>\n",
       "    </tr>\n",
       "    <tr>\n",
       "      <th>75%</th>\n",
       "      <td>7.000000</td>\n",
       "      <td>9.998650e+05</td>\n",
       "      <td>47.000000</td>\n",
       "      <td>1.000000</td>\n",
       "      <td>1.000000</td>\n",
       "      <td>20.000000</td>\n",
       "      <td>955.000000</td>\n",
       "      <td>3.000000</td>\n",
       "      <td>218.000000</td>\n",
       "      <td>122.000000</td>\n",
       "      <td>...</td>\n",
       "      <td>4.000000</td>\n",
       "      <td>1.000000</td>\n",
       "      <td>3327.000000</td>\n",
       "      <td>6.000000</td>\n",
       "      <td>3196.000000</td>\n",
       "      <td>417.000000</td>\n",
       "      <td>10.000000</td>\n",
       "      <td>23.000000</td>\n",
       "      <td>4.000000</td>\n",
       "      <td>0.000000</td>\n",
       "    </tr>\n",
       "    <tr>\n",
       "      <th>max</th>\n",
       "      <td>7.000000</td>\n",
       "      <td>1.328201e+06</td>\n",
       "      <td>117.000000</td>\n",
       "      <td>2.000000</td>\n",
       "      <td>1.000000</td>\n",
       "      <td>23.000000</td>\n",
       "      <td>955.000000</td>\n",
       "      <td>5.000000</td>\n",
       "      <td>227.000000</td>\n",
       "      <td>122.000000</td>\n",
       "      <td>...</td>\n",
       "      <td>34.000000</td>\n",
       "      <td>1.000000</td>\n",
       "      <td>5391.000000</td>\n",
       "      <td>6.000000</td>\n",
       "      <td>3196.000000</td>\n",
       "      <td>499.000000</td>\n",
       "      <td>12.000000</td>\n",
       "      <td>31.000000</td>\n",
       "      <td>6.000000</td>\n",
       "      <td>1.000000</td>\n",
       "    </tr>\n",
       "  </tbody>\n",
       "</table>\n",
       "<p>8 rows × 32 columns</p>\n",
       "</div>"
      ],
      "text/plain": [
       "       channelGrouping  fullVisitorId  device.browser  device.deviceCategory  \\\n",
       "count    903653.000000   9.036530e+05   903653.000000          903653.000000   \n",
       "mean          4.632267   6.724954e+05       44.014666               0.298370   \n",
       "std           1.774791   3.784343e+05       15.389741               0.526058   \n",
       "min           0.000000   7.000000e+00        0.000000               0.000000   \n",
       "25%           4.000000   3.452660e+05       35.000000               0.000000   \n",
       "50%           4.000000   6.721800e+05       35.000000               0.000000   \n",
       "75%           7.000000   9.998650e+05       47.000000               1.000000   \n",
       "max           7.000000   1.328201e+06      117.000000               2.000000   \n",
       "\n",
       "       device.isMobile  device.operatingSystem  geoNetwork.city  \\\n",
       "count    903653.000000           903653.000000    903653.000000   \n",
       "mean          0.264618               12.949865       740.380483   \n",
       "std           0.441130                8.159630       302.648488   \n",
       "min           0.000000                0.000000         0.000000   \n",
       "25%           0.000000                7.000000       540.000000   \n",
       "50%           0.000000               20.000000       955.000000   \n",
       "75%           1.000000               20.000000       955.000000   \n",
       "max           1.000000               23.000000       955.000000   \n",
       "\n",
       "       geoNetwork.continent  geoNetwork.country  geoNetwork.metro  \\\n",
       "count         903653.000000       903653.000000     903653.000000   \n",
       "mean               2.716869          163.035326         85.871039   \n",
       "std                0.885558           69.196953         50.605625   \n",
       "min                0.000000            0.000000          0.000000   \n",
       "25%                2.000000           97.000000         46.000000   \n",
       "50%                2.000000          210.000000        122.000000   \n",
       "75%                3.000000          218.000000        122.000000   \n",
       "max                5.000000          227.000000        122.000000   \n",
       "\n",
       "           ...        trafficSource.campaign  trafficSource.isTrueDirect  \\\n",
       "count      ...                 903653.000000               903653.000000   \n",
       "mean       ...                      4.280819                    0.696781   \n",
       "std        ...                      1.510145                    0.459649   \n",
       "min        ...                      4.000000                    0.000000   \n",
       "25%        ...                      4.000000                    0.000000   \n",
       "50%        ...                      4.000000                    1.000000   \n",
       "75%        ...                      4.000000                    1.000000   \n",
       "max        ...                     34.000000                    1.000000   \n",
       "\n",
       "       trafficSource.keyword  trafficSource.medium  \\\n",
       "count          903653.000000         903653.000000   \n",
       "mean             1897.047624              4.456896   \n",
       "std              1640.605290              2.076703   \n",
       "min                 0.000000              0.000000   \n",
       "25%                11.000000              5.000000   \n",
       "50%              3327.000000              5.000000   \n",
       "75%              3327.000000              6.000000   \n",
       "max              5391.000000              6.000000   \n",
       "\n",
       "       trafficSource.referralPath  trafficSource.source          month  \\\n",
       "count               903653.000000         903653.000000  903653.000000   \n",
       "mean                  2684.468135            254.317229       6.987671   \n",
       "std                    974.303431            166.515464       3.484576   \n",
       "min                      0.000000              0.000000       1.000000   \n",
       "25%                   2604.000000            208.000000       4.000000   \n",
       "50%                   3196.000000            208.000000       7.000000   \n",
       "75%                   3196.000000            417.000000      10.000000   \n",
       "max                   3196.000000            499.000000      12.000000   \n",
       "\n",
       "                 day        weekday    holiday_var  \n",
       "count  903653.000000  903653.000000  903653.000000  \n",
       "mean       15.697570       2.735183       0.026075  \n",
       "std         8.823674       1.929072       0.159359  \n",
       "min         1.000000       0.000000       0.000000  \n",
       "25%         8.000000       1.000000       0.000000  \n",
       "50%        16.000000       3.000000       0.000000  \n",
       "75%        23.000000       4.000000       0.000000  \n",
       "max        31.000000       6.000000       1.000000  \n",
       "\n",
       "[8 rows x 32 columns]"
      ]
     },
     "execution_count": 146,
     "metadata": {},
     "output_type": "execute_result"
    }
   ],
   "source": [
    "train_xx.describe()"
   ]
  },
  {
   "cell_type": "code",
   "execution_count": 147,
   "metadata": {},
   "outputs": [],
   "source": [
    "from sklearn.preprocessing import StandardScaler"
   ]
  },
  {
   "cell_type": "code",
   "execution_count": 148,
   "metadata": {},
   "outputs": [
    {
     "name": "stderr",
     "output_type": "stream",
     "text": [
      "/home/apratim941208/anaconda3/envs/ds/lib/python3.6/site-packages/sklearn/preprocessing/data.py:617: DataConversionWarning: Data with input dtype int64, float64 were all converted to float64 by StandardScaler.\n",
      "  return self.partial_fit(X, y)\n",
      "/home/apratim941208/anaconda3/envs/ds/lib/python3.6/site-packages/sklearn/base.py:462: DataConversionWarning: Data with input dtype int64, float64 were all converted to float64 by StandardScaler.\n",
      "  return self.fit(X, **fit_params).transform(X)\n"
     ]
    }
   ],
   "source": [
    "train_xx2 = StandardScaler().fit_transform(train_xx)"
   ]
  },
  {
   "cell_type": "code",
   "execution_count": 149,
   "metadata": {},
   "outputs": [
    {
     "data": {
      "text/plain": [
       "array([[-0.35624892, -1.66394191, -0.58575846, ..., -1.55236669,\n",
       "         0.65566138, -0.16362579],\n",
       "       [-0.35624892, -0.65274074, -0.06593136, ..., -1.55236669,\n",
       "         0.65566138, -0.16362579],\n",
       "       [-0.35624892, -0.6057603 , -0.58575846, ..., -1.55236669,\n",
       "         0.65566138, -0.16362579],\n",
       "       ...,\n",
       "       [ 1.33409187,  0.10214367, -1.04060717, ..., -1.32570361,\n",
       "        -0.38110709, -0.16362579],\n",
       "       [ 1.33409187, -1.05964646, -0.58575846, ..., -1.32570361,\n",
       "        -0.38110709, -0.16362579],\n",
       "       [ 1.33409187,  1.02374139, -0.58575846, ..., -1.32570361,\n",
       "        -0.38110709, -0.16362579]])"
      ]
     },
     "execution_count": 149,
     "metadata": {},
     "output_type": "execute_result"
    }
   ],
   "source": [
    "train_xx2"
   ]
  },
  {
   "cell_type": "code",
   "execution_count": 150,
   "metadata": {},
   "outputs": [],
   "source": [
    "X_train, X_test, y_train, y_test = train_test_split(train_xx2, train_y, test_size=0.33, random_state=42)"
   ]
  },
  {
   "cell_type": "code",
   "execution_count": 151,
   "metadata": {},
   "outputs": [
    {
     "name": "stdout",
     "output_type": "stream",
     "text": [
      "Training until validation scores don't improve for 150 rounds.\n",
      "[20]\tvalid_0's rmse: 1.84117\n",
      "[40]\tvalid_0's rmse: 1.74814\n",
      "[60]\tvalid_0's rmse: 1.69924\n",
      "[80]\tvalid_0's rmse: 1.67395\n",
      "[100]\tvalid_0's rmse: 1.65895\n",
      "[120]\tvalid_0's rmse: 1.64972\n",
      "[140]\tvalid_0's rmse: 1.64364\n",
      "[160]\tvalid_0's rmse: 1.63905\n",
      "[180]\tvalid_0's rmse: 1.63561\n",
      "[200]\tvalid_0's rmse: 1.63351\n",
      "[220]\tvalid_0's rmse: 1.63175\n",
      "[240]\tvalid_0's rmse: 1.63037\n",
      "[260]\tvalid_0's rmse: 1.62895\n",
      "[280]\tvalid_0's rmse: 1.62802\n",
      "[300]\tvalid_0's rmse: 1.6273\n",
      "[320]\tvalid_0's rmse: 1.62685\n",
      "[340]\tvalid_0's rmse: 1.62646\n",
      "[360]\tvalid_0's rmse: 1.62626\n",
      "[380]\tvalid_0's rmse: 1.62576\n",
      "[400]\tvalid_0's rmse: 1.62549\n",
      "[420]\tvalid_0's rmse: 1.62541\n",
      "[440]\tvalid_0's rmse: 1.6252\n",
      "[460]\tvalid_0's rmse: 1.62492\n",
      "[480]\tvalid_0's rmse: 1.62503\n",
      "[500]\tvalid_0's rmse: 1.62479\n",
      "[520]\tvalid_0's rmse: 1.62476\n",
      "[540]\tvalid_0's rmse: 1.62479\n",
      "[560]\tvalid_0's rmse: 1.62466\n",
      "[580]\tvalid_0's rmse: 1.62463\n",
      "[600]\tvalid_0's rmse: 1.62472\n",
      "[620]\tvalid_0's rmse: 1.62467\n",
      "[640]\tvalid_0's rmse: 1.62469\n",
      "[660]\tvalid_0's rmse: 1.6249\n",
      "[680]\tvalid_0's rmse: 1.62492\n",
      "[700]\tvalid_0's rmse: 1.62519\n",
      "Did not meet early stopping. Best iteration is:\n",
      "[556]\tvalid_0's rmse: 1.62456\n"
     ]
    }
   ],
   "source": [
    "import lightgbm as lgb \n",
    "\n",
    "lgb_params = {\"objective\" : \"regression\", \"metric\" : \"rmse\",\n",
    "             \"num_leaves\" : 50, \"learning_rate\" : 0.02, \n",
    "              \"bagging_fraction\" : 0.75, \"feature_fraction\" : 0.8, \"bagging_frequency\" : 9}\n",
    "    \n",
    "lgb_train = lgb.Dataset(X_train, label=y_train)\n",
    "lgb_val = lgb.Dataset(X_test, label=y_test)\n",
    "model = lgb.train(lgb_params, lgb_train, 700, valid_sets=[lgb_val], early_stopping_rounds=150, verbose_eval=20)"
   ]
  },
  {
   "cell_type": "code",
   "execution_count": 152,
   "metadata": {},
   "outputs": [
    {
     "data": {
      "text/plain": [
       "((903653, 32), (903653,))"
      ]
     },
     "execution_count": 152,
     "metadata": {},
     "output_type": "execute_result"
    }
   ],
   "source": [
    "train_xx2.shape, train_y.shape"
   ]
  },
  {
   "cell_type": "code",
   "execution_count": 153,
   "metadata": {},
   "outputs": [],
   "source": [
    "import xgboost"
   ]
  },
  {
   "cell_type": "code",
   "execution_count": 159,
   "metadata": {},
   "outputs": [],
   "source": [
    "xgb = xgboost.XGBRegressor(n_estimators=100, learning_rate=0.05, gamma=0, subsample=0.75,\n",
    "                           colsample_bytree=1, max_depth=7)"
   ]
  },
  {
   "cell_type": "code",
   "execution_count": 160,
   "metadata": {},
   "outputs": [
    {
     "data": {
      "text/plain": [
       "((605447, 32), (298206, 32), (605447,), (298206,))"
      ]
     },
     "execution_count": 160,
     "metadata": {},
     "output_type": "execute_result"
    }
   ],
   "source": [
    "X_train.shape, X_test.shape, y_train.shape, y_test.shape"
   ]
  },
  {
   "cell_type": "code",
   "execution_count": 161,
   "metadata": {},
   "outputs": [],
   "source": [
    "kfold = KFold(n_splits=10, random_state=7)"
   ]
  },
  {
   "cell_type": "code",
   "execution_count": 162,
   "metadata": {},
   "outputs": [],
   "source": [
    "skf = StratifiedKFold(n_splits=10, random_state=7)"
   ]
  },
  {
   "cell_type": "code",
   "execution_count": 164,
   "metadata": {},
   "outputs": [],
   "source": [
    "from sklearn.model_selection import cross_val_score"
   ]
  },
  {
   "cell_type": "code",
   "execution_count": 169,
   "metadata": {},
   "outputs": [],
   "source": [
    "import os\n",
    "os.environ['KERAS_BACKEND'] = 'tensorflow'\n",
    "# rest of the code"
   ]
  },
  {
   "cell_type": "code",
   "execution_count": 170,
   "metadata": {},
   "outputs": [
    {
     "name": "stderr",
     "output_type": "stream",
     "text": [
      "Using TensorFlow backend.\n"
     ]
    }
   ],
   "source": [
    "from keras.models import Sequential\n",
    "from keras.layers import Dense\n",
    "from keras.wrappers.scikit_learn import KerasRegressor\n",
    "from sklearn.model_selection import cross_val_score\n",
    "from sklearn.model_selection import KFold\n",
    "from sklearn.preprocessing import StandardScaler\n",
    "from sklearn.pipeline import Pipeline"
   ]
  },
  {
   "cell_type": "code",
   "execution_count": 171,
   "metadata": {},
   "outputs": [],
   "source": [
    "model2 = Sequential()\n",
    "model2.add(Dense(64, input_dim=32, kernel_initializer='normal', activation='relu'))\n",
    "model2.add(Dense(32, kernel_initializer='normal'))\n",
    "model2.add(Dense(1))\n",
    "# Compile model\n",
    "model2.compile(loss='mean_squared_error', optimizer='rmsprop')"
   ]
  },
  {
   "cell_type": "code",
   "execution_count": 172,
   "metadata": {},
   "outputs": [],
   "source": [
    "y_train2 = y_train"
   ]
  },
  {
   "cell_type": "code",
   "execution_count": 173,
   "metadata": {},
   "outputs": [],
   "source": [
    "y_test2 = y_test"
   ]
  },
  {
   "cell_type": "code",
   "execution_count": 179,
   "metadata": {},
   "outputs": [],
   "source": [
    "y_train2 = y_train2.values.reshape(-1,1)"
   ]
  },
  {
   "cell_type": "code",
   "execution_count": 181,
   "metadata": {},
   "outputs": [],
   "source": [
    "y_test2 = y_test2.values.reshape(-1,1)"
   ]
  },
  {
   "cell_type": "code",
   "execution_count": 182,
   "metadata": {},
   "outputs": [
    {
     "data": {
      "text/plain": [
       "((605447, 1), (298206, 1))"
      ]
     },
     "execution_count": 182,
     "metadata": {},
     "output_type": "execute_result"
    }
   ],
   "source": [
    "y_train2.shape, y_test2.shape"
   ]
  },
  {
   "cell_type": "code",
   "execution_count": 184,
   "metadata": {},
   "outputs": [
    {
     "data": {
      "text/plain": [
       "<keras.callbacks.History at 0x7fa024a145f8>"
      ]
     },
     "execution_count": 184,
     "metadata": {},
     "output_type": "execute_result"
    }
   ],
   "source": [
    "\n",
    "model2.fit(X_train, y_train2, epochs=10, verbose=0)"
   ]
  },
  {
   "cell_type": "code",
   "execution_count": 185,
   "metadata": {},
   "outputs": [],
   "source": [
    "predictions_NN = model2.predict(X_test)"
   ]
  },
  {
   "cell_type": "code",
   "execution_count": 186,
   "metadata": {},
   "outputs": [
    {
     "data": {
      "text/plain": [
       "2.8680807047084427"
      ]
     },
     "execution_count": 186,
     "metadata": {},
     "output_type": "execute_result"
    }
   ],
   "source": [
    "\n",
    "metrics.mean_squared_error(y_test2,predictions_NN)"
   ]
  },
  {
   "cell_type": "code",
   "execution_count": 198,
   "metadata": {},
   "outputs": [
    {
     "data": {
      "text/plain": [
       "1.689863194207779"
      ]
     },
     "execution_count": 198,
     "metadata": {},
     "output_type": "execute_result"
    }
   ],
   "source": [
    "np.sqrt(metrics.mean_squared_error(y_test2,predictions_NN))"
   ]
  },
  {
   "cell_type": "code",
   "execution_count": null,
   "metadata": {},
   "outputs": [],
   "source": []
  },
  {
   "cell_type": "code",
   "execution_count": null,
   "metadata": {},
   "outputs": [],
   "source": []
  }
 ],
 "metadata": {
  "kernelspec": {
   "display_name": "Python 3",
   "language": "python",
   "name": "python3"
  },
  "language_info": {
   "codemirror_mode": {
    "name": "ipython",
    "version": 3
   },
   "file_extension": ".py",
   "mimetype": "text/x-python",
   "name": "python",
   "nbconvert_exporter": "python",
   "pygments_lexer": "ipython3",
   "version": "3.6.6"
  }
 },
 "nbformat": 4,
 "nbformat_minor": 2
}
